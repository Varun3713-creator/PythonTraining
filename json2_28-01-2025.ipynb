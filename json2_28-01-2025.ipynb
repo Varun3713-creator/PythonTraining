{
 "cells": [
  {
   "cell_type": "code",
   "execution_count": 1,
   "id": "5a5cd4cf",
   "metadata": {},
   "outputs": [],
   "source": [
    "from pyspark.sql import SparkSession"
   ]
  },
  {
   "cell_type": "code",
   "execution_count": 2,
   "id": "0830cd96",
   "metadata": {},
   "outputs": [],
   "source": [
    "import pyspark.sql.functions as F\n",
    "import pyspark.sql.types as T"
   ]
  },
  {
   "cell_type": "code",
   "execution_count": 3,
   "id": "6b7f4d8b",
   "metadata": {},
   "outputs": [],
   "source": [
    "from pyspark.sql import SparkSession\n",
    "from delta import configure_spark_with_delta_pip\n",
    "\n",
    "builder = SparkSession.builder \\\n",
    "    .appName(\"jsondata\") \\\n",
    "    .config(\"spark.sql.extensions\", \"io.delta.sql.DeltaSparkSessionExtension\") \\\n",
    "    .config(\"spark.sql.catalog.spark_catalog\", \"org.apache.spark.sql.delta.catalog.DeltaCatalog\")\n",
    "\n",
    "spark = configure_spark_with_delta_pip(builder).getOrCreate()"
   ]
  },
  {
   "cell_type": "code",
   "execution_count": 4,
   "id": "c4ae10b8",
   "metadata": {},
   "outputs": [
    {
     "name": "stdout",
     "output_type": "stream",
     "text": [
      "+--------------------+--------------------+--------------------+--------------------+\n",
      "|                Body|     EnqueuedTimeUtc|          Properties|    SystemProperties|\n",
      "+--------------------+--------------------+--------------------+--------------------+\n",
      "|{mn=TVg4MDkwTg==:...|2024-12-06T08:02:...|{rp.mib/dev/2be00...|{{\"scope\":\"device...|\n",
      "+--------------------+--------------------+--------------------+--------------------+\n",
      "\n"
     ]
    }
   ],
   "source": [
    "path='C:/Users/acer/Downloads/printermessages.json'\n",
    "df=spark.read.option(\"multiline\",\"true\").format(\"json\").load(path)\n",
    "df.show(5)"
   ]
  },
  {
   "cell_type": "code",
   "execution_count": 5,
   "id": "b0481022",
   "metadata": {},
   "outputs": [],
   "source": [
    "from pyspark.sql.types import *\n",
    "\n",
    "schema = StructType([\n",
    "    StructField(\"EnqueuedTimeUtc\", StringType(), True),\n",
    "    StructField(\"Properties\", StructType([\n",
    "        StructField(\"appTopic\", StringType(), True)\n",
    "    ]), True),\n",
    "    StructField(\"SystemProperties\", StructType([\n",
    "        StructField(\"connectionDeviceId\", StringType(), True),\n",
    "        StructField(\"connectionAuthMethod\", StringType(), True),\n",
    "        StructField(\"connectionDeviceGenerationId\", StringType(), True),\n",
    "        StructField(\"contentType\", StringType(), True),\n",
    "        StructField(\"contentEncoding\", StringType(), True),\n",
    "        StructField(\"enqueuedTime\", StringType(), True)\n",
    "    ]), True),\n",
    "    StructField(\"Body\", StructType([\n",
    "        StructField(\"type\", StringType(), True),\n",
    "        StructField(\"mnsn\", StringType(), True),\n",
    "        StructField(\"timestamp\", LongType(), True),\n",
    "        StructField(\"scheduleName\", StringType(), True),\n",
    "    ]), True)\n",
    "])"
   ]
  },
  {
   "cell_type": "code",
   "execution_count": 41,
   "id": "997b3c79",
   "metadata": {},
   "outputs": [],
   "source": [
    "path='C:/Users/acer/Downloads/printermessages.json'\n",
    "schema_df = spark.read.schema(schema).json(path)"
   ]
  },
  {
   "cell_type": "code",
   "execution_count": 42,
   "id": "09137988",
   "metadata": {},
   "outputs": [
    {
     "name": "stdout",
     "output_type": "stream",
     "text": [
      "+--------------------+--------------------+--------------------+--------------------+\n",
      "|     EnqueuedTimeUtc|          Properties|    SystemProperties|                Body|\n",
      "+--------------------+--------------------+--------------------+--------------------+\n",
      "|2024-08-20T09:56:...|{rp.mib/dev/96d1f...|{96d1f469-e0b7-4e...|{smsProps, mn=TVg...|\n",
      "|2024-08-20T09:56:...|{rp.mib/dev/96d1f...|{a0ba43aa-f3c1-42...|{smsProps, mn=TVg...|\n",
      "|2024-08-20T09:56:...|{rp.mib/dev/96d1f...|{96d1f469-e0b7-4e...|{smsProps, mn=TVg...|\n",
      "|2024-08-20T09:56:...|{rp.mib/dev/96d1f...|{5b98aa47-2d23-4b...|{smsProps, mn=TVg...|\n",
      "|2024-08-20T09:56:...|{rp.mib/dev/96d1f...|{96d1f469-e0b7-4e...|{smsProps, mn=TVg...|\n",
      "|2024-08-20T09:56:...|{rp.mib/dev/96d1f...|{a0ba43aa-f3c1-42...|{smsProps, mn=TVg...|\n",
      "|2024-08-20T09:56:...|{rp.mib/dev/96d1f...|{96d1f469-e0b7-4e...|{smsProps, mn=TVg...|\n",
      "|2024-08-20T09:56:...|{rp.mib/dev/96d1f...|{5b98aa47-2d23-4b...|{smsProps, mn=TVg...|\n",
      "|2024-08-20T09:56:...|{rp.mib/dev/96d1f...|{96d1f469-e0b7-4e...|{smsProps, mn=TVg...|\n",
      "|2024-08-20T09:56:...|{rp.mib/dev/96d1f...|{a0ba43aa-f3c1-42...|{smsProps, mn=TVg...|\n",
      "|2024-08-20T09:56:...|{rp.mib/dev/96d1f...|{96d1f469-e0b7-4e...|{smsProps, mn=TVg...|\n",
      "|2024-08-20T09:56:...|{rp.mib/dev/96d1f...|{5b98aa47-2d23-4b...|{smsProps, mn=TVg...|\n",
      "|2024-08-20T09:56:...|{rp.mib/dev/96d1f...|{96d1f469-e0b7-4e...|{smsProps, mn=TVg...|\n",
      "|2024-08-20T09:56:...|{rp.mib/dev/96d1f...|{a0ba43aa-f3c1-42...|{smsProps, mn=TVg...|\n",
      "|2024-08-20T09:56:...|{rp.mib/dev/96d1f...|{96d1f469-e0b7-4e...|{smsProps, mn=TVg...|\n",
      "|2024-08-20T09:56:...|{rp.mib/dev/96d1f...|{5b98aa47-2d23-4b...|{smsProps, mn=TVg...|\n",
      "|2024-08-20T09:56:...|{rp.mib/dev/96d1f...|{96d1f469-e0b7-4e...|{smsProps, mn=TVg...|\n",
      "|2024-08-20T09:56:...|{rp.mib/dev/96d1f...|{a0ba43aa-f3c1-42...|{smsProps, mn=TVg...|\n",
      "|2024-08-20T09:56:...|{rp.mib/dev/96d1f...|{96d1f469-e0b7-4e...|{smsProps, mn=TVg...|\n",
      "|2024-08-20T09:56:...|{rp.mib/dev/96d1f...|{5b98aa47-2d23-4b...|{smsProps, mn=TVg...|\n",
      "+--------------------+--------------------+--------------------+--------------------+\n",
      "only showing top 20 rows\n",
      "\n"
     ]
    }
   ],
   "source": [
    "schema_df.show()"
   ]
  },
  {
   "cell_type": "code",
   "execution_count": 13,
   "id": "9be9fbee",
   "metadata": {
    "scrolled": true
   },
   "outputs": [
    {
     "name": "stdout",
     "output_type": "stream",
     "text": [
      "+----------------------------+\n",
      "|EnqueuedTimeUtc             |\n",
      "+----------------------------+\n",
      "|2024-12-06T08:02:16.8400000Z|\n",
      "|2024-12-18T23:56:20.9470000Z|\n",
      "|2024-12-18T23:56:21.1970000Z|\n",
      "|2024-11-21T07:21:38.2250000Z|\n",
      "|2024-11-21T07:21:38.4600000Z|\n",
      "|2024-11-21T07:22:08.1800000Z|\n",
      "+----------------------------+\n",
      "\n"
     ]
    }
   ],
   "source": [
    "schema_df.select(\"EnqueuedTimeUtc\").show(truncate=False)"
   ]
  },
  {
   "cell_type": "code",
   "execution_count": 16,
   "id": "88332629",
   "metadata": {},
   "outputs": [
    {
     "name": "stdout",
     "output_type": "stream",
     "text": [
      "root\n",
      " |-- EnqueuedTimeUtc: string (nullable = true)\n",
      " |-- Properties: struct (nullable = true)\n",
      " |    |-- appTopic: string (nullable = true)\n",
      " |-- SystemProperties: struct (nullable = true)\n",
      " |    |-- connectionDeviceId: string (nullable = true)\n",
      " |    |-- connectionAuthMethod: string (nullable = true)\n",
      " |    |-- connectionDeviceGenerationId: string (nullable = true)\n",
      " |    |-- contentType: string (nullable = true)\n",
      " |    |-- contentEncoding: string (nullable = true)\n",
      " |    |-- enqueuedTime: string (nullable = true)\n",
      " |-- Body: struct (nullable = true)\n",
      " |    |-- type: string (nullable = true)\n",
      " |    |-- mnsn: string (nullable = true)\n",
      " |    |-- timestamp: long (nullable = true)\n",
      " |    |-- scheduleName: string (nullable = true)\n",
      "\n"
     ]
    }
   ],
   "source": [
    "schema_df.printSchema()"
   ]
  },
  {
   "cell_type": "code",
   "execution_count": 17,
   "id": "08fb58dd",
   "metadata": {},
   "outputs": [
    {
     "name": "stdout",
     "output_type": "stream",
     "text": [
      "+-----------------------------------------------------------------------------+\n",
      "|Body                                                                         |\n",
      "+-----------------------------------------------------------------------------+\n",
      "|{smsProps, mn=TVg4MDkwTg==:sn=NjUwNDYyMFgwMA==, 1733472136665, manualUpdate} |\n",
      "|{offline, mn=QlA1MEMyNg==:sn=MjUxMjc1NTAxMg==, 1734566180749, deviceStatus}  |\n",
      "|{offline, mn=QlA1MEMyNg==:sn=MjUxMjc1NTAxMg==, 1734566180757, suppliesUpdate}|\n",
      "|{smsProps, mn=TVgyNjYx:sn=MTUwMDQ2NjQwMA==, 1732173697951, deviceStatus}     |\n",
      "|{smsProps, mn=TVgyNjYx:sn=MTUwMDQ2NjQwMA==, 1732173698195, suppliesUpdate}   |\n",
      "|{offline, mn=QlBDMTMxV0Q=:sn=NDAxMDAzODUwMA==, 1732173727911, deviceStatus}  |\n",
      "+-----------------------------------------------------------------------------+\n",
      "\n"
     ]
    }
   ],
   "source": [
    "schema_df.select('Body').show(truncate=False)"
   ]
  },
  {
   "cell_type": "code",
   "execution_count": 24,
   "id": "43f1b13b",
   "metadata": {},
   "outputs": [
    {
     "name": "stdout",
     "output_type": "stream",
     "text": [
      "+--------------------+--------------------+----------------------------+---------------+--------------------+\n",
      "|  connectionDeviceId|connectionAuthMethod|connectionDeviceGenerationId|contentEncoding|        enqueuedTime|\n",
      "+--------------------+--------------------+----------------------------+---------------+--------------------+\n",
      "|2be00f09-5d33-47a...|{\"scope\":\"device\"...|          638658819029400530|          UTF-8|2024-12-06T08:02:...|\n",
      "|c3566d1b-4d59-47b...|{\"scope\":\"device\"...|          638657983158498990|          UTF-8|2024-12-18T23:56:...|\n",
      "|c3566d1b-4d59-47b...|{\"scope\":\"device\"...|          638657983158498990|          UTF-8|2024-12-18T23:56:...|\n",
      "|f6ee0457-9923-4c6...|{\"scope\":\"device\"...|          638587804616854813|          UTF-8|2024-11-21T07:21:...|\n",
      "|f6ee0457-9923-4c6...|{\"scope\":\"device\"...|          638587804616854813|          UTF-8|2024-11-21T07:21:...|\n",
      "|f6ee0457-9923-4c6...|{\"scope\":\"device\"...|          638587804616854813|          UTF-8|2024-11-21T07:22:...|\n",
      "+--------------------+--------------------+----------------------------+---------------+--------------------+\n",
      "\n"
     ]
    }
   ],
   "source": [
    "schema_df.select(\"SystemProperties.connectionDeviceId\",\"SystemProperties.connectionAuthMethod\",\n",
    "                 \"SystemProperties.connectionDeviceGenerationId\",\n",
    "                 \"SystemProperties.contentEncoding\",\"SystemProperties.enqueuedTime\").show()"
   ]
  },
  {
   "cell_type": "code",
   "execution_count": 20,
   "id": "45c0dc31",
   "metadata": {},
   "outputs": [
    {
     "name": "stdout",
     "output_type": "stream",
     "text": [
      "+--------------+\n",
      "|  scheduleName|\n",
      "+--------------+\n",
      "|  manualUpdate|\n",
      "|  deviceStatus|\n",
      "|suppliesUpdate|\n",
      "|  deviceStatus|\n",
      "|suppliesUpdate|\n",
      "|  deviceStatus|\n",
      "+--------------+\n",
      "\n"
     ]
    }
   ],
   "source": [
    "schema_df.select(\"Body.scheduleName\").show()"
   ]
  },
  {
   "cell_type": "code",
   "execution_count": 21,
   "id": "2c691f1d",
   "metadata": {},
   "outputs": [
    {
     "name": "stdout",
     "output_type": "stream",
     "text": [
      "+----------------------------+\n",
      "|enqueuedTime                |\n",
      "+----------------------------+\n",
      "|2024-12-06T08:02:16.8400000Z|\n",
      "|2024-12-18T23:56:20.9470000Z|\n",
      "|2024-12-18T23:56:21.1970000Z|\n",
      "|2024-11-21T07:21:38.2250000Z|\n",
      "|2024-11-21T07:21:38.4600000Z|\n",
      "|2024-11-21T07:22:08.1800000Z|\n",
      "+----------------------------+\n",
      "\n"
     ]
    }
   ],
   "source": [
    "schema_df.select(\"SystemProperties.enqueuedTime\").show(truncate=False)"
   ]
  },
  {
   "cell_type": "markdown",
   "id": "cbfd0d03",
   "metadata": {},
   "source": [
    "# JSON-2"
   ]
  },
  {
   "cell_type": "code",
   "execution_count": 5,
   "id": "31661a30",
   "metadata": {},
   "outputs": [
    {
     "name": "stdout",
     "output_type": "stream",
     "text": [
      "+--------------------+--------------------+--------------------+--------------------+\n",
      "|                Body|     EnqueuedTimeUtc|          Properties|    SystemProperties|\n",
      "+--------------------+--------------------+--------------------+--------------------+\n",
      "|{mn=TVgwMDAx:sn=M...|2024-08-20T09:56:...|{rp.mib/dev/96d1f...|{{\"scope\":\"device...|\n",
      "|{mn=TVgwMDAx:sn=M...|2024-08-20T09:56:...|{rp.mib/dev/96d1f...|{{\"scope\":\"device...|\n",
      "|{mn=TVgwMDAx:sn=M...|2024-08-20T09:56:...|{rp.mib/dev/96d1f...|{{\"scope\":\"device...|\n",
      "|{mn=TVgwMDAx:sn=M...|2024-08-20T09:56:...|{rp.mib/dev/96d1f...|{{\"scope\":\"device...|\n",
      "|{mn=TVgwMDAy:sn=M...|2024-08-20T09:56:...|{rp.mib/dev/96d1f...|{{\"scope\":\"device...|\n",
      "|{mn=TVgwMDAy:sn=M...|2024-08-20T09:56:...|{rp.mib/dev/96d1f...|{{\"scope\":\"device...|\n",
      "|{mn=TVgwMDAy:sn=M...|2024-08-20T09:56:...|{rp.mib/dev/96d1f...|{{\"scope\":\"device...|\n",
      "|{mn=TVgwMDAy:sn=M...|2024-08-20T09:56:...|{rp.mib/dev/96d1f...|{{\"scope\":\"device...|\n",
      "|{mn=TVgwMDAz:sn=M...|2024-08-20T09:56:...|{rp.mib/dev/96d1f...|{{\"scope\":\"device...|\n",
      "|{mn=TVgwMDAz:sn=M...|2024-08-20T09:56:...|{rp.mib/dev/96d1f...|{{\"scope\":\"device...|\n",
      "|{mn=TVgwMDAz:sn=M...|2024-08-20T09:56:...|{rp.mib/dev/96d1f...|{{\"scope\":\"device...|\n",
      "|{mn=TVgwMDAz:sn=M...|2024-08-20T09:56:...|{rp.mib/dev/96d1f...|{{\"scope\":\"device...|\n",
      "|{mn=TVgwMDA0:sn=M...|2024-08-20T09:56:...|{rp.mib/dev/96d1f...|{{\"scope\":\"device...|\n",
      "|{mn=TVgwMDA0:sn=M...|2024-08-20T09:56:...|{rp.mib/dev/96d1f...|{{\"scope\":\"device...|\n",
      "|{mn=TVgwMDA0:sn=M...|2024-08-20T09:56:...|{rp.mib/dev/96d1f...|{{\"scope\":\"device...|\n",
      "|{mn=TVgwMDA0:sn=M...|2024-08-20T09:56:...|{rp.mib/dev/96d1f...|{{\"scope\":\"device...|\n",
      "|{mn=TVgwMDA1:sn=M...|2024-08-20T09:56:...|{rp.mib/dev/96d1f...|{{\"scope\":\"device...|\n",
      "|{mn=TVgwMDA1:sn=M...|2024-08-20T09:56:...|{rp.mib/dev/96d1f...|{{\"scope\":\"device...|\n",
      "|{mn=TVgwMDA1:sn=M...|2024-08-20T09:56:...|{rp.mib/dev/96d1f...|{{\"scope\":\"device...|\n",
      "|{mn=TVgwMDA1:sn=M...|2024-08-20T09:56:...|{rp.mib/dev/96d1f...|{{\"scope\":\"device...|\n",
      "+--------------------+--------------------+--------------------+--------------------+\n",
      "only showing top 20 rows\n",
      "\n"
     ]
    }
   ],
   "source": [
    "path='C:/Users/acer/Downloads/2024-7-20-15-26-1.json'\n",
    "df=spark.read.format(\"json\").load(path)\n",
    "df.show()"
   ]
  },
  {
   "cell_type": "code",
   "execution_count": 6,
   "id": "8e39d70c",
   "metadata": {},
   "outputs": [],
   "source": [
    "from pyspark.sql.types import *\n",
    "\n",
    "schema = StructType([\n",
    "    StructField(\"EnqueuedTimeUtc\", StringType(), True),\n",
    "    StructField(\"Properties\", StructType([\n",
    "        StructField(\"appTopic\", StringType(), True)\n",
    "    ]), True),\n",
    "    StructField(\"SystemProperties\", StructType([\n",
    "        StructField(\"connectionDeviceId\", StringType(), True),\n",
    "        StructField(\"connectionAuthMethod\", StringType(), True),\n",
    "        StructField(\"connectionDeviceGenerationId\", StringType(), True),\n",
    "        StructField(\"contentType\", StringType(), True),\n",
    "        StructField(\"contentEncoding\", StringType(), True),\n",
    "        StructField(\"enqueuedTime\", StringType(), True)\n",
    "    ]), True),\n",
    "    StructField(\"Body\", StructType([\n",
    "        StructField(\"type\", StringType(), True),\n",
    "        StructField(\"mnsn\", StringType(), True),\n",
    "        StructField(\"timestamp\", LongType(), True),\n",
    "        StructField(\"scheduleName\", StringType(), True),\n",
    "    ]), True)\n",
    "])"
   ]
  },
  {
   "cell_type": "code",
   "execution_count": 84,
   "id": "d1697299",
   "metadata": {},
   "outputs": [],
   "source": [
    "path2='C:/Users/acer/Downloads/2024-7-20-15-26-1.json'\n",
    "schema_df2 = spark.read.schema(schema).json(path2)"
   ]
  },
  {
   "cell_type": "code",
   "execution_count": 85,
   "id": "87be6cd9",
   "metadata": {},
   "outputs": [
    {
     "name": "stdout",
     "output_type": "stream",
     "text": [
      "+--------------------+--------------------+--------------------+--------------------+\n",
      "|     EnqueuedTimeUtc|          Properties|    SystemProperties|                Body|\n",
      "+--------------------+--------------------+--------------------+--------------------+\n",
      "|2024-08-20T09:56:...|{rp.mib/dev/96d1f...|{96d1f469-e0b7-4e...|{smsProps, mn=TVg...|\n",
      "|2024-08-20T09:56:...|{rp.mib/dev/96d1f...|{a0ba43aa-f3c1-42...|{smsProps, mn=TVg...|\n",
      "|2024-08-20T09:56:...|{rp.mib/dev/96d1f...|{96d1f469-e0b7-4e...|{smsProps, mn=TVg...|\n",
      "|2024-08-20T09:56:...|{rp.mib/dev/96d1f...|{5b98aa47-2d23-4b...|{smsProps, mn=TVg...|\n",
      "|2024-08-20T09:56:...|{rp.mib/dev/96d1f...|{96d1f469-e0b7-4e...|{smsProps, mn=TVg...|\n",
      "|2024-08-20T09:56:...|{rp.mib/dev/96d1f...|{a0ba43aa-f3c1-42...|{smsProps, mn=TVg...|\n",
      "|2024-08-20T09:56:...|{rp.mib/dev/96d1f...|{96d1f469-e0b7-4e...|{smsProps, mn=TVg...|\n",
      "|2024-08-20T09:56:...|{rp.mib/dev/96d1f...|{5b98aa47-2d23-4b...|{smsProps, mn=TVg...|\n",
      "|2024-08-20T09:56:...|{rp.mib/dev/96d1f...|{96d1f469-e0b7-4e...|{smsProps, mn=TVg...|\n",
      "|2024-08-20T09:56:...|{rp.mib/dev/96d1f...|{a0ba43aa-f3c1-42...|{smsProps, mn=TVg...|\n",
      "|2024-08-20T09:56:...|{rp.mib/dev/96d1f...|{96d1f469-e0b7-4e...|{smsProps, mn=TVg...|\n",
      "|2024-08-20T09:56:...|{rp.mib/dev/96d1f...|{5b98aa47-2d23-4b...|{smsProps, mn=TVg...|\n",
      "|2024-08-20T09:56:...|{rp.mib/dev/96d1f...|{96d1f469-e0b7-4e...|{smsProps, mn=TVg...|\n",
      "|2024-08-20T09:56:...|{rp.mib/dev/96d1f...|{a0ba43aa-f3c1-42...|{smsProps, mn=TVg...|\n",
      "|2024-08-20T09:56:...|{rp.mib/dev/96d1f...|{96d1f469-e0b7-4e...|{smsProps, mn=TVg...|\n",
      "|2024-08-20T09:56:...|{rp.mib/dev/96d1f...|{5b98aa47-2d23-4b...|{smsProps, mn=TVg...|\n",
      "|2024-08-20T09:56:...|{rp.mib/dev/96d1f...|{96d1f469-e0b7-4e...|{smsProps, mn=TVg...|\n",
      "|2024-08-20T09:56:...|{rp.mib/dev/96d1f...|{a0ba43aa-f3c1-42...|{smsProps, mn=TVg...|\n",
      "|2024-08-20T09:56:...|{rp.mib/dev/96d1f...|{96d1f469-e0b7-4e...|{smsProps, mn=TVg...|\n",
      "|2024-08-20T09:56:...|{rp.mib/dev/96d1f...|{5b98aa47-2d23-4b...|{smsProps, mn=TVg...|\n",
      "+--------------------+--------------------+--------------------+--------------------+\n",
      "only showing top 20 rows\n",
      "\n"
     ]
    }
   ],
   "source": [
    "schema_df2.show()"
   ]
  },
  {
   "cell_type": "code",
   "execution_count": 9,
   "id": "405fccfc",
   "metadata": {},
   "outputs": [
    {
     "name": "stdout",
     "output_type": "stream",
     "text": [
      "root\n",
      " |-- EnqueuedTimeUtc: string (nullable = true)\n",
      " |-- Properties: struct (nullable = true)\n",
      " |    |-- appTopic: string (nullable = true)\n",
      " |-- SystemProperties: struct (nullable = true)\n",
      " |    |-- connectionDeviceId: string (nullable = true)\n",
      " |    |-- connectionAuthMethod: string (nullable = true)\n",
      " |    |-- connectionDeviceGenerationId: string (nullable = true)\n",
      " |    |-- contentType: string (nullable = true)\n",
      " |    |-- contentEncoding: string (nullable = true)\n",
      " |    |-- enqueuedTime: string (nullable = true)\n",
      " |-- Body: struct (nullable = true)\n",
      " |    |-- type: string (nullable = true)\n",
      " |    |-- mnsn: string (nullable = true)\n",
      " |    |-- timestamp: long (nullable = true)\n",
      " |    |-- scheduleName: string (nullable = true)\n",
      "\n"
     ]
    }
   ],
   "source": [
    "schema_df2.printSchema()"
   ]
  },
  {
   "cell_type": "code",
   "execution_count": 10,
   "id": "62d15295",
   "metadata": {},
   "outputs": [
    {
     "name": "stdout",
     "output_type": "stream",
     "text": [
      "+--------------+\n",
      "|  scheduleName|\n",
      "+--------------+\n",
      "|   basicUpdate|\n",
      "| counterUpdate|\n",
      "|  deviceStatus|\n",
      "|suppliesUpdate|\n",
      "|   basicUpdate|\n",
      "| counterUpdate|\n",
      "|  deviceStatus|\n",
      "|suppliesUpdate|\n",
      "|   basicUpdate|\n",
      "| counterUpdate|\n",
      "|  deviceStatus|\n",
      "|suppliesUpdate|\n",
      "|   basicUpdate|\n",
      "| counterUpdate|\n",
      "|  deviceStatus|\n",
      "|suppliesUpdate|\n",
      "|   basicUpdate|\n",
      "| counterUpdate|\n",
      "|  deviceStatus|\n",
      "|suppliesUpdate|\n",
      "+--------------+\n",
      "only showing top 20 rows\n",
      "\n"
     ]
    }
   ],
   "source": [
    "schema_df2.select(\"Body.scheduleName\").show()"
   ]
  },
  {
   "cell_type": "code",
   "execution_count": 11,
   "id": "985d6d05",
   "metadata": {},
   "outputs": [
    {
     "name": "stdout",
     "output_type": "stream",
     "text": [
      "+--------------------------------------------------------------------------+\n",
      "|Body                                                                      |\n",
      "+--------------------------------------------------------------------------+\n",
      "|{smsProps, mn=TVgwMDAx:sn=MDUxMTMxMzAwMDE=, 1724147812588, basicUpdate}   |\n",
      "|{smsProps, mn=TVgwMDAx:sn=MDUxMTMxMzAwMDE=, 1724147812589, counterUpdate} |\n",
      "|{smsProps, mn=TVgwMDAx:sn=MDUxMTMxMzAwMDE=, 1724147812589, deviceStatus}  |\n",
      "|{smsProps, mn=TVgwMDAx:sn=MDUxMTMxMzAwMDE=, 1724147812589, suppliesUpdate}|\n",
      "|{smsProps, mn=TVgwMDAy:sn=MDUxMTMxMzAwMDI=, 1724147812591, basicUpdate}   |\n",
      "|{smsProps, mn=TVgwMDAy:sn=MDUxMTMxMzAwMDI=, 1724147812608, counterUpdate} |\n",
      "|{smsProps, mn=TVgwMDAy:sn=MDUxMTMxMzAwMDI=, 1724147812608, deviceStatus}  |\n",
      "|{smsProps, mn=TVgwMDAy:sn=MDUxMTMxMzAwMDI=, 1724147812609, suppliesUpdate}|\n",
      "|{smsProps, mn=TVgwMDAz:sn=MDUxMTMxMzAwMDM=, 1724147812610, basicUpdate}   |\n",
      "|{smsProps, mn=TVgwMDAz:sn=MDUxMTMxMzAwMDM=, 1724147812610, counterUpdate} |\n",
      "|{smsProps, mn=TVgwMDAz:sn=MDUxMTMxMzAwMDM=, 1724147812610, deviceStatus}  |\n",
      "|{smsProps, mn=TVgwMDAz:sn=MDUxMTMxMzAwMDM=, 1724147812610, suppliesUpdate}|\n",
      "|{smsProps, mn=TVgwMDA0:sn=MDUxMTMxMzAwMDQ=, 1724147812612, basicUpdate}   |\n",
      "|{smsProps, mn=TVgwMDA0:sn=MDUxMTMxMzAwMDQ=, 1724147812613, counterUpdate} |\n",
      "|{smsProps, mn=TVgwMDA0:sn=MDUxMTMxMzAwMDQ=, 1724147812613, deviceStatus}  |\n",
      "|{smsProps, mn=TVgwMDA0:sn=MDUxMTMxMzAwMDQ=, 1724147812614, suppliesUpdate}|\n",
      "|{smsProps, mn=TVgwMDA1:sn=MDUxMTMxMzAwMDU=, 1724147812619, basicUpdate}   |\n",
      "|{smsProps, mn=TVgwMDA1:sn=MDUxMTMxMzAwMDU=, 1724147812619, counterUpdate} |\n",
      "|{smsProps, mn=TVgwMDA1:sn=MDUxMTMxMzAwMDU=, 1724147812620, deviceStatus}  |\n",
      "|{smsProps, mn=TVgwMDA1:sn=MDUxMTMxMzAwMDU=, 1724147812620, suppliesUpdate}|\n",
      "+--------------------------------------------------------------------------+\n",
      "only showing top 20 rows\n",
      "\n"
     ]
    }
   ],
   "source": [
    "schema_df2.select('Body').show(truncate=False)"
   ]
  },
  {
   "cell_type": "code",
   "execution_count": 12,
   "id": "6c5f2501",
   "metadata": {},
   "outputs": [
    {
     "data": {
      "text/plain": [
       "['deviceStatus', 'basicUpdate', 'counterUpdate', 'suppliesUpdate']"
      ]
     },
     "execution_count": 12,
     "metadata": {},
     "output_type": "execute_result"
    }
   ],
   "source": [
    "schedule_names = [row[\"scheduleName\"] for row in schema_df2.select(\"Body.scheduleName\").distinct().collect()]\n",
    "schedule_names"
   ]
  },
  {
   "cell_type": "code",
   "execution_count": 13,
   "id": "b01e032c",
   "metadata": {},
   "outputs": [],
   "source": [
    "from delta.tables import DeltaTable\n",
    "from pyspark.sql.functions import *"
   ]
  },
  {
   "cell_type": "code",
   "execution_count": 55,
   "id": "13b0aeb3",
   "metadata": {},
   "outputs": [
    {
     "name": "stdout",
     "output_type": "stream",
     "text": [
      "+--------------------+--------------------+--------------------+--------------------+\n",
      "|     EnqueuedTimeUtc|          Properties|    SystemProperties|                Body|\n",
      "+--------------------+--------------------+--------------------+--------------------+\n",
      "|2024-08-20T09:56:...|{rp.mib/dev/96d1f...|{96d1f469-e0b7-4e...|{smsProps, mn=TVg...|\n",
      "|2024-08-20T09:56:...|{rp.mib/dev/96d1f...|{96d1f469-e0b7-4e...|{smsProps, mn=TVg...|\n",
      "|2024-08-20T09:56:...|{rp.mib/dev/96d1f...|{96d1f469-e0b7-4e...|{smsProps, mn=TVg...|\n",
      "|2024-08-20T09:56:...|{rp.mib/dev/96d1f...|{96d1f469-e0b7-4e...|{smsProps, mn=TVg...|\n",
      "|2024-08-20T09:56:...|{rp.mib/dev/96d1f...|{96d1f469-e0b7-4e...|{smsProps, mn=TVg...|\n",
      "|2024-08-20T09:56:...|{rp.mib/dev/96d1f...|{96d1f469-e0b7-4e...|{smsProps, mn=TVg...|\n",
      "|2024-08-20T09:56:...|{rp.mib/dev/96d1f...|{96d1f469-e0b7-4e...|{smsProps, mn=TVg...|\n",
      "|2024-08-20T09:56:...|{rp.mib/dev/96d1f...|{96d1f469-e0b7-4e...|{smsProps, mn=TVg...|\n",
      "|2024-08-20T09:56:...|{rp.mib/dev/96d1f...|{96d1f469-e0b7-4e...|{smsProps, mn=TVg...|\n",
      "|2024-08-20T09:56:...|{rp.mib/dev/96d1f...|{96d1f469-e0b7-4e...|{smsProps, mn=TVg...|\n",
      "|2024-08-20T09:56:...|{rp.mib/dev/96d1f...|{96d1f469-e0b7-4e...|{smsProps, mn=TVg...|\n",
      "|2024-08-20T09:56:...|{rp.mib/dev/96d1f...|{96d1f469-e0b7-4e...|{smsProps, mn=TVg...|\n",
      "|2024-08-20T09:56:...|{rp.mib/dev/96d1f...|{96d1f469-e0b7-4e...|{smsProps, mn=TVg...|\n",
      "|2024-08-20T09:56:...|{rp.mib/dev/96d1f...|{96d1f469-e0b7-4e...|{smsProps, mn=TVg...|\n",
      "|2024-08-20T09:56:...|{rp.mib/dev/96d1f...|{96d1f469-e0b7-4e...|{smsProps, mn=TVg...|\n",
      "|2024-08-20T09:56:...|{rp.mib/dev/96d1f...|{96d1f469-e0b7-4e...|{smsProps, mn=TVg...|\n",
      "|2024-08-20T09:56:...|{rp.mib/dev/96d1f...|{96d1f469-e0b7-4e...|{smsProps, mn=TVg...|\n",
      "|2024-08-20T09:56:...|{rp.mib/dev/96d1f...|{96d1f469-e0b7-4e...|{smsProps, mn=TVg...|\n",
      "|2024-08-20T09:56:...|{rp.mib/dev/96d1f...|{96d1f469-e0b7-4e...|{smsProps, mn=TVg...|\n",
      "|2024-08-20T09:56:...|{rp.mib/dev/96d1f...|{96d1f469-e0b7-4e...|{smsProps, mn=TVg...|\n",
      "+--------------------+--------------------+--------------------+--------------------+\n",
      "only showing top 20 rows\n",
      "\n"
     ]
    }
   ],
   "source": [
    "schedule_df = schema_df2.filter(col(\"Body.scheduleName\") == 'basicUpdate')\n",
    "schedule_df.show()"
   ]
  },
  {
   "cell_type": "code",
   "execution_count": 93,
   "id": "f79d009c",
   "metadata": {},
   "outputs": [],
   "source": [
    "flatschedule_df = schedule_df.select(\n",
    "    F.col(\"Body.type\").alias(\"Body_type\"),\n",
    "    F.col(\"Body.mnsn\").alias(\"Body_mnsn\"),\n",
    "    F.col(\"Body.timestamp\").alias(\"Body_timestamp\"),\n",
    "    F.col(\"Body.scheduleName\").alias(\"Body_scheduleName\"),\n",
    "    F.col(\"EnqueuedTimeUtc\").alias(\"EnqueuedTimeUtc\"),\n",
    "    F.col(\"Properties.appTopic\").alias(\"Properties_appTopic\"),\n",
    "    F.col(\"SystemProperties.connectionDeviceId\").alias(\"SystemProperties_connectionDeviceId\"),\n",
    "    F.col(\"SystemProperties.connectionAuthMethod\").alias(\"SystemProperties_connectionAuthMethod\"),\n",
    "    F.col(\"SystemProperties.connectionDeviceGenerationId\").alias(\"SystemProperties_connectionDeviceGenerationId\"),\n",
    "    F.col(\"SystemProperties.contentType\").alias(\"SystemProperties_contentType\"),\n",
    "    F.col(\"SystemProperties.contentEncoding\").alias(\"SystemProperties_contentEncoding\"),\n",
    "    F.col(\"SystemProperties.enqueuedTime\").alias(\"SystemProperties_enqueuedTime\")\n",
    ").orderBy(\"Body_timestamp\")"
   ]
  },
  {
   "cell_type": "code",
   "execution_count": 94,
   "id": "7b741edd",
   "metadata": {},
   "outputs": [
    {
     "name": "stdout",
     "output_type": "stream",
     "text": [
      "+---------+--------------------+--------------+-----------------+--------------------+--------------------+-----------------------------------+-------------------------------------+---------------------------------------------+----------------------------+--------------------------------+-----------------------------+\n",
      "|Body_type|           Body_mnsn|Body_timestamp|Body_scheduleName|     EnqueuedTimeUtc| Properties_appTopic|SystemProperties_connectionDeviceId|SystemProperties_connectionAuthMethod|SystemProperties_connectionDeviceGenerationId|SystemProperties_contentType|SystemProperties_contentEncoding|SystemProperties_enqueuedTime|\n",
      "+---------+--------------------+--------------+-----------------+--------------------+--------------------+-----------------------------------+-------------------------------------+---------------------------------------------+----------------------------+--------------------------------+-----------------------------+\n",
      "| smsProps|mn=TVgwMDAx:sn=MD...| 1724147812588|      basicUpdate|2024-08-20T09:56:...|rp.mib/dev/96d1f4...|               96d1f469-e0b7-4ee...|                 {\"scope\":\"device\"...|                           638525549558955677|            application/JSON|                           UTF-8|         2024-06-01T09:52:...|\n",
      "| smsProps|mn=TVgwMDAy:sn=MD...| 1724147812591|      basicUpdate|2024-08-20T09:56:...|rp.mib/dev/96d1f4...|               96d1f469-e0b7-4ee...|                 {\"scope\":\"device\"...|                           638525549558955677|            application/JSON|                           UTF-8|         2024-06-01T09:52:...|\n",
      "| smsProps|mn=TVgwMDAz:sn=MD...| 1724147812610|      basicUpdate|2024-08-20T09:56:...|rp.mib/dev/96d1f4...|               96d1f469-e0b7-4ee...|                 {\"scope\":\"device\"...|                           638525549558955677|            application/JSON|                           UTF-8|         2024-06-01T09:52:...|\n",
      "| smsProps|mn=TVgwMDA0:sn=MD...| 1724147812612|      basicUpdate|2024-08-20T09:56:...|rp.mib/dev/96d1f4...|               96d1f469-e0b7-4ee...|                 {\"scope\":\"device\"...|                           638525549558955677|            application/JSON|                           UTF-8|         2024-06-01T09:52:...|\n",
      "| smsProps|mn=TVgwMDA1:sn=MD...| 1724147812619|      basicUpdate|2024-08-20T09:56:...|rp.mib/dev/96d1f4...|               96d1f469-e0b7-4ee...|                 {\"scope\":\"device\"...|                           638525549558955677|            application/JSON|                           UTF-8|         2024-06-01T09:52:...|\n",
      "| smsProps|mn=TVgwMDA2:sn=MD...| 1724147812622|      basicUpdate|2024-08-20T09:56:...|rp.mib/dev/96d1f4...|               96d1f469-e0b7-4ee...|                 {\"scope\":\"device\"...|                           638525549558955677|            application/JSON|                           UTF-8|         2024-06-01T09:52:...|\n",
      "| smsProps|mn=TVgwMDA3:sn=MD...| 1724147812624|      basicUpdate|2024-08-20T09:56:...|rp.mib/dev/96d1f4...|               96d1f469-e0b7-4ee...|                 {\"scope\":\"device\"...|                           638525549558955677|            application/JSON|                           UTF-8|         2024-06-01T09:52:...|\n",
      "| smsProps|mn=TVgwMDA4:sn=MD...| 1724147812626|      basicUpdate|2024-08-20T09:56:...|rp.mib/dev/96d1f4...|               96d1f469-e0b7-4ee...|                 {\"scope\":\"device\"...|                           638525549558955677|            application/JSON|                           UTF-8|         2024-06-01T09:52:...|\n",
      "| smsProps|mn=TVgwMDA5:sn=MD...| 1724147812628|      basicUpdate|2024-08-20T09:56:...|rp.mib/dev/96d1f4...|               96d1f469-e0b7-4ee...|                 {\"scope\":\"device\"...|                           638525549558955677|            application/JSON|                           UTF-8|         2024-06-01T09:52:...|\n",
      "| smsProps|mn=TVgwMDEw:sn=MD...| 1724147812633|      basicUpdate|2024-08-20T09:56:...|rp.mib/dev/96d1f4...|               96d1f469-e0b7-4ee...|                 {\"scope\":\"device\"...|                           638525549558955677|            application/JSON|                           UTF-8|         2024-06-01T09:52:...|\n",
      "| smsProps|mn=TVgwMDEx:sn=MD...| 1724147812636|      basicUpdate|2024-08-20T09:56:...|rp.mib/dev/96d1f4...|               96d1f469-e0b7-4ee...|                 {\"scope\":\"device\"...|                           638525549558955677|            application/JSON|                           UTF-8|         2024-06-01T09:52:...|\n",
      "| smsProps|mn=TVgwMDEy:sn=MD...| 1724147812639|      basicUpdate|2024-08-20T09:56:...|rp.mib/dev/96d1f4...|               96d1f469-e0b7-4ee...|                 {\"scope\":\"device\"...|                           638525549558955677|            application/JSON|                           UTF-8|         2024-06-01T09:52:...|\n",
      "| smsProps|mn=TVgwMDEz:sn=MD...| 1724147812641|      basicUpdate|2024-08-20T09:56:...|rp.mib/dev/96d1f4...|               96d1f469-e0b7-4ee...|                 {\"scope\":\"device\"...|                           638525549558955677|            application/JSON|                           UTF-8|         2024-06-01T09:52:...|\n",
      "| smsProps|mn=TVgwMDE0:sn=MD...| 1724147812642|      basicUpdate|2024-08-20T09:56:...|rp.mib/dev/96d1f4...|               96d1f469-e0b7-4ee...|                 {\"scope\":\"device\"...|                           638525549558955677|            application/JSON|                           UTF-8|         2024-06-01T09:52:...|\n",
      "| smsProps|mn=TVgwMDE1:sn=MD...| 1724147812644|      basicUpdate|2024-08-20T09:56:...|rp.mib/dev/96d1f4...|               96d1f469-e0b7-4ee...|                 {\"scope\":\"device\"...|                           638525549558955677|            application/JSON|                           UTF-8|         2024-06-01T09:52:...|\n",
      "| smsProps|mn=TVgwMDE2:sn=MD...| 1724147812646|      basicUpdate|2024-08-20T09:56:...|rp.mib/dev/96d1f4...|               96d1f469-e0b7-4ee...|                 {\"scope\":\"device\"...|                           638525549558955677|            application/JSON|                           UTF-8|         2024-06-01T09:52:...|\n",
      "| smsProps|mn=TVgwMDE3:sn=MD...| 1724147812649|      basicUpdate|2024-08-20T09:56:...|rp.mib/dev/96d1f4...|               96d1f469-e0b7-4ee...|                 {\"scope\":\"device\"...|                           638525549558955677|            application/JSON|                           UTF-8|         2024-06-01T09:52:...|\n",
      "| smsProps|mn=TVgwMDE4:sn=MD...| 1724147812652|      basicUpdate|2024-08-20T09:56:...|rp.mib/dev/96d1f4...|               96d1f469-e0b7-4ee...|                 {\"scope\":\"device\"...|                           638525549558955677|            application/JSON|                           UTF-8|         2024-06-01T09:52:...|\n",
      "| smsProps|mn=TVgwMDE5:sn=MD...| 1724147812654|      basicUpdate|2024-08-20T09:56:...|rp.mib/dev/96d1f4...|               96d1f469-e0b7-4ee...|                 {\"scope\":\"device\"...|                           638525549558955677|            application/JSON|                           UTF-8|         2024-06-01T09:52:...|\n",
      "| smsProps|mn=TVgwMDIw:sn=MD...| 1724147812655|      basicUpdate|2024-08-20T09:56:...|rp.mib/dev/96d1f4...|               96d1f469-e0b7-4ee...|                 {\"scope\":\"device\"...|                           638525549558955677|            application/JSON|                           UTF-8|         2024-06-01T09:52:...|\n",
      "+---------+--------------------+--------------+-----------------+--------------------+--------------------+-----------------------------------+-------------------------------------+---------------------------------------------+----------------------------+--------------------------------+-----------------------------+\n",
      "only showing top 20 rows\n",
      "\n"
     ]
    },
    {
     "data": {
      "text/plain": [
       "500"
      ]
     },
     "execution_count": 94,
     "metadata": {},
     "output_type": "execute_result"
    }
   ],
   "source": [
    "flatschedule_df.show()\n",
    "flatschedule_df.count()"
   ]
  },
  {
   "cell_type": "code",
   "execution_count": 96,
   "id": "649607c5",
   "metadata": {},
   "outputs": [
    {
     "name": "stdout",
     "output_type": "stream",
     "text": [
      "+---------+--------------------+--------------+-----------------+--------------------+--------------------+-----------------------------------+-------------------------------------+---------------------------------------------+----------------------------+--------------------------------+-----------------------------+\n",
      "|Body_type|           Body_mnsn|Body_timestamp|Body_scheduleName|     EnqueuedTimeUtc| Properties_appTopic|SystemProperties_connectionDeviceId|SystemProperties_connectionAuthMethod|SystemProperties_connectionDeviceGenerationId|SystemProperties_contentType|SystemProperties_contentEncoding|SystemProperties_enqueuedTime|\n",
      "+---------+--------------------+--------------+-----------------+--------------------+--------------------+-----------------------------------+-------------------------------------+---------------------------------------------+----------------------------+--------------------------------+-----------------------------+\n",
      "| smsProps|mn=TVgwNTAw:sn=MD...| 1724147813655|      basicUpdate|2024-08-20T09:56:...|rp.mib/dev/96d1f4...|               96d1f469-e0b7-4ee...|                 {\"scope\":\"device\"...|                           638525549558955677|            application/JSON|                           UTF-8|         2024-06-01T09:52:...|\n",
      "+---------+--------------------+--------------+-----------------+--------------------+--------------------+-----------------------------------+-------------------------------------+---------------------------------------------+----------------------------+--------------------------------+-----------------------------+\n",
      "\n"
     ]
    }
   ],
   "source": [
    "latest_data=flatschedule_df.sort(flatschedule_df.Body_timestamp.desc()).limit(1)\n",
    "latest_data.show()"
   ]
  },
  {
   "cell_type": "code",
   "execution_count": 97,
   "id": "089fcc00",
   "metadata": {},
   "outputs": [
    {
     "name": "stdout",
     "output_type": "stream",
     "text": [
      "+---------+--------------------+--------------+-----------------+--------------------+--------------------+-----------------------------------+-------------------------------------+---------------------------------------------+----------------------------+--------------------------------+-----------------------------+\n",
      "|Body_type|           Body_mnsn|Body_timestamp|Body_scheduleName|     EnqueuedTimeUtc| Properties_appTopic|SystemProperties_connectionDeviceId|SystemProperties_connectionAuthMethod|SystemProperties_connectionDeviceGenerationId|SystemProperties_contentType|SystemProperties_contentEncoding|SystemProperties_enqueuedTime|\n",
      "+---------+--------------------+--------------+-----------------+--------------------+--------------------+-----------------------------------+-------------------------------------+---------------------------------------------+----------------------------+--------------------------------+-----------------------------+\n",
      "| smsProps|mn=TVgwMDAx:sn=MD...| 1724147812588|      basicUpdate|2024-08-20T09:56:...|rp.mib/dev/96d1f4...|               96d1f469-e0b7-4ee...|                 {\"scope\":\"device\"...|                           638525549558955677|            application/JSON|                           UTF-8|         2024-06-01T09:52:...|\n",
      "| smsProps|mn=TVgwMDAy:sn=MD...| 1724147812591|      basicUpdate|2024-08-20T09:56:...|rp.mib/dev/96d1f4...|               96d1f469-e0b7-4ee...|                 {\"scope\":\"device\"...|                           638525549558955677|            application/JSON|                           UTF-8|         2024-06-01T09:52:...|\n",
      "| smsProps|mn=TVgwMDAz:sn=MD...| 1724147812610|      basicUpdate|2024-08-20T09:56:...|rp.mib/dev/96d1f4...|               96d1f469-e0b7-4ee...|                 {\"scope\":\"device\"...|                           638525549558955677|            application/JSON|                           UTF-8|         2024-06-01T09:52:...|\n",
      "| smsProps|mn=TVgwMDA0:sn=MD...| 1724147812612|      basicUpdate|2024-08-20T09:56:...|rp.mib/dev/96d1f4...|               96d1f469-e0b7-4ee...|                 {\"scope\":\"device\"...|                           638525549558955677|            application/JSON|                           UTF-8|         2024-06-01T09:52:...|\n",
      "| smsProps|mn=TVgwMDA1:sn=MD...| 1724147812619|      basicUpdate|2024-08-20T09:56:...|rp.mib/dev/96d1f4...|               96d1f469-e0b7-4ee...|                 {\"scope\":\"device\"...|                           638525549558955677|            application/JSON|                           UTF-8|         2024-06-01T09:52:...|\n",
      "| smsProps|mn=TVgwMDA2:sn=MD...| 1724147812622|      basicUpdate|2024-08-20T09:56:...|rp.mib/dev/96d1f4...|               96d1f469-e0b7-4ee...|                 {\"scope\":\"device\"...|                           638525549558955677|            application/JSON|                           UTF-8|         2024-06-01T09:52:...|\n",
      "| smsProps|mn=TVgwMDA3:sn=MD...| 1724147812624|      basicUpdate|2024-08-20T09:56:...|rp.mib/dev/96d1f4...|               96d1f469-e0b7-4ee...|                 {\"scope\":\"device\"...|                           638525549558955677|            application/JSON|                           UTF-8|         2024-06-01T09:52:...|\n",
      "| smsProps|mn=TVgwMDA4:sn=MD...| 1724147812626|      basicUpdate|2024-08-20T09:56:...|rp.mib/dev/96d1f4...|               96d1f469-e0b7-4ee...|                 {\"scope\":\"device\"...|                           638525549558955677|            application/JSON|                           UTF-8|         2024-06-01T09:52:...|\n",
      "| smsProps|mn=TVgwMDA5:sn=MD...| 1724147812628|      basicUpdate|2024-08-20T09:56:...|rp.mib/dev/96d1f4...|               96d1f469-e0b7-4ee...|                 {\"scope\":\"device\"...|                           638525549558955677|            application/JSON|                           UTF-8|         2024-06-01T09:52:...|\n",
      "| smsProps|mn=TVgwMDEw:sn=MD...| 1724147812633|      basicUpdate|2024-08-20T09:56:...|rp.mib/dev/96d1f4...|               96d1f469-e0b7-4ee...|                 {\"scope\":\"device\"...|                           638525549558955677|            application/JSON|                           UTF-8|         2024-06-01T09:52:...|\n",
      "| smsProps|mn=TVgwMDEx:sn=MD...| 1724147812636|      basicUpdate|2024-08-20T09:56:...|rp.mib/dev/96d1f4...|               96d1f469-e0b7-4ee...|                 {\"scope\":\"device\"...|                           638525549558955677|            application/JSON|                           UTF-8|         2024-06-01T09:52:...|\n",
      "| smsProps|mn=TVgwMDEy:sn=MD...| 1724147812639|      basicUpdate|2024-08-20T09:56:...|rp.mib/dev/96d1f4...|               96d1f469-e0b7-4ee...|                 {\"scope\":\"device\"...|                           638525549558955677|            application/JSON|                           UTF-8|         2024-06-01T09:52:...|\n",
      "| smsProps|mn=TVgwMDEz:sn=MD...| 1724147812641|      basicUpdate|2024-08-20T09:56:...|rp.mib/dev/96d1f4...|               96d1f469-e0b7-4ee...|                 {\"scope\":\"device\"...|                           638525549558955677|            application/JSON|                           UTF-8|         2024-06-01T09:52:...|\n",
      "| smsProps|mn=TVgwMDE0:sn=MD...| 1724147812642|      basicUpdate|2024-08-20T09:56:...|rp.mib/dev/96d1f4...|               96d1f469-e0b7-4ee...|                 {\"scope\":\"device\"...|                           638525549558955677|            application/JSON|                           UTF-8|         2024-06-01T09:52:...|\n",
      "| smsProps|mn=TVgwMDE1:sn=MD...| 1724147812644|      basicUpdate|2024-08-20T09:56:...|rp.mib/dev/96d1f4...|               96d1f469-e0b7-4ee...|                 {\"scope\":\"device\"...|                           638525549558955677|            application/JSON|                           UTF-8|         2024-06-01T09:52:...|\n",
      "| smsProps|mn=TVgwMDE2:sn=MD...| 1724147812646|      basicUpdate|2024-08-20T09:56:...|rp.mib/dev/96d1f4...|               96d1f469-e0b7-4ee...|                 {\"scope\":\"device\"...|                           638525549558955677|            application/JSON|                           UTF-8|         2024-06-01T09:52:...|\n",
      "| smsProps|mn=TVgwMDE3:sn=MD...| 1724147812649|      basicUpdate|2024-08-20T09:56:...|rp.mib/dev/96d1f4...|               96d1f469-e0b7-4ee...|                 {\"scope\":\"device\"...|                           638525549558955677|            application/JSON|                           UTF-8|         2024-06-01T09:52:...|\n",
      "| smsProps|mn=TVgwMDE4:sn=MD...| 1724147812652|      basicUpdate|2024-08-20T09:56:...|rp.mib/dev/96d1f4...|               96d1f469-e0b7-4ee...|                 {\"scope\":\"device\"...|                           638525549558955677|            application/JSON|                           UTF-8|         2024-06-01T09:52:...|\n",
      "| smsProps|mn=TVgwMDE5:sn=MD...| 1724147812654|      basicUpdate|2024-08-20T09:56:...|rp.mib/dev/96d1f4...|               96d1f469-e0b7-4ee...|                 {\"scope\":\"device\"...|                           638525549558955677|            application/JSON|                           UTF-8|         2024-06-01T09:52:...|\n",
      "| smsProps|mn=TVgwMDIw:sn=MD...| 1724147812655|      basicUpdate|2024-08-20T09:56:...|rp.mib/dev/96d1f4...|               96d1f469-e0b7-4ee...|                 {\"scope\":\"device\"...|                           638525549558955677|            application/JSON|                           UTF-8|         2024-06-01T09:52:...|\n",
      "+---------+--------------------+--------------+-----------------+--------------------+--------------------+-----------------------------------+-------------------------------------+---------------------------------------------+----------------------------+--------------------------------+-----------------------------+\n",
      "only showing top 20 rows\n",
      "\n"
     ]
    },
    {
     "data": {
      "text/plain": [
       "499"
      ]
     },
     "execution_count": 97,
     "metadata": {},
     "output_type": "execute_result"
    }
   ],
   "source": [
    "remaining_data=flatschedule_df.filter(~(flatschedule_df['Body_timestamp']==1724147813655))\n",
    "remaining_data.show()\n",
    "remaining_data.count()"
   ]
  },
  {
   "cell_type": "code",
   "execution_count": 86,
   "id": "fb4d7ed5",
   "metadata": {},
   "outputs": [],
   "source": [
    "# remaining_data2 = schedule_df.exceptAll(latest_data)\n",
    "# remaining_data2.show()\n",
    "# remaining_data2.count()"
   ]
  },
  {
   "cell_type": "code",
   "execution_count": 68,
   "id": "01a2d5f9",
   "metadata": {},
   "outputs": [],
   "source": [
    "table_path=f\"./message/basicUpdate\""
   ]
  },
  {
   "cell_type": "code",
   "execution_count": 69,
   "id": "a2af1de2",
   "metadata": {},
   "outputs": [],
   "source": [
    "latest_data.write.format('delta').mode('overwrite').save(table_path)"
   ]
  },
  {
   "cell_type": "code",
   "execution_count": 52,
   "id": "24481ece",
   "metadata": {},
   "outputs": [],
   "source": [
    "from delta.tables import *"
   ]
  },
  {
   "cell_type": "code",
   "execution_count": 98,
   "id": "29f968bd",
   "metadata": {},
   "outputs": [
    {
     "name": "stdout",
     "output_type": "stream",
     "text": [
      "+---------+--------------------+--------------+-----------------+--------------------+--------------------+-----------------------------------+-------------------------------------+---------------------------------------------+----------------------------+--------------------------------+-----------------------------+\n",
      "|Body_type|           Body_mnsn|Body_timestamp|Body_scheduleName|     EnqueuedTimeUtc| Properties_appTopic|SystemProperties_connectionDeviceId|SystemProperties_connectionAuthMethod|SystemProperties_connectionDeviceGenerationId|SystemProperties_contentType|SystemProperties_contentEncoding|SystemProperties_enqueuedTime|\n",
      "+---------+--------------------+--------------+-----------------+--------------------+--------------------+-----------------------------------+-------------------------------------+---------------------------------------------+----------------------------+--------------------------------+-----------------------------+\n",
      "| smsProps|mn=TVgwMDA0:sn=MD...| 1724147812612|      basicUpdate|2024-08-20T09:56:...|rp.mib/dev/96d1f4...|               96d1f469-e0b7-4ee...|                 {\"scope\":\"device\"...|                           638525549558955677|            application/JSON|                           UTF-8|         2024-06-01T09:52:...|\n",
      "| smsProps|mn=TVgwMDA1:sn=MD...| 1724147812619|      basicUpdate|2024-08-20T09:56:...|rp.mib/dev/96d1f4...|               96d1f469-e0b7-4ee...|                 {\"scope\":\"device\"...|                           638525549558955677|            application/JSON|                           UTF-8|         2024-06-01T09:52:...|\n",
      "| smsProps|mn=TVgwMDA2:sn=MD...| 1724147812622|      basicUpdate|2024-08-20T09:56:...|rp.mib/dev/96d1f4...|               96d1f469-e0b7-4ee...|                 {\"scope\":\"device\"...|                           638525549558955677|            application/JSON|                           UTF-8|         2024-06-01T09:52:...|\n",
      "| smsProps|mn=TVgwMDA3:sn=MD...| 1724147812624|      basicUpdate|2024-08-20T09:56:...|rp.mib/dev/96d1f4...|               96d1f469-e0b7-4ee...|                 {\"scope\":\"device\"...|                           638525549558955677|            application/JSON|                           UTF-8|         2024-06-01T09:52:...|\n",
      "| smsProps|mn=TVgwMDA4:sn=MD...| 1724147812626|      basicUpdate|2024-08-20T09:56:...|rp.mib/dev/96d1f4...|               96d1f469-e0b7-4ee...|                 {\"scope\":\"device\"...|                           638525549558955677|            application/JSON|                           UTF-8|         2024-06-01T09:52:...|\n",
      "| smsProps|mn=TVgwMDA5:sn=MD...| 1724147812628|      basicUpdate|2024-08-20T09:56:...|rp.mib/dev/96d1f4...|               96d1f469-e0b7-4ee...|                 {\"scope\":\"device\"...|                           638525549558955677|            application/JSON|                           UTF-8|         2024-06-01T09:52:...|\n",
      "| smsProps|mn=TVgwMDAx:sn=MD...| 1724147812588|      basicUpdate|2024-08-20T09:56:...|rp.mib/dev/96d1f4...|               96d1f469-e0b7-4ee...|                 {\"scope\":\"device\"...|                           638525549558955677|            application/JSON|                           UTF-8|         2024-06-01T09:52:...|\n",
      "| smsProps|mn=TVgwMDAy:sn=MD...| 1724147812591|      basicUpdate|2024-08-20T09:56:...|rp.mib/dev/96d1f4...|               96d1f469-e0b7-4ee...|                 {\"scope\":\"device\"...|                           638525549558955677|            application/JSON|                           UTF-8|         2024-06-01T09:52:...|\n",
      "| smsProps|mn=TVgwMDAz:sn=MD...| 1724147812610|      basicUpdate|2024-08-20T09:56:...|rp.mib/dev/96d1f4...|               96d1f469-e0b7-4ee...|                 {\"scope\":\"device\"...|                           638525549558955677|            application/JSON|                           UTF-8|         2024-06-01T09:52:...|\n",
      "| smsProps|mn=TVgwMDE0:sn=MD...| 1724147812642|      basicUpdate|2024-08-20T09:56:...|rp.mib/dev/96d1f4...|               96d1f469-e0b7-4ee...|                 {\"scope\":\"device\"...|                           638525549558955677|            application/JSON|                           UTF-8|         2024-06-01T09:52:...|\n",
      "| smsProps|mn=TVgwMDE1:sn=MD...| 1724147812644|      basicUpdate|2024-08-20T09:56:...|rp.mib/dev/96d1f4...|               96d1f469-e0b7-4ee...|                 {\"scope\":\"device\"...|                           638525549558955677|            application/JSON|                           UTF-8|         2024-06-01T09:52:...|\n",
      "| smsProps|mn=TVgwMDE2:sn=MD...| 1724147812646|      basicUpdate|2024-08-20T09:56:...|rp.mib/dev/96d1f4...|               96d1f469-e0b7-4ee...|                 {\"scope\":\"device\"...|                           638525549558955677|            application/JSON|                           UTF-8|         2024-06-01T09:52:...|\n",
      "| smsProps|mn=TVgwMDE3:sn=MD...| 1724147812649|      basicUpdate|2024-08-20T09:56:...|rp.mib/dev/96d1f4...|               96d1f469-e0b7-4ee...|                 {\"scope\":\"device\"...|                           638525549558955677|            application/JSON|                           UTF-8|         2024-06-01T09:52:...|\n",
      "| smsProps|mn=TVgwMDE4:sn=MD...| 1724147812652|      basicUpdate|2024-08-20T09:56:...|rp.mib/dev/96d1f4...|               96d1f469-e0b7-4ee...|                 {\"scope\":\"device\"...|                           638525549558955677|            application/JSON|                           UTF-8|         2024-06-01T09:52:...|\n",
      "| smsProps|mn=TVgwMDE5:sn=MD...| 1724147812654|      basicUpdate|2024-08-20T09:56:...|rp.mib/dev/96d1f4...|               96d1f469-e0b7-4ee...|                 {\"scope\":\"device\"...|                           638525549558955677|            application/JSON|                           UTF-8|         2024-06-01T09:52:...|\n",
      "| smsProps|mn=TVgwMDEw:sn=MD...| 1724147812633|      basicUpdate|2024-08-20T09:56:...|rp.mib/dev/96d1f4...|               96d1f469-e0b7-4ee...|                 {\"scope\":\"device\"...|                           638525549558955677|            application/JSON|                           UTF-8|         2024-06-01T09:52:...|\n",
      "| smsProps|mn=TVgwMDEx:sn=MD...| 1724147812636|      basicUpdate|2024-08-20T09:56:...|rp.mib/dev/96d1f4...|               96d1f469-e0b7-4ee...|                 {\"scope\":\"device\"...|                           638525549558955677|            application/JSON|                           UTF-8|         2024-06-01T09:52:...|\n",
      "| smsProps|mn=TVgwMDEy:sn=MD...| 1724147812639|      basicUpdate|2024-08-20T09:56:...|rp.mib/dev/96d1f4...|               96d1f469-e0b7-4ee...|                 {\"scope\":\"device\"...|                           638525549558955677|            application/JSON|                           UTF-8|         2024-06-01T09:52:...|\n",
      "| smsProps|mn=TVgwMDEz:sn=MD...| 1724147812641|      basicUpdate|2024-08-20T09:56:...|rp.mib/dev/96d1f4...|               96d1f469-e0b7-4ee...|                 {\"scope\":\"device\"...|                           638525549558955677|            application/JSON|                           UTF-8|         2024-06-01T09:52:...|\n",
      "| smsProps|mn=TVgwMDI0:sn=MD...| 1724147812662|      basicUpdate|2024-08-20T09:56:...|rp.mib/dev/96d1f4...|               96d1f469-e0b7-4ee...|                 {\"scope\":\"device\"...|                           638525549558955677|            application/JSON|                           UTF-8|         2024-06-01T09:52:...|\n",
      "+---------+--------------------+--------------+-----------------+--------------------+--------------------+-----------------------------------+-------------------------------------+---------------------------------------------+----------------------------+--------------------------------+-----------------------------+\n",
      "only showing top 20 rows\n",
      "\n"
     ]
    }
   ],
   "source": [
    "dt=DeltaTable.forPath(spark, tabe_path)\n",
    "check=dt.toDF()\n",
    "check.show()"
   ]
  },
  {
   "cell_type": "code",
   "execution_count": 88,
   "id": "1aa63033",
   "metadata": {},
   "outputs": [
    {
     "name": "stdout",
     "output_type": "stream",
     "text": [
      "+---------+---------+--------------+-----------------+---------------+-------------------+-----------------------------------+-------------------------------------+---------------------------------------------+----------------------------+--------------------------------+-----------------------------+\n",
      "|Body_type|Body_mnsn|Body_timestamp|Body_scheduleName|EnqueuedTimeUtc|Properties_appTopic|SystemProperties_connectionDeviceId|SystemProperties_connectionAuthMethod|SystemProperties_connectionDeviceGenerationId|SystemProperties_contentType|SystemProperties_contentEncoding|SystemProperties_enqueuedTime|\n",
      "+---------+---------+--------------+-----------------+---------------+-------------------+-----------------------------------+-------------------------------------+---------------------------------------------+----------------------------+--------------------------------+-----------------------------+\n",
      "+---------+---------+--------------+-----------------+---------------+-------------------+-----------------------------------+-------------------------------------+---------------------------------------------+----------------------------+--------------------------------+-----------------------------+\n",
      "\n"
     ]
    }
   ],
   "source": [
    "remaining_data.filter(remaining_data['Body_mnsn'].isNull()).show()"
   ]
  },
  {
   "cell_type": "code",
   "execution_count": null,
   "id": "1a88fd45",
   "metadata": {},
   "outputs": [],
   "source": []
  },
  {
   "cell_type": "code",
   "execution_count": 99,
   "id": "b0b9db55",
   "metadata": {},
   "outputs": [
    {
     "ename": "SyntaxError",
     "evalue": "invalid syntax (1711802690.py, line 3)",
     "output_type": "error",
     "traceback": [
      "\u001b[1;36m  Cell \u001b[1;32mIn[99], line 3\u001b[1;36m\u001b[0m\n\u001b[1;33m    condition=(F.col(\"t.Body_timestamp\") < F.col(\"s.Body_timestamp\")),,\u001b[0m\n\u001b[1;37m                                                                      ^\u001b[0m\n\u001b[1;31mSyntaxError\u001b[0m\u001b[1;31m:\u001b[0m invalid syntax\n"
     ]
    }
   ],
   "source": [
    "cond = (F.col(\"t.Body.mnsn\") == F.col(\"s.Body.mnsn\"))\n",
    "dt.alias(\"t\").merge(remaining_data.alias(\"s\"),cond).whenMatchedUpdate(\n",
    "condition=(F.col(\"t.Body_timestamp\") < F.col(\"s.Body_timestamp\")),,\n",
    "set={\n",
    "    \"Body.timestamp\":\"s.Body.timestamp\",\n",
    "    \"EnqueuedTimeUtc\":\"s.EnqueuedTimeUtc\",\n",
    "    \"Properties.appTopic\":\"s.Properties.appTopic\",\n",
    "    \"SystemProperties.connectionDeviceId\":\"s.SystemProperties.connectionDeviceId\",\n",
    "    \"SystemProperties.connectionAuthMethod\":\"s.SystemProperties.connectionAuthMethod\",\n",
    "    \"SystemProperties.connectionDeviceGenerationId\":\"s.SystemProperties.connectionDeviceGenerationId\",\n",
    "    \"SystemProperties.contentType\":\"s.SystemProperties.contentType\",\n",
    "    \"SystemProperties.contentEncoding\":\"s.SystemProperties.contentEncoding\",\n",
    "    \"SystemProperties.enqueuedTime\":\"s.SystemProperties.enqueuedTime\",  \n",
    "}).whenNotMatchedInsert(\n",
    "values = {\n",
    "    \"Body.type\":\"s.Body.type\",\n",
    "    \"Body.mnsn\":\"s.Body.mnsn\",\n",
    "    \"Body.timestamp\":\"s.Body.timestamp\",\n",
    "    \"Body.scheduleName\":\"s.Body.scheduleName\",\n",
    "    \"EnqueuedTimeUtc\":\"s.EnqueuedTimeUtc\",\n",
    "    \"Properties.appTopic\":\"s.Properties.appTopic\",\n",
    "    \"SystemProperties.connectionDeviceId\":\"s.SystemProperties.connectionDeviceId\",\n",
    "    \"SystemProperties.connectionAuthMethod\":\"s.SystemProperties.connectionAuthMethod\",\n",
    "    \"SystemProperties.connectionDeviceGenerationId\":\"s.SystemProperties.connectionDeviceGenerationId\",\n",
    "    \"SystemProperties.contentType\":\"s.SystemProperties.contentType\",\n",
    "    \"SystemProperties.contentEncoding\":\"s.SystemProperties.contentEncoding\",\n",
    "    \"SystemProperties.enqueuedTime\":\"s.SystemProperties.enqueuedTime\",  \n",
    "    }\n",
    ").execute()"
   ]
  },
  {
   "cell_type": "code",
   "execution_count": 91,
   "id": "0ff9eca9",
   "metadata": {},
   "outputs": [],
   "source": [
    "cond = (F.col(\"t.Body_mnsn\") == F.col(\"s.Body_mnsn\"))\n",
    "dt.alias(\"t\").merge(remaining_data.alias(\"s\"),cond).whenMatchedUpdate(\n",
    "    condition=F.col(\"s.Body_timestamp\") > F.col(\"t.Body_timestamp\"),\n",
    "set={\n",
    "    \"Body_timestamp\":\"s.Body_timestamp\",\n",
    "    \"EnqueuedTimeUtc\":\"s.EnqueuedTimeUtc\",\n",
    "    \"Properties_appTopic\":\"s.Properties_appTopic\",\n",
    "    \"SystemProperties_connectionDeviceId\":\"s.SystemProperties_connectionDeviceId\",\n",
    "    \"SystemProperties_connectionAuthMethod\":\"s.SystemProperties_connectionAuthMethod\",\n",
    "    \"SystemProperties_connectionDeviceGenerationId\":\"s.SystemProperties_connectionDeviceGenerationId\",\n",
    "    \"SystemProperties_contentType\":\"s.SystemProperties_contentType\",\n",
    "    \"SystemProperties_contentEncoding\":\"s.SystemProperties_contentEncoding\",\n",
    "    \"SystemProperties_enqueuedTime\":\"s.SystemProperties_enqueuedTime\",  \n",
    "}).whenNotMatchedInsert(\n",
    "values = {\n",
    "    \"Body_type\":\"s.Body_type\",\n",
    "    \"Body_mnsn\":\"s.Body_mnsn\",\n",
    "    \"Body_timestamp\":\"s.Body_timestamp\",\n",
    "    \"Body_scheduleName\":\"s.Body_scheduleName\",\n",
    "    \"EnqueuedTimeUtc\":\"s.EnqueuedTimeUtc\",\n",
    "    \"Properties_appTopic\":\"s.Properties_appTopic\",\n",
    "    \"SystemProperties_connectionDeviceId\":\"s.SystemProperties_connectionDeviceId\",\n",
    "    \"SystemProperties_connectionAuthMethod\":\"s.SystemProperties_connectionAuthMethod\",\n",
    "    \"SystemProperties_connectionDeviceGenerationId\":\"s.SystemProperties_connectionDeviceGenerationId\",\n",
    "    \"SystemProperties_contentType\":\"s.SystemProperties_contentType\",\n",
    "    \"SystemProperties_contentEncoding\":\"s.SystemProperties_contentEncoding\",\n",
    "    \"SystemProperties_enqueuedTime\":\"s.SystemProperties_enqueuedTime\",  \n",
    "    }\n",
    ").execute()"
   ]
  },
  {
   "cell_type": "code",
   "execution_count": null,
   "id": "66763d3f",
   "metadata": {},
   "outputs": [],
   "source": []
  },
  {
   "cell_type": "code",
   "execution_count": 92,
   "id": "4906a030",
   "metadata": {},
   "outputs": [
    {
     "name": "stdout",
     "output_type": "stream",
     "text": [
      "+---------+--------------------+--------------+-----------------+--------------------+--------------------+-----------------------------------+-------------------------------------+---------------------------------------------+----------------------------+--------------------------------+-----------------------------+\n",
      "|Body_type|           Body_mnsn|Body_timestamp|Body_scheduleName|     EnqueuedTimeUtc| Properties_appTopic|SystemProperties_connectionDeviceId|SystemProperties_connectionAuthMethod|SystemProperties_connectionDeviceGenerationId|SystemProperties_contentType|SystemProperties_contentEncoding|SystemProperties_enqueuedTime|\n",
      "+---------+--------------------+--------------+-----------------+--------------------+--------------------+-----------------------------------+-------------------------------------+---------------------------------------------+----------------------------+--------------------------------+-----------------------------+\n",
      "| smsProps|mn=TVgwMDA0:sn=MD...| 1724147812612|      basicUpdate|2024-08-20T09:56:...|rp.mib/dev/96d1f4...|               96d1f469-e0b7-4ee...|                 {\"scope\":\"device\"...|                           638525549558955677|            application/JSON|                           UTF-8|         2024-06-01T09:52:...|\n",
      "| smsProps|mn=TVgwMDA1:sn=MD...| 1724147812619|      basicUpdate|2024-08-20T09:56:...|rp.mib/dev/96d1f4...|               96d1f469-e0b7-4ee...|                 {\"scope\":\"device\"...|                           638525549558955677|            application/JSON|                           UTF-8|         2024-06-01T09:52:...|\n",
      "| smsProps|mn=TVgwMDA2:sn=MD...| 1724147812622|      basicUpdate|2024-08-20T09:56:...|rp.mib/dev/96d1f4...|               96d1f469-e0b7-4ee...|                 {\"scope\":\"device\"...|                           638525549558955677|            application/JSON|                           UTF-8|         2024-06-01T09:52:...|\n",
      "| smsProps|mn=TVgwMDA3:sn=MD...| 1724147812624|      basicUpdate|2024-08-20T09:56:...|rp.mib/dev/96d1f4...|               96d1f469-e0b7-4ee...|                 {\"scope\":\"device\"...|                           638525549558955677|            application/JSON|                           UTF-8|         2024-06-01T09:52:...|\n",
      "| smsProps|mn=TVgwMDA4:sn=MD...| 1724147812626|      basicUpdate|2024-08-20T09:56:...|rp.mib/dev/96d1f4...|               96d1f469-e0b7-4ee...|                 {\"scope\":\"device\"...|                           638525549558955677|            application/JSON|                           UTF-8|         2024-06-01T09:52:...|\n",
      "| smsProps|mn=TVgwMDA5:sn=MD...| 1724147812628|      basicUpdate|2024-08-20T09:56:...|rp.mib/dev/96d1f4...|               96d1f469-e0b7-4ee...|                 {\"scope\":\"device\"...|                           638525549558955677|            application/JSON|                           UTF-8|         2024-06-01T09:52:...|\n",
      "| smsProps|mn=TVgwMDAx:sn=MD...| 1724147812588|      basicUpdate|2024-08-20T09:56:...|rp.mib/dev/96d1f4...|               96d1f469-e0b7-4ee...|                 {\"scope\":\"device\"...|                           638525549558955677|            application/JSON|                           UTF-8|         2024-06-01T09:52:...|\n",
      "| smsProps|mn=TVgwMDAy:sn=MD...| 1724147812591|      basicUpdate|2024-08-20T09:56:...|rp.mib/dev/96d1f4...|               96d1f469-e0b7-4ee...|                 {\"scope\":\"device\"...|                           638525549558955677|            application/JSON|                           UTF-8|         2024-06-01T09:52:...|\n",
      "| smsProps|mn=TVgwMDAz:sn=MD...| 1724147812610|      basicUpdate|2024-08-20T09:56:...|rp.mib/dev/96d1f4...|               96d1f469-e0b7-4ee...|                 {\"scope\":\"device\"...|                           638525549558955677|            application/JSON|                           UTF-8|         2024-06-01T09:52:...|\n",
      "| smsProps|mn=TVgwMDE0:sn=MD...| 1724147812642|      basicUpdate|2024-08-20T09:56:...|rp.mib/dev/96d1f4...|               96d1f469-e0b7-4ee...|                 {\"scope\":\"device\"...|                           638525549558955677|            application/JSON|                           UTF-8|         2024-06-01T09:52:...|\n",
      "| smsProps|mn=TVgwMDE1:sn=MD...| 1724147812644|      basicUpdate|2024-08-20T09:56:...|rp.mib/dev/96d1f4...|               96d1f469-e0b7-4ee...|                 {\"scope\":\"device\"...|                           638525549558955677|            application/JSON|                           UTF-8|         2024-06-01T09:52:...|\n",
      "| smsProps|mn=TVgwMDE2:sn=MD...| 1724147812646|      basicUpdate|2024-08-20T09:56:...|rp.mib/dev/96d1f4...|               96d1f469-e0b7-4ee...|                 {\"scope\":\"device\"...|                           638525549558955677|            application/JSON|                           UTF-8|         2024-06-01T09:52:...|\n",
      "| smsProps|mn=TVgwMDE3:sn=MD...| 1724147812649|      basicUpdate|2024-08-20T09:56:...|rp.mib/dev/96d1f4...|               96d1f469-e0b7-4ee...|                 {\"scope\":\"device\"...|                           638525549558955677|            application/JSON|                           UTF-8|         2024-06-01T09:52:...|\n",
      "| smsProps|mn=TVgwMDE4:sn=MD...| 1724147812652|      basicUpdate|2024-08-20T09:56:...|rp.mib/dev/96d1f4...|               96d1f469-e0b7-4ee...|                 {\"scope\":\"device\"...|                           638525549558955677|            application/JSON|                           UTF-8|         2024-06-01T09:52:...|\n",
      "| smsProps|mn=TVgwMDE5:sn=MD...| 1724147812654|      basicUpdate|2024-08-20T09:56:...|rp.mib/dev/96d1f4...|               96d1f469-e0b7-4ee...|                 {\"scope\":\"device\"...|                           638525549558955677|            application/JSON|                           UTF-8|         2024-06-01T09:52:...|\n",
      "| smsProps|mn=TVgwMDEw:sn=MD...| 1724147812633|      basicUpdate|2024-08-20T09:56:...|rp.mib/dev/96d1f4...|               96d1f469-e0b7-4ee...|                 {\"scope\":\"device\"...|                           638525549558955677|            application/JSON|                           UTF-8|         2024-06-01T09:52:...|\n",
      "| smsProps|mn=TVgwMDEx:sn=MD...| 1724147812636|      basicUpdate|2024-08-20T09:56:...|rp.mib/dev/96d1f4...|               96d1f469-e0b7-4ee...|                 {\"scope\":\"device\"...|                           638525549558955677|            application/JSON|                           UTF-8|         2024-06-01T09:52:...|\n",
      "| smsProps|mn=TVgwMDEy:sn=MD...| 1724147812639|      basicUpdate|2024-08-20T09:56:...|rp.mib/dev/96d1f4...|               96d1f469-e0b7-4ee...|                 {\"scope\":\"device\"...|                           638525549558955677|            application/JSON|                           UTF-8|         2024-06-01T09:52:...|\n",
      "| smsProps|mn=TVgwMDEz:sn=MD...| 1724147812641|      basicUpdate|2024-08-20T09:56:...|rp.mib/dev/96d1f4...|               96d1f469-e0b7-4ee...|                 {\"scope\":\"device\"...|                           638525549558955677|            application/JSON|                           UTF-8|         2024-06-01T09:52:...|\n",
      "| smsProps|mn=TVgwMDI0:sn=MD...| 1724147812662|      basicUpdate|2024-08-20T09:56:...|rp.mib/dev/96d1f4...|               96d1f469-e0b7-4ee...|                 {\"scope\":\"device\"...|                           638525549558955677|            application/JSON|                           UTF-8|         2024-06-01T09:52:...|\n",
      "+---------+--------------------+--------------+-----------------+--------------------+--------------------+-----------------------------------+-------------------------------------+---------------------------------------------+----------------------------+--------------------------------+-----------------------------+\n",
      "only showing top 20 rows\n",
      "\n"
     ]
    }
   ],
   "source": [
    "df1=spark.read.format(\"delta\").load(\"./message/basicUpdate\")\n",
    "df1.show()"
   ]
  },
  {
   "cell_type": "code",
   "execution_count": 100,
   "id": "ecfe0f96",
   "metadata": {},
   "outputs": [
    {
     "name": "stdout",
     "output_type": "stream",
     "text": [
      "+---------+-------------------------------+--------------+-----------------+\n",
      "|Body_type|Body_mnsn                      |Body_timestamp|Body_scheduleName|\n",
      "+---------+-------------------------------+--------------+-----------------+\n",
      "|smsProps |mn=TVgwMDA0:sn=MDUxMTMxMzAwMDQ=|1724147812612 |basicUpdate      |\n",
      "|smsProps |mn=TVgwMDA1:sn=MDUxMTMxMzAwMDU=|1724147812619 |basicUpdate      |\n",
      "|smsProps |mn=TVgwMDA2:sn=MDUxMTMxMzAwMDY=|1724147812622 |basicUpdate      |\n",
      "|smsProps |mn=TVgwMDA3:sn=MDUxMTMxMzAwMDc=|1724147812624 |basicUpdate      |\n",
      "|smsProps |mn=TVgwMDA4:sn=MDUxMTMxMzAwMDg=|1724147812626 |basicUpdate      |\n",
      "|smsProps |mn=TVgwMDA5:sn=MDUxMTMxMzAwMDk=|1724147812628 |basicUpdate      |\n",
      "|smsProps |mn=TVgwMDAx:sn=MDUxMTMxMzAwMDE=|1724147812588 |basicUpdate      |\n",
      "|smsProps |mn=TVgwMDAy:sn=MDUxMTMxMzAwMDI=|1724147812591 |basicUpdate      |\n",
      "|smsProps |mn=TVgwMDAz:sn=MDUxMTMxMzAwMDM=|1724147812610 |basicUpdate      |\n",
      "|smsProps |mn=TVgwMDE0:sn=MDUxMTMxMzAwMTQ=|1724147812642 |basicUpdate      |\n",
      "|smsProps |mn=TVgwMDE1:sn=MDUxMTMxMzAwMTU=|1724147812644 |basicUpdate      |\n",
      "|smsProps |mn=TVgwMDE2:sn=MDUxMTMxMzAwMTY=|1724147812646 |basicUpdate      |\n",
      "|smsProps |mn=TVgwMDE3:sn=MDUxMTMxMzAwMTc=|1724147812649 |basicUpdate      |\n",
      "|smsProps |mn=TVgwMDE4:sn=MDUxMTMxMzAwMTg=|1724147812652 |basicUpdate      |\n",
      "|smsProps |mn=TVgwMDE5:sn=MDUxMTMxMzAwMTk=|1724147812654 |basicUpdate      |\n",
      "|smsProps |mn=TVgwMDEw:sn=MDUxMTMxMzAwMTA=|1724147812633 |basicUpdate      |\n",
      "|smsProps |mn=TVgwMDEx:sn=MDUxMTMxMzAwMTE=|1724147812636 |basicUpdate      |\n",
      "|smsProps |mn=TVgwMDEy:sn=MDUxMTMxMzAwMTI=|1724147812639 |basicUpdate      |\n",
      "|smsProps |mn=TVgwMDEz:sn=MDUxMTMxMzAwMTM=|1724147812641 |basicUpdate      |\n",
      "|smsProps |mn=TVgwMDI0:sn=MDUxMTMxMzAwMjQ=|1724147812662 |basicUpdate      |\n",
      "+---------+-------------------------------+--------------+-----------------+\n",
      "only showing top 20 rows\n",
      "\n"
     ]
    }
   ],
   "source": [
    "df1.select('Body_type','Body_mnsn','Body_timestamp','Body_scheduleName').show(truncate=False)"
   ]
  },
  {
   "cell_type": "code",
   "execution_count": 77,
   "id": "ae2cd2ed",
   "metadata": {},
   "outputs": [
    {
     "data": {
      "text/plain": [
       "500"
      ]
     },
     "execution_count": 77,
     "metadata": {},
     "output_type": "execute_result"
    }
   ],
   "source": [
    "df1.select('Body_mnsn').distinct().count()"
   ]
  },
  {
   "cell_type": "code",
   "execution_count": null,
   "id": "12cabd39",
   "metadata": {},
   "outputs": [],
   "source": []
  },
  {
   "cell_type": "code",
   "execution_count": null,
   "id": "cfce5446",
   "metadata": {},
   "outputs": [],
   "source": []
  },
  {
   "cell_type": "code",
   "execution_count": 60,
   "id": "a33a8438",
   "metadata": {},
   "outputs": [
    {
     "name": "stdout",
     "output_type": "stream",
     "text": [
      "+--------------------+--------------------+--------------------+--------------------+\n",
      "|     EnqueuedTimeUtc|          Properties|    SystemProperties|                Body|\n",
      "+--------------------+--------------------+--------------------+--------------------+\n",
      "|2024-08-20T09:56:...|{rp.mib/dev/96d1f...|{96d1f469-e0b7-4e...|{smsProps, mn=TVg...|\n",
      "|2024-08-20T09:56:...|{rp.mib/dev/96d1f...|{96d1f469-e0b7-4e...|{smsProps, mn=TVg...|\n",
      "|2024-08-20T09:56:...|{rp.mib/dev/96d1f...|{96d1f469-e0b7-4e...|{smsProps, mn=TVg...|\n",
      "|2024-08-20T09:56:...|{rp.mib/dev/96d1f...|{96d1f469-e0b7-4e...|{smsProps, mn=TVg...|\n",
      "|2024-08-20T09:56:...|{rp.mib/dev/96d1f...|{96d1f469-e0b7-4e...|{smsProps, mn=TVg...|\n",
      "|2024-08-20T09:56:...|{rp.mib/dev/96d1f...|{96d1f469-e0b7-4e...|{smsProps, mn=TVg...|\n",
      "|2024-08-20T09:56:...|{rp.mib/dev/96d1f...|{96d1f469-e0b7-4e...|{smsProps, mn=TVg...|\n",
      "|2024-08-20T09:56:...|{rp.mib/dev/96d1f...|{96d1f469-e0b7-4e...|{smsProps, mn=TVg...|\n",
      "|2024-08-20T09:56:...|{rp.mib/dev/96d1f...|{96d1f469-e0b7-4e...|{smsProps, mn=TVg...|\n",
      "|2024-08-20T09:56:...|{rp.mib/dev/96d1f...|{96d1f469-e0b7-4e...|{smsProps, mn=TVg...|\n",
      "|2024-08-20T09:56:...|{rp.mib/dev/96d1f...|{96d1f469-e0b7-4e...|{smsProps, mn=TVg...|\n",
      "|2024-08-20T09:56:...|{rp.mib/dev/96d1f...|{96d1f469-e0b7-4e...|{smsProps, mn=TVg...|\n",
      "|2024-08-20T09:56:...|{rp.mib/dev/96d1f...|{96d1f469-e0b7-4e...|{smsProps, mn=TVg...|\n",
      "|2024-08-20T09:56:...|{rp.mib/dev/96d1f...|{96d1f469-e0b7-4e...|{smsProps, mn=TVg...|\n",
      "|2024-08-20T09:56:...|{rp.mib/dev/96d1f...|{96d1f469-e0b7-4e...|{smsProps, mn=TVg...|\n",
      "|2024-08-20T09:56:...|{rp.mib/dev/96d1f...|{96d1f469-e0b7-4e...|{smsProps, mn=TVg...|\n",
      "|2024-08-20T09:56:...|{rp.mib/dev/96d1f...|{96d1f469-e0b7-4e...|{smsProps, mn=TVg...|\n",
      "|2024-08-20T09:56:...|{rp.mib/dev/96d1f...|{96d1f469-e0b7-4e...|{smsProps, mn=TVg...|\n",
      "|2024-08-20T09:56:...|{rp.mib/dev/96d1f...|{96d1f469-e0b7-4e...|{smsProps, mn=TVg...|\n",
      "|2024-08-20T09:56:...|{rp.mib/dev/96d1f...|{96d1f469-e0b7-4e...|{smsProps, mn=TVg...|\n",
      "+--------------------+--------------------+--------------------+--------------------+\n",
      "only showing top 20 rows\n",
      "\n"
     ]
    }
   ],
   "source": [
    "#approach 2\n",
    "from pyspark.sql import Window\n",
    "wind=Window.partitionBy(\"Body.mnsn\").orderBy(F.col(\"Body.timestamp\").desc())\n",
    "latest=schedule_df.withColumn(\"Row_Num\",F.row_number().over(wind)).filter(F.col(\"Row_Num\")==1).drop(\"Row_Num\")\n",
    "latest.show()"
   ]
  },
  {
   "cell_type": "code",
   "execution_count": 61,
   "id": "0bb7b13e",
   "metadata": {},
   "outputs": [],
   "source": [
    "latest.write.format(\"delta\").mode(\"overwrite\").save(tabe_path)"
   ]
  },
  {
   "cell_type": "code",
   "execution_count": null,
   "id": "dee51c43",
   "metadata": {},
   "outputs": [],
   "source": []
  }
 ],
 "metadata": {
  "kernelspec": {
   "display_name": "Python 3 (ipykernel)",
   "language": "python",
   "name": "python3"
  },
  "language_info": {
   "codemirror_mode": {
    "name": "ipython",
    "version": 3
   },
   "file_extension": ".py",
   "mimetype": "text/x-python",
   "name": "python",
   "nbconvert_exporter": "python",
   "pygments_lexer": "ipython3",
   "version": "3.11.4"
  }
 },
 "nbformat": 4,
 "nbformat_minor": 5
}
