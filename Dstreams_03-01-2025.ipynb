{
 "cells": [
  {
   "cell_type": "code",
   "execution_count": 1,
   "id": "0c0ea737",
   "metadata": {},
   "outputs": [],
   "source": [
    "from pyspark.sql import SparkSession\n",
    "from pyspark.streaming import StreamingContext\n",
    "import time"
   ]
  },
  {
   "cell_type": "code",
   "execution_count": 2,
   "id": "57acb52d",
   "metadata": {},
   "outputs": [],
   "source": [
    "spark=SparkSession.builder.appName('streaming').getOrCreate()"
   ]
  },
  {
   "cell_type": "code",
   "execution_count": 3,
   "id": "01894a28",
   "metadata": {},
   "outputs": [
    {
     "name": "stderr",
     "output_type": "stream",
     "text": [
      "C:\\Users\\acer\\anaconda3\\Lib\\site-packages\\pyspark\\streaming\\context.py:72: FutureWarning: DStream is deprecated as of Spark 3.4.0. Migrate to Structured Streaming.\n",
      "  warnings.warn(\n"
     ]
    }
   ],
   "source": [
    "#connecting to cluster and specifying duration of the data processing\n",
    "ssc = StreamingContext(spark.sparkContext, batchDuration=10)"
   ]
  },
  {
   "cell_type": "code",
   "execution_count": 4,
   "id": "a9412e5b",
   "metadata": {},
   "outputs": [],
   "source": [
    "#receiving the data from stream\n",
    "lines = ssc.socketTextStream(\"localhost\", 9999)"
   ]
  },
  {
   "cell_type": "code",
   "execution_count": 5,
   "id": "c846345a",
   "metadata": {},
   "outputs": [],
   "source": [
    "#Split lines into words\n",
    "words = lines.flatMap(lambda line: line.split(\" \"))\n",
    "word_counts = words.map(lambda word: (word, 1)).reduceByKey(lambda a, b: a + b)"
   ]
  },
  {
   "cell_type": "code",
   "execution_count": 6,
   "id": "e61b3dca",
   "metadata": {},
   "outputs": [],
   "source": [
    "#printing the results\n",
    "word_counts.pprint()"
   ]
  },
  {
   "cell_type": "code",
   "execution_count": 7,
   "id": "e6d6254c",
   "metadata": {},
   "outputs": [
    {
     "name": "stdout",
     "output_type": "stream",
     "text": [
      "-------------------------------------------\n",
      "Time: 2025-01-03 13:08:50\n",
      "-------------------------------------------\n",
      "\n",
      "-------------------------------------------\n",
      "Time: 2025-01-03 13:09:00\n",
      "-------------------------------------------\n",
      "('varun', 1)\n",
      "('yuno', 1)\n",
      "('hai', 2)\n",
      "\n",
      "-------------------------------------------\n",
      "Time: 2025-01-03 13:09:10\n",
      "-------------------------------------------\n",
      "\n",
      "-------------------------------------------\n",
      "Time: 2025-01-03 13:09:20\n",
      "-------------------------------------------\n",
      "('this', 1)\n",
      "('activity', 1)\n",
      "('is', 1)\n",
      "('pyspark', 1)\n",
      "\n",
      "-------------------------------------------\n",
      "Time: 2025-01-03 13:09:30\n",
      "-------------------------------------------\n",
      "('by', 1)\n",
      "('varun', 1)\n",
      "('', 1)\n",
      "\n",
      "-------------------------------------------\n",
      "Time: 2025-01-03 13:09:40\n",
      "-------------------------------------------\n",
      "('hai', 2)\n",
      "\n",
      "-------------------------------------------\n",
      "Time: 2025-01-03 13:09:50\n",
      "-------------------------------------------\n",
      "\n"
     ]
    }
   ],
   "source": [
    "#starting the stream processing\n",
    "ssc.start()"
   ]
  },
  {
   "cell_type": "code",
   "execution_count": 9,
   "id": "c1d3fdce",
   "metadata": {},
   "outputs": [],
   "source": [
    "#stopping the stream processing\n",
    "ssc.stop()"
   ]
  },
  {
   "cell_type": "code",
   "execution_count": null,
   "id": "fef117d3",
   "metadata": {},
   "outputs": [],
   "source": [
    "#add delay if needed\n",
    "time.sleep(20)"
   ]
  }
 ],
 "metadata": {
  "kernelspec": {
   "display_name": "Python 3 (ipykernel)",
   "language": "python",
   "name": "python3"
  },
  "language_info": {
   "codemirror_mode": {
    "name": "ipython",
    "version": 3
   },
   "file_extension": ".py",
   "mimetype": "text/x-python",
   "name": "python",
   "nbconvert_exporter": "python",
   "pygments_lexer": "ipython3",
   "version": "3.11.4"
  }
 },
 "nbformat": 4,
 "nbformat_minor": 5
}
