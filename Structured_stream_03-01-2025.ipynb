{
 "cells": [
  {
   "cell_type": "code",
   "execution_count": 1,
   "id": "4d1ff544",
   "metadata": {},
   "outputs": [],
   "source": [
    "from pyspark.sql import SparkSession\n",
    "import pyspark.sql.functions as F"
   ]
  },
  {
   "cell_type": "code",
   "execution_count": 2,
   "id": "583c59ad",
   "metadata": {},
   "outputs": [],
   "source": [
    "spark = SparkSession.builder.appName(\"streaming_example\").getOrCreate()"
   ]
  },
  {
   "cell_type": "code",
   "execution_count": 3,
   "id": "39b21aed",
   "metadata": {},
   "outputs": [
    {
     "name": "stdout",
     "output_type": "stream",
     "text": [
      "root\n",
      " |-- value: string (nullable = true)\n",
      "\n"
     ]
    }
   ],
   "source": [
    "#reading data from the TCP sockets\n",
    "streaming_df = spark.readStream.format(\"socket\").option(\"host\", \"localhost\").option(\"port\", 9999).load()\n",
    "\n",
    "streaming_df.printSchema()"
   ]
  },
  {
   "cell_type": "code",
   "execution_count": 4,
   "id": "9fdeaeb7",
   "metadata": {},
   "outputs": [],
   "source": [
    "#applying transformation on the data (to get count of words)\n",
    "from pyspark.sql.functions import split, col\n",
    "\n",
    "words_df = streaming_df.select(\n",
    "    split(col(\"value\"), \" \").alias(\"words\")\n",
    ")\n",
    "\n",
    "exploded_df = words_df.selectExpr(\"explode(words) as word\")\n",
    "\n",
    "word_counts = exploded_df.groupBy(\"word\").count()\n"
   ]
  },
  {
   "cell_type": "code",
   "execution_count": 5,
   "id": "bc61f021",
   "metadata": {},
   "outputs": [
    {
     "name": "stdout",
     "output_type": "stream",
     "text": [
      "root\n",
      " |-- word: string (nullable = false)\n",
      " |-- count: long (nullable = false)\n",
      "\n"
     ]
    }
   ],
   "source": [
    "word_counts.printSchema()"
   ]
  },
  {
   "cell_type": "code",
   "execution_count": null,
   "id": "0b830656",
   "metadata": {},
   "outputs": [],
   "source": [
    "#writing data to the specified sink\n",
    "query = word_counts.writeStream.outputMode(\"complete\").format(\"console\")\\\n",
    ".option(\"checkpointLocation\", \"C:/Users/acer/projects/checkpoint\")\\\n",
    ".trigger(processingTime=\"1 second\")\\\n",
    ".start()\n",
    "query.awaitTermination()"
   ]
  },
  {
   "cell_type": "code",
   "execution_count": null,
   "id": "1d2e9bdd",
   "metadata": {},
   "outputs": [],
   "source": [
    "#stoping query using function\n",
    "query.stop()"
   ]
  },
  {
   "cell_type": "markdown",
   "id": "38709ae2",
   "metadata": {},
   "source": [
    "displaying on notebook"
   ]
  },
  {
   "cell_type": "code",
   "execution_count": null,
   "id": "51e5207c",
   "metadata": {},
   "outputs": [],
   "source": [
    "#import time\n",
    "# query = word_counts.writeStream \\\n",
    "#     .outputMode(\"complete\") \\\n",
    "#     .format(\"memory\") \\\n",
    "#     .option(\"checkpointLocation\", \"C:/Users/acer/projects/checkpoint\")\\\n",
    "#     .queryName(\"word_counts\") \\\n",
    "#     .start()\n",
    "\n",
    "# for _ in range(4): \n",
    "#     spark.sql(\"SELECT * FROM word_counts\").show()\n",
    "#     time.sleep(1) \n",
    "# query.stop()"
   ]
  }
 ],
 "metadata": {
  "kernelspec": {
   "display_name": "Python 3 (ipykernel)",
   "language": "python",
   "name": "python3"
  },
  "language_info": {
   "codemirror_mode": {
    "name": "ipython",
    "version": 3
   },
   "file_extension": ".py",
   "mimetype": "text/x-python",
   "name": "python",
   "nbconvert_exporter": "python",
   "pygments_lexer": "ipython3",
   "version": "3.11.4"
  }
 },
 "nbformat": 4,
 "nbformat_minor": 5
}
