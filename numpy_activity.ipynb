{
 "cells": [
  {
   "cell_type": "code",
   "execution_count": 1,
   "id": "3f88b419",
   "metadata": {},
   "outputs": [],
   "source": [
    "import random\n",
    "import pandas as pd\n",
    "import numpy as np"
   ]
  },
  {
   "cell_type": "code",
   "execution_count": 2,
   "id": "d8f56b60",
   "metadata": {},
   "outputs": [],
   "source": [
    "first_name=['John', 'Sara', 'Ali', 'Priya', 'Michael']\n",
    "last_name=['Smith', 'Khan', 'Verma', 'Williams', 'Singh']\n",
    "dept=['HR', 'Finance', 'IT', 'Marketing', 'Operations']"
   ]
  },
  {
   "cell_type": "code",
   "execution_count": 3,
   "id": "067b6063",
   "metadata": {},
   "outputs": [],
   "source": [
    "id=np.random.choice(range(10000,100000),100,replace=False)\n",
    "x={}\n",
    "y={'HR': 30000,'Finance': 35000,'IT': 50000,'Marketing': 28000,'Operations': 25000}\n",
    "n=[]\n",
    "d=[]\n",
    "dpt=[]\n",
    "sal=[]"
   ]
  },
  {
   "cell_type": "code",
   "execution_count": 4,
   "id": "0eb6f2e4",
   "metadata": {},
   "outputs": [],
   "source": [
    "for i in range(100):\n",
    "    name=random.choice(first_name)+\" \"+random.choice(last_name)\n",
    "    n.append(name)\n",
    "    day=random.randint(20,31)\n",
    "    d.append(day)\n",
    "    dp=random.choice(dept)\n",
    "    dpt.append(dp)\n",
    "    sal.append(round(y[dp]*(day/30),2))"
   ]
  },
  {
   "cell_type": "code",
   "execution_count": 5,
   "id": "0f0da4b4",
   "metadata": {},
   "outputs": [],
   "source": [
    "x['ID']=id\n",
    "x['Name']=n\n",
    "x['Department']=dpt\n",
    "x['Day']=d\n",
    "x['Salary']=sal\n",
    "x=pd.DataFrame(x)"
   ]
  },
  {
   "cell_type": "code",
   "execution_count": 13,
   "id": "c4959044",
   "metadata": {},
   "outputs": [
    {
     "data": {
      "text/html": [
       "<div>\n",
       "<style scoped>\n",
       "    .dataframe tbody tr th:only-of-type {\n",
       "        vertical-align: middle;\n",
       "    }\n",
       "\n",
       "    .dataframe tbody tr th {\n",
       "        vertical-align: top;\n",
       "    }\n",
       "\n",
       "    .dataframe thead th {\n",
       "        text-align: right;\n",
       "    }\n",
       "</style>\n",
       "<table border=\"1\" class=\"dataframe\">\n",
       "  <thead>\n",
       "    <tr style=\"text-align: right;\">\n",
       "      <th></th>\n",
       "      <th>ID</th>\n",
       "      <th>Name</th>\n",
       "      <th>Department</th>\n",
       "      <th>Day</th>\n",
       "      <th>Salary</th>\n",
       "    </tr>\n",
       "  </thead>\n",
       "  <tbody>\n",
       "    <tr>\n",
       "      <th>0</th>\n",
       "      <td>11449</td>\n",
       "      <td>Michael Verma</td>\n",
       "      <td>HR</td>\n",
       "      <td>28</td>\n",
       "      <td>28000.00</td>\n",
       "    </tr>\n",
       "    <tr>\n",
       "      <th>1</th>\n",
       "      <td>27769</td>\n",
       "      <td>Ali Singh</td>\n",
       "      <td>IT</td>\n",
       "      <td>28</td>\n",
       "      <td>46666.67</td>\n",
       "    </tr>\n",
       "    <tr>\n",
       "      <th>2</th>\n",
       "      <td>44400</td>\n",
       "      <td>John Williams</td>\n",
       "      <td>Marketing</td>\n",
       "      <td>31</td>\n",
       "      <td>28933.33</td>\n",
       "    </tr>\n",
       "    <tr>\n",
       "      <th>3</th>\n",
       "      <td>62423</td>\n",
       "      <td>Priya Singh</td>\n",
       "      <td>Marketing</td>\n",
       "      <td>27</td>\n",
       "      <td>25200.00</td>\n",
       "    </tr>\n",
       "    <tr>\n",
       "      <th>4</th>\n",
       "      <td>59039</td>\n",
       "      <td>Priya Singh</td>\n",
       "      <td>IT</td>\n",
       "      <td>20</td>\n",
       "      <td>33333.33</td>\n",
       "    </tr>\n",
       "    <tr>\n",
       "      <th>...</th>\n",
       "      <td>...</td>\n",
       "      <td>...</td>\n",
       "      <td>...</td>\n",
       "      <td>...</td>\n",
       "      <td>...</td>\n",
       "    </tr>\n",
       "    <tr>\n",
       "      <th>95</th>\n",
       "      <td>42581</td>\n",
       "      <td>Ali Smith</td>\n",
       "      <td>HR</td>\n",
       "      <td>29</td>\n",
       "      <td>29000.00</td>\n",
       "    </tr>\n",
       "    <tr>\n",
       "      <th>96</th>\n",
       "      <td>18984</td>\n",
       "      <td>Priya Khan</td>\n",
       "      <td>Marketing</td>\n",
       "      <td>24</td>\n",
       "      <td>22400.00</td>\n",
       "    </tr>\n",
       "    <tr>\n",
       "      <th>97</th>\n",
       "      <td>51244</td>\n",
       "      <td>Michael Khan</td>\n",
       "      <td>IT</td>\n",
       "      <td>28</td>\n",
       "      <td>46666.67</td>\n",
       "    </tr>\n",
       "    <tr>\n",
       "      <th>98</th>\n",
       "      <td>37818</td>\n",
       "      <td>Ali Williams</td>\n",
       "      <td>HR</td>\n",
       "      <td>23</td>\n",
       "      <td>23000.00</td>\n",
       "    </tr>\n",
       "    <tr>\n",
       "      <th>99</th>\n",
       "      <td>90001</td>\n",
       "      <td>Michael Khan</td>\n",
       "      <td>Marketing</td>\n",
       "      <td>29</td>\n",
       "      <td>27066.67</td>\n",
       "    </tr>\n",
       "  </tbody>\n",
       "</table>\n",
       "<p>100 rows × 5 columns</p>\n",
       "</div>"
      ],
      "text/plain": [
       "       ID           Name Department  Day    Salary\n",
       "0   11449  Michael Verma         HR   28  28000.00\n",
       "1   27769      Ali Singh         IT   28  46666.67\n",
       "2   44400  John Williams  Marketing   31  28933.33\n",
       "3   62423    Priya Singh  Marketing   27  25200.00\n",
       "4   59039    Priya Singh         IT   20  33333.33\n",
       "..    ...            ...        ...  ...       ...\n",
       "95  42581      Ali Smith         HR   29  29000.00\n",
       "96  18984     Priya Khan  Marketing   24  22400.00\n",
       "97  51244   Michael Khan         IT   28  46666.67\n",
       "98  37818   Ali Williams         HR   23  23000.00\n",
       "99  90001   Michael Khan  Marketing   29  27066.67\n",
       "\n",
       "[100 rows x 5 columns]"
      ]
     },
     "execution_count": 13,
     "metadata": {},
     "output_type": "execute_result"
    }
   ],
   "source": [
    "x"
   ]
  },
  {
   "cell_type": "code",
   "execution_count": 15,
   "id": "dcedb38b",
   "metadata": {},
   "outputs": [
    {
     "data": {
      "text/plain": [
       "array([[11449, 'Michael Verma', 'HR', 28, 28000.0],\n",
       "       [27769, 'Ali Singh', 'IT', 28, 46666.67],\n",
       "       [44400, 'John Williams', 'Marketing', 31, 28933.33],\n",
       "       [62423, 'Priya Singh', 'Marketing', 27, 25200.0],\n",
       "       [59039, 'Priya Singh', 'IT', 20, 33333.33],\n",
       "       [77854, 'Ali Smith', 'Operations', 25, 20833.33],\n",
       "       [21951, 'Michael Singh', 'Marketing', 27, 25200.0],\n",
       "       [11005, 'John Singh', 'Finance', 28, 32666.67],\n",
       "       [88036, 'John Singh', 'IT', 25, 41666.67],\n",
       "       [37823, 'Michael Verma', 'Marketing', 25, 23333.33],\n",
       "       [99241, 'Sara Singh', 'HR', 24, 24000.0],\n",
       "       [81464, 'John Williams', 'Marketing', 30, 28000.0],\n",
       "       [38322, 'Michael Khan', 'IT', 30, 50000.0],\n",
       "       [81018, 'Michael Smith', 'IT', 30, 50000.0],\n",
       "       [41383, 'Michael Khan', 'Finance', 22, 25666.67],\n",
       "       [16380, 'Michael Khan', 'Marketing', 25, 23333.33],\n",
       "       [27019, 'Ali Singh', 'HR', 23, 23000.0],\n",
       "       [56455, 'Sara Singh', 'IT', 21, 35000.0],\n",
       "       [93423, 'Sara Verma', 'Marketing', 25, 23333.33],\n",
       "       [36400, 'Priya Verma', 'Marketing', 22, 20533.33],\n",
       "       [83445, 'Priya Khan', 'HR', 27, 27000.0],\n",
       "       [13180, 'John Khan', 'Marketing', 28, 26133.33],\n",
       "       [91325, 'Ali Verma', 'Finance', 29, 33833.33],\n",
       "       [28204, 'Ali Khan', 'Operations', 27, 22500.0],\n",
       "       [33683, 'John Singh', 'IT', 21, 35000.0],\n",
       "       [50738, 'Ali Khan', 'Operations', 20, 16666.67],\n",
       "       [71409, 'Priya Williams', 'Operations', 20, 16666.67],\n",
       "       [99510, 'Michael Williams', 'Operations', 25, 20833.33],\n",
       "       [61141, 'Michael Verma', 'HR', 20, 20000.0],\n",
       "       [34821, 'Priya Verma', 'Finance', 25, 29166.67],\n",
       "       [87961, 'John Khan', 'IT', 25, 41666.67],\n",
       "       [66762, 'John Singh', 'Marketing', 25, 23333.33],\n",
       "       [60189, 'Ali Verma', 'IT', 25, 41666.67],\n",
       "       [29370, 'Michael Williams', 'IT', 23, 38333.33],\n",
       "       [84058, 'John Khan', 'IT', 24, 40000.0],\n",
       "       [86619, 'Sara Khan', 'Finance', 30, 35000.0],\n",
       "       [71762, 'Ali Khan', 'Operations', 22, 18333.33],\n",
       "       [20045, 'John Smith', 'Marketing', 21, 19600.0],\n",
       "       [40293, 'Michael Singh', 'Finance', 20, 23333.33],\n",
       "       [14148, 'Michael Verma', 'IT', 31, 51666.67],\n",
       "       [29108, 'Sara Singh', 'Finance', 26, 30333.33],\n",
       "       [97027, 'Ali Williams', 'IT', 27, 45000.0],\n",
       "       [98002, 'Michael Khan', 'HR', 29, 29000.0],\n",
       "       [26589, 'Priya Williams', 'Operations', 24, 20000.0],\n",
       "       [34334, 'Michael Khan', 'HR', 31, 31000.0],\n",
       "       [27515, 'Sara Khan', 'Marketing', 27, 25200.0],\n",
       "       [30491, 'Sara Verma', 'Operations', 29, 24166.67],\n",
       "       [25333, 'Sara Verma', 'Marketing', 23, 21466.67],\n",
       "       [94332, 'Michael Verma', 'Marketing', 30, 28000.0],\n",
       "       [47883, 'Michael Verma', 'Operations', 29, 24166.67],\n",
       "       [51325, 'John Williams', 'Marketing', 22, 20533.33],\n",
       "       [49763, 'Ali Williams', 'Marketing', 24, 22400.0],\n",
       "       [10056, 'John Khan', 'Operations', 21, 17500.0],\n",
       "       [57586, 'John Verma', 'Operations', 28, 23333.33],\n",
       "       [44898, 'Michael Verma', 'Marketing', 26, 24266.67],\n",
       "       [93410, 'Michael Verma', 'IT', 27, 45000.0],\n",
       "       [77801, 'John Verma', 'Operations', 22, 18333.33],\n",
       "       [29136, 'John Verma', 'Finance', 27, 31500.0],\n",
       "       [44107, 'Sara Verma', 'Operations', 27, 22500.0],\n",
       "       [55675, 'Ali Khan', 'Operations', 26, 21666.67],\n",
       "       [48871, 'Priya Singh', 'Operations', 29, 24166.67],\n",
       "       [20787, 'Sara Williams', 'Finance', 30, 35000.0],\n",
       "       [89862, 'Michael Singh', 'Operations', 25, 20833.33],\n",
       "       [53160, 'Ali Singh', 'Operations', 22, 18333.33],\n",
       "       [52374, 'Sara Singh', 'Finance', 20, 23333.33],\n",
       "       [69519, 'Sara Khan', 'Marketing', 31, 28933.33],\n",
       "       [66940, 'Priya Smith', 'IT', 27, 45000.0],\n",
       "       [21024, 'Priya Khan', 'HR', 26, 26000.0],\n",
       "       [54925, 'Sara Smith', 'Marketing', 25, 23333.33],\n",
       "       [66354, 'John Verma', 'Finance', 25, 29166.67],\n",
       "       [56239, 'Sara Verma', 'HR', 31, 31000.0],\n",
       "       [45964, 'Priya Khan', 'Marketing', 29, 27066.67],\n",
       "       [59762, 'Michael Williams', 'HR', 31, 31000.0],\n",
       "       [19495, 'Ali Williams', 'Operations', 31, 25833.33],\n",
       "       [60665, 'John Smith', 'IT', 23, 38333.33],\n",
       "       [46116, 'Michael Smith', 'Finance', 31, 36166.67],\n",
       "       [88636, 'Sara Williams', 'HR', 27, 27000.0],\n",
       "       [95433, 'Priya Verma', 'IT', 31, 51666.67],\n",
       "       [64299, 'Michael Khan', 'HR', 25, 25000.0],\n",
       "       [19916, 'Michael Smith', 'IT', 29, 48333.33],\n",
       "       [43208, 'Sara Singh', 'Finance', 20, 23333.33],\n",
       "       [35679, 'Ali Williams', 'Finance', 27, 31500.0],\n",
       "       [16743, 'Priya Singh', 'Finance', 30, 35000.0],\n",
       "       [73510, 'Sara Williams', 'HR', 22, 22000.0],\n",
       "       [58471, 'Michael Singh', 'IT', 27, 45000.0],\n",
       "       [82200, 'Priya Williams', 'HR', 27, 27000.0],\n",
       "       [19088, 'Sara Williams', 'Operations', 27, 22500.0],\n",
       "       [27854, 'Ali Smith', 'IT', 20, 33333.33],\n",
       "       [90435, 'Priya Singh', 'IT', 29, 48333.33],\n",
       "       [81539, 'Sara Williams', 'Finance', 26, 30333.33],\n",
       "       [86338, 'John Williams', 'HR', 31, 31000.0],\n",
       "       [48852, 'John Khan', 'Operations', 20, 16666.67],\n",
       "       [72802, 'Sara Williams', 'HR', 26, 26000.0],\n",
       "       [46376, 'Michael Singh', 'Finance', 29, 33833.33],\n",
       "       [51364, 'Ali Smith', 'Finance', 28, 32666.67],\n",
       "       [42581, 'Ali Smith', 'HR', 29, 29000.0],\n",
       "       [18984, 'Priya Khan', 'Marketing', 24, 22400.0],\n",
       "       [51244, 'Michael Khan', 'IT', 28, 46666.67],\n",
       "       [37818, 'Ali Williams', 'HR', 23, 23000.0],\n",
       "       [90001, 'Michael Khan', 'Marketing', 29, 27066.67]], dtype=object)"
      ]
     },
     "execution_count": 15,
     "metadata": {},
     "output_type": "execute_result"
    }
   ],
   "source": [
    "z=x.to_numpy()\n",
    "z"
   ]
  },
  {
   "cell_type": "code",
   "execution_count": 24,
   "id": "f4bc49c0",
   "metadata": {},
   "outputs": [
    {
     "name": "stdout",
     "output_type": "stream",
     "text": [
      "[10056 11005 11449 13180 14148 16380 16743 18984 19088 19495 19916 20045\n",
      " 20787 21024 21951 25333 26589 27019 27515 27769 27854 28204 29108 29136\n",
      " 29370 30491 33683 34334 34821 35679 36400 37818 37823 38322 40293 41383\n",
      " 42581 43208 44107 44400 44898 45964 46116 46376 47883 48852 48871 49763\n",
      " 50738 51244 51325 51364 52374 53160 54925 55675 56239 56455 57586 58471\n",
      " 59039 59762 60189 60665 61141 62423 64299 66354 66762 66940 69519 71409\n",
      " 71762 72802 73510 77801 77854 81018 81464 81539 82200 83445 84058 86338\n",
      " 86619 87961 88036 88636 89862 90001 90435 91325 93410 93423 94332 95433\n",
      " 97027 98002 99241 99510]\n"
     ]
    },
    {
     "data": {
      "text/plain": [
       "array(['Ali Khan', 'Ali Singh', 'Ali Smith', 'Ali Verma', 'Ali Williams',\n",
       "       'John Khan', 'John Singh', 'John Smith', 'John Verma',\n",
       "       'John Williams', 'Michael Khan', 'Michael Singh', 'Michael Smith',\n",
       "       'Michael Verma', 'Michael Williams', 'Priya Khan', 'Priya Singh',\n",
       "       'Priya Smith', 'Priya Verma', 'Priya Williams', 'Sara Khan',\n",
       "       'Sara Singh', 'Sara Smith', 'Sara Verma', 'Sara Williams'],\n",
       "      dtype=object)"
      ]
     },
     "execution_count": 24,
     "metadata": {},
     "output_type": "execute_result"
    }
   ],
   "source": [
    "#sum of salary\n",
    "z[:,-1].sum()\n",
    "#\n",
    "print(np.unique(z[:,0]))\n",
    "np.unique(z[:,1])"
   ]
  },
  {
   "cell_type": "code",
   "execution_count": 18,
   "id": "825788ef",
   "metadata": {},
   "outputs": [
    {
     "data": {
      "text/plain": [
       "Department\n",
       "Finance       551833.33\n",
       "HR            480000.00\n",
       "IT            951666.67\n",
       "Marketing     537599.98\n",
       "Operations    415833.33\n",
       "Name: Salary, dtype: float64"
      ]
     },
     "execution_count": 18,
     "metadata": {},
     "output_type": "execute_result"
    }
   ],
   "source": [
    "#departmentwise salary with pandas\n",
    "x.groupby('Department')['Salary'].sum()"
   ]
  },
  {
   "cell_type": "code",
   "execution_count": 11,
   "id": "890769d3",
   "metadata": {},
   "outputs": [
    {
     "data": {
      "text/plain": [
       "Department\n",
       "Finance       30657.407222\n",
       "HR            26666.666667\n",
       "IT            43257.575909\n",
       "Marketing     24436.362727\n",
       "Operations    20791.666500\n",
       "Name: Salary, dtype: float64"
      ]
     },
     "execution_count": 11,
     "metadata": {},
     "output_type": "execute_result"
    }
   ],
   "source": [
    "x.groupby('Department')['Salary'].mean()"
   ]
  },
  {
   "cell_type": "code",
   "execution_count": null,
   "id": "4fc1a0c8",
   "metadata": {},
   "outputs": [],
   "source": []
  }
 ],
 "metadata": {
  "kernelspec": {
   "display_name": "Python 3 (ipykernel)",
   "language": "python",
   "name": "python3"
  },
  "language_info": {
   "codemirror_mode": {
    "name": "ipython",
    "version": 3
   },
   "file_extension": ".py",
   "mimetype": "text/x-python",
   "name": "python",
   "nbconvert_exporter": "python",
   "pygments_lexer": "ipython3",
   "version": "3.11.4"
  }
 },
 "nbformat": 4,
 "nbformat_minor": 5
}
