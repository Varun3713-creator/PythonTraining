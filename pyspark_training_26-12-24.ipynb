{
 "cells": [
  {
   "cell_type": "code",
   "execution_count": 1,
   "id": "41b7c94f",
   "metadata": {},
   "outputs": [],
   "source": [
    "from pyspark.sql import SparkSession"
   ]
  },
  {
   "cell_type": "code",
   "execution_count": 2,
   "id": "65fb57fb",
   "metadata": {},
   "outputs": [],
   "source": [
    "spark=SparkSession.builder.appName('Practice').getOrCreate()"
   ]
  },
  {
   "cell_type": "code",
   "execution_count": 3,
   "id": "cf791753",
   "metadata": {},
   "outputs": [],
   "source": [
    "#StructField & StructType usage\n",
    "from pyspark.sql.types import StructType, StructField, StringType, IntegerType\n",
    "\n",
    "schema = StructType([\n",
    "    StructField(\"Name\", StringType(), True),\n",
    "    StructField(\"Age\", IntegerType(), True),\n",
    "    StructField(\"Department\", StringType(), False)\n",
    "])"
   ]
  },
  {
   "cell_type": "code",
   "execution_count": 4,
   "id": "2b08d1e3",
   "metadata": {},
   "outputs": [
    {
     "name": "stdout",
     "output_type": "stream",
     "text": [
      "+-------+---+----------+\n",
      "|   Name|Age|Department|\n",
      "+-------+---+----------+\n",
      "|  Alice| 30|        HR|\n",
      "|    Bob| 35|   Finance|\n",
      "|Charlie| 25|        IT|\n",
      "+-------+---+----------+\n",
      "\n"
     ]
    }
   ],
   "source": [
    "from pyspark.sql import SparkSession\n",
    "\n",
    "spark = SparkSession.builder.appName(\"StructType Example\").getOrCreate()\n",
    "\n",
    "data = [(\"Alice\", 30, \"HR\"),\n",
    "        (\"Bob\", 35, \"Finance\"),\n",
    "        (\"Charlie\", 25, \"IT\")]  \n",
    "\n",
    "df = spark.createDataFrame(data, schema=schema)\n",
    "\n",
    "df.show()"
   ]
  },
  {
   "cell_type": "code",
   "execution_count": 5,
   "id": "b723e9ef",
   "metadata": {},
   "outputs": [],
   "source": [
    "#nested structures \n",
    "StructName=StructType(\n",
    "[\n",
    "    StructField('First Name',StringType()),\n",
    "    StructField('Last Name',StringType())\n",
    "])\n",
    "schema = StructType([\n",
    "    StructField(\"Name\", StructName, True),\n",
    "    StructField(\"Age\", IntegerType(), True),\n",
    "    StructField(\"Department\", StringType(), False)\n",
    "])"
   ]
  },
  {
   "cell_type": "code",
   "execution_count": 6,
   "id": "73ab21df",
   "metadata": {},
   "outputs": [],
   "source": [
    "data = [((\"Varun\",\"Kumar\"), 30, \"HR\"),\n",
    "        ((\"Agastya\",\"Ram\"), 35, \"Finance\"),\n",
    "        ((\"Charlie\",'Shenon'), 25, \"IT\")]  \n",
    "\n",
    "df = spark.createDataFrame(data, schema=schema)"
   ]
  },
  {
   "cell_type": "code",
   "execution_count": 7,
   "id": "f98bd608",
   "metadata": {},
   "outputs": [
    {
     "name": "stdout",
     "output_type": "stream",
     "text": [
      "+-----------------+---+----------+\n",
      "|             Name|Age|Department|\n",
      "+-----------------+---+----------+\n",
      "|   {Varun, Kumar}| 30|        HR|\n",
      "|   {Agastya, Ram}| 35|   Finance|\n",
      "|{Charlie, Shenon}| 25|        IT|\n",
      "+-----------------+---+----------+\n",
      "\n"
     ]
    }
   ],
   "source": [
    "df.show()"
   ]
  },
  {
   "cell_type": "code",
   "execution_count": 8,
   "id": "459d3628",
   "metadata": {},
   "outputs": [
    {
     "name": "stdout",
     "output_type": "stream",
     "text": [
      "root\n",
      " |-- Name: struct (nullable = true)\n",
      " |    |-- First Name: string (nullable = true)\n",
      " |    |-- Last Name: string (nullable = true)\n",
      " |-- Age: integer (nullable = true)\n",
      " |-- Department: string (nullable = false)\n",
      "\n"
     ]
    }
   ],
   "source": [
    "df.printSchema()"
   ]
  },
  {
   "cell_type": "code",
   "execution_count": 25,
   "id": "bf7bdc7e",
   "metadata": {},
   "outputs": [
    {
     "name": "stdout",
     "output_type": "stream",
     "text": [
      "+-------+---------+\n",
      "|   Name|    Score|\n",
      "+-------+---------+\n",
      "|  Alice| [80, 70]|\n",
      "|    Bob|[100, 90]|\n",
      "|Charlie| [65, 50]|\n",
      "+-------+---------+\n",
      "\n"
     ]
    }
   ],
   "source": [
    "#pass array to the column\n",
    "data = [(\"Alice\", [80,70] ),\n",
    "        (\"Bob\", [100,90]),\n",
    "        (\"Charlie\", [65,50])]\n",
    "#ArrayType() function can also be used ,while creating schema\n",
    "schema=['Name','Score']\n",
    "\n",
    "df = spark.createDataFrame(data, schema=schema)\n",
    "df.show()"
   ]
  },
  {
   "cell_type": "code",
   "execution_count": 26,
   "id": "8adadd90",
   "metadata": {},
   "outputs": [
    {
     "name": "stdout",
     "output_type": "stream",
     "text": [
      "root\n",
      " |-- Name: string (nullable = true)\n",
      " |-- Score: array (nullable = true)\n",
      " |    |-- element: long (containsNull = true)\n",
      "\n"
     ]
    }
   ],
   "source": [
    "df.printSchema()"
   ]
  },
  {
   "cell_type": "code",
   "execution_count": 29,
   "id": "0c3df070",
   "metadata": {},
   "outputs": [
    {
     "name": "stdout",
     "output_type": "stream",
     "text": [
      "+-------+---------+-----+----------------+\n",
      "|   Name|    Score|Maths|Computer Science|\n",
      "+-------+---------+-----+----------------+\n",
      "|  Alice| [80, 70]|   80|              70|\n",
      "|    Bob|[100, 90]|  100|              90|\n",
      "|Charlie| [65, 50]|   65|              50|\n",
      "+-------+---------+-----+----------------+\n",
      "\n",
      "+-------+---------+----------+\n",
      "|   Name|    Score|splitmarks|\n",
      "+-------+---------+----------+\n",
      "|  Alice| [80, 70]|        80|\n",
      "|  Alice| [80, 70]|        70|\n",
      "|    Bob|[100, 90]|       100|\n",
      "|    Bob|[100, 90]|        90|\n",
      "|Charlie| [65, 50]|        65|\n",
      "|Charlie| [65, 50]|        50|\n",
      "+-------+---------+----------+\n",
      "\n",
      "+-------+---------+----------+\n",
      "|   Name|    Score|SCORED 100|\n",
      "+-------+---------+----------+\n",
      "|  Alice| [80, 70]|     false|\n",
      "|    Bob|[100, 90]|      true|\n",
      "|Charlie| [65, 50]|     false|\n",
      "+-------+---------+----------+\n",
      "\n"
     ]
    }
   ],
   "source": [
    "import  pyspark.sql.functions as F\n",
    "df.withColumn('Maths',F.col('Score')[0]).withColumn('Computer Science',F.col('Score')[1]).show()\n",
    "#explode function and array_contains\n",
    "df.withColumn('splitmarks',F.explode(F.col('Score'))).show()\n",
    "df.withColumn('SCORED 100',F.array_contains(F.col('Score'),100)).show()"
   ]
  },
  {
   "cell_type": "code",
   "execution_count": 14,
   "id": "79637cae",
   "metadata": {},
   "outputs": [
    {
     "name": "stdout",
     "output_type": "stream",
     "text": [
      "+-----+---+---+---+\n",
      "| name| m1| m2| m3|\n",
      "+-----+---+---+---+\n",
      "|Varun| 40| 60| 50|\n",
      "|Karna| 30| 40| 50|\n",
      "+-----+---+---+---+\n",
      "\n"
     ]
    }
   ],
   "source": [
    "data=[('Varun',40,60,50),('Karna',30,40,50)]\n",
    "df2=spark.createDataFrame(data,schema=['name','m1','m2','m3'])\n",
    "df2.show()"
   ]
  },
  {
   "cell_type": "code",
   "execution_count": 19,
   "id": "1dc884d9",
   "metadata": {},
   "outputs": [
    {
     "name": "stdout",
     "output_type": "stream",
     "text": [
      "+-----+---+---+---+------------+-----+\n",
      "| name| m1| m2| m3|         All|Total|\n",
      "+-----+---+---+---+------------+-----+\n",
      "|Varun| 40| 60| 50|[40, 60, 50]|  150|\n",
      "|Karna| 30| 40| 50|[30, 40, 50]|  120|\n",
      "+-----+---+---+---+------------+-----+\n",
      "\n"
     ]
    }
   ],
   "source": [
    "#combining columns into array\n",
    "df2.withColumn('All',F.array(df2.m1,df2.m2,df2.m3)).withColumn('Total',df2.m1+df2.m2+df2.m3).show()"
   ]
  },
  {
   "cell_type": "code",
   "execution_count": 21,
   "id": "41b8cd72",
   "metadata": {},
   "outputs": [],
   "source": [
    "#maptype implementation \n",
    "from pyspark.sql.types import MapType,BooleanType,IntegerType\n",
    "data=[('Varun',{'Age':23,'Weight':67,'Eligible':True}),('Naveen',{'Age':24,'Weight':55,'Eligible':True})]\n",
    "schema_details = StructType([\n",
    "    StructField(\"Age\", IntegerType(), True),\n",
    "    StructField(\"Weight\", IntegerType(), True),\n",
    "    StructField(\"Eligible\", BooleanType(), False)\n",
    "])\n",
    "schema=StructType([\n",
    "    StructField(\"Name\", StringType(), True),\n",
    "    StructField(\"Details\", schema_details, True)\n",
    "])\n",
    "\n",
    "df=spark.createDataFrame(data,schema=schema)"
   ]
  },
  {
   "cell_type": "code",
   "execution_count": 22,
   "id": "0cb715a4",
   "metadata": {},
   "outputs": [
    {
     "name": "stdout",
     "output_type": "stream",
     "text": [
      "+------+--------------+\n",
      "|  Name|       Details|\n",
      "+------+--------------+\n",
      "| Varun|{23, 67, true}|\n",
      "|Naveen|{24, 55, true}|\n",
      "+------+--------------+\n",
      "\n"
     ]
    }
   ],
   "source": [
    "df.show()"
   ]
  },
  {
   "cell_type": "code",
   "execution_count": 23,
   "id": "55ba7f2e",
   "metadata": {},
   "outputs": [
    {
     "name": "stdout",
     "output_type": "stream",
     "text": [
      "+------+--------------+\n",
      "|Name  |Details       |\n",
      "+------+--------------+\n",
      "|Varun |{23, 67, true}|\n",
      "|Naveen|{24, 55, true}|\n",
      "+------+--------------+\n",
      "\n"
     ]
    }
   ],
   "source": [
    "df.show(truncate=False)"
   ]
  },
  {
   "cell_type": "code",
   "execution_count": 26,
   "id": "d7809c1e",
   "metadata": {},
   "outputs": [
    {
     "name": "stdout",
     "output_type": "stream",
     "text": [
      "+------+--------------+---+\n",
      "|  Name|       Details|Age|\n",
      "+------+--------------+---+\n",
      "| Varun|{23, 67, true}| 23|\n",
      "|Naveen|{24, 55, true}| 24|\n",
      "+------+--------------+---+\n",
      "\n",
      "+--------------+\n",
      "|Details.Weight|\n",
      "+--------------+\n",
      "|            67|\n",
      "|            55|\n",
      "+--------------+\n",
      "\n",
      "+-----------+\n",
      "|Details.Age|\n",
      "+-----------+\n",
      "|         23|\n",
      "|         24|\n",
      "+-----------+\n",
      "\n"
     ]
    }
   ],
   "source": [
    "#accessing key values using various method\n",
    "df.withColumn('Age',df.Details['Age']).show()\n",
    "df.select(df.Details.Weight).show()\n",
    "df.select(df.Details.getItem('Age')).show()\n",
    "#df.withColumn('Weight',df.Details.getItem('Weight')).show()\n",
    "#df.withColumn('height',df.Details.getItem('height')).show()"
   ]
  },
  {
   "cell_type": "code",
   "execution_count": 75,
   "id": "333feb43",
   "metadata": {},
   "outputs": [
    {
     "name": "stdout",
     "output_type": "stream",
     "text": [
      "+---------------+\n",
      "|Details[Weight]|\n",
      "+---------------+\n",
      "|             67|\n",
      "|             55|\n",
      "+---------------+\n",
      "\n"
     ]
    }
   ],
   "source": [
    "df.select(df.Details.Weight).show()"
   ]
  },
  {
   "cell_type": "code",
   "execution_count": 55,
   "id": "7cd6f584",
   "metadata": {},
   "outputs": [
    {
     "name": "stdout",
     "output_type": "stream",
     "text": [
      "+------+------+-----+\n",
      "|  name|   key|value|\n",
      "+------+------+-----+\n",
      "| Varun|Weight|   67|\n",
      "| Varun|   Age|   23|\n",
      "|Naveen|Weight|   55|\n",
      "|Naveen|   Age|   24|\n",
      "|Naveen|height|  170|\n",
      "+------+------+-----+\n",
      "\n"
     ]
    }
   ],
   "source": [
    "df.select('name',F.explode(df.Details)).show()"
   ]
  },
  {
   "cell_type": "code",
   "execution_count": 70,
   "id": "55615fe5",
   "metadata": {},
   "outputs": [
    {
     "name": "stdout",
     "output_type": "stream",
     "text": [
      "+---------------------+\n",
      "|map_keys(Details)    |\n",
      "+---------------------+\n",
      "|[Weight, Age]        |\n",
      "|[Weight, Age, height]|\n",
      "+---------------------+\n",
      "\n",
      "+-------------------+\n",
      "|map_values(Details)|\n",
      "+-------------------+\n",
      "|[67, 23]           |\n",
      "|[55, 24, 170]      |\n",
      "+-------------------+\n",
      "\n"
     ]
    }
   ],
   "source": [
    "\n",
    "df.select(F.map_keys(df.Details)).show(truncate=False)\n",
    "df.select(F.map_values(df.Details)).show(truncate=False)"
   ]
  },
  {
   "cell_type": "code",
   "execution_count": 74,
   "id": "5ebe9c03",
   "metadata": {},
   "outputs": [
    {
     "name": "stdout",
     "output_type": "stream",
     "text": [
      "+------+--------------------+--------+\n",
      "|  Name|             Details|Diabetes|\n",
      "+------+--------------------+--------+\n",
      "| Varun|{Weight -> 67, Ag...|       1|\n",
      "|Naveen|{Weight -> 55, Ag...|       1|\n",
      "+------+--------------------+--------+\n",
      "\n"
     ]
    }
   ],
   "source": [
    "#column creation with specific value\n",
    "df.withColumn('Diabetes',F.lit(1)).show()"
   ]
  },
  {
   "cell_type": "code",
   "execution_count": 5,
   "id": "20d5de72",
   "metadata": {},
   "outputs": [],
   "source": [
    "dfs=spark.read.csv('C:/Users/acer/Downloads/sample_data.csv',header=True,inferSchema=True)"
   ]
  },
  {
   "cell_type": "code",
   "execution_count": 6,
   "id": "044a1aff",
   "metadata": {},
   "outputs": [
    {
     "name": "stdout",
     "output_type": "stream",
     "text": [
      "+---+------+------+---------+\n",
      "| id|gender|salary|     name|\n",
      "+---+------+------+---------+\n",
      "|  1|     F| 56751| Jennifer|\n",
      "|  2|     F| 60905|  Barbara|\n",
      "|  3|     M| 90792|     John|\n",
      "|  4|     M| 81428|   Robert|\n",
      "|  5|     F|113324|    Sarah|\n",
      "|  6|     F| 36599|  Barbara|\n",
      "|  7|     M|115530|    James|\n",
      "|  8|     F| 57885|    Susan|\n",
      "|  9|     F| 54782|    Susan|\n",
      "| 10|     F| 71905|Elizabeth|\n",
      "| 11|     M| 62942|  Michael|\n",
      "| 12|     F| 84231|    Karen|\n",
      "| 13|     M| 87368|  Matthew|\n",
      "| 14|     F| 52069|  Jessica|\n",
      "| 15|     M|106021|   Daniel|\n",
      "| 16|     F| 86462|    Linda|\n",
      "| 17|     F| 60773|     Mary|\n",
      "| 18|     F| 58825| Jennifer|\n",
      "| 19|     F|116277| Patricia|\n",
      "| 20|     F|102352|  Jessica|\n",
      "+---+------+------+---------+\n",
      "only showing top 20 rows\n",
      "\n"
     ]
    }
   ],
   "source": [
    "dfs.show()"
   ]
  },
  {
   "cell_type": "code",
   "execution_count": 97,
   "id": "8a5cfbec",
   "metadata": {},
   "outputs": [
    {
     "name": "stdout",
     "output_type": "stream",
     "text": [
      "+------+\n",
      "|Gender|\n",
      "+------+\n",
      "|Female|\n",
      "|Female|\n",
      "|  Male|\n",
      "|  Male|\n",
      "|Female|\n",
      "|Female|\n",
      "|  Male|\n",
      "|Female|\n",
      "|Female|\n",
      "|Female|\n",
      "|  Male|\n",
      "|Female|\n",
      "|  Male|\n",
      "|Female|\n",
      "|  Male|\n",
      "|Female|\n",
      "|Female|\n",
      "|Female|\n",
      "|Female|\n",
      "|Female|\n",
      "+------+\n",
      "only showing top 20 rows\n",
      "\n"
     ]
    }
   ],
   "source": [
    "#when and otherwise function\n",
    "dfs.select(F.when(dfs.gender == 'M', \"Male\").when(dfs.gender == 'F', \"Female\").otherwise(\"Unknown\").alias(\"Gender\")).show()"
   ]
  },
  {
   "cell_type": "code",
   "execution_count": 93,
   "id": "9281d470",
   "metadata": {},
   "outputs": [
    {
     "name": "stdout",
     "output_type": "stream",
     "text": [
      "+---+------+------+---------+\n",
      "| id|gender|salary|     name|\n",
      "+---+------+------+---------+\n",
      "|  1|Female| 56751| Jennifer|\n",
      "|  2|Female| 60905|  Barbara|\n",
      "|  3|  Male| 90792|     John|\n",
      "|  4|  Male| 81428|   Robert|\n",
      "|  5|Female|113324|    Sarah|\n",
      "|  6|Female| 36599|  Barbara|\n",
      "|  7|  Male|115530|    James|\n",
      "|  8|Female| 57885|    Susan|\n",
      "|  9|Female| 54782|    Susan|\n",
      "| 10|Female| 71905|Elizabeth|\n",
      "| 11|  Male| 62942|  Michael|\n",
      "| 12|Female| 84231|    Karen|\n",
      "| 13|  Male| 87368|  Matthew|\n",
      "| 14|Female| 52069|  Jessica|\n",
      "| 15|  Male|106021|   Daniel|\n",
      "| 16|Female| 86462|    Linda|\n",
      "| 17|Female| 60773|     Mary|\n",
      "| 18|Female| 58825| Jennifer|\n",
      "| 19|Female|116277| Patricia|\n",
      "| 20|Female|102352|  Jessica|\n",
      "+---+------+------+---------+\n",
      "only showing top 20 rows\n",
      "\n"
     ]
    }
   ],
   "source": [
    "#replace compared to when function\n",
    "dfs.replace({'M':'Male','F':'Female'}).show()"
   ]
  },
  {
   "cell_type": "code",
   "execution_count": 100,
   "id": "393962bb",
   "metadata": {},
   "outputs": [
    {
     "name": "stdout",
     "output_type": "stream",
     "text": [
      "+----------+\n",
      "|new_salary|\n",
      "+----------+\n",
      "|   56751.0|\n",
      "|   60905.0|\n",
      "|   90792.0|\n",
      "|   81428.0|\n",
      "|  113324.0|\n",
      "|   36599.0|\n",
      "|  115530.0|\n",
      "|   57885.0|\n",
      "|   54782.0|\n",
      "|   71905.0|\n",
      "|   62942.0|\n",
      "|   84231.0|\n",
      "|   87368.0|\n",
      "|   52069.0|\n",
      "|  106021.0|\n",
      "|   86462.0|\n",
      "|   60773.0|\n",
      "|   58825.0|\n",
      "|  116277.0|\n",
      "|  102352.0|\n",
      "+----------+\n",
      "only showing top 20 rows\n",
      "\n"
     ]
    }
   ],
   "source": [
    "#casting\n",
    "dfs.select(dfs.salary.cast('float').alias('new_salary')).show()\n"
   ]
  },
  {
   "cell_type": "code",
   "execution_count": 101,
   "id": "67e4a66f",
   "metadata": {},
   "outputs": [
    {
     "name": "stdout",
     "output_type": "stream",
     "text": [
      "+---+------+------+---------+\n",
      "| id|gender|salary|     name|\n",
      "+---+------+------+---------+\n",
      "| 50|     F|119995| Jennifer|\n",
      "| 49|     M|117603|  William|\n",
      "| 19|     F|116277| Patricia|\n",
      "|  7|     M|115530|    James|\n",
      "| 51|     F|113890|Elizabeth|\n",
      "|  5|     F|113324|    Sarah|\n",
      "| 57|     M|112184|   Joseph|\n",
      "| 48|     F|110979| Jennifer|\n",
      "| 34|     M|110711|  Matthew|\n",
      "| 58|     M|106981|   Joseph|\n",
      "| 55|     F|106328|    Linda|\n",
      "| 15|     M|106021|   Daniel|\n",
      "| 79|     F|105940|     Mary|\n",
      "| 40|     M|105647|  Matthew|\n",
      "| 98|     M|104359|    James|\n",
      "| 67|     F|103663|  Barbara|\n",
      "| 61|     M|103096|  William|\n",
      "| 20|     F|102352|  Jessica|\n",
      "| 74|     F|100488|  Barbara|\n",
      "| 70|     F| 97623|    Susan|\n",
      "+---+------+------+---------+\n",
      "only showing top 20 rows\n",
      "\n"
     ]
    }
   ],
   "source": [
    "#print in descending order\n",
    "dfs.orderBy('salary',ascending=False).show()"
   ]
  },
  {
   "cell_type": "code",
   "execution_count": 14,
   "id": "0377e388",
   "metadata": {},
   "outputs": [
    {
     "name": "stdout",
     "output_type": "stream",
     "text": [
      "+---+------+------+---------+\n",
      "| id|gender|salary|     name|\n",
      "+---+------+------+---------+\n",
      "| 50|     F|119995| Jennifer|\n",
      "| 49|     M|117603|  William|\n",
      "| 19|     F|116277| Patricia|\n",
      "|  7|     M|115530|    James|\n",
      "| 51|     F|113890|Elizabeth|\n",
      "|  5|     F|113324|    Sarah|\n",
      "| 57|     M|112184|   Joseph|\n",
      "| 48|     F|110979| Jennifer|\n",
      "| 34|     M|110711|  Matthew|\n",
      "| 58|     M|106981|   Joseph|\n",
      "| 55|     F|106328|    Linda|\n",
      "| 15|     M|106021|   Daniel|\n",
      "| 79|     F|105940|     Mary|\n",
      "| 40|     M|105647|  Matthew|\n",
      "| 98|     M|104359|    James|\n",
      "| 67|     F|103663|  Barbara|\n",
      "| 61|     M|103096|  William|\n",
      "| 20|     F|102352|  Jessica|\n",
      "| 74|     F|100488|  Barbara|\n",
      "| 70|     F| 97623|    Susan|\n",
      "+---+------+------+---------+\n",
      "only showing top 20 rows\n",
      "\n"
     ]
    }
   ],
   "source": [
    "dfs.sort(dfs.salary.desc()).show()"
   ]
  },
  {
   "cell_type": "code",
   "execution_count": 102,
   "id": "1945eb86",
   "metadata": {},
   "outputs": [
    {
     "name": "stdout",
     "output_type": "stream",
     "text": [
      "+---+------+------+---------+\n",
      "| id|gender|salary|     name|\n",
      "+---+------+------+---------+\n",
      "|  5|     F|113324|    Sarah|\n",
      "|  7|     M|115530|    James|\n",
      "| 15|     M|106021|   Daniel|\n",
      "| 19|     F|116277| Patricia|\n",
      "| 20|     F|102352|  Jessica|\n",
      "| 34|     M|110711|  Matthew|\n",
      "| 40|     M|105647|  Matthew|\n",
      "| 48|     F|110979| Jennifer|\n",
      "| 49|     M|117603|  William|\n",
      "| 50|     F|119995| Jennifer|\n",
      "| 51|     F|113890|Elizabeth|\n",
      "| 55|     F|106328|    Linda|\n",
      "| 57|     M|112184|   Joseph|\n",
      "| 58|     M|106981|   Joseph|\n",
      "| 61|     M|103096|  William|\n",
      "| 67|     F|103663|  Barbara|\n",
      "| 74|     F|100488|  Barbara|\n",
      "| 79|     F|105940|     Mary|\n",
      "| 98|     M|104359|    James|\n",
      "+---+------+------+---------+\n",
      "\n"
     ]
    }
   ],
   "source": [
    "#salary >100000\n",
    "dfs[dfs.salary>100000].show()"
   ]
  },
  {
   "cell_type": "code",
   "execution_count": 104,
   "id": "140ecd00",
   "metadata": {},
   "outputs": [
    {
     "name": "stdout",
     "output_type": "stream",
     "text": [
      "+------+-----+\n",
      "|gender|count|\n",
      "+------+-----+\n",
      "|     F|   57|\n",
      "|     M|   43|\n",
      "+------+-----+\n",
      "\n"
     ]
    }
   ],
   "source": [
    "#count of gender\n",
    "dfs.groupBy('gender').count().show()"
   ]
  },
  {
   "cell_type": "code",
   "execution_count": 7,
   "id": "fe7c0722",
   "metadata": {},
   "outputs": [
    {
     "name": "stdout",
     "output_type": "stream",
     "text": [
      "+---+------+------+----+\n",
      "| id|gender|salary|name|\n",
      "+---+------+------+----+\n",
      "+---+------+------+----+\n",
      "\n",
      "+---+------+------+-------+\n",
      "| id|gender|salary|   name|\n",
      "+---+------+------+-------+\n",
      "| 11|     M| 62942|Michael|\n",
      "+---+------+------+-------+\n",
      "\n"
     ]
    }
   ],
   "source": [
    "#case sensitivity \n",
    "dfs[dfs.name.isin('michael')].show()\n",
    "dfs[dfs.name.isin('Michael')].show()"
   ]
  },
  {
   "cell_type": "code",
   "execution_count": 12,
   "id": "e9603c15",
   "metadata": {},
   "outputs": [
    {
     "name": "stdout",
     "output_type": "stream",
     "text": [
      "+-------------------+\n",
      "|name_with_5_letters|\n",
      "+-------------------+\n",
      "|              Jenni|\n",
      "|              Barba|\n",
      "|               John|\n",
      "|              Rober|\n",
      "|              Sarah|\n",
      "|              Barba|\n",
      "|              James|\n",
      "|              Susan|\n",
      "|              Susan|\n",
      "|              Eliza|\n",
      "|              Micha|\n",
      "|              Karen|\n",
      "|              Matth|\n",
      "|              Jessi|\n",
      "|              Danie|\n",
      "|              Linda|\n",
      "|               Mary|\n",
      "|              Jenni|\n",
      "|              Patri|\n",
      "|              Jessi|\n",
      "+-------------------+\n",
      "only showing top 20 rows\n",
      "\n"
     ]
    }
   ],
   "source": [
    "#sunstring function\n",
    "dfs.select(dfs.name.substr(1,5).alias('name_with_5_letters')).show()"
   ]
  },
  {
   "cell_type": "code",
   "execution_count": 13,
   "id": "5db68fff",
   "metadata": {},
   "outputs": [
    {
     "name": "stdout",
     "output_type": "stream",
     "text": [
      "+--------------+\n",
      "|length(salary)|\n",
      "+--------------+\n",
      "|             5|\n",
      "|             5|\n",
      "|             5|\n",
      "|             5|\n",
      "|             6|\n",
      "|             5|\n",
      "|             6|\n",
      "|             5|\n",
      "|             5|\n",
      "|             5|\n",
      "|             5|\n",
      "|             5|\n",
      "|             5|\n",
      "|             5|\n",
      "|             6|\n",
      "|             5|\n",
      "|             5|\n",
      "|             5|\n",
      "|             6|\n",
      "|             6|\n",
      "+--------------+\n",
      "only showing top 20 rows\n",
      "\n"
     ]
    }
   ],
   "source": [
    "#length function\n",
    "import  pyspark.sql.functions as F\n",
    "dfs.select(F.length('salary')).show()"
   ]
  },
  {
   "cell_type": "code",
   "execution_count": null,
   "id": "d748d350",
   "metadata": {},
   "outputs": [],
   "source": []
  }
 ],
 "metadata": {
  "kernelspec": {
   "display_name": "Python 3 (ipykernel)",
   "language": "python",
   "name": "python3"
  },
  "language_info": {
   "codemirror_mode": {
    "name": "ipython",
    "version": 3
   },
   "file_extension": ".py",
   "mimetype": "text/x-python",
   "name": "python",
   "nbconvert_exporter": "python",
   "pygments_lexer": "ipython3",
   "version": "3.11.4"
  }
 },
 "nbformat": 4,
 "nbformat_minor": 5
}
