{
 "cells": [
  {
   "cell_type": "code",
   "execution_count": 1,
   "id": "5a5cd4cf",
   "metadata": {},
   "outputs": [],
   "source": [
    "from pyspark.sql import SparkSession"
   ]
  },
  {
   "cell_type": "code",
   "execution_count": 2,
   "id": "0830cd96",
   "metadata": {},
   "outputs": [],
   "source": [
    "import pyspark.sql.functions as F\n",
    "import pyspark.sql.types as T"
   ]
  },
  {
   "cell_type": "code",
   "execution_count": 3,
   "id": "6b7f4d8b",
   "metadata": {},
   "outputs": [],
   "source": [
    "from pyspark.sql import SparkSession\n",
    "from delta import configure_spark_with_delta_pip\n",
    "\n",
    "builder = SparkSession.builder \\\n",
    "    .appName(\"jsondata\") \\\n",
    "    .config(\"spark.sql.extensions\", \"io.delta.sql.DeltaSparkSessionExtension\") \\\n",
    "    .config(\"spark.sql.catalog.spark_catalog\", \"org.apache.spark.sql.delta.catalog.DeltaCatalog\")\n",
    "\n",
    "spark = configure_spark_with_delta_pip(builder).getOrCreate()"
   ]
  },
  {
   "cell_type": "code",
   "execution_count": 4,
   "id": "31661a30",
   "metadata": {},
   "outputs": [
    {
     "name": "stdout",
     "output_type": "stream",
     "text": [
      "+--------------------+--------------------+--------------------+--------------------+\n",
      "|                Body|     EnqueuedTimeUtc|          Properties|    SystemProperties|\n",
      "+--------------------+--------------------+--------------------+--------------------+\n",
      "|{mn=TVgwMDAx:sn=M...|2024-08-20T09:56:...|{rp.mib/dev/96d1f...|{{\"scope\":\"device...|\n",
      "|{mn=TVgwMDAx:sn=M...|2024-08-20T09:56:...|{rp.mib/dev/96d1f...|{{\"scope\":\"device...|\n",
      "|{mn=TVgwMDAx:sn=M...|2024-08-20T09:56:...|{rp.mib/dev/96d1f...|{{\"scope\":\"device...|\n",
      "|{mn=TVgwMDAx:sn=M...|2024-08-20T09:56:...|{rp.mib/dev/96d1f...|{{\"scope\":\"device...|\n",
      "|{mn=TVgwMDAy:sn=M...|2024-08-20T09:56:...|{rp.mib/dev/96d1f...|{{\"scope\":\"device...|\n",
      "|{mn=TVgwMDAy:sn=M...|2024-08-20T09:56:...|{rp.mib/dev/96d1f...|{{\"scope\":\"device...|\n",
      "|{mn=TVgwMDAy:sn=M...|2024-08-20T09:56:...|{rp.mib/dev/96d1f...|{{\"scope\":\"device...|\n",
      "|{mn=TVgwMDAy:sn=M...|2024-08-20T09:56:...|{rp.mib/dev/96d1f...|{{\"scope\":\"device...|\n",
      "|{mn=TVgwMDAz:sn=M...|2024-08-20T09:56:...|{rp.mib/dev/96d1f...|{{\"scope\":\"device...|\n",
      "|{mn=TVgwMDAz:sn=M...|2024-08-20T09:56:...|{rp.mib/dev/96d1f...|{{\"scope\":\"device...|\n",
      "|{mn=TVgwMDAz:sn=M...|2024-08-20T09:56:...|{rp.mib/dev/96d1f...|{{\"scope\":\"device...|\n",
      "|{mn=TVgwMDAz:sn=M...|2024-08-20T09:56:...|{rp.mib/dev/96d1f...|{{\"scope\":\"device...|\n",
      "|{mn=TVgwMDA0:sn=M...|2024-08-20T09:56:...|{rp.mib/dev/96d1f...|{{\"scope\":\"device...|\n",
      "|{mn=TVgwMDA0:sn=M...|2024-08-20T09:56:...|{rp.mib/dev/96d1f...|{{\"scope\":\"device...|\n",
      "|{mn=TVgwMDA0:sn=M...|2024-08-20T09:56:...|{rp.mib/dev/96d1f...|{{\"scope\":\"device...|\n",
      "|{mn=TVgwMDA0:sn=M...|2024-08-20T09:56:...|{rp.mib/dev/96d1f...|{{\"scope\":\"device...|\n",
      "|{mn=TVgwMDA1:sn=M...|2024-08-20T09:56:...|{rp.mib/dev/96d1f...|{{\"scope\":\"device...|\n",
      "|{mn=TVgwMDA1:sn=M...|2024-08-20T09:56:...|{rp.mib/dev/96d1f...|{{\"scope\":\"device...|\n",
      "|{mn=TVgwMDA1:sn=M...|2024-08-20T09:56:...|{rp.mib/dev/96d1f...|{{\"scope\":\"device...|\n",
      "|{mn=TVgwMDA1:sn=M...|2024-08-20T09:56:...|{rp.mib/dev/96d1f...|{{\"scope\":\"device...|\n",
      "+--------------------+--------------------+--------------------+--------------------+\n",
      "only showing top 20 rows\n",
      "\n"
     ]
    }
   ],
   "source": [
    "#Same Operations on a Larger Schema\n",
    "path='C:/Users/acer/Downloads/2024-7-20-15-26-1.json'\n",
    "df=spark.read.format(\"json\").load(path)\n",
    "df.show()"
   ]
  },
  {
   "cell_type": "code",
   "execution_count": 5,
   "id": "b0481022",
   "metadata": {},
   "outputs": [],
   "source": [
    "from pyspark.sql.types import *\n",
    "\n",
    "schema = StructType([\n",
    "    StructField(\"EnqueuedTimeUtc\", StringType(), True),\n",
    "    StructField(\"Properties\", StructType([\n",
    "        StructField(\"appTopic\", StringType(), True),\n",
    "        StructField(\"relatedGroupId\", StringType(), True)\n",
    "    ]), True),\n",
    "    StructField(\"SystemProperties\", StructType([\n",
    "        StructField(\"connectionDeviceId\", StringType(), True),\n",
    "        StructField(\"connectionAuthMethod\", StringType(), True),\n",
    "        StructField(\"connectionDeviceGenerationId\", StringType(), True),\n",
    "        StructField(\"contentType\", StringType(), True),\n",
    "        StructField(\"contentEncoding\", StringType(), True),\n",
    "        StructField(\"enqueuedTime\", StringType(), True)\n",
    "    ]), True),\n",
    "    StructField(\"Body\", StructType([\n",
    "        StructField(\"type\", StringType(), True),\n",
    "        StructField(\"mnsn\", StringType(), True),\n",
    "        StructField(\"timestamp\", LongType(), True),\n",
    "        StructField(\"scheduleName\", StringType(), True),\n",
    "        StructField(\"smsProperties\", StructType([\n",
    "            StructField(\"interface\", StructType([\n",
    "                StructField(\"ethernetList\", ArrayType(StructType([\n",
    "                    StructField(\"id\", StringType(), True),\n",
    "                    StructField(\"type\", StringType(), True),\n",
    "                    StructField(\"address\", StringType(), True)\n",
    "                ])), True),\n",
    "                StructField(\"ipList\", ArrayType(StructType([\n",
    "                    StructField(\"address\", StringType(), True),\n",
    "                    StructField(\"defaultRoute\", StringType(), True),\n",
    "                    StructField(\"subnetMask\", StringType(), True),\n",
    "                    StructField(\"ethernetId\", StringType(), True)\n",
    "                ])), True)\n",
    "            ]), True),\n",
    "            StructField(\"device\", StructType([\n",
    "                StructField(\"modelName\", StringType(), True),\n",
    "                StructField(\"address\", StringType(), True),\n",
    "                StructField(\"maintenanceCodeList\", ArrayType(StringType()), True),\n",
    "                StructField(\"serialId\", StringType(), True),\n",
    "                StructField(\"familyName\", StringType(), True),\n",
    "                StructField(\"location\", StructType([\n",
    "                    StructField(\"address\", StringType(), True)\n",
    "                ]), True),\n",
    "                StructField(\"serviceCodeList\", ArrayType(StringType()), True),\n",
    "                StructField(\"statusSet\", StructType([\n",
    "                    StructField(\"standby\", StringType(), True),\n",
    "                    StructField(\"paperJam\", StringType(), True),\n",
    "                    StructField(\"stackerNotInstalled\", StringType(), True),\n",
    "                    StructField(\"paperLow\", StringType(), True),\n",
    "                    StructField(\"paperEmpty\", StringType(), True),\n",
    "                    StructField(\"offline\", StringType(), True),\n",
    "                    StructField(\"specifiedOutputTrayMissing\", StringType(), True),\n",
    "                    StructField(\"nearOverduePreventMaintenance\", StringType(), True),\n",
    "                    StructField(\"overduePreventMaintenance\", StringType(), True),\n",
    "                    StructField(\"warmUp\", StringType(), True),\n",
    "                    StructField(\"coverOpen\", StringType(), True),\n",
    "                    StructField(\"outputTrayFull\", StringType(), True),\n",
    "                    StructField(\"tonerLow\", StringType(), True),\n",
    "                    StructField(\"allOutputTrayFull\", StringType(), True),\n",
    "                    StructField(\"printerWarning\", StringType(), True),\n",
    "                    StructField(\"outputTrayNearFull\", StringType(), True),\n",
    "                    StructField(\"printing\", StringType(), True),\n",
    "                    StructField(\"inputTrayMissing\", StringType(), True),\n",
    "                    StructField(\"printerError\", StringType(), True),\n",
    "                    StructField(\"accountLimit\", StringType(), True),\n",
    "                    StructField(\"specifiedInputTrayEmpty\", StringType(), True),\n",
    "                    StructField(\"outputTrayMissing\", StringType(), True),\n",
    "                    StructField(\"online\", StringType(), True),\n",
    "                    StructField(\"specifiedInputTrayMissing\", StringType(), True),\n",
    "                    StructField(\"markerSupplyMissing\", StringType(), True),\n",
    "                    StructField(\"tonerEmpty\", StringType(), True)\n",
    "                ]), True),\n",
    "                StructField(\"counter\", StructType([\n",
    "                    StructField(\"TYPE\", StructType([\n",
    "                        StructField(\"lifeCount\", StructType([\n",
    "                            StructField(\"unit\", StringType(), True),\n",
    "                            StructField(\"type\", StringType(), True),\n",
    "                            StructField(\"value\", LongType(), True)\n",
    "                        ]), True)\n",
    "                    ]), True)\n",
    "                ]), True),\n",
    "                StructField(\"statusRawValue\", StringType(), True),\n",
    "                StructField(\"friendlyName\", StringType(), True)\n",
    "            ]), True)\n",
    "        ]), True)\n",
    "    ]), True)\n",
    "])\n"
   ]
  },
  {
   "cell_type": "code",
   "execution_count": 6,
   "id": "d1697299",
   "metadata": {},
   "outputs": [],
   "source": [
    "schema_df2 = spark.read.schema(schema).json(path)"
   ]
  },
  {
   "cell_type": "code",
   "execution_count": 7,
   "id": "87be6cd9",
   "metadata": {},
   "outputs": [
    {
     "name": "stdout",
     "output_type": "stream",
     "text": [
      "+--------------------+--------------------+--------------------+--------------------+\n",
      "|     EnqueuedTimeUtc|          Properties|    SystemProperties|                Body|\n",
      "+--------------------+--------------------+--------------------+--------------------+\n",
      "|2024-08-20T09:56:...|{rp.mib/dev/96d1f...|{96d1f469-e0b7-4e...|{smsProps, mn=TVg...|\n",
      "|2024-08-20T09:56:...|{rp.mib/dev/96d1f...|{a0ba43aa-f3c1-42...|{smsProps, mn=TVg...|\n",
      "|2024-08-20T09:56:...|{rp.mib/dev/96d1f...|{96d1f469-e0b7-4e...|{smsProps, mn=TVg...|\n",
      "|2024-08-20T09:56:...|{rp.mib/dev/96d1f...|{5b98aa47-2d23-4b...|{smsProps, mn=TVg...|\n",
      "|2024-08-20T09:56:...|{rp.mib/dev/96d1f...|{96d1f469-e0b7-4e...|{smsProps, mn=TVg...|\n",
      "|2024-08-20T09:56:...|{rp.mib/dev/96d1f...|{a0ba43aa-f3c1-42...|{smsProps, mn=TVg...|\n",
      "|2024-08-20T09:56:...|{rp.mib/dev/96d1f...|{96d1f469-e0b7-4e...|{smsProps, mn=TVg...|\n",
      "|2024-08-20T09:56:...|{rp.mib/dev/96d1f...|{5b98aa47-2d23-4b...|{smsProps, mn=TVg...|\n",
      "|2024-08-20T09:56:...|{rp.mib/dev/96d1f...|{96d1f469-e0b7-4e...|{smsProps, mn=TVg...|\n",
      "|2024-08-20T09:56:...|{rp.mib/dev/96d1f...|{a0ba43aa-f3c1-42...|{smsProps, mn=TVg...|\n",
      "|2024-08-20T09:56:...|{rp.mib/dev/96d1f...|{96d1f469-e0b7-4e...|{smsProps, mn=TVg...|\n",
      "|2024-08-20T09:56:...|{rp.mib/dev/96d1f...|{5b98aa47-2d23-4b...|{smsProps, mn=TVg...|\n",
      "|2024-08-20T09:56:...|{rp.mib/dev/96d1f...|{96d1f469-e0b7-4e...|{smsProps, mn=TVg...|\n",
      "|2024-08-20T09:56:...|{rp.mib/dev/96d1f...|{a0ba43aa-f3c1-42...|{smsProps, mn=TVg...|\n",
      "|2024-08-20T09:56:...|{rp.mib/dev/96d1f...|{96d1f469-e0b7-4e...|{smsProps, mn=TVg...|\n",
      "|2024-08-20T09:56:...|{rp.mib/dev/96d1f...|{5b98aa47-2d23-4b...|{smsProps, mn=TVg...|\n",
      "|2024-08-20T09:56:...|{rp.mib/dev/96d1f...|{96d1f469-e0b7-4e...|{smsProps, mn=TVg...|\n",
      "|2024-08-20T09:56:...|{rp.mib/dev/96d1f...|{a0ba43aa-f3c1-42...|{smsProps, mn=TVg...|\n",
      "|2024-08-20T09:56:...|{rp.mib/dev/96d1f...|{96d1f469-e0b7-4e...|{smsProps, mn=TVg...|\n",
      "|2024-08-20T09:56:...|{rp.mib/dev/96d1f...|{5b98aa47-2d23-4b...|{smsProps, mn=TVg...|\n",
      "+--------------------+--------------------+--------------------+--------------------+\n",
      "only showing top 20 rows\n",
      "\n"
     ]
    }
   ],
   "source": [
    "schema_df2.show()"
   ]
  },
  {
   "cell_type": "code",
   "execution_count": 8,
   "id": "405fccfc",
   "metadata": {},
   "outputs": [
    {
     "name": "stdout",
     "output_type": "stream",
     "text": [
      "root\n",
      " |-- EnqueuedTimeUtc: string (nullable = true)\n",
      " |-- Properties: struct (nullable = true)\n",
      " |    |-- appTopic: string (nullable = true)\n",
      " |    |-- relatedGroupId: string (nullable = true)\n",
      " |-- SystemProperties: struct (nullable = true)\n",
      " |    |-- connectionDeviceId: string (nullable = true)\n",
      " |    |-- connectionAuthMethod: string (nullable = true)\n",
      " |    |-- connectionDeviceGenerationId: string (nullable = true)\n",
      " |    |-- contentType: string (nullable = true)\n",
      " |    |-- contentEncoding: string (nullable = true)\n",
      " |    |-- enqueuedTime: string (nullable = true)\n",
      " |-- Body: struct (nullable = true)\n",
      " |    |-- type: string (nullable = true)\n",
      " |    |-- mnsn: string (nullable = true)\n",
      " |    |-- timestamp: long (nullable = true)\n",
      " |    |-- scheduleName: string (nullable = true)\n",
      " |    |-- smsProperties: struct (nullable = true)\n",
      " |    |    |-- interface: struct (nullable = true)\n",
      " |    |    |    |-- ethernetList: array (nullable = true)\n",
      " |    |    |    |    |-- element: struct (containsNull = true)\n",
      " |    |    |    |    |    |-- id: string (nullable = true)\n",
      " |    |    |    |    |    |-- type: string (nullable = true)\n",
      " |    |    |    |    |    |-- address: string (nullable = true)\n",
      " |    |    |    |-- ipList: array (nullable = true)\n",
      " |    |    |    |    |-- element: struct (containsNull = true)\n",
      " |    |    |    |    |    |-- address: string (nullable = true)\n",
      " |    |    |    |    |    |-- defaultRoute: string (nullable = true)\n",
      " |    |    |    |    |    |-- subnetMask: string (nullable = true)\n",
      " |    |    |    |    |    |-- ethernetId: string (nullable = true)\n",
      " |    |    |-- device: struct (nullable = true)\n",
      " |    |    |    |-- modelName: string (nullable = true)\n",
      " |    |    |    |-- address: string (nullable = true)\n",
      " |    |    |    |-- maintenanceCodeList: array (nullable = true)\n",
      " |    |    |    |    |-- element: string (containsNull = true)\n",
      " |    |    |    |-- serialId: string (nullable = true)\n",
      " |    |    |    |-- familyName: string (nullable = true)\n",
      " |    |    |    |-- location: struct (nullable = true)\n",
      " |    |    |    |    |-- address: string (nullable = true)\n",
      " |    |    |    |-- serviceCodeList: array (nullable = true)\n",
      " |    |    |    |    |-- element: string (containsNull = true)\n",
      " |    |    |    |-- statusSet: struct (nullable = true)\n",
      " |    |    |    |    |-- standby: string (nullable = true)\n",
      " |    |    |    |    |-- paperJam: string (nullable = true)\n",
      " |    |    |    |    |-- stackerNotInstalled: string (nullable = true)\n",
      " |    |    |    |    |-- paperLow: string (nullable = true)\n",
      " |    |    |    |    |-- paperEmpty: string (nullable = true)\n",
      " |    |    |    |    |-- offline: string (nullable = true)\n",
      " |    |    |    |    |-- specifiedOutputTrayMissing: string (nullable = true)\n",
      " |    |    |    |    |-- nearOverduePreventMaintenance: string (nullable = true)\n",
      " |    |    |    |    |-- overduePreventMaintenance: string (nullable = true)\n",
      " |    |    |    |    |-- warmUp: string (nullable = true)\n",
      " |    |    |    |    |-- coverOpen: string (nullable = true)\n",
      " |    |    |    |    |-- outputTrayFull: string (nullable = true)\n",
      " |    |    |    |    |-- tonerLow: string (nullable = true)\n",
      " |    |    |    |    |-- allOutputTrayFull: string (nullable = true)\n",
      " |    |    |    |    |-- printerWarning: string (nullable = true)\n",
      " |    |    |    |    |-- outputTrayNearFull: string (nullable = true)\n",
      " |    |    |    |    |-- printing: string (nullable = true)\n",
      " |    |    |    |    |-- inputTrayMissing: string (nullable = true)\n",
      " |    |    |    |    |-- printerError: string (nullable = true)\n",
      " |    |    |    |    |-- accountLimit: string (nullable = true)\n",
      " |    |    |    |    |-- specifiedInputTrayEmpty: string (nullable = true)\n",
      " |    |    |    |    |-- outputTrayMissing: string (nullable = true)\n",
      " |    |    |    |    |-- online: string (nullable = true)\n",
      " |    |    |    |    |-- specifiedInputTrayMissing: string (nullable = true)\n",
      " |    |    |    |    |-- markerSupplyMissing: string (nullable = true)\n",
      " |    |    |    |    |-- tonerEmpty: string (nullable = true)\n",
      " |    |    |    |-- counter: struct (nullable = true)\n",
      " |    |    |    |    |-- TYPE: struct (nullable = true)\n",
      " |    |    |    |    |    |-- lifeCount: struct (nullable = true)\n",
      " |    |    |    |    |    |    |-- unit: string (nullable = true)\n",
      " |    |    |    |    |    |    |-- type: string (nullable = true)\n",
      " |    |    |    |    |    |    |-- value: long (nullable = true)\n",
      " |    |    |    |-- statusRawValue: string (nullable = true)\n",
      " |    |    |    |-- friendlyName: string (nullable = true)\n",
      "\n"
     ]
    }
   ],
   "source": [
    "schema_df2.printSchema()"
   ]
  },
  {
   "cell_type": "code",
   "execution_count": 34,
   "id": "62d15295",
   "metadata": {},
   "outputs": [
    {
     "data": {
      "text/plain": [
       "[Row(scheduleName='deviceStatus'),\n",
       " Row(scheduleName='basicUpdate'),\n",
       " Row(scheduleName='counterUpdate'),\n",
       " Row(scheduleName='suppliesUpdate')]"
      ]
     },
     "execution_count": 34,
     "metadata": {},
     "output_type": "execute_result"
    }
   ],
   "source": [
    "schema_df2.select(\"Body.scheduleName\").distinct().collect()"
   ]
  },
  {
   "cell_type": "code",
   "execution_count": 30,
   "id": "985d6d05",
   "metadata": {},
   "outputs": [
    {
     "name": "stdout",
     "output_type": "stream",
     "text": [
      "+-----------------------------------------------------------------------------------------------------------------------------------------------------------------------------------------------------------------------------------------------------------------------------------------------------------------------------------------------------------------------------------------------------------------------------------------------------------------------------------------------------------------------+\n",
      "|Body                                                                                                                                                                                                                                                                                                                                                                                                                                                                                                                   |\n",
      "+-----------------------------------------------------------------------------------------------------------------------------------------------------------------------------------------------------------------------------------------------------------------------------------------------------------------------------------------------------------------------------------------------------------------------------------------------------------------------------------------------------------------------+\n",
      "|{smsProps, mn=TVgwMDAx:sn=MDUxMTMxMzAwMDE=, 1724147812588, basicUpdate, {{[{1, 6, AC-A8-8E-63-A4-1-1}, {2, 24, }], [{127.0.0.1, 172.29.242.129, 255.0.0.0, 2}, {172.29.1.1, 172.29.1.129, 255.255.255.128, 1}]}, {SHARP MX-0001, 172.29.1.1, NULL, 05113130001, SHARP-001, {location-0001}, NULL, NULL, NULL, 2100000, Synappx-0001}}}                                                                                                                                                                                 |\n",
      "|{smsProps, mn=TVgwMDAx:sn=MDUxMTMxMzAwMDE=, 1724147812589, counterUpdate, {{[{1, 6, AC-A8-8E-63-A4-1-1}, {2, 24, }], [{127.0.0.1, 172.29.242.129, 255.0.0.0, 2}, {172.29.1.1, 172.29.1.129, 255.255.255.128, 1}]}, {SHARP MX-0001, 172.29.1.1, NULL, 05113130001, SHARP-001, {}, NULL, NULL, {{{impressions, lifeCounter, 35346}}}, 2100000, }}}                                                                                                                                                                       |\n",
      "|{smsProps, mn=TVgwMDAx:sn=MDUxMTMxMzAwMDE=, 1724147812589, deviceStatus, {{[{1, 6, AC-A8-8E-63-A4-1-1}, {2, 24, }], [{127.0.0.1, 172.29.240.22, 255.0.0.0, 2}, {172.29.1.1, 172.29.1.129, 255.255.254.0, 1}]}, {SHARP MX-0001, 172.29.1.1, [], 05113130001, SHARP-001, {}, [], {false, false, false, false, false, false, false, false, false, false, false, false, true, false, false, false, false, false, false, false, false, false, false, false, false, false}, {{{impressions, lifeCounter, 656}}}, 3308192, }}}|\n",
      "|{smsProps, mn=TVgwMDAx:sn=MDUxMTMxMzAwMDE=, 1724147812589, suppliesUpdate, {{[{1, 6, AC-A8-8E-63-A4-1-1}, {2, 24, }], [{172.29.1.1, 172.29.1.129, 255.255.255.0, 1}, {127.0.0.1, 10.36.102.1, 255.0.0.0, 2}]}, {SHARP MX-0001, 172.29.1.1, NULL, 05113130001, SHARP-001, {BSMFP SOL1居室6階}, NULL, NULL, NULL, 2300000, SOL1事務機MX-6170FV}}}                                                                                                                                                                        |\n",
      "|{smsProps, mn=TVgwMDAy:sn=MDUxMTMxMzAwMDI=, 1724147812591, basicUpdate, {{[{1, 6, AC-A8-8E-63-A4-1-2}, {2, 24, }], [{127.0.0.1, 172.29.242.129, 255.0.0.0, 2}, {172.29.1.2, 172.29.1.129, 255.255.255.128, 1}]}, {SHARP MX-0002, 172.29.1.2, NULL, 05113130002, SHARP-001, {location-0002}, NULL, NULL, NULL, 2100000, Synappx-0002}}}                                                                                                                                                                                 |\n",
      "|{smsProps, mn=TVgwMDAy:sn=MDUxMTMxMzAwMDI=, 1724147812608, counterUpdate, {{[{1, 6, AC-A8-8E-63-A4-1-2}, {2, 24, }], [{127.0.0.1, 172.29.242.129, 255.0.0.0, 2}, {172.29.1.2, 172.29.1.129, 255.255.255.128, 1}]}, {SHARP MX-0002, 172.29.1.2, NULL, 05113130002, SHARP-001, {}, NULL, NULL, {{{impressions, lifeCounter, 35346}}}, 2100000, }}}                                                                                                                                                                       |\n",
      "|{smsProps, mn=TVgwMDAy:sn=MDUxMTMxMzAwMDI=, 1724147812608, deviceStatus, {{[{1, 6, AC-A8-8E-63-A4-1-2}, {2, 24, }], [{127.0.0.1, 172.29.240.22, 255.0.0.0, 2}, {172.29.1.2, 172.29.1.129, 255.255.254.0, 1}]}, {SHARP MX-0002, 172.29.1.2, [], 05113130002, SHARP-001, {}, [], {false, false, false, false, false, false, false, false, false, false, false, false, true, false, false, false, false, false, false, false, false, false, false, false, false, false}, {{{impressions, lifeCounter, 656}}}, 3308192, }}}|\n",
      "|{smsProps, mn=TVgwMDAy:sn=MDUxMTMxMzAwMDI=, 1724147812609, suppliesUpdate, {{[{1, 6, AC-A8-8E-63-A4-1-2}, {2, 24, }], [{172.29.1.2, 172.29.1.129, 255.255.255.0, 1}, {127.0.0.1, 10.36.102.1, 255.0.0.0, 2}]}, {SHARP MX-0002, 172.29.1.2, NULL, 05113130002, SHARP-001, {BSMFP SOL1居室6階}, NULL, NULL, NULL, 2300000, SOL1事務機MX-6170FV}}}                                                                                                                                                                        |\n",
      "|{smsProps, mn=TVgwMDAz:sn=MDUxMTMxMzAwMDM=, 1724147812610, basicUpdate, {{[{1, 6, AC-A8-8E-63-A4-1-3}, {2, 24, }], [{127.0.0.1, 172.29.242.129, 255.0.0.0, 2}, {172.29.1.3, 172.29.1.129, 255.255.255.128, 1}]}, {SHARP MX-0003, 172.29.1.3, NULL, 05113130003, SHARP-001, {location-0003}, NULL, NULL, NULL, 2100000, Synappx-0003}}}                                                                                                                                                                                 |\n",
      "|{smsProps, mn=TVgwMDAz:sn=MDUxMTMxMzAwMDM=, 1724147812610, counterUpdate, {{[{1, 6, AC-A8-8E-63-A4-1-3}, {2, 24, }], [{127.0.0.1, 172.29.242.129, 255.0.0.0, 2}, {172.29.1.3, 172.29.1.129, 255.255.255.128, 1}]}, {SHARP MX-0003, 172.29.1.3, NULL, 05113130003, SHARP-001, {}, NULL, NULL, {{{impressions, lifeCounter, 35346}}}, 2100000, }}}                                                                                                                                                                       |\n",
      "|{smsProps, mn=TVgwMDAz:sn=MDUxMTMxMzAwMDM=, 1724147812610, deviceStatus, {{[{1, 6, AC-A8-8E-63-A4-1-3}, {2, 24, }], [{127.0.0.1, 172.29.240.22, 255.0.0.0, 2}, {172.29.1.3, 172.29.1.129, 255.255.254.0, 1}]}, {SHARP MX-0003, 172.29.1.3, [], 05113130003, SHARP-001, {}, [], {false, false, false, false, false, false, false, false, false, false, false, false, true, false, false, false, false, false, false, false, false, false, false, false, false, false}, {{{impressions, lifeCounter, 656}}}, 3308192, }}}|\n",
      "|{smsProps, mn=TVgwMDAz:sn=MDUxMTMxMzAwMDM=, 1724147812610, suppliesUpdate, {{[{1, 6, AC-A8-8E-63-A4-1-3}, {2, 24, }], [{172.29.1.3, 172.29.1.129, 255.255.255.0, 1}, {127.0.0.1, 10.36.102.1, 255.0.0.0, 2}]}, {SHARP MX-0003, 172.29.1.3, NULL, 05113130003, SHARP-001, {BSMFP SOL1居室6階}, NULL, NULL, NULL, 2300000, SOL1事務機MX-6170FV}}}                                                                                                                                                                        |\n",
      "|{smsProps, mn=TVgwMDA0:sn=MDUxMTMxMzAwMDQ=, 1724147812612, basicUpdate, {{[{1, 6, AC-A8-8E-63-A4-1-4}, {2, 24, }], [{127.0.0.1, 172.29.242.129, 255.0.0.0, 2}, {172.29.1.4, 172.29.1.129, 255.255.255.128, 1}]}, {SHARP MX-0004, 172.29.1.4, NULL, 05113130004, SHARP-001, {location-0004}, NULL, NULL, NULL, 2100000, Synappx-0004}}}                                                                                                                                                                                 |\n",
      "|{smsProps, mn=TVgwMDA0:sn=MDUxMTMxMzAwMDQ=, 1724147812613, counterUpdate, {{[{1, 6, AC-A8-8E-63-A4-1-4}, {2, 24, }], [{127.0.0.1, 172.29.242.129, 255.0.0.0, 2}, {172.29.1.4, 172.29.1.129, 255.255.255.128, 1}]}, {SHARP MX-0004, 172.29.1.4, NULL, 05113130004, SHARP-001, {}, NULL, NULL, {{{impressions, lifeCounter, 35346}}}, 2100000, }}}                                                                                                                                                                       |\n",
      "|{smsProps, mn=TVgwMDA0:sn=MDUxMTMxMzAwMDQ=, 1724147812613, deviceStatus, {{[{1, 6, AC-A8-8E-63-A4-1-4}, {2, 24, }], [{127.0.0.1, 172.29.240.22, 255.0.0.0, 2}, {172.29.1.4, 172.29.1.129, 255.255.254.0, 1}]}, {SHARP MX-0004, 172.29.1.4, [], 05113130004, SHARP-001, {}, [], {false, false, false, false, false, false, false, false, false, false, false, false, true, false, false, false, false, false, false, false, false, false, false, false, false, false}, {{{impressions, lifeCounter, 656}}}, 3308192, }}}|\n",
      "|{smsProps, mn=TVgwMDA0:sn=MDUxMTMxMzAwMDQ=, 1724147812614, suppliesUpdate, {{[{1, 6, AC-A8-8E-63-A4-1-4}, {2, 24, }], [{172.29.1.4, 172.29.1.129, 255.255.255.0, 1}, {127.0.0.1, 10.36.102.1, 255.0.0.0, 2}]}, {SHARP MX-0004, 172.29.1.4, NULL, 05113130004, SHARP-001, {BSMFP SOL1居室6階}, NULL, NULL, NULL, 2300000, SOL1事務機MX-6170FV}}}                                                                                                                                                                        |\n",
      "|{smsProps, mn=TVgwMDA1:sn=MDUxMTMxMzAwMDU=, 1724147812619, basicUpdate, {{[{1, 6, AC-A8-8E-63-A4-1-5}, {2, 24, }], [{127.0.0.1, 172.29.242.129, 255.0.0.0, 2}, {172.29.1.5, 172.29.1.129, 255.255.255.128, 1}]}, {SHARP MX-0005, 172.29.1.5, NULL, 05113130005, SHARP-001, {location-0005}, NULL, NULL, NULL, 2100000, Synappx-0005}}}                                                                                                                                                                                 |\n",
      "|{smsProps, mn=TVgwMDA1:sn=MDUxMTMxMzAwMDU=, 1724147812619, counterUpdate, {{[{1, 6, AC-A8-8E-63-A4-1-5}, {2, 24, }], [{127.0.0.1, 172.29.242.129, 255.0.0.0, 2}, {172.29.1.5, 172.29.1.129, 255.255.255.128, 1}]}, {SHARP MX-0005, 172.29.1.5, NULL, 05113130005, SHARP-001, {}, NULL, NULL, {{{impressions, lifeCounter, 35346}}}, 2100000, }}}                                                                                                                                                                       |\n",
      "|{smsProps, mn=TVgwMDA1:sn=MDUxMTMxMzAwMDU=, 1724147812620, deviceStatus, {{[{1, 6, AC-A8-8E-63-A4-1-5}, {2, 24, }], [{127.0.0.1, 172.29.240.22, 255.0.0.0, 2}, {172.29.1.5, 172.29.1.129, 255.255.254.0, 1}]}, {SHARP MX-0005, 172.29.1.5, [], 05113130005, SHARP-001, {}, [], {false, false, false, false, false, false, false, false, false, false, false, false, true, false, false, false, false, false, false, false, false, false, false, false, false, false}, {{{impressions, lifeCounter, 656}}}, 3308192, }}}|\n",
      "|{smsProps, mn=TVgwMDA1:sn=MDUxMTMxMzAwMDU=, 1724147812620, suppliesUpdate, {{[{1, 6, AC-A8-8E-63-A4-1-5}, {2, 24, }], [{172.29.1.5, 172.29.1.129, 255.255.255.0, 1}, {127.0.0.1, 10.36.102.1, 255.0.0.0, 2}]}, {SHARP MX-0005, 172.29.1.5, NULL, 05113130005, SHARP-001, {BSMFP SOL1居室6階}, NULL, NULL, NULL, 2300000, SOL1事務機MX-6170FV}}}                                                                                                                                                                        |\n",
      "+-----------------------------------------------------------------------------------------------------------------------------------------------------------------------------------------------------------------------------------------------------------------------------------------------------------------------------------------------------------------------------------------------------------------------------------------------------------------------------------------------------------------------+\n",
      "only showing top 20 rows\n",
      "\n"
     ]
    }
   ],
   "source": [
    "schema_df2.select('Body').show(truncate=False)"
   ]
  },
  {
   "cell_type": "code",
   "execution_count": 11,
   "id": "6c5f2501",
   "metadata": {},
   "outputs": [
    {
     "data": {
      "text/plain": [
       "['deviceStatus', 'basicUpdate', 'counterUpdate', 'suppliesUpdate']"
      ]
     },
     "execution_count": 11,
     "metadata": {},
     "output_type": "execute_result"
    }
   ],
   "source": [
    "schedule_names = [row[\"scheduleName\"] for row in schema_df2.select(\"Body.scheduleName\").distinct().collect()]\n",
    "schedule_names"
   ]
  },
  {
   "cell_type": "code",
   "execution_count": 12,
   "id": "b01e032c",
   "metadata": {},
   "outputs": [],
   "source": [
    "from delta.tables import DeltaTable\n",
    "from pyspark.sql.functions import *"
   ]
  },
  {
   "cell_type": "code",
   "execution_count": 13,
   "id": "13b0aeb3",
   "metadata": {},
   "outputs": [
    {
     "name": "stdout",
     "output_type": "stream",
     "text": [
      "+--------------------+--------------------+--------------------+--------------------+\n",
      "|     EnqueuedTimeUtc|          Properties|    SystemProperties|                Body|\n",
      "+--------------------+--------------------+--------------------+--------------------+\n",
      "|2024-08-20T09:56:...|{rp.mib/dev/96d1f...|{96d1f469-e0b7-4e...|{smsProps, mn=TVg...|\n",
      "|2024-08-20T09:56:...|{rp.mib/dev/96d1f...|{96d1f469-e0b7-4e...|{smsProps, mn=TVg...|\n",
      "|2024-08-20T09:56:...|{rp.mib/dev/96d1f...|{96d1f469-e0b7-4e...|{smsProps, mn=TVg...|\n",
      "|2024-08-20T09:56:...|{rp.mib/dev/96d1f...|{96d1f469-e0b7-4e...|{smsProps, mn=TVg...|\n",
      "|2024-08-20T09:56:...|{rp.mib/dev/96d1f...|{96d1f469-e0b7-4e...|{smsProps, mn=TVg...|\n",
      "|2024-08-20T09:56:...|{rp.mib/dev/96d1f...|{96d1f469-e0b7-4e...|{smsProps, mn=TVg...|\n",
      "|2024-08-20T09:56:...|{rp.mib/dev/96d1f...|{96d1f469-e0b7-4e...|{smsProps, mn=TVg...|\n",
      "|2024-08-20T09:56:...|{rp.mib/dev/96d1f...|{96d1f469-e0b7-4e...|{smsProps, mn=TVg...|\n",
      "|2024-08-20T09:56:...|{rp.mib/dev/96d1f...|{96d1f469-e0b7-4e...|{smsProps, mn=TVg...|\n",
      "|2024-08-20T09:56:...|{rp.mib/dev/96d1f...|{96d1f469-e0b7-4e...|{smsProps, mn=TVg...|\n",
      "|2024-08-20T09:56:...|{rp.mib/dev/96d1f...|{96d1f469-e0b7-4e...|{smsProps, mn=TVg...|\n",
      "|2024-08-20T09:56:...|{rp.mib/dev/96d1f...|{96d1f469-e0b7-4e...|{smsProps, mn=TVg...|\n",
      "|2024-08-20T09:56:...|{rp.mib/dev/96d1f...|{96d1f469-e0b7-4e...|{smsProps, mn=TVg...|\n",
      "|2024-08-20T09:56:...|{rp.mib/dev/96d1f...|{96d1f469-e0b7-4e...|{smsProps, mn=TVg...|\n",
      "|2024-08-20T09:56:...|{rp.mib/dev/96d1f...|{96d1f469-e0b7-4e...|{smsProps, mn=TVg...|\n",
      "|2024-08-20T09:56:...|{rp.mib/dev/96d1f...|{96d1f469-e0b7-4e...|{smsProps, mn=TVg...|\n",
      "|2024-08-20T09:56:...|{rp.mib/dev/96d1f...|{96d1f469-e0b7-4e...|{smsProps, mn=TVg...|\n",
      "|2024-08-20T09:56:...|{rp.mib/dev/96d1f...|{96d1f469-e0b7-4e...|{smsProps, mn=TVg...|\n",
      "|2024-08-20T09:56:...|{rp.mib/dev/96d1f...|{96d1f469-e0b7-4e...|{smsProps, mn=TVg...|\n",
      "|2024-08-20T09:56:...|{rp.mib/dev/96d1f...|{96d1f469-e0b7-4e...|{smsProps, mn=TVg...|\n",
      "+--------------------+--------------------+--------------------+--------------------+\n",
      "only showing top 20 rows\n",
      "\n"
     ]
    }
   ],
   "source": [
    "schedule_df = schema_df2.filter(col(\"Body.scheduleName\") == 'basicUpdate')\n",
    "schedule_df.show()"
   ]
  },
  {
   "cell_type": "code",
   "execution_count": 15,
   "id": "e468e29b",
   "metadata": {},
   "outputs": [],
   "source": [
    "from pyspark.sql import functions as F\n",
    "\n",
    "flatschedule_df = schedule_df.select(\n",
    "    F.col(\"EnqueuedTimeUtc\").alias(\"EnqueuedTimeUtc\"),\n",
    "    F.col(\"Properties.appTopic\").alias(\"Properties_appTopic\"),\n",
    "    F.col(\"Properties.relatedGroupId\").alias(\"Properties_relatedGroupId\"),\n",
    "    F.col(\"SystemProperties.connectionDeviceId\").alias(\"SystemProperties_connectionDeviceId\"),\n",
    "    F.col(\"SystemProperties.connectionAuthMethod\").alias(\"SystemProperties_connectionAuthMethod\"),\n",
    "    F.col(\"SystemProperties.connectionDeviceGenerationId\").alias(\"SystemProperties_connectionDeviceGenerationId\"),\n",
    "    F.col(\"SystemProperties.contentType\").alias(\"SystemProperties_contentType\"),\n",
    "    F.col(\"SystemProperties.contentEncoding\").alias(\"SystemProperties_contentEncoding\"),\n",
    "    F.col(\"SystemProperties.enqueuedTime\").alias(\"SystemProperties_enqueuedTime\"),\n",
    "    F.col(\"Body.type\").alias(\"Body_type\"),\n",
    "    F.col(\"Body.mnsn\").alias(\"Body_mnsn\"),\n",
    "    F.col(\"Body.timestamp\").alias(\"Body_timestamp\"),\n",
    "    F.col(\"Body.scheduleName\").alias(\"Body_scheduleName\"),\n",
    "    F.col(\"Body.smsProperties.interface.ethernetList\").alias(\"Body_smsProperties_interface_ethernetList\"),\n",
    "    F.col(\"Body.smsProperties.interface.ipList\").alias(\"Body_smsProperties_interface_ipList\"),\n",
    "    F.col(\"Body.smsProperties.device.modelName\").alias(\"Body_smsProperties_device_modelName\"),\n",
    "    F.col(\"Body.smsProperties.device.address\").alias(\"Body_smsProperties_device_address\"),\n",
    "    F.col(\"Body.smsProperties.device.maintenanceCodeList\").alias(\"Body_smsProperties_device_maintenanceCodeList\"),\n",
    "    F.col(\"Body.smsProperties.device.serialId\").alias(\"Body_smsProperties_device_serialId\"),\n",
    "    F.col(\"Body.smsProperties.device.familyName\").alias(\"Body_smsProperties_device_familyName\"),\n",
    "    F.col(\"Body.smsProperties.device.location.address\").alias(\"Body_smsProperties_device_location_address\"),\n",
    "    F.col(\"Body.smsProperties.device.serviceCodeList\").alias(\"Body_smsProperties_device_serviceCodeList\"),\n",
    "    F.col(\"Body.smsProperties.device.statusSet.standby\").alias(\"Body_smsProperties_device_statusSet_standby\"),\n",
    "    F.col(\"Body.smsProperties.device.statusSet.paperJam\").alias(\"Body_smsProperties_device_statusSet_paperJam\"),\n",
    "    F.col(\"Body.smsProperties.device.statusSet.stackerNotInstalled\").alias(\"Body_smsProperties_device_statusSet_stackerNotInstalled\"),\n",
    "    F.col(\"Body.smsProperties.device.statusSet.paperLow\").alias(\"Body_smsProperties_device_statusSet_paperLow\"),\n",
    "    F.col(\"Body.smsProperties.device.statusSet.paperEmpty\").alias(\"Body_smsProperties_device_statusSet_paperEmpty\"),\n",
    "    F.col(\"Body.smsProperties.device.statusSet.offline\").alias(\"Body_smsProperties_device_statusSet_offline\"),\n",
    "    F.col(\"Body.smsProperties.device.statusSet.coverOpen\").alias(\"Body_smsProperties_device_statusSet_coverOpen\"),\n",
    "    F.col(\"Body.smsProperties.device.statusSet.outputTrayFull\").alias(\"Body_smsProperties_device_statusSet_outputTrayFull\"),\n",
    "    F.col(\"Body.smsProperties.device.statusSet.tonerLow\").alias(\"Body_smsProperties_device_statusSet_tonerLow\"),\n",
    "    F.col(\"Body.smsProperties.device.statusSet.printerError\").alias(\"Body_smsProperties_device_statusSet_printerError\"),\n",
    "    F.col(\"Body.smsProperties.device.statusSet.tonerEmpty\").alias(\"Body_smsProperties_device_statusSet_tonerEmpty\"),\n",
    "    F.col(\"Body.smsProperties.device.counter.TYPE.lifeCount.unit\").alias(\"Body_smsProperties_device_counter_TYPE_lifeCount_unit\"),\n",
    "    F.col(\"Body.smsProperties.device.counter.TYPE.lifeCount.type\").alias(\"Body_smsProperties_device_counter_TYPE_lifeCount_type\"),\n",
    "    F.col(\"Body.smsProperties.device.counter.TYPE.lifeCount.value\").alias(\"Body_smsProperties_device_counter_TYPE_lifeCount_value\"),\n",
    "    F.col(\"Body.smsProperties.device.statusRawValue\").alias(\"Body_smsProperties_device_statusRawValue\"),\n",
    "    F.col(\"Body.smsProperties.device.friendlyName\").alias(\"Body_smsProperties_device_friendlyName\")\n",
    ")\n"
   ]
  },
  {
   "cell_type": "code",
   "execution_count": 16,
   "id": "7b741edd",
   "metadata": {},
   "outputs": [
    {
     "name": "stdout",
     "output_type": "stream",
     "text": [
      "+--------------------+--------------------+-------------------------+-----------------------------------+-------------------------------------+---------------------------------------------+----------------------------+--------------------------------+-----------------------------+---------+--------------------+--------------+-----------------+-----------------------------------------+-----------------------------------+-----------------------------------+---------------------------------+---------------------------------------------+----------------------------------+------------------------------------+------------------------------------------+-----------------------------------------+-------------------------------------------+--------------------------------------------+-------------------------------------------------------+--------------------------------------------+----------------------------------------------+-------------------------------------------+---------------------------------------------+--------------------------------------------------+--------------------------------------------+------------------------------------------------+----------------------------------------------+-----------------------------------------------------+-----------------------------------------------------+------------------------------------------------------+----------------------------------------+--------------------------------------+\n",
      "|     EnqueuedTimeUtc| Properties_appTopic|Properties_relatedGroupId|SystemProperties_connectionDeviceId|SystemProperties_connectionAuthMethod|SystemProperties_connectionDeviceGenerationId|SystemProperties_contentType|SystemProperties_contentEncoding|SystemProperties_enqueuedTime|Body_type|           Body_mnsn|Body_timestamp|Body_scheduleName|Body_smsProperties_interface_ethernetList|Body_smsProperties_interface_ipList|Body_smsProperties_device_modelName|Body_smsProperties_device_address|Body_smsProperties_device_maintenanceCodeList|Body_smsProperties_device_serialId|Body_smsProperties_device_familyName|Body_smsProperties_device_location_address|Body_smsProperties_device_serviceCodeList|Body_smsProperties_device_statusSet_standby|Body_smsProperties_device_statusSet_paperJam|Body_smsProperties_device_statusSet_stackerNotInstalled|Body_smsProperties_device_statusSet_paperLow|Body_smsProperties_device_statusSet_paperEmpty|Body_smsProperties_device_statusSet_offline|Body_smsProperties_device_statusSet_coverOpen|Body_smsProperties_device_statusSet_outputTrayFull|Body_smsProperties_device_statusSet_tonerLow|Body_smsProperties_device_statusSet_printerError|Body_smsProperties_device_statusSet_tonerEmpty|Body_smsProperties_device_counter_TYPE_lifeCount_unit|Body_smsProperties_device_counter_TYPE_lifeCount_type|Body_smsProperties_device_counter_TYPE_lifeCount_value|Body_smsProperties_device_statusRawValue|Body_smsProperties_device_friendlyName|\n",
      "+--------------------+--------------------+-------------------------+-----------------------------------+-------------------------------------+---------------------------------------------+----------------------------+--------------------------------+-----------------------------+---------+--------------------+--------------+-----------------+-----------------------------------------+-----------------------------------+-----------------------------------+---------------------------------+---------------------------------------------+----------------------------------+------------------------------------+------------------------------------------+-----------------------------------------+-------------------------------------------+--------------------------------------------+-------------------------------------------------------+--------------------------------------------+----------------------------------------------+-------------------------------------------+---------------------------------------------+--------------------------------------------------+--------------------------------------------+------------------------------------------------+----------------------------------------------+-----------------------------------------------------+-----------------------------------------------------+------------------------------------------------------+----------------------------------------+--------------------------------------+\n",
      "|2024-08-20T09:56:...|rp.mib/dev/96d1f4...|     96d1f469-e0b7-4ee...|               96d1f469-e0b7-4ee...|                 {\"scope\":\"device\"...|                           638525549558955677|            application/JSON|                           UTF-8|         2024-06-01T09:52:...| smsProps|mn=TVgwMDAx:sn=MD...| 1724147812588|      basicUpdate|                     [{1, 6, AC-A8-8E-...|               [{127.0.0.1, 172....|                      SHARP MX-0001|                       172.29.1.1|                                         NULL|                       05113130001|                           SHARP-001|                             location-0001|                                     NULL|                                       NULL|                                        NULL|                                                   NULL|                                        NULL|                                          NULL|                                       NULL|                                         NULL|                                              NULL|                                        NULL|                                            NULL|                                          NULL|                                                 NULL|                                                 NULL|                                                  NULL|                                 2100000|                          Synappx-0001|\n",
      "|2024-08-20T09:56:...|rp.mib/dev/96d1f4...|     96d1f469-e0b7-4ee...|               96d1f469-e0b7-4ee...|                 {\"scope\":\"device\"...|                           638525549558955677|            application/JSON|                           UTF-8|         2024-06-01T09:52:...| smsProps|mn=TVgwMDAy:sn=MD...| 1724147812591|      basicUpdate|                     [{1, 6, AC-A8-8E-...|               [{127.0.0.1, 172....|                      SHARP MX-0002|                       172.29.1.2|                                         NULL|                       05113130002|                           SHARP-001|                             location-0002|                                     NULL|                                       NULL|                                        NULL|                                                   NULL|                                        NULL|                                          NULL|                                       NULL|                                         NULL|                                              NULL|                                        NULL|                                            NULL|                                          NULL|                                                 NULL|                                                 NULL|                                                  NULL|                                 2100000|                          Synappx-0002|\n",
      "|2024-08-20T09:56:...|rp.mib/dev/96d1f4...|     96d1f469-e0b7-4ee...|               96d1f469-e0b7-4ee...|                 {\"scope\":\"device\"...|                           638525549558955677|            application/JSON|                           UTF-8|         2024-06-01T09:52:...| smsProps|mn=TVgwMDAz:sn=MD...| 1724147812610|      basicUpdate|                     [{1, 6, AC-A8-8E-...|               [{127.0.0.1, 172....|                      SHARP MX-0003|                       172.29.1.3|                                         NULL|                       05113130003|                           SHARP-001|                             location-0003|                                     NULL|                                       NULL|                                        NULL|                                                   NULL|                                        NULL|                                          NULL|                                       NULL|                                         NULL|                                              NULL|                                        NULL|                                            NULL|                                          NULL|                                                 NULL|                                                 NULL|                                                  NULL|                                 2100000|                          Synappx-0003|\n",
      "|2024-08-20T09:56:...|rp.mib/dev/96d1f4...|     96d1f469-e0b7-4ee...|               96d1f469-e0b7-4ee...|                 {\"scope\":\"device\"...|                           638525549558955677|            application/JSON|                           UTF-8|         2024-06-01T09:52:...| smsProps|mn=TVgwMDA0:sn=MD...| 1724147812612|      basicUpdate|                     [{1, 6, AC-A8-8E-...|               [{127.0.0.1, 172....|                      SHARP MX-0004|                       172.29.1.4|                                         NULL|                       05113130004|                           SHARP-001|                             location-0004|                                     NULL|                                       NULL|                                        NULL|                                                   NULL|                                        NULL|                                          NULL|                                       NULL|                                         NULL|                                              NULL|                                        NULL|                                            NULL|                                          NULL|                                                 NULL|                                                 NULL|                                                  NULL|                                 2100000|                          Synappx-0004|\n",
      "|2024-08-20T09:56:...|rp.mib/dev/96d1f4...|     96d1f469-e0b7-4ee...|               96d1f469-e0b7-4ee...|                 {\"scope\":\"device\"...|                           638525549558955677|            application/JSON|                           UTF-8|         2024-06-01T09:52:...| smsProps|mn=TVgwMDA1:sn=MD...| 1724147812619|      basicUpdate|                     [{1, 6, AC-A8-8E-...|               [{127.0.0.1, 172....|                      SHARP MX-0005|                       172.29.1.5|                                         NULL|                       05113130005|                           SHARP-001|                             location-0005|                                     NULL|                                       NULL|                                        NULL|                                                   NULL|                                        NULL|                                          NULL|                                       NULL|                                         NULL|                                              NULL|                                        NULL|                                            NULL|                                          NULL|                                                 NULL|                                                 NULL|                                                  NULL|                                 2100000|                          Synappx-0005|\n",
      "|2024-08-20T09:56:...|rp.mib/dev/96d1f4...|     96d1f469-e0b7-4ee...|               96d1f469-e0b7-4ee...|                 {\"scope\":\"device\"...|                           638525549558955677|            application/JSON|                           UTF-8|         2024-06-01T09:52:...| smsProps|mn=TVgwMDA2:sn=MD...| 1724147812622|      basicUpdate|                     [{1, 6, AC-A8-8E-...|               [{127.0.0.1, 172....|                      SHARP MX-0006|                       172.29.1.6|                                         NULL|                       05113130006|                           SHARP-001|                             location-0006|                                     NULL|                                       NULL|                                        NULL|                                                   NULL|                                        NULL|                                          NULL|                                       NULL|                                         NULL|                                              NULL|                                        NULL|                                            NULL|                                          NULL|                                                 NULL|                                                 NULL|                                                  NULL|                                 2100000|                          Synappx-0006|\n",
      "|2024-08-20T09:56:...|rp.mib/dev/96d1f4...|     96d1f469-e0b7-4ee...|               96d1f469-e0b7-4ee...|                 {\"scope\":\"device\"...|                           638525549558955677|            application/JSON|                           UTF-8|         2024-06-01T09:52:...| smsProps|mn=TVgwMDA3:sn=MD...| 1724147812624|      basicUpdate|                     [{1, 6, AC-A8-8E-...|               [{127.0.0.1, 172....|                      SHARP MX-0007|                       172.29.1.7|                                         NULL|                       05113130007|                           SHARP-001|                             location-0007|                                     NULL|                                       NULL|                                        NULL|                                                   NULL|                                        NULL|                                          NULL|                                       NULL|                                         NULL|                                              NULL|                                        NULL|                                            NULL|                                          NULL|                                                 NULL|                                                 NULL|                                                  NULL|                                 2100000|                          Synappx-0007|\n",
      "|2024-08-20T09:56:...|rp.mib/dev/96d1f4...|     96d1f469-e0b7-4ee...|               96d1f469-e0b7-4ee...|                 {\"scope\":\"device\"...|                           638525549558955677|            application/JSON|                           UTF-8|         2024-06-01T09:52:...| smsProps|mn=TVgwMDA4:sn=MD...| 1724147812626|      basicUpdate|                     [{1, 6, AC-A8-8E-...|               [{127.0.0.1, 172....|                      SHARP MX-0008|                       172.29.1.8|                                         NULL|                       05113130008|                           SHARP-001|                             location-0008|                                     NULL|                                       NULL|                                        NULL|                                                   NULL|                                        NULL|                                          NULL|                                       NULL|                                         NULL|                                              NULL|                                        NULL|                                            NULL|                                          NULL|                                                 NULL|                                                 NULL|                                                  NULL|                                 2100000|                          Synappx-0008|\n",
      "|2024-08-20T09:56:...|rp.mib/dev/96d1f4...|     96d1f469-e0b7-4ee...|               96d1f469-e0b7-4ee...|                 {\"scope\":\"device\"...|                           638525549558955677|            application/JSON|                           UTF-8|         2024-06-01T09:52:...| smsProps|mn=TVgwMDA5:sn=MD...| 1724147812628|      basicUpdate|                     [{1, 6, AC-A8-8E-...|               [{127.0.0.1, 172....|                      SHARP MX-0009|                       172.29.1.9|                                         NULL|                       05113130009|                           SHARP-001|                             location-0009|                                     NULL|                                       NULL|                                        NULL|                                                   NULL|                                        NULL|                                          NULL|                                       NULL|                                         NULL|                                              NULL|                                        NULL|                                            NULL|                                          NULL|                                                 NULL|                                                 NULL|                                                  NULL|                                 2100000|                          Synappx-0009|\n",
      "|2024-08-20T09:56:...|rp.mib/dev/96d1f4...|     96d1f469-e0b7-4ee...|               96d1f469-e0b7-4ee...|                 {\"scope\":\"device\"...|                           638525549558955677|            application/JSON|                           UTF-8|         2024-06-01T09:52:...| smsProps|mn=TVgwMDEw:sn=MD...| 1724147812633|      basicUpdate|                     [{1, 6, AC-A8-8E-...|               [{127.0.0.1, 172....|                      SHARP MX-0010|                      172.29.1.10|                                         NULL|                       05113130010|                           SHARP-001|                             location-0010|                                     NULL|                                       NULL|                                        NULL|                                                   NULL|                                        NULL|                                          NULL|                                       NULL|                                         NULL|                                              NULL|                                        NULL|                                            NULL|                                          NULL|                                                 NULL|                                                 NULL|                                                  NULL|                                 2100000|                          Synappx-0010|\n",
      "|2024-08-20T09:56:...|rp.mib/dev/96d1f4...|     96d1f469-e0b7-4ee...|               96d1f469-e0b7-4ee...|                 {\"scope\":\"device\"...|                           638525549558955677|            application/JSON|                           UTF-8|         2024-06-01T09:52:...| smsProps|mn=TVgwMDEx:sn=MD...| 1724147812636|      basicUpdate|                     [{1, 6, AC-A8-8E-...|               [{127.0.0.1, 172....|                      SHARP MX-0011|                      172.29.1.11|                                         NULL|                       05113130011|                           SHARP-001|                             location-0011|                                     NULL|                                       NULL|                                        NULL|                                                   NULL|                                        NULL|                                          NULL|                                       NULL|                                         NULL|                                              NULL|                                        NULL|                                            NULL|                                          NULL|                                                 NULL|                                                 NULL|                                                  NULL|                                 2100000|                          Synappx-0011|\n",
      "|2024-08-20T09:56:...|rp.mib/dev/96d1f4...|     96d1f469-e0b7-4ee...|               96d1f469-e0b7-4ee...|                 {\"scope\":\"device\"...|                           638525549558955677|            application/JSON|                           UTF-8|         2024-06-01T09:52:...| smsProps|mn=TVgwMDEy:sn=MD...| 1724147812639|      basicUpdate|                     [{1, 6, AC-A8-8E-...|               [{127.0.0.1, 172....|                      SHARP MX-0012|                      172.29.1.12|                                         NULL|                       05113130012|                           SHARP-001|                             location-0012|                                     NULL|                                       NULL|                                        NULL|                                                   NULL|                                        NULL|                                          NULL|                                       NULL|                                         NULL|                                              NULL|                                        NULL|                                            NULL|                                          NULL|                                                 NULL|                                                 NULL|                                                  NULL|                                 2100000|                          Synappx-0012|\n",
      "|2024-08-20T09:56:...|rp.mib/dev/96d1f4...|     96d1f469-e0b7-4ee...|               96d1f469-e0b7-4ee...|                 {\"scope\":\"device\"...|                           638525549558955677|            application/JSON|                           UTF-8|         2024-06-01T09:52:...| smsProps|mn=TVgwMDEz:sn=MD...| 1724147812641|      basicUpdate|                     [{1, 6, AC-A8-8E-...|               [{127.0.0.1, 172....|                      SHARP MX-0013|                      172.29.1.13|                                         NULL|                       05113130013|                           SHARP-001|                             location-0013|                                     NULL|                                       NULL|                                        NULL|                                                   NULL|                                        NULL|                                          NULL|                                       NULL|                                         NULL|                                              NULL|                                        NULL|                                            NULL|                                          NULL|                                                 NULL|                                                 NULL|                                                  NULL|                                 2100000|                          Synappx-0013|\n",
      "|2024-08-20T09:56:...|rp.mib/dev/96d1f4...|     96d1f469-e0b7-4ee...|               96d1f469-e0b7-4ee...|                 {\"scope\":\"device\"...|                           638525549558955677|            application/JSON|                           UTF-8|         2024-06-01T09:52:...| smsProps|mn=TVgwMDE0:sn=MD...| 1724147812642|      basicUpdate|                     [{1, 6, AC-A8-8E-...|               [{127.0.0.1, 172....|                      SHARP MX-0014|                      172.29.1.14|                                         NULL|                       05113130014|                           SHARP-001|                             location-0014|                                     NULL|                                       NULL|                                        NULL|                                                   NULL|                                        NULL|                                          NULL|                                       NULL|                                         NULL|                                              NULL|                                        NULL|                                            NULL|                                          NULL|                                                 NULL|                                                 NULL|                                                  NULL|                                 2100000|                          Synappx-0014|\n",
      "|2024-08-20T09:56:...|rp.mib/dev/96d1f4...|     96d1f469-e0b7-4ee...|               96d1f469-e0b7-4ee...|                 {\"scope\":\"device\"...|                           638525549558955677|            application/JSON|                           UTF-8|         2024-06-01T09:52:...| smsProps|mn=TVgwMDE1:sn=MD...| 1724147812644|      basicUpdate|                     [{1, 6, AC-A8-8E-...|               [{127.0.0.1, 172....|                      SHARP MX-0015|                      172.29.1.15|                                         NULL|                       05113130015|                           SHARP-001|                             location-0015|                                     NULL|                                       NULL|                                        NULL|                                                   NULL|                                        NULL|                                          NULL|                                       NULL|                                         NULL|                                              NULL|                                        NULL|                                            NULL|                                          NULL|                                                 NULL|                                                 NULL|                                                  NULL|                                 2100000|                          Synappx-0015|\n",
      "|2024-08-20T09:56:...|rp.mib/dev/96d1f4...|     96d1f469-e0b7-4ee...|               96d1f469-e0b7-4ee...|                 {\"scope\":\"device\"...|                           638525549558955677|            application/JSON|                           UTF-8|         2024-06-01T09:52:...| smsProps|mn=TVgwMDE2:sn=MD...| 1724147812646|      basicUpdate|                     [{1, 6, AC-A8-8E-...|               [{127.0.0.1, 172....|                      SHARP MX-0016|                      172.29.1.16|                                         NULL|                       05113130016|                           SHARP-001|                             location-0016|                                     NULL|                                       NULL|                                        NULL|                                                   NULL|                                        NULL|                                          NULL|                                       NULL|                                         NULL|                                              NULL|                                        NULL|                                            NULL|                                          NULL|                                                 NULL|                                                 NULL|                                                  NULL|                                 2100000|                          Synappx-0016|\n",
      "|2024-08-20T09:56:...|rp.mib/dev/96d1f4...|     96d1f469-e0b7-4ee...|               96d1f469-e0b7-4ee...|                 {\"scope\":\"device\"...|                           638525549558955677|            application/JSON|                           UTF-8|         2024-06-01T09:52:...| smsProps|mn=TVgwMDE3:sn=MD...| 1724147812649|      basicUpdate|                     [{1, 6, AC-A8-8E-...|               [{127.0.0.1, 172....|                      SHARP MX-0017|                      172.29.1.17|                                         NULL|                       05113130017|                           SHARP-001|                             location-0017|                                     NULL|                                       NULL|                                        NULL|                                                   NULL|                                        NULL|                                          NULL|                                       NULL|                                         NULL|                                              NULL|                                        NULL|                                            NULL|                                          NULL|                                                 NULL|                                                 NULL|                                                  NULL|                                 2100000|                          Synappx-0017|\n",
      "|2024-08-20T09:56:...|rp.mib/dev/96d1f4...|     96d1f469-e0b7-4ee...|               96d1f469-e0b7-4ee...|                 {\"scope\":\"device\"...|                           638525549558955677|            application/JSON|                           UTF-8|         2024-06-01T09:52:...| smsProps|mn=TVgwMDE4:sn=MD...| 1724147812652|      basicUpdate|                     [{1, 6, AC-A8-8E-...|               [{127.0.0.1, 172....|                      SHARP MX-0018|                      172.29.1.18|                                         NULL|                       05113130018|                           SHARP-001|                             location-0018|                                     NULL|                                       NULL|                                        NULL|                                                   NULL|                                        NULL|                                          NULL|                                       NULL|                                         NULL|                                              NULL|                                        NULL|                                            NULL|                                          NULL|                                                 NULL|                                                 NULL|                                                  NULL|                                 2100000|                          Synappx-0018|\n",
      "|2024-08-20T09:56:...|rp.mib/dev/96d1f4...|     96d1f469-e0b7-4ee...|               96d1f469-e0b7-4ee...|                 {\"scope\":\"device\"...|                           638525549558955677|            application/JSON|                           UTF-8|         2024-06-01T09:52:...| smsProps|mn=TVgwMDE5:sn=MD...| 1724147812654|      basicUpdate|                     [{1, 6, AC-A8-8E-...|               [{127.0.0.1, 172....|                      SHARP MX-0019|                      172.29.1.19|                                         NULL|                       05113130019|                           SHARP-001|                             location-0019|                                     NULL|                                       NULL|                                        NULL|                                                   NULL|                                        NULL|                                          NULL|                                       NULL|                                         NULL|                                              NULL|                                        NULL|                                            NULL|                                          NULL|                                                 NULL|                                                 NULL|                                                  NULL|                                 2100000|                          Synappx-0019|\n",
      "|2024-08-20T09:56:...|rp.mib/dev/96d1f4...|     96d1f469-e0b7-4ee...|               96d1f469-e0b7-4ee...|                 {\"scope\":\"device\"...|                           638525549558955677|            application/JSON|                           UTF-8|         2024-06-01T09:52:...| smsProps|mn=TVgwMDIw:sn=MD...| 1724147812655|      basicUpdate|                     [{1, 6, AC-A8-8E-...|               [{127.0.0.1, 172....|                      SHARP MX-0020|                      172.29.1.20|                                         NULL|                       05113130020|                           SHARP-001|                             location-0020|                                     NULL|                                       NULL|                                        NULL|                                                   NULL|                                        NULL|                                          NULL|                                       NULL|                                         NULL|                                              NULL|                                        NULL|                                            NULL|                                          NULL|                                                 NULL|                                                 NULL|                                                  NULL|                                 2100000|                          Synappx-0020|\n",
      "+--------------------+--------------------+-------------------------+-----------------------------------+-------------------------------------+---------------------------------------------+----------------------------+--------------------------------+-----------------------------+---------+--------------------+--------------+-----------------+-----------------------------------------+-----------------------------------+-----------------------------------+---------------------------------+---------------------------------------------+----------------------------------+------------------------------------+------------------------------------------+-----------------------------------------+-------------------------------------------+--------------------------------------------+-------------------------------------------------------+--------------------------------------------+----------------------------------------------+-------------------------------------------+---------------------------------------------+--------------------------------------------------+--------------------------------------------+------------------------------------------------+----------------------------------------------+-----------------------------------------------------+-----------------------------------------------------+------------------------------------------------------+----------------------------------------+--------------------------------------+\n",
      "only showing top 20 rows\n",
      "\n"
     ]
    },
    {
     "data": {
      "text/plain": [
       "500"
      ]
     },
     "execution_count": 16,
     "metadata": {},
     "output_type": "execute_result"
    }
   ],
   "source": [
    "flatschedule_df.show()\n",
    "flatschedule_df.count()"
   ]
  },
  {
   "cell_type": "code",
   "execution_count": 17,
   "id": "649607c5",
   "metadata": {},
   "outputs": [
    {
     "name": "stdout",
     "output_type": "stream",
     "text": [
      "+--------------------+--------------------+-------------------------+-----------------------------------+-------------------------------------+---------------------------------------------+----------------------------+--------------------------------+-----------------------------+---------+--------------------+--------------+-----------------+-----------------------------------------+-----------------------------------+-----------------------------------+---------------------------------+---------------------------------------------+----------------------------------+------------------------------------+------------------------------------------+-----------------------------------------+-------------------------------------------+--------------------------------------------+-------------------------------------------------------+--------------------------------------------+----------------------------------------------+-------------------------------------------+---------------------------------------------+--------------------------------------------------+--------------------------------------------+------------------------------------------------+----------------------------------------------+-----------------------------------------------------+-----------------------------------------------------+------------------------------------------------------+----------------------------------------+--------------------------------------+\n",
      "|     EnqueuedTimeUtc| Properties_appTopic|Properties_relatedGroupId|SystemProperties_connectionDeviceId|SystemProperties_connectionAuthMethod|SystemProperties_connectionDeviceGenerationId|SystemProperties_contentType|SystemProperties_contentEncoding|SystemProperties_enqueuedTime|Body_type|           Body_mnsn|Body_timestamp|Body_scheduleName|Body_smsProperties_interface_ethernetList|Body_smsProperties_interface_ipList|Body_smsProperties_device_modelName|Body_smsProperties_device_address|Body_smsProperties_device_maintenanceCodeList|Body_smsProperties_device_serialId|Body_smsProperties_device_familyName|Body_smsProperties_device_location_address|Body_smsProperties_device_serviceCodeList|Body_smsProperties_device_statusSet_standby|Body_smsProperties_device_statusSet_paperJam|Body_smsProperties_device_statusSet_stackerNotInstalled|Body_smsProperties_device_statusSet_paperLow|Body_smsProperties_device_statusSet_paperEmpty|Body_smsProperties_device_statusSet_offline|Body_smsProperties_device_statusSet_coverOpen|Body_smsProperties_device_statusSet_outputTrayFull|Body_smsProperties_device_statusSet_tonerLow|Body_smsProperties_device_statusSet_printerError|Body_smsProperties_device_statusSet_tonerEmpty|Body_smsProperties_device_counter_TYPE_lifeCount_unit|Body_smsProperties_device_counter_TYPE_lifeCount_type|Body_smsProperties_device_counter_TYPE_lifeCount_value|Body_smsProperties_device_statusRawValue|Body_smsProperties_device_friendlyName|\n",
      "+--------------------+--------------------+-------------------------+-----------------------------------+-------------------------------------+---------------------------------------------+----------------------------+--------------------------------+-----------------------------+---------+--------------------+--------------+-----------------+-----------------------------------------+-----------------------------------+-----------------------------------+---------------------------------+---------------------------------------------+----------------------------------+------------------------------------+------------------------------------------+-----------------------------------------+-------------------------------------------+--------------------------------------------+-------------------------------------------------------+--------------------------------------------+----------------------------------------------+-------------------------------------------+---------------------------------------------+--------------------------------------------------+--------------------------------------------+------------------------------------------------+----------------------------------------------+-----------------------------------------------------+-----------------------------------------------------+------------------------------------------------------+----------------------------------------+--------------------------------------+\n",
      "|2024-08-20T09:56:...|rp.mib/dev/96d1f4...|     96d1f469-e0b7-4ee...|               96d1f469-e0b7-4ee...|                 {\"scope\":\"device\"...|                           638525549558955677|            application/JSON|                           UTF-8|         2024-06-01T09:52:...| smsProps|mn=TVgwNTAw:sn=MD...| 1724147813655|      basicUpdate|                     [{1, 6, AC-A8-8E-...|               [{127.0.0.1, 172....|                      SHARP MX-0500|                     172.29.1.500|                                         NULL|                       05113130500|                           SHARP-001|                             location-0500|                                     NULL|                                       NULL|                                        NULL|                                                   NULL|                                        NULL|                                          NULL|                                       NULL|                                         NULL|                                              NULL|                                        NULL|                                            NULL|                                          NULL|                                                 NULL|                                                 NULL|                                                  NULL|                                 2100000|                          Synappx-0500|\n",
      "+--------------------+--------------------+-------------------------+-----------------------------------+-------------------------------------+---------------------------------------------+----------------------------+--------------------------------+-----------------------------+---------+--------------------+--------------+-----------------+-----------------------------------------+-----------------------------------+-----------------------------------+---------------------------------+---------------------------------------------+----------------------------------+------------------------------------+------------------------------------------+-----------------------------------------+-------------------------------------------+--------------------------------------------+-------------------------------------------------------+--------------------------------------------+----------------------------------------------+-------------------------------------------+---------------------------------------------+--------------------------------------------------+--------------------------------------------+------------------------------------------------+----------------------------------------------+-----------------------------------------------------+-----------------------------------------------------+------------------------------------------------------+----------------------------------------+--------------------------------------+\n",
      "\n"
     ]
    }
   ],
   "source": [
    "latest_data=flatschedule_df.sort(flatschedule_df.Body_timestamp.desc()).limit(1)\n",
    "latest_data.show()"
   ]
  },
  {
   "cell_type": "code",
   "execution_count": 18,
   "id": "677bda88",
   "metadata": {},
   "outputs": [
    {
     "name": "stdout",
     "output_type": "stream",
     "text": [
      "+--------------------+--------------------+-------------------------+-----------------------------------+-------------------------------------+---------------------------------------------+----------------------------+--------------------------------+-----------------------------+---------+--------------------+--------------+-----------------+-----------------------------------------+-----------------------------------+-----------------------------------+---------------------------------+---------------------------------------------+----------------------------------+------------------------------------+------------------------------------------+-----------------------------------------+-------------------------------------------+--------------------------------------------+-------------------------------------------------------+--------------------------------------------+----------------------------------------------+-------------------------------------------+---------------------------------------------+--------------------------------------------------+--------------------------------------------+------------------------------------------------+----------------------------------------------+-----------------------------------------------------+-----------------------------------------------------+------------------------------------------------------+----------------------------------------+--------------------------------------+\n",
      "|     EnqueuedTimeUtc| Properties_appTopic|Properties_relatedGroupId|SystemProperties_connectionDeviceId|SystemProperties_connectionAuthMethod|SystemProperties_connectionDeviceGenerationId|SystemProperties_contentType|SystemProperties_contentEncoding|SystemProperties_enqueuedTime|Body_type|           Body_mnsn|Body_timestamp|Body_scheduleName|Body_smsProperties_interface_ethernetList|Body_smsProperties_interface_ipList|Body_smsProperties_device_modelName|Body_smsProperties_device_address|Body_smsProperties_device_maintenanceCodeList|Body_smsProperties_device_serialId|Body_smsProperties_device_familyName|Body_smsProperties_device_location_address|Body_smsProperties_device_serviceCodeList|Body_smsProperties_device_statusSet_standby|Body_smsProperties_device_statusSet_paperJam|Body_smsProperties_device_statusSet_stackerNotInstalled|Body_smsProperties_device_statusSet_paperLow|Body_smsProperties_device_statusSet_paperEmpty|Body_smsProperties_device_statusSet_offline|Body_smsProperties_device_statusSet_coverOpen|Body_smsProperties_device_statusSet_outputTrayFull|Body_smsProperties_device_statusSet_tonerLow|Body_smsProperties_device_statusSet_printerError|Body_smsProperties_device_statusSet_tonerEmpty|Body_smsProperties_device_counter_TYPE_lifeCount_unit|Body_smsProperties_device_counter_TYPE_lifeCount_type|Body_smsProperties_device_counter_TYPE_lifeCount_value|Body_smsProperties_device_statusRawValue|Body_smsProperties_device_friendlyName|\n",
      "+--------------------+--------------------+-------------------------+-----------------------------------+-------------------------------------+---------------------------------------------+----------------------------+--------------------------------+-----------------------------+---------+--------------------+--------------+-----------------+-----------------------------------------+-----------------------------------+-----------------------------------+---------------------------------+---------------------------------------------+----------------------------------+------------------------------------+------------------------------------------+-----------------------------------------+-------------------------------------------+--------------------------------------------+-------------------------------------------------------+--------------------------------------------+----------------------------------------------+-------------------------------------------+---------------------------------------------+--------------------------------------------------+--------------------------------------------+------------------------------------------------+----------------------------------------------+-----------------------------------------------------+-----------------------------------------------------+------------------------------------------------------+----------------------------------------+--------------------------------------+\n",
      "|2024-08-20T09:56:...|rp.mib/dev/96d1f4...|     96d1f469-e0b7-4ee...|               96d1f469-e0b7-4ee...|                 {\"scope\":\"device\"...|                           638525549558955677|            application/JSON|                           UTF-8|         2024-06-01T09:52:...| smsProps|mn=TVgwMDAx:sn=MD...| 1724147812588|      basicUpdate|                     [{1, 6, AC-A8-8E-...|               [{127.0.0.1, 172....|                      SHARP MX-0001|                       172.29.1.1|                                         NULL|                       05113130001|                           SHARP-001|                             location-0001|                                     NULL|                                       NULL|                                        NULL|                                                   NULL|                                        NULL|                                          NULL|                                       NULL|                                         NULL|                                              NULL|                                        NULL|                                            NULL|                                          NULL|                                                 NULL|                                                 NULL|                                                  NULL|                                 2100000|                          Synappx-0001|\n",
      "|2024-08-20T09:56:...|rp.mib/dev/96d1f4...|     96d1f469-e0b7-4ee...|               96d1f469-e0b7-4ee...|                 {\"scope\":\"device\"...|                           638525549558955677|            application/JSON|                           UTF-8|         2024-06-01T09:52:...| smsProps|mn=TVgwMDAy:sn=MD...| 1724147812591|      basicUpdate|                     [{1, 6, AC-A8-8E-...|               [{127.0.0.1, 172....|                      SHARP MX-0002|                       172.29.1.2|                                         NULL|                       05113130002|                           SHARP-001|                             location-0002|                                     NULL|                                       NULL|                                        NULL|                                                   NULL|                                        NULL|                                          NULL|                                       NULL|                                         NULL|                                              NULL|                                        NULL|                                            NULL|                                          NULL|                                                 NULL|                                                 NULL|                                                  NULL|                                 2100000|                          Synappx-0002|\n",
      "|2024-08-20T09:56:...|rp.mib/dev/96d1f4...|     96d1f469-e0b7-4ee...|               96d1f469-e0b7-4ee...|                 {\"scope\":\"device\"...|                           638525549558955677|            application/JSON|                           UTF-8|         2024-06-01T09:52:...| smsProps|mn=TVgwMDAz:sn=MD...| 1724147812610|      basicUpdate|                     [{1, 6, AC-A8-8E-...|               [{127.0.0.1, 172....|                      SHARP MX-0003|                       172.29.1.3|                                         NULL|                       05113130003|                           SHARP-001|                             location-0003|                                     NULL|                                       NULL|                                        NULL|                                                   NULL|                                        NULL|                                          NULL|                                       NULL|                                         NULL|                                              NULL|                                        NULL|                                            NULL|                                          NULL|                                                 NULL|                                                 NULL|                                                  NULL|                                 2100000|                          Synappx-0003|\n",
      "|2024-08-20T09:56:...|rp.mib/dev/96d1f4...|     96d1f469-e0b7-4ee...|               96d1f469-e0b7-4ee...|                 {\"scope\":\"device\"...|                           638525549558955677|            application/JSON|                           UTF-8|         2024-06-01T09:52:...| smsProps|mn=TVgwMDA0:sn=MD...| 1724147812612|      basicUpdate|                     [{1, 6, AC-A8-8E-...|               [{127.0.0.1, 172....|                      SHARP MX-0004|                       172.29.1.4|                                         NULL|                       05113130004|                           SHARP-001|                             location-0004|                                     NULL|                                       NULL|                                        NULL|                                                   NULL|                                        NULL|                                          NULL|                                       NULL|                                         NULL|                                              NULL|                                        NULL|                                            NULL|                                          NULL|                                                 NULL|                                                 NULL|                                                  NULL|                                 2100000|                          Synappx-0004|\n",
      "|2024-08-20T09:56:...|rp.mib/dev/96d1f4...|     96d1f469-e0b7-4ee...|               96d1f469-e0b7-4ee...|                 {\"scope\":\"device\"...|                           638525549558955677|            application/JSON|                           UTF-8|         2024-06-01T09:52:...| smsProps|mn=TVgwMDA1:sn=MD...| 1724147812619|      basicUpdate|                     [{1, 6, AC-A8-8E-...|               [{127.0.0.1, 172....|                      SHARP MX-0005|                       172.29.1.5|                                         NULL|                       05113130005|                           SHARP-001|                             location-0005|                                     NULL|                                       NULL|                                        NULL|                                                   NULL|                                        NULL|                                          NULL|                                       NULL|                                         NULL|                                              NULL|                                        NULL|                                            NULL|                                          NULL|                                                 NULL|                                                 NULL|                                                  NULL|                                 2100000|                          Synappx-0005|\n",
      "|2024-08-20T09:56:...|rp.mib/dev/96d1f4...|     96d1f469-e0b7-4ee...|               96d1f469-e0b7-4ee...|                 {\"scope\":\"device\"...|                           638525549558955677|            application/JSON|                           UTF-8|         2024-06-01T09:52:...| smsProps|mn=TVgwMDA2:sn=MD...| 1724147812622|      basicUpdate|                     [{1, 6, AC-A8-8E-...|               [{127.0.0.1, 172....|                      SHARP MX-0006|                       172.29.1.6|                                         NULL|                       05113130006|                           SHARP-001|                             location-0006|                                     NULL|                                       NULL|                                        NULL|                                                   NULL|                                        NULL|                                          NULL|                                       NULL|                                         NULL|                                              NULL|                                        NULL|                                            NULL|                                          NULL|                                                 NULL|                                                 NULL|                                                  NULL|                                 2100000|                          Synappx-0006|\n",
      "|2024-08-20T09:56:...|rp.mib/dev/96d1f4...|     96d1f469-e0b7-4ee...|               96d1f469-e0b7-4ee...|                 {\"scope\":\"device\"...|                           638525549558955677|            application/JSON|                           UTF-8|         2024-06-01T09:52:...| smsProps|mn=TVgwMDA3:sn=MD...| 1724147812624|      basicUpdate|                     [{1, 6, AC-A8-8E-...|               [{127.0.0.1, 172....|                      SHARP MX-0007|                       172.29.1.7|                                         NULL|                       05113130007|                           SHARP-001|                             location-0007|                                     NULL|                                       NULL|                                        NULL|                                                   NULL|                                        NULL|                                          NULL|                                       NULL|                                         NULL|                                              NULL|                                        NULL|                                            NULL|                                          NULL|                                                 NULL|                                                 NULL|                                                  NULL|                                 2100000|                          Synappx-0007|\n",
      "|2024-08-20T09:56:...|rp.mib/dev/96d1f4...|     96d1f469-e0b7-4ee...|               96d1f469-e0b7-4ee...|                 {\"scope\":\"device\"...|                           638525549558955677|            application/JSON|                           UTF-8|         2024-06-01T09:52:...| smsProps|mn=TVgwMDA4:sn=MD...| 1724147812626|      basicUpdate|                     [{1, 6, AC-A8-8E-...|               [{127.0.0.1, 172....|                      SHARP MX-0008|                       172.29.1.8|                                         NULL|                       05113130008|                           SHARP-001|                             location-0008|                                     NULL|                                       NULL|                                        NULL|                                                   NULL|                                        NULL|                                          NULL|                                       NULL|                                         NULL|                                              NULL|                                        NULL|                                            NULL|                                          NULL|                                                 NULL|                                                 NULL|                                                  NULL|                                 2100000|                          Synappx-0008|\n",
      "|2024-08-20T09:56:...|rp.mib/dev/96d1f4...|     96d1f469-e0b7-4ee...|               96d1f469-e0b7-4ee...|                 {\"scope\":\"device\"...|                           638525549558955677|            application/JSON|                           UTF-8|         2024-06-01T09:52:...| smsProps|mn=TVgwMDA5:sn=MD...| 1724147812628|      basicUpdate|                     [{1, 6, AC-A8-8E-...|               [{127.0.0.1, 172....|                      SHARP MX-0009|                       172.29.1.9|                                         NULL|                       05113130009|                           SHARP-001|                             location-0009|                                     NULL|                                       NULL|                                        NULL|                                                   NULL|                                        NULL|                                          NULL|                                       NULL|                                         NULL|                                              NULL|                                        NULL|                                            NULL|                                          NULL|                                                 NULL|                                                 NULL|                                                  NULL|                                 2100000|                          Synappx-0009|\n",
      "|2024-08-20T09:56:...|rp.mib/dev/96d1f4...|     96d1f469-e0b7-4ee...|               96d1f469-e0b7-4ee...|                 {\"scope\":\"device\"...|                           638525549558955677|            application/JSON|                           UTF-8|         2024-06-01T09:52:...| smsProps|mn=TVgwMDEw:sn=MD...| 1724147812633|      basicUpdate|                     [{1, 6, AC-A8-8E-...|               [{127.0.0.1, 172....|                      SHARP MX-0010|                      172.29.1.10|                                         NULL|                       05113130010|                           SHARP-001|                             location-0010|                                     NULL|                                       NULL|                                        NULL|                                                   NULL|                                        NULL|                                          NULL|                                       NULL|                                         NULL|                                              NULL|                                        NULL|                                            NULL|                                          NULL|                                                 NULL|                                                 NULL|                                                  NULL|                                 2100000|                          Synappx-0010|\n",
      "|2024-08-20T09:56:...|rp.mib/dev/96d1f4...|     96d1f469-e0b7-4ee...|               96d1f469-e0b7-4ee...|                 {\"scope\":\"device\"...|                           638525549558955677|            application/JSON|                           UTF-8|         2024-06-01T09:52:...| smsProps|mn=TVgwMDEx:sn=MD...| 1724147812636|      basicUpdate|                     [{1, 6, AC-A8-8E-...|               [{127.0.0.1, 172....|                      SHARP MX-0011|                      172.29.1.11|                                         NULL|                       05113130011|                           SHARP-001|                             location-0011|                                     NULL|                                       NULL|                                        NULL|                                                   NULL|                                        NULL|                                          NULL|                                       NULL|                                         NULL|                                              NULL|                                        NULL|                                            NULL|                                          NULL|                                                 NULL|                                                 NULL|                                                  NULL|                                 2100000|                          Synappx-0011|\n",
      "|2024-08-20T09:56:...|rp.mib/dev/96d1f4...|     96d1f469-e0b7-4ee...|               96d1f469-e0b7-4ee...|                 {\"scope\":\"device\"...|                           638525549558955677|            application/JSON|                           UTF-8|         2024-06-01T09:52:...| smsProps|mn=TVgwMDEy:sn=MD...| 1724147812639|      basicUpdate|                     [{1, 6, AC-A8-8E-...|               [{127.0.0.1, 172....|                      SHARP MX-0012|                      172.29.1.12|                                         NULL|                       05113130012|                           SHARP-001|                             location-0012|                                     NULL|                                       NULL|                                        NULL|                                                   NULL|                                        NULL|                                          NULL|                                       NULL|                                         NULL|                                              NULL|                                        NULL|                                            NULL|                                          NULL|                                                 NULL|                                                 NULL|                                                  NULL|                                 2100000|                          Synappx-0012|\n",
      "|2024-08-20T09:56:...|rp.mib/dev/96d1f4...|     96d1f469-e0b7-4ee...|               96d1f469-e0b7-4ee...|                 {\"scope\":\"device\"...|                           638525549558955677|            application/JSON|                           UTF-8|         2024-06-01T09:52:...| smsProps|mn=TVgwMDEz:sn=MD...| 1724147812641|      basicUpdate|                     [{1, 6, AC-A8-8E-...|               [{127.0.0.1, 172....|                      SHARP MX-0013|                      172.29.1.13|                                         NULL|                       05113130013|                           SHARP-001|                             location-0013|                                     NULL|                                       NULL|                                        NULL|                                                   NULL|                                        NULL|                                          NULL|                                       NULL|                                         NULL|                                              NULL|                                        NULL|                                            NULL|                                          NULL|                                                 NULL|                                                 NULL|                                                  NULL|                                 2100000|                          Synappx-0013|\n",
      "|2024-08-20T09:56:...|rp.mib/dev/96d1f4...|     96d1f469-e0b7-4ee...|               96d1f469-e0b7-4ee...|                 {\"scope\":\"device\"...|                           638525549558955677|            application/JSON|                           UTF-8|         2024-06-01T09:52:...| smsProps|mn=TVgwMDE0:sn=MD...| 1724147812642|      basicUpdate|                     [{1, 6, AC-A8-8E-...|               [{127.0.0.1, 172....|                      SHARP MX-0014|                      172.29.1.14|                                         NULL|                       05113130014|                           SHARP-001|                             location-0014|                                     NULL|                                       NULL|                                        NULL|                                                   NULL|                                        NULL|                                          NULL|                                       NULL|                                         NULL|                                              NULL|                                        NULL|                                            NULL|                                          NULL|                                                 NULL|                                                 NULL|                                                  NULL|                                 2100000|                          Synappx-0014|\n",
      "|2024-08-20T09:56:...|rp.mib/dev/96d1f4...|     96d1f469-e0b7-4ee...|               96d1f469-e0b7-4ee...|                 {\"scope\":\"device\"...|                           638525549558955677|            application/JSON|                           UTF-8|         2024-06-01T09:52:...| smsProps|mn=TVgwMDE1:sn=MD...| 1724147812644|      basicUpdate|                     [{1, 6, AC-A8-8E-...|               [{127.0.0.1, 172....|                      SHARP MX-0015|                      172.29.1.15|                                         NULL|                       05113130015|                           SHARP-001|                             location-0015|                                     NULL|                                       NULL|                                        NULL|                                                   NULL|                                        NULL|                                          NULL|                                       NULL|                                         NULL|                                              NULL|                                        NULL|                                            NULL|                                          NULL|                                                 NULL|                                                 NULL|                                                  NULL|                                 2100000|                          Synappx-0015|\n",
      "|2024-08-20T09:56:...|rp.mib/dev/96d1f4...|     96d1f469-e0b7-4ee...|               96d1f469-e0b7-4ee...|                 {\"scope\":\"device\"...|                           638525549558955677|            application/JSON|                           UTF-8|         2024-06-01T09:52:...| smsProps|mn=TVgwMDE2:sn=MD...| 1724147812646|      basicUpdate|                     [{1, 6, AC-A8-8E-...|               [{127.0.0.1, 172....|                      SHARP MX-0016|                      172.29.1.16|                                         NULL|                       05113130016|                           SHARP-001|                             location-0016|                                     NULL|                                       NULL|                                        NULL|                                                   NULL|                                        NULL|                                          NULL|                                       NULL|                                         NULL|                                              NULL|                                        NULL|                                            NULL|                                          NULL|                                                 NULL|                                                 NULL|                                                  NULL|                                 2100000|                          Synappx-0016|\n",
      "|2024-08-20T09:56:...|rp.mib/dev/96d1f4...|     96d1f469-e0b7-4ee...|               96d1f469-e0b7-4ee...|                 {\"scope\":\"device\"...|                           638525549558955677|            application/JSON|                           UTF-8|         2024-06-01T09:52:...| smsProps|mn=TVgwMDE3:sn=MD...| 1724147812649|      basicUpdate|                     [{1, 6, AC-A8-8E-...|               [{127.0.0.1, 172....|                      SHARP MX-0017|                      172.29.1.17|                                         NULL|                       05113130017|                           SHARP-001|                             location-0017|                                     NULL|                                       NULL|                                        NULL|                                                   NULL|                                        NULL|                                          NULL|                                       NULL|                                         NULL|                                              NULL|                                        NULL|                                            NULL|                                          NULL|                                                 NULL|                                                 NULL|                                                  NULL|                                 2100000|                          Synappx-0017|\n",
      "|2024-08-20T09:56:...|rp.mib/dev/96d1f4...|     96d1f469-e0b7-4ee...|               96d1f469-e0b7-4ee...|                 {\"scope\":\"device\"...|                           638525549558955677|            application/JSON|                           UTF-8|         2024-06-01T09:52:...| smsProps|mn=TVgwMDE4:sn=MD...| 1724147812652|      basicUpdate|                     [{1, 6, AC-A8-8E-...|               [{127.0.0.1, 172....|                      SHARP MX-0018|                      172.29.1.18|                                         NULL|                       05113130018|                           SHARP-001|                             location-0018|                                     NULL|                                       NULL|                                        NULL|                                                   NULL|                                        NULL|                                          NULL|                                       NULL|                                         NULL|                                              NULL|                                        NULL|                                            NULL|                                          NULL|                                                 NULL|                                                 NULL|                                                  NULL|                                 2100000|                          Synappx-0018|\n",
      "|2024-08-20T09:56:...|rp.mib/dev/96d1f4...|     96d1f469-e0b7-4ee...|               96d1f469-e0b7-4ee...|                 {\"scope\":\"device\"...|                           638525549558955677|            application/JSON|                           UTF-8|         2024-06-01T09:52:...| smsProps|mn=TVgwMDE5:sn=MD...| 1724147812654|      basicUpdate|                     [{1, 6, AC-A8-8E-...|               [{127.0.0.1, 172....|                      SHARP MX-0019|                      172.29.1.19|                                         NULL|                       05113130019|                           SHARP-001|                             location-0019|                                     NULL|                                       NULL|                                        NULL|                                                   NULL|                                        NULL|                                          NULL|                                       NULL|                                         NULL|                                              NULL|                                        NULL|                                            NULL|                                          NULL|                                                 NULL|                                                 NULL|                                                  NULL|                                 2100000|                          Synappx-0019|\n",
      "|2024-08-20T09:56:...|rp.mib/dev/96d1f4...|     96d1f469-e0b7-4ee...|               96d1f469-e0b7-4ee...|                 {\"scope\":\"device\"...|                           638525549558955677|            application/JSON|                           UTF-8|         2024-06-01T09:52:...| smsProps|mn=TVgwMDIw:sn=MD...| 1724147812655|      basicUpdate|                     [{1, 6, AC-A8-8E-...|               [{127.0.0.1, 172....|                      SHARP MX-0020|                      172.29.1.20|                                         NULL|                       05113130020|                           SHARP-001|                             location-0020|                                     NULL|                                       NULL|                                        NULL|                                                   NULL|                                        NULL|                                          NULL|                                       NULL|                                         NULL|                                              NULL|                                        NULL|                                            NULL|                                          NULL|                                                 NULL|                                                 NULL|                                                  NULL|                                 2100000|                          Synappx-0020|\n",
      "+--------------------+--------------------+-------------------------+-----------------------------------+-------------------------------------+---------------------------------------------+----------------------------+--------------------------------+-----------------------------+---------+--------------------+--------------+-----------------+-----------------------------------------+-----------------------------------+-----------------------------------+---------------------------------+---------------------------------------------+----------------------------------+------------------------------------+------------------------------------------+-----------------------------------------+-------------------------------------------+--------------------------------------------+-------------------------------------------------------+--------------------------------------------+----------------------------------------------+-------------------------------------------+---------------------------------------------+--------------------------------------------------+--------------------------------------------+------------------------------------------------+----------------------------------------------+-----------------------------------------------------+-----------------------------------------------------+------------------------------------------------------+----------------------------------------+--------------------------------------+\n",
      "only showing top 20 rows\n",
      "\n"
     ]
    },
    {
     "data": {
      "text/plain": [
       "499"
      ]
     },
     "execution_count": 18,
     "metadata": {},
     "output_type": "execute_result"
    }
   ],
   "source": [
    "remaining_data=flatschedule_df.filter(~(flatschedule_df['Body_timestamp']==1724147813655))\n",
    "remaining_data.show()\n",
    "remaining_data.count()"
   ]
  },
  {
   "cell_type": "code",
   "execution_count": 19,
   "id": "01a2d5f9",
   "metadata": {},
   "outputs": [],
   "source": [
    "table_path=f\"./message/basicUpdate2\""
   ]
  },
  {
   "cell_type": "code",
   "execution_count": 20,
   "id": "fbb33779",
   "metadata": {},
   "outputs": [],
   "source": [
    "latest_data.write.format('delta').mode('overwrite').save(table_path)"
   ]
  },
  {
   "cell_type": "code",
   "execution_count": 21,
   "id": "24481ece",
   "metadata": {},
   "outputs": [],
   "source": [
    "from delta.tables import *"
   ]
  },
  {
   "cell_type": "code",
   "execution_count": 36,
   "id": "ef14e1d6",
   "metadata": {},
   "outputs": [
    {
     "name": "stdout",
     "output_type": "stream",
     "text": [
      "+--------------------+--------------+\n",
      "|           Body_mnsn|Body_timestamp|\n",
      "+--------------------+--------------+\n",
      "|mn=TVgwMDAx:sn=MD...| 1724147812588|\n",
      "|mn=TVgwMDAy:sn=MD...| 1724147812591|\n",
      "|mn=TVgwMDAz:sn=MD...| 1724147812610|\n",
      "|mn=TVgwMDA0:sn=MD...| 1724147812612|\n",
      "|mn=TVgwMDA1:sn=MD...| 1724147812619|\n",
      "|mn=TVgwMDA2:sn=MD...| 1724147812622|\n",
      "|mn=TVgwMDA3:sn=MD...| 1724147812624|\n",
      "|mn=TVgwMDA4:sn=MD...| 1724147812626|\n",
      "|mn=TVgwMDA5:sn=MD...| 1724147812628|\n",
      "|mn=TVgwMDEw:sn=MD...| 1724147812633|\n",
      "|mn=TVgwMDEx:sn=MD...| 1724147812636|\n",
      "|mn=TVgwMDEy:sn=MD...| 1724147812639|\n",
      "|mn=TVgwMDEz:sn=MD...| 1724147812641|\n",
      "|mn=TVgwMDE0:sn=MD...| 1724147812642|\n",
      "|mn=TVgwMDE1:sn=MD...| 1724147812644|\n",
      "|mn=TVgwMDE2:sn=MD...| 1724147812646|\n",
      "|mn=TVgwMDE3:sn=MD...| 1724147812649|\n",
      "|mn=TVgwMDE4:sn=MD...| 1724147812652|\n",
      "|mn=TVgwMDE5:sn=MD...| 1724147812654|\n",
      "|mn=TVgwMDIw:sn=MD...| 1724147812655|\n",
      "+--------------------+--------------+\n",
      "only showing top 20 rows\n",
      "\n"
     ]
    }
   ],
   "source": [
    "dt=DeltaTable.forPath(spark, table_path)\n",
    "check=dt.toDF()\n",
    "check.select('Body_mnsn','Body_timestamp').show()"
   ]
  },
  {
   "cell_type": "code",
   "execution_count": 38,
   "id": "1aa63033",
   "metadata": {},
   "outputs": [
    {
     "name": "stdout",
     "output_type": "stream",
     "text": [
      "+---------------+-------------------+-------------------------+-----------------------------------+-------------------------------------+---------------------------------------------+----------------------------+--------------------------------+-----------------------------+---------+---------+--------------+-----------------+-----------------------------------------+-----------------------------------+-----------------------------------+---------------------------------+---------------------------------------------+----------------------------------+------------------------------------+------------------------------------------+-----------------------------------------+-------------------------------------------+--------------------------------------------+-------------------------------------------------------+--------------------------------------------+----------------------------------------------+-------------------------------------------+---------------------------------------------+--------------------------------------------------+--------------------------------------------+------------------------------------------------+----------------------------------------------+-----------------------------------------------------+-----------------------------------------------------+------------------------------------------------------+----------------------------------------+--------------------------------------+\n",
      "|EnqueuedTimeUtc|Properties_appTopic|Properties_relatedGroupId|SystemProperties_connectionDeviceId|SystemProperties_connectionAuthMethod|SystemProperties_connectionDeviceGenerationId|SystemProperties_contentType|SystemProperties_contentEncoding|SystemProperties_enqueuedTime|Body_type|Body_mnsn|Body_timestamp|Body_scheduleName|Body_smsProperties_interface_ethernetList|Body_smsProperties_interface_ipList|Body_smsProperties_device_modelName|Body_smsProperties_device_address|Body_smsProperties_device_maintenanceCodeList|Body_smsProperties_device_serialId|Body_smsProperties_device_familyName|Body_smsProperties_device_location_address|Body_smsProperties_device_serviceCodeList|Body_smsProperties_device_statusSet_standby|Body_smsProperties_device_statusSet_paperJam|Body_smsProperties_device_statusSet_stackerNotInstalled|Body_smsProperties_device_statusSet_paperLow|Body_smsProperties_device_statusSet_paperEmpty|Body_smsProperties_device_statusSet_offline|Body_smsProperties_device_statusSet_coverOpen|Body_smsProperties_device_statusSet_outputTrayFull|Body_smsProperties_device_statusSet_tonerLow|Body_smsProperties_device_statusSet_printerError|Body_smsProperties_device_statusSet_tonerEmpty|Body_smsProperties_device_counter_TYPE_lifeCount_unit|Body_smsProperties_device_counter_TYPE_lifeCount_type|Body_smsProperties_device_counter_TYPE_lifeCount_value|Body_smsProperties_device_statusRawValue|Body_smsProperties_device_friendlyName|\n",
      "+---------------+-------------------+-------------------------+-----------------------------------+-------------------------------------+---------------------------------------------+----------------------------+--------------------------------+-----------------------------+---------+---------+--------------+-----------------+-----------------------------------------+-----------------------------------+-----------------------------------+---------------------------------+---------------------------------------------+----------------------------------+------------------------------------+------------------------------------------+-----------------------------------------+-------------------------------------------+--------------------------------------------+-------------------------------------------------------+--------------------------------------------+----------------------------------------------+-------------------------------------------+---------------------------------------------+--------------------------------------------------+--------------------------------------------+------------------------------------------------+----------------------------------------------+-----------------------------------------------------+-----------------------------------------------------+------------------------------------------------------+----------------------------------------+--------------------------------------+\n",
      "+---------------+-------------------+-------------------------+-----------------------------------+-------------------------------------+---------------------------------------------+----------------------------+--------------------------------+-----------------------------+---------+---------+--------------+-----------------+-----------------------------------------+-----------------------------------+-----------------------------------+---------------------------------+---------------------------------------------+----------------------------------+------------------------------------+------------------------------------------+-----------------------------------------+-------------------------------------------+--------------------------------------------+-------------------------------------------------------+--------------------------------------------+----------------------------------------------+-------------------------------------------+---------------------------------------------+--------------------------------------------------+--------------------------------------------+------------------------------------------------+----------------------------------------------+-----------------------------------------------------+-----------------------------------------------------+------------------------------------------------------+----------------------------------------+--------------------------------------+\n",
      "\n"
     ]
    }
   ],
   "source": [
    "remaining_data.filter(remaining_data['Body_mnsn'].isNull()).show()"
   ]
  },
  {
   "cell_type": "code",
   "execution_count": null,
   "id": "86cd0659",
   "metadata": {},
   "outputs": [],
   "source": []
  },
  {
   "cell_type": "code",
   "execution_count": 39,
   "id": "f86350d4",
   "metadata": {},
   "outputs": [],
   "source": [
    "from pyspark.sql import functions as F\n",
    "\n",
    "cond = (F.col(\"t.Body_mnsn\") == F.col(\"s.Body_mnsn\"))\n",
    "\n",
    "dt.alias(\"t\").merge(\n",
    "    remaining_data.alias(\"s\"),\n",
    "    cond\n",
    ").whenMatchedUpdate(\n",
    "    set={\n",
    "        \"Body_timestamp\": \"s.Body_timestamp\",\n",
    "        \"Body_scheduleName\": \"s.Body_scheduleName\",\n",
    "        \"EnqueuedTimeUtc\": \"s.EnqueuedTimeUtc\",\n",
    "        \"Properties_appTopic\": \"s.Properties_appTopic\",\n",
    "        \"Properties_relatedGroupId\": \"s.Properties_relatedGroupId\",\n",
    "        \"SystemProperties_connectionDeviceId\": \"s.SystemProperties_connectionDeviceId\",\n",
    "        \"SystemProperties_connectionAuthMethod\": \"s.SystemProperties_connectionAuthMethod\",\n",
    "        \"SystemProperties_connectionDeviceGenerationId\": \"s.SystemProperties_connectionDeviceGenerationId\",\n",
    "        \"SystemProperties_contentType\": \"s.SystemProperties_contentType\",\n",
    "        \"SystemProperties_contentEncoding\": \"s.SystemProperties_contentEncoding\",\n",
    "        \"SystemProperties_enqueuedTime\": \"s.SystemProperties_enqueuedTime\",\n",
    "        \"Body_type\": \"s.Body_type\",\n",
    "        \"Body_smsProperties_device_modelName\": \"s.Body_smsProperties_device_modelName\",\n",
    "        \"Body_smsProperties_device_address\": \"s.Body_smsProperties_device_address\",\n",
    "        \"Body_smsProperties_device_maintenanceCodeList\": \"s.Body_smsProperties_device_maintenanceCodeList\",\n",
    "        \"Body_smsProperties_device_serialId\": \"s.Body_smsProperties_device_serialId\",\n",
    "        \"Body_smsProperties_device_familyName\": \"s.Body_smsProperties_device_familyName\",\n",
    "        \"Body_smsProperties_device_location_address\": \"s.Body_smsProperties_device_location_address\",\n",
    "        \"Body_smsProperties_device_serviceCodeList\": \"s.Body_smsProperties_device_serviceCodeList\",\n",
    "        \"Body_smsProperties_device_statusSet_standby\": \"s.Body_smsProperties_device_statusSet_standby\",\n",
    "        \"Body_smsProperties_device_statusSet_paperJam\": \"s.Body_smsProperties_device_statusSet_paperJam\",\n",
    "        \"Body_smsProperties_device_statusSet_tonerLow\": \"s.Body_smsProperties_device_statusSet_tonerLow\",\n",
    "        \"Body_smsProperties_device_statusSet_printerError\": \"s.Body_smsProperties_device_statusSet_printerError\",\n",
    "        \"Body_smsProperties_device_statusRawValue\": \"s.Body_smsProperties_device_statusRawValue\",\n",
    "        \"Body_smsProperties_device_friendlyName\": \"s.Body_smsProperties_device_friendlyName\"\n",
    "    }\n",
    ").whenNotMatchedInsert(\n",
    "    values={\n",
    "        \"Body_type\": \"s.Body_type\",\n",
    "        \"Body_mnsn\": \"s.Body_mnsn\",\n",
    "        \"Body_timestamp\": \"s.Body_timestamp\",\n",
    "        \"Body_scheduleName\": \"s.Body_scheduleName\",\n",
    "        \"EnqueuedTimeUtc\": \"s.EnqueuedTimeUtc\",\n",
    "        \"Properties_appTopic\": \"s.Properties_appTopic\",\n",
    "        \"Properties_relatedGroupId\": \"s.Properties_relatedGroupId\",\n",
    "        \"SystemProperties_connectionDeviceId\": \"s.SystemProperties_connectionDeviceId\",\n",
    "        \"SystemProperties_connectionAuthMethod\": \"s.SystemProperties_connectionAuthMethod\",\n",
    "        \"SystemProperties_connectionDeviceGenerationId\": \"s.SystemProperties_connectionDeviceGenerationId\",\n",
    "        \"SystemProperties_contentType\": \"s.SystemProperties_contentType\",\n",
    "        \"SystemProperties_contentEncoding\": \"s.SystemProperties_contentEncoding\",\n",
    "        \"SystemProperties_enqueuedTime\": \"s.SystemProperties_enqueuedTime\",\n",
    "        \"Body_smsProperties_device_modelName\": \"s.Body_smsProperties_device_modelName\",\n",
    "        \"Body_smsProperties_device_address\": \"s.Body_smsProperties_device_address\",\n",
    "        \"Body_smsProperties_device_maintenanceCodeList\": \"s.Body_smsProperties_device_maintenanceCodeList\",\n",
    "        \"Body_smsProperties_device_serialId\": \"s.Body_smsProperties_device_serialId\",\n",
    "        \"Body_smsProperties_device_familyName\": \"s.Body_smsProperties_device_familyName\",\n",
    "        \"Body_smsProperties_device_location_address\": \"s.Body_smsProperties_device_location_address\",\n",
    "        \"Body_smsProperties_device_serviceCodeList\": \"s.Body_smsProperties_device_serviceCodeList\",\n",
    "        \"Body_smsProperties_device_statusSet_standby\": \"s.Body_smsProperties_device_statusSet_standby\",\n",
    "        \"Body_smsProperties_device_statusSet_paperJam\": \"s.Body_smsProperties_device_statusSet_paperJam\",\n",
    "        \"Body_smsProperties_device_statusSet_tonerLow\": \"s.Body_smsProperties_device_statusSet_tonerLow\",\n",
    "        \"Body_smsProperties_device_statusSet_printerError\": \"s.Body_smsProperties_device_statusSet_printerError\",\n",
    "        \"Body_smsProperties_device_statusRawValue\": \"s.Body_smsProperties_device_statusRawValue\",\n",
    "        \"Body_smsProperties_device_friendlyName\": \"s.Body_smsProperties_device_friendlyName\"\n",
    "    }\n",
    ").execute()\n"
   ]
  },
  {
   "cell_type": "code",
   "execution_count": null,
   "id": "66763d3f",
   "metadata": {},
   "outputs": [],
   "source": []
  },
  {
   "cell_type": "code",
   "execution_count": 40,
   "id": "4906a030",
   "metadata": {},
   "outputs": [
    {
     "name": "stdout",
     "output_type": "stream",
     "text": [
      "+---------+--------------------+--------------+-----------------+--------------------+--------------------+-----------------------------------+-------------------------------------+---------------------------------------------+----------------------------+--------------------------------+-----------------------------+\n",
      "|Body_type|           Body_mnsn|Body_timestamp|Body_scheduleName|     EnqueuedTimeUtc| Properties_appTopic|SystemProperties_connectionDeviceId|SystemProperties_connectionAuthMethod|SystemProperties_connectionDeviceGenerationId|SystemProperties_contentType|SystemProperties_contentEncoding|SystemProperties_enqueuedTime|\n",
      "+---------+--------------------+--------------+-----------------+--------------------+--------------------+-----------------------------------+-------------------------------------+---------------------------------------------+----------------------------+--------------------------------+-----------------------------+\n",
      "| smsProps|mn=TVgwMDA0:sn=MD...| 1724147812612|      basicUpdate|2024-08-20T09:56:...|rp.mib/dev/96d1f4...|               96d1f469-e0b7-4ee...|                 {\"scope\":\"device\"...|                           638525549558955677|            application/JSON|                           UTF-8|         2024-06-01T09:52:...|\n",
      "| smsProps|mn=TVgwMDA1:sn=MD...| 1724147812619|      basicUpdate|2024-08-20T09:56:...|rp.mib/dev/96d1f4...|               96d1f469-e0b7-4ee...|                 {\"scope\":\"device\"...|                           638525549558955677|            application/JSON|                           UTF-8|         2024-06-01T09:52:...|\n",
      "| smsProps|mn=TVgwMDA2:sn=MD...| 1724147812622|      basicUpdate|2024-08-20T09:56:...|rp.mib/dev/96d1f4...|               96d1f469-e0b7-4ee...|                 {\"scope\":\"device\"...|                           638525549558955677|            application/JSON|                           UTF-8|         2024-06-01T09:52:...|\n",
      "| smsProps|mn=TVgwMDA3:sn=MD...| 1724147812624|      basicUpdate|2024-08-20T09:56:...|rp.mib/dev/96d1f4...|               96d1f469-e0b7-4ee...|                 {\"scope\":\"device\"...|                           638525549558955677|            application/JSON|                           UTF-8|         2024-06-01T09:52:...|\n",
      "| smsProps|mn=TVgwMDA4:sn=MD...| 1724147812626|      basicUpdate|2024-08-20T09:56:...|rp.mib/dev/96d1f4...|               96d1f469-e0b7-4ee...|                 {\"scope\":\"device\"...|                           638525549558955677|            application/JSON|                           UTF-8|         2024-06-01T09:52:...|\n",
      "| smsProps|mn=TVgwMDA5:sn=MD...| 1724147812628|      basicUpdate|2024-08-20T09:56:...|rp.mib/dev/96d1f4...|               96d1f469-e0b7-4ee...|                 {\"scope\":\"device\"...|                           638525549558955677|            application/JSON|                           UTF-8|         2024-06-01T09:52:...|\n",
      "| smsProps|mn=TVgwMDAx:sn=MD...| 1724147812588|      basicUpdate|2024-08-20T09:56:...|rp.mib/dev/96d1f4...|               96d1f469-e0b7-4ee...|                 {\"scope\":\"device\"...|                           638525549558955677|            application/JSON|                           UTF-8|         2024-06-01T09:52:...|\n",
      "| smsProps|mn=TVgwMDAy:sn=MD...| 1724147812591|      basicUpdate|2024-08-20T09:56:...|rp.mib/dev/96d1f4...|               96d1f469-e0b7-4ee...|                 {\"scope\":\"device\"...|                           638525549558955677|            application/JSON|                           UTF-8|         2024-06-01T09:52:...|\n",
      "| smsProps|mn=TVgwMDAz:sn=MD...| 1724147812610|      basicUpdate|2024-08-20T09:56:...|rp.mib/dev/96d1f4...|               96d1f469-e0b7-4ee...|                 {\"scope\":\"device\"...|                           638525549558955677|            application/JSON|                           UTF-8|         2024-06-01T09:52:...|\n",
      "| smsProps|mn=TVgwMDE0:sn=MD...| 1724147812642|      basicUpdate|2024-08-20T09:56:...|rp.mib/dev/96d1f4...|               96d1f469-e0b7-4ee...|                 {\"scope\":\"device\"...|                           638525549558955677|            application/JSON|                           UTF-8|         2024-06-01T09:52:...|\n",
      "| smsProps|mn=TVgwMDE1:sn=MD...| 1724147812644|      basicUpdate|2024-08-20T09:56:...|rp.mib/dev/96d1f4...|               96d1f469-e0b7-4ee...|                 {\"scope\":\"device\"...|                           638525549558955677|            application/JSON|                           UTF-8|         2024-06-01T09:52:...|\n",
      "| smsProps|mn=TVgwMDE2:sn=MD...| 1724147812646|      basicUpdate|2024-08-20T09:56:...|rp.mib/dev/96d1f4...|               96d1f469-e0b7-4ee...|                 {\"scope\":\"device\"...|                           638525549558955677|            application/JSON|                           UTF-8|         2024-06-01T09:52:...|\n",
      "| smsProps|mn=TVgwMDE3:sn=MD...| 1724147812649|      basicUpdate|2024-08-20T09:56:...|rp.mib/dev/96d1f4...|               96d1f469-e0b7-4ee...|                 {\"scope\":\"device\"...|                           638525549558955677|            application/JSON|                           UTF-8|         2024-06-01T09:52:...|\n",
      "| smsProps|mn=TVgwMDE4:sn=MD...| 1724147812652|      basicUpdate|2024-08-20T09:56:...|rp.mib/dev/96d1f4...|               96d1f469-e0b7-4ee...|                 {\"scope\":\"device\"...|                           638525549558955677|            application/JSON|                           UTF-8|         2024-06-01T09:52:...|\n",
      "| smsProps|mn=TVgwMDE5:sn=MD...| 1724147812654|      basicUpdate|2024-08-20T09:56:...|rp.mib/dev/96d1f4...|               96d1f469-e0b7-4ee...|                 {\"scope\":\"device\"...|                           638525549558955677|            application/JSON|                           UTF-8|         2024-06-01T09:52:...|\n",
      "| smsProps|mn=TVgwMDEw:sn=MD...| 1724147812633|      basicUpdate|2024-08-20T09:56:...|rp.mib/dev/96d1f4...|               96d1f469-e0b7-4ee...|                 {\"scope\":\"device\"...|                           638525549558955677|            application/JSON|                           UTF-8|         2024-06-01T09:52:...|\n",
      "| smsProps|mn=TVgwMDEx:sn=MD...| 1724147812636|      basicUpdate|2024-08-20T09:56:...|rp.mib/dev/96d1f4...|               96d1f469-e0b7-4ee...|                 {\"scope\":\"device\"...|                           638525549558955677|            application/JSON|                           UTF-8|         2024-06-01T09:52:...|\n",
      "| smsProps|mn=TVgwMDEy:sn=MD...| 1724147812639|      basicUpdate|2024-08-20T09:56:...|rp.mib/dev/96d1f4...|               96d1f469-e0b7-4ee...|                 {\"scope\":\"device\"...|                           638525549558955677|            application/JSON|                           UTF-8|         2024-06-01T09:52:...|\n",
      "| smsProps|mn=TVgwMDEz:sn=MD...| 1724147812641|      basicUpdate|2024-08-20T09:56:...|rp.mib/dev/96d1f4...|               96d1f469-e0b7-4ee...|                 {\"scope\":\"device\"...|                           638525549558955677|            application/JSON|                           UTF-8|         2024-06-01T09:52:...|\n",
      "| smsProps|mn=TVgwMDI0:sn=MD...| 1724147812662|      basicUpdate|2024-08-20T09:56:...|rp.mib/dev/96d1f4...|               96d1f469-e0b7-4ee...|                 {\"scope\":\"device\"...|                           638525549558955677|            application/JSON|                           UTF-8|         2024-06-01T09:52:...|\n",
      "+---------+--------------------+--------------+-----------------+--------------------+--------------------+-----------------------------------+-------------------------------------+---------------------------------------------+----------------------------+--------------------------------+-----------------------------+\n",
      "only showing top 20 rows\n",
      "\n"
     ]
    }
   ],
   "source": [
    "df1=spark.read.format(\"delta\").load(\"./message/basicUpdate\")\n",
    "df1.show()"
   ]
  },
  {
   "cell_type": "code",
   "execution_count": 27,
   "id": "ae2cd2ed",
   "metadata": {},
   "outputs": [
    {
     "data": {
      "text/plain": [
       "500"
      ]
     },
     "execution_count": 27,
     "metadata": {},
     "output_type": "execute_result"
    }
   ],
   "source": [
    "df1.select('Body_mnsn').distinct().count()"
   ]
  },
  {
   "cell_type": "code",
   "execution_count": null,
   "id": "dee51c43",
   "metadata": {},
   "outputs": [],
   "source": []
  }
 ],
 "metadata": {
  "kernelspec": {
   "display_name": "Python 3 (ipykernel)",
   "language": "python",
   "name": "python3"
  },
  "language_info": {
   "codemirror_mode": {
    "name": "ipython",
    "version": 3
   },
   "file_extension": ".py",
   "mimetype": "text/x-python",
   "name": "python",
   "nbconvert_exporter": "python",
   "pygments_lexer": "ipython3",
   "version": "3.11.4"
  }
 },
 "nbformat": 4,
 "nbformat_minor": 5
}
