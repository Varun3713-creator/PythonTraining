{
 "cells": [
  {
   "cell_type": "code",
   "execution_count": 1,
   "id": "5ef3feea",
   "metadata": {},
   "outputs": [],
   "source": [
    "from pyspark.sql import SparkSession"
   ]
  },
  {
   "cell_type": "code",
   "execution_count": 2,
   "id": "c8bd647f",
   "metadata": {},
   "outputs": [],
   "source": [
    "spark=SparkSession.builder.appName('transformations').getOrCreate()"
   ]
  },
  {
   "cell_type": "code",
   "execution_count": 3,
   "id": "815e8234",
   "metadata": {},
   "outputs": [],
   "source": [
    "from pyspark.sql import Window\n",
    "import pyspark.sql.types as T\n",
    "import pyspark.sql.functions as F"
   ]
  },
  {
   "cell_type": "code",
   "execution_count": 4,
   "id": "fab335ee",
   "metadata": {},
   "outputs": [],
   "source": [
    "df=spark.read.csv('C:/Users/acer/Downloads/test1.csv',header=True,inferSchema=True)"
   ]
  },
  {
   "cell_type": "code",
   "execution_count": 5,
   "id": "80c94424",
   "metadata": {},
   "outputs": [
    {
     "name": "stdout",
     "output_type": "stream",
     "text": [
      "+---------+---+----------+------+\n",
      "|     Name|age|Experience|Salary|\n",
      "+---------+---+----------+------+\n",
      "|    Krish| 31|        10| 30000|\n",
      "|Sudhanshu| 30|         8| 25000|\n",
      "|    Sunny| 29|         4| 20000|\n",
      "|     Paul| 24|         3| 20000|\n",
      "|   Harsha| 21|         1| 15000|\n",
      "|  Shubham| 23|         2| 18000|\n",
      "+---------+---+----------+------+\n",
      "\n"
     ]
    }
   ],
   "source": [
    "df.show()"
   ]
  },
  {
   "cell_type": "code",
   "execution_count": 6,
   "id": "7322f23a",
   "metadata": {},
   "outputs": [],
   "source": [
    "df=df.withColumn('value',F.floor(F.rand()*9+1))"
   ]
  },
  {
   "cell_type": "code",
   "execution_count": 7,
   "id": "489608dd",
   "metadata": {},
   "outputs": [
    {
     "name": "stdout",
     "output_type": "stream",
     "text": [
      "+---------+---+----------+------+-----+\n",
      "|     Name|age|Experience|Salary|value|\n",
      "+---------+---+----------+------+-----+\n",
      "|    Krish| 31|        10| 30000|    5|\n",
      "|Sudhanshu| 30|         8| 25000|    2|\n",
      "|    Sunny| 29|         4| 20000|    2|\n",
      "|     Paul| 24|         3| 20000|    9|\n",
      "|   Harsha| 21|         1| 15000|    9|\n",
      "|  Shubham| 23|         2| 18000|    9|\n",
      "+---------+---+----------+------+-----+\n",
      "\n"
     ]
    }
   ],
   "source": [
    "df.show()"
   ]
  },
  {
   "cell_type": "markdown",
   "id": "58516832",
   "metadata": {},
   "source": [
    "Dataframe Transformation"
   ]
  },
  {
   "cell_type": "code",
   "execution_count": 8,
   "id": "3a04658a",
   "metadata": {},
   "outputs": [],
   "source": [
    "def convert(df):\n",
    "    return df.withColumn('name',F.upper('name'))\n",
    "def sal_bonus(df):\n",
    "    return df.withColumn('Salary',df.Salary*1.2)"
   ]
  },
  {
   "cell_type": "code",
   "execution_count": 9,
   "id": "ba0fa3e8",
   "metadata": {},
   "outputs": [
    {
     "name": "stdout",
     "output_type": "stream",
     "text": [
      "+---------+---+----------+-------+-----+\n",
      "|     name|age|Experience| Salary|value|\n",
      "+---------+---+----------+-------+-----+\n",
      "|    KRISH| 31|        10|36000.0|    5|\n",
      "|SUDHANSHU| 30|         8|30000.0|    2|\n",
      "|    SUNNY| 29|         4|24000.0|    2|\n",
      "|     PAUL| 24|         3|24000.0|    9|\n",
      "|   HARSHA| 21|         1|18000.0|    9|\n",
      "|  SHUBHAM| 23|         2|21600.0|    9|\n",
      "+---------+---+----------+-------+-----+\n",
      "\n"
     ]
    }
   ],
   "source": [
    "u_df=df.transform(convert).transform(sal_bonus)\n",
    "u_df.show()"
   ]
  },
  {
   "cell_type": "code",
   "execution_count": 10,
   "id": "c6f7d63c",
   "metadata": {},
   "outputs": [],
   "source": [
    "def convert(df):\n",
    "    df2=df.withColumn('name',F.upper('name'))\n",
    "    df2=df2.withColumn('Salary_bonus',df.Salary*1.2)\n",
    "    df2=df2.drop('value')\n",
    "    return df2"
   ]
  },
  {
   "cell_type": "code",
   "execution_count": 11,
   "id": "0e2ccc2e",
   "metadata": {},
   "outputs": [
    {
     "name": "stdout",
     "output_type": "stream",
     "text": [
      "+---------+---+----------+------+------------+\n",
      "|     name|age|Experience|Salary|Salary_bonus|\n",
      "+---------+---+----------+------+------------+\n",
      "|    KRISH| 31|        10| 30000|     36000.0|\n",
      "|SUDHANSHU| 30|         8| 25000|     30000.0|\n",
      "|    SUNNY| 29|         4| 20000|     24000.0|\n",
      "|     PAUL| 24|         3| 20000|     24000.0|\n",
      "|   HARSHA| 21|         1| 15000|     18000.0|\n",
      "|  SHUBHAM| 23|         2| 18000|     21600.0|\n",
      "+---------+---+----------+------+------------+\n",
      "\n"
     ]
    }
   ],
   "source": [
    "udf=df.transform(convert)\n",
    "udf.show()"
   ]
  },
  {
   "cell_type": "markdown",
   "id": "19409122",
   "metadata": {},
   "source": [
    "Array-Type columns Transformation"
   ]
  },
  {
   "cell_type": "code",
   "execution_count": 12,
   "id": "6301f151",
   "metadata": {},
   "outputs": [
    {
     "name": "stdout",
     "output_type": "stream",
     "text": [
      "+-------+----------------+\n",
      "|   Name|          Scores|\n",
      "+-------+----------------+\n",
      "|   Alia|[80, 70, 60, 40]|\n",
      "|   Abhi|[95, 90, 80, 97]|\n",
      "|Charlie|[65, 50, 90, 87]|\n",
      "+-------+----------------+\n",
      "\n"
     ]
    }
   ],
   "source": [
    "data = [(\"Alia\", [80,70,60,40] ),\n",
    "        (\"Abhi\", [95,90,80,97]),\n",
    "        (\"Charlie\", [65,50,90,87])]\n",
    "\n",
    "schema=['Name','Scores']\n",
    "\n",
    "df2 = spark.createDataFrame(data, schema=schema)\n",
    "df2.show()"
   ]
  },
  {
   "cell_type": "code",
   "execution_count": 13,
   "id": "1e38167e",
   "metadata": {},
   "outputs": [],
   "source": [
    "from pyspark.sql.functions import transform\n",
    "df3=df2.select('Name',transform('Scores',lambda x:x+2).alias('new_scores'))"
   ]
  },
  {
   "cell_type": "code",
   "execution_count": 14,
   "id": "9ad9cd54",
   "metadata": {},
   "outputs": [
    {
     "name": "stdout",
     "output_type": "stream",
     "text": [
      "+-------+----------------+\n",
      "|   Name|      new_scores|\n",
      "+-------+----------------+\n",
      "|   Alia|[82, 72, 62, 42]|\n",
      "|   Abhi|[97, 92, 82, 99]|\n",
      "|Charlie|[67, 52, 92, 89]|\n",
      "+-------+----------------+\n",
      "\n"
     ]
    }
   ],
   "source": [
    "df3.show()"
   ]
  },
  {
   "cell_type": "code",
   "execution_count": 15,
   "id": "28ca795b",
   "metadata": {},
   "outputs": [
    {
     "name": "stdout",
     "output_type": "stream",
     "text": [
      "+-------+--------------+\n",
      "|   Name|         skill|\n",
      "+-------+--------------+\n",
      "|   Alia|[azure, cloud]|\n",
      "|   Balu|[java, spring]|\n",
      "|Charlie| [python, sql]|\n",
      "+-------+--------------+\n",
      "\n"
     ]
    }
   ],
   "source": [
    "data = [(\"Alia\", ['azure','cloud'] ),\n",
    "        (\"Balu\", ['java','spring']),\n",
    "        (\"Charlie\", ['python','sql'])]\n",
    "\n",
    "schema=['Name','skill']\n",
    "d = spark.createDataFrame(data, schema=schema)\n",
    "d.show()"
   ]
  },
  {
   "cell_type": "code",
   "execution_count": 16,
   "id": "373b8106",
   "metadata": {},
   "outputs": [
    {
     "name": "stdout",
     "output_type": "stream",
     "text": [
      "+-------+--------------+\n",
      "|   Name|     New_Skill|\n",
      "+-------+--------------+\n",
      "|   Alia|[AZURE, CLOUD]|\n",
      "|   Balu|[JAVA, SPRING]|\n",
      "|Charlie| [PYTHON, SQL]|\n",
      "+-------+--------------+\n",
      "\n"
     ]
    }
   ],
   "source": [
    "def upp(x):\n",
    "    return F.upper(x)\n",
    "d.select('Name',transform('Skill',upp).alias('New_Skill')).show()"
   ]
  },
  {
   "cell_type": "code",
   "execution_count": 53,
   "id": "db7da913",
   "metadata": {},
   "outputs": [
    {
     "name": "stdout",
     "output_type": "stream",
     "text": [
      "+-------+------------------+\n",
      "|   Name| Scores_with_grace|\n",
      "+-------+------------------+\n",
      "|   Alia|  [85, 75, 65, 45]|\n",
      "|   Abhi|[100, 95, 85, 100]|\n",
      "|Charlie|  [70, 55, 95, 92]|\n",
      "+-------+------------------+\n",
      "\n"
     ]
    }
   ],
   "source": [
    "# def grace(x):\n",
    "#     if x>=100:\n",
    "#         return x\n",
    "#     else:\n",
    "#         return x+5\n",
    "def grace(x):\n",
    "    return  F.when(x < 96, x + 5).otherwise(x+(100-x))\n",
    "\n",
    "df2.select('Name',transform('Scores',grace).alias('Scores_with_grace')).show()"
   ]
  },
  {
   "cell_type": "markdown",
   "id": "0dafc50c",
   "metadata": {},
   "source": [
    "UDF"
   ]
  },
  {
   "cell_type": "code",
   "execution_count": 18,
   "id": "8ca47149",
   "metadata": {},
   "outputs": [
    {
     "name": "stdout",
     "output_type": "stream",
     "text": [
      "+---------+---+----------+------+-----+-----+\n",
      "|     Name|age|Experience|Salary|value|bonus|\n",
      "+---------+---+----------+------+-----+-----+\n",
      "|    Krish| 31|        10| 30000|    5| 2834|\n",
      "|Sudhanshu| 30|         8| 25000|    2| 4062|\n",
      "|    Sunny| 29|         4| 20000|    2| 3080|\n",
      "|     Paul| 24|         3| 20000|    9| 5225|\n",
      "|   Harsha| 21|         1| 15000|    9| 4485|\n",
      "|  Shubham| 23|         2| 18000|    9| 3505|\n",
      "+---------+---+----------+------+-----+-----+\n",
      "\n"
     ]
    }
   ],
   "source": [
    "df_ud=df.withColumn('bonus',F.floor(F.rand()*5000+1000))\n",
    "df_ud.show()"
   ]
  },
  {
   "cell_type": "code",
   "execution_count": 19,
   "id": "2d998566",
   "metadata": {},
   "outputs": [],
   "source": [
    "def total(s,v):\n",
    "    return s*v"
   ]
  },
  {
   "cell_type": "code",
   "execution_count": 20,
   "id": "05171d9b",
   "metadata": {},
   "outputs": [],
   "source": [
    "from pyspark.sql.functions import udf\n",
    "#inline like lambda for regirtering udf\n",
    "tol=udf(lambda x,y:total(x,y),T.IntegerType())"
   ]
  },
  {
   "cell_type": "code",
   "execution_count": 21,
   "id": "edbf9c8e",
   "metadata": {},
   "outputs": [
    {
     "name": "stdout",
     "output_type": "stream",
     "text": [
      "+---------+----------+\n",
      "|     Name|Total_Hike|\n",
      "+---------+----------+\n",
      "|    Krish|    150000|\n",
      "|Sudhanshu|     50000|\n",
      "|    Sunny|     40000|\n",
      "|     Paul|    180000|\n",
      "|   Harsha|    135000|\n",
      "|  Shubham|    162000|\n",
      "+---------+----------+\n",
      "\n"
     ]
    }
   ],
   "source": [
    "df_ud.select('Name',tol(df_ud['Salary'],df_ud['value']).alias('Total_Hike')).show()"
   ]
  },
  {
   "cell_type": "code",
   "execution_count": 22,
   "id": "dbb5e960",
   "metadata": {},
   "outputs": [
    {
     "name": "stdout",
     "output_type": "stream",
     "text": [
      "+---------+---+----------+------+-----+-----+\n",
      "|     Name|age|Experience|Salary|value|bonus|\n",
      "+---------+---+----------+------+-----+-----+\n",
      "|    Krish| 31|        10| 30000|    5| 1766|\n",
      "|Sudhanshu| 30|         8| 25000|    2| 3892|\n",
      "|    Sunny| 29|         4| 20000|    2| 1550|\n",
      "|     Paul| 24|         3| 20000|    9| 1330|\n",
      "|   Harsha| 21|         1| 15000|    9| 2972|\n",
      "|  Shubham| 23|         2| 18000|    9| 4213|\n",
      "+---------+---+----------+------+-----+-----+\n",
      "\n"
     ]
    }
   ],
   "source": [
    "df_ud=df_ud.withColumn('bonus',F.floor(F.rand()*4000+1000))\n",
    "df_ud.show()"
   ]
  },
  {
   "cell_type": "code",
   "execution_count": 23,
   "id": "efcba5b0",
   "metadata": {},
   "outputs": [],
   "source": [
    "#Faster way to register\n",
    "@udf(returnType=T.IntegerType())\n",
    "def bonus(s,v):\n",
    "    return s+v"
   ]
  },
  {
   "cell_type": "code",
   "execution_count": 24,
   "id": "9610b0bc",
   "metadata": {},
   "outputs": [
    {
     "name": "stdout",
     "output_type": "stream",
     "text": [
      "+---------+------------+\n",
      "|     Name|Sal_with_bon|\n",
      "+---------+------------+\n",
      "|    Krish|       31766|\n",
      "|Sudhanshu|       28892|\n",
      "|    Sunny|       21550|\n",
      "|     Paul|       21330|\n",
      "|   Harsha|       17972|\n",
      "|  Shubham|       22213|\n",
      "+---------+------------+\n",
      "\n"
     ]
    }
   ],
   "source": [
    "df_ud.select('Name',bonus(df_ud['Salary'],df_ud['bonus']).alias('Sal_with_bon')).show()"
   ]
  },
  {
   "cell_type": "code",
   "execution_count": 25,
   "id": "e8c68d5f",
   "metadata": {},
   "outputs": [],
   "source": [
    "#udf on sql queries\n",
    "df_ud.createOrReplaceTempView('peop')"
   ]
  },
  {
   "cell_type": "code",
   "execution_count": 26,
   "id": "d11ea5b0",
   "metadata": {},
   "outputs": [
    {
     "name": "stdout",
     "output_type": "stream",
     "text": [
      "+---------+---+----------+------+-----+-----+\n",
      "|     Name|age|Experience|Salary|value|bonus|\n",
      "+---------+---+----------+------+-----+-----+\n",
      "|    Krish| 31|        10| 30000|    5| 1766|\n",
      "|Sudhanshu| 30|         8| 25000|    2| 3892|\n",
      "|    Sunny| 29|         4| 20000|    2| 1550|\n",
      "|     Paul| 24|         3| 20000|    9| 1330|\n",
      "|   Harsha| 21|         1| 15000|    9| 2972|\n",
      "|  Shubham| 23|         2| 18000|    9| 4213|\n",
      "+---------+---+----------+------+-----+-----+\n",
      "\n"
     ]
    }
   ],
   "source": [
    "spark.sql('select * from peop').show()"
   ]
  },
  {
   "cell_type": "code",
   "execution_count": 27,
   "id": "ef2fd6bc",
   "metadata": {},
   "outputs": [
    {
     "data": {
      "text/plain": [
       "<function __main__.total(s, v)>"
      ]
     },
     "execution_count": 27,
     "metadata": {},
     "output_type": "execute_result"
    }
   ],
   "source": [
    "spark.udf.register('Total_hike',total,T.IntegerType())"
   ]
  },
  {
   "cell_type": "code",
   "execution_count": 28,
   "id": "e74614e5",
   "metadata": {},
   "outputs": [
    {
     "name": "stdout",
     "output_type": "stream",
     "text": [
      "+---------+----------+\n",
      "|     name|total_hike|\n",
      "+---------+----------+\n",
      "|    Krish|    150000|\n",
      "|Sudhanshu|     50000|\n",
      "|    Sunny|     40000|\n",
      "|     Paul|    180000|\n",
      "|   Harsha|    135000|\n",
      "|  Shubham|    162000|\n",
      "+---------+----------+\n",
      "\n"
     ]
    }
   ],
   "source": [
    "spark.sql('select name,Total_hike(Salary,value) as total_hike from peop').show()"
   ]
  },
  {
   "cell_type": "code",
   "execution_count": 29,
   "id": "4c4b57eb",
   "metadata": {},
   "outputs": [],
   "source": [
    "#Activity to get range\n",
    "from pyspark.sql.functions import udf\n",
    "@udf(T.StringType())\n",
    "def sal_rang(s):\n",
    "    if s<=18000:\n",
    "        return 'Low'\n",
    "    elif s>18000 and s<25000:\n",
    "        return 'Medium'\n",
    "    else:\n",
    "        return 'High'"
   ]
  },
  {
   "cell_type": "code",
   "execution_count": 30,
   "id": "cab735f1",
   "metadata": {},
   "outputs": [
    {
     "name": "stdout",
     "output_type": "stream",
     "text": [
      "+---------+---+----------+------+-----+-----+------+\n",
      "|     Name|age|Experience|Salary|value|bonus| Range|\n",
      "+---------+---+----------+------+-----+-----+------+\n",
      "|    Krish| 31|        10| 30000|    5| 1766|  High|\n",
      "|Sudhanshu| 30|         8| 25000|    2| 3892|  High|\n",
      "|    Sunny| 29|         4| 20000|    2| 1550|Medium|\n",
      "|     Paul| 24|         3| 20000|    9| 1330|Medium|\n",
      "|   Harsha| 21|         1| 15000|    9| 2972|   Low|\n",
      "|  Shubham| 23|         2| 18000|    9| 4213|   Low|\n",
      "+---------+---+----------+------+-----+-----+------+\n",
      "\n"
     ]
    }
   ],
   "source": [
    "df_ud.withColumn('Range',sal_rang(df_ud.Salary)).show()"
   ]
  },
  {
   "cell_type": "code",
   "execution_count": 31,
   "id": "95b5fa76",
   "metadata": {},
   "outputs": [
    {
     "name": "stdout",
     "output_type": "stream",
     "text": [
      "+---------+---+----------+------+-----+\n",
      "|     Name|age|Experience|Salary|value|\n",
      "+---------+---+----------+------+-----+\n",
      "|    Krish| 31|        10| 30000|    5|\n",
      "|Sudhanshu| 30|         8| 25000|    2|\n",
      "|    Sunny| 29|         4| 20000|    2|\n",
      "|     Paul| 24|         3| 20000|    9|\n",
      "+---------+---+----------+------+-----+\n",
      "\n"
     ]
    }
   ],
   "source": [
    "df.filter(df.Salary.between(20000,50000)).show()"
   ]
  },
  {
   "cell_type": "markdown",
   "id": "52f8b31b",
   "metadata": {},
   "source": [
    "RDD Operations"
   ]
  },
  {
   "cell_type": "code",
   "execution_count": 32,
   "id": "026ad115",
   "metadata": {},
   "outputs": [],
   "source": [
    "from pyspark import SparkContext"
   ]
  },
  {
   "cell_type": "code",
   "execution_count": 33,
   "id": "0fbbca24",
   "metadata": {},
   "outputs": [],
   "source": [
    "sc=SparkContext.getOrCreate()"
   ]
  },
  {
   "cell_type": "code",
   "execution_count": 34,
   "id": "fa062427",
   "metadata": {},
   "outputs": [
    {
     "data": {
      "text/plain": [
       "[20, 30, 44, 65, 20, 45]"
      ]
     },
     "execution_count": 34,
     "metadata": {},
     "output_type": "execute_result"
    }
   ],
   "source": [
    "#map\n",
    "data=sc.parallelize([10,20,34,55,10,35])\n",
    "data.map(lambda x:x+10).collect()"
   ]
  },
  {
   "cell_type": "code",
   "execution_count": 35,
   "id": "b173e9ea",
   "metadata": {},
   "outputs": [
    {
     "data": {
      "text/plain": [
       "[10, 20, 34, 10]"
      ]
     },
     "execution_count": 35,
     "metadata": {},
     "output_type": "execute_result"
    }
   ],
   "source": [
    "#filter\n",
    "data.filter(lambda x:x%2==0).collect()"
   ]
  },
  {
   "cell_type": "code",
   "execution_count": 36,
   "id": "323c3e55",
   "metadata": {},
   "outputs": [
    {
     "name": "stdout",
     "output_type": "stream",
     "text": [
      "[55, 35]\n",
      "[10, 20, 34, 10]\n"
     ]
    },
    {
     "data": {
      "text/plain": [
       "[55, 35, 10, 20, 34, 10]"
      ]
     },
     "execution_count": 36,
     "metadata": {},
     "output_type": "execute_result"
    }
   ],
   "source": [
    "#union\n",
    "odd=data.filter(lambda x:x%2!=0)\n",
    "even=data.filter(lambda x:x%2==0)\n",
    "print(odd.collect())\n",
    "print(even.collect())\n",
    "odd.union(even).collect()"
   ]
  },
  {
   "cell_type": "code",
   "execution_count": 37,
   "id": "7907371a",
   "metadata": {},
   "outputs": [
    {
     "name": "stdout",
     "output_type": "stream",
     "text": [
      "['Hello', 'everyone,', 'I', 'am', 'Varun,', 'this', 'is', 'my', 'friend', 'Nandi']\n",
      "['Hello everyone', ' I am Varun', ' this is my friend Nandi']\n"
     ]
    }
   ],
   "source": [
    "#flatmap\n",
    "fmp=sc.parallelize(['Hello everyone, I am Varun, this is my friend Nandi'])\n",
    "print(fmp.flatMap(lambda x:x.split(' ')).collect())\n",
    "print(fmp.flatMap(lambda x:x.split(',')).collect())"
   ]
  },
  {
   "cell_type": "code",
   "execution_count": 38,
   "id": "ba4c567f",
   "metadata": {},
   "outputs": [
    {
     "name": "stdout",
     "output_type": "stream",
     "text": [
      "[10, 20, 34, 55, 10, 35]\n",
      "6\n",
      "[10, 20, 34, 55, 10]\n"
     ]
    },
    {
     "data": {
      "text/plain": [
       "10"
      ]
     },
     "execution_count": 38,
     "metadata": {},
     "output_type": "execute_result"
    }
   ],
   "source": [
    "#actions\n",
    "print(data.collect())\n",
    "print(data.count())\n",
    "print(data.take(5))\n",
    "data.first()"
   ]
  },
  {
   "cell_type": "code",
   "execution_count": 39,
   "id": "43cdb3a7",
   "metadata": {},
   "outputs": [
    {
     "data": {
      "text/plain": [
       "164"
      ]
     },
     "execution_count": 39,
     "metadata": {},
     "output_type": "execute_result"
    }
   ],
   "source": [
    "#actions-reduce\n",
    "data.reduce(lambda x,y:x+y)"
   ]
  },
  {
   "cell_type": "code",
   "execution_count": 40,
   "id": "e29837ca",
   "metadata": {},
   "outputs": [
    {
     "data": {
      "text/plain": [
       "[('VARUN', 25),\n",
       " ('KARAN', 35),\n",
       " ('NAVEEN', 45),\n",
       " ('THARUN', 45),\n",
       " ('VARUN', 35),\n",
       " ('KARAN', 45),\n",
       " ('NAVEEN', 35),\n",
       " ('THARUN', 55)]"
      ]
     },
     "execution_count": 40,
     "metadata": {},
     "output_type": "execute_result"
    }
   ],
   "source": [
    "#map using second element\n",
    "data2=sc.parallelize([('varun',25),('karan',35),('naveen',45),('tharun',45),('varun',35),('karan',45),('naveen',35),('tharun',55)])\n",
    "data2.map(lambda x:(x[0].upper(),x[1])).collect()"
   ]
  },
  {
   "cell_type": "markdown",
   "id": "742cc166",
   "metadata": {},
   "source": [
    "Pair RDD operations"
   ]
  },
  {
   "cell_type": "code",
   "execution_count": 41,
   "id": "344c02a1",
   "metadata": {
    "scrolled": false
   },
   "outputs": [
    {
     "data": {
      "text/plain": [
       "[('varun', 60), ('karan', 80), ('naveen', 80), ('tharun', 100)]"
      ]
     },
     "execution_count": 41,
     "metadata": {},
     "output_type": "execute_result"
    }
   ],
   "source": [
    "data2=sc.parallelize([('varun',25),('karan',35),('naveen',45),('tharun',45),('varun',35),('karan',45),('naveen',35),('tharun',55)])\n",
    "data2.reduceByKey(lambda x,y:x+y).collect()"
   ]
  },
  {
   "cell_type": "code",
   "execution_count": 42,
   "id": "37857267",
   "metadata": {},
   "outputs": [
    {
     "data": {
      "text/plain": [
       "[('varun', 35),\n",
       " ('karan', 45),\n",
       " ('naveen', 55),\n",
       " ('tharun', 55),\n",
       " ('varun', 45),\n",
       " ('karan', 55),\n",
       " ('naveen', 45),\n",
       " ('tharun', 65)]"
      ]
     },
     "execution_count": 42,
     "metadata": {},
     "output_type": "execute_result"
    }
   ],
   "source": [
    "data2.mapValues(lambda x:x+10).collect()"
   ]
  },
  {
   "cell_type": "code",
   "execution_count": 43,
   "id": "51813f2b",
   "metadata": {},
   "outputs": [
    {
     "data": {
      "text/plain": [
       "{'varun': 35, 'karan': 45, 'naveen': 35, 'tharun': 55}"
      ]
     },
     "execution_count": 43,
     "metadata": {},
     "output_type": "execute_result"
    }
   ],
   "source": [
    "#gives in key-values pair\n",
    "data2.collectAsMap()"
   ]
  },
  {
   "cell_type": "code",
   "execution_count": 44,
   "id": "7497abe7",
   "metadata": {},
   "outputs": [
    {
     "name": "stdout",
     "output_type": "stream",
     "text": [
      "[('karan', 35), ('karan', 45), ('naveen', 45), ('naveen', 35), ('tharun', 45), ('tharun', 55), ('varun', 25), ('varun', 35)]\n"
     ]
    },
    {
     "data": {
      "text/plain": [
       "[('tharun', 55),\n",
       " ('naveen', 45),\n",
       " ('tharun', 45),\n",
       " ('karan', 45),\n",
       " ('karan', 35),\n",
       " ('varun', 35),\n",
       " ('naveen', 35),\n",
       " ('varun', 25)]"
      ]
     },
     "execution_count": 44,
     "metadata": {},
     "output_type": "execute_result"
    }
   ],
   "source": [
    "print(data2.sortByKey().collect())\n",
    "data2.sortBy(lambda x:x[1],ascending=False).collect()"
   ]
  },
  {
   "cell_type": "code",
   "execution_count": 45,
   "id": "67c68710",
   "metadata": {},
   "outputs": [
    {
     "name": "stdout",
     "output_type": "stream",
     "text": [
      "varun [25, 35]\n",
      "karan [35, 45]\n",
      "naveen [45, 35]\n",
      "tharun [45, 55]\n"
     ]
    }
   ],
   "source": [
    "#groupby\n",
    "res=data2.groupByKey().collect()\n",
    "for key,value in res:\n",
    "    print(key,list(value))"
   ]
  },
  {
   "cell_type": "code",
   "execution_count": 46,
   "id": "2d7a8670",
   "metadata": {},
   "outputs": [
    {
     "data": {
      "text/plain": [
       "defaultdict(int, {'varun': 2, 'karan': 2, 'naveen': 2, 'tharun': 2})"
      ]
     },
     "execution_count": 46,
     "metadata": {},
     "output_type": "execute_result"
    }
   ],
   "source": [
    "#count\n",
    "data2.countByKey()"
   ]
  },
  {
   "cell_type": "code",
   "execution_count": 47,
   "id": "f9d05b03",
   "metadata": {},
   "outputs": [
    {
     "name": "stdout",
     "output_type": "stream",
     "text": [
      "dict_items([('varun', 2), ('karan', 2), ('naveen', 2), ('tharun', 2)])\n",
      "varun 2\n",
      "karan 2\n",
      "naveen 2\n",
      "tharun 2\n"
     ]
    }
   ],
   "source": [
    "print(data2.countByKey().items())\n",
    "r=data2.countByKey().items()\n",
    "for key,val in r:\n",
    "    print(key,val)"
   ]
  },
  {
   "cell_type": "code",
   "execution_count": 48,
   "id": "131b7639",
   "metadata": {},
   "outputs": [
    {
     "data": {
      "text/plain": [
       "[25, 35]"
      ]
     },
     "execution_count": 48,
     "metadata": {},
     "output_type": "execute_result"
    }
   ],
   "source": [
    "#getting value for a specific key\n",
    "data2.lookup('varun')"
   ]
  },
  {
   "cell_type": "code",
   "execution_count": 49,
   "id": "50b2adcb",
   "metadata": {},
   "outputs": [
    {
     "data": {
      "text/plain": [
       "[('a', (1, 3)), ('b', (2, 4))]"
      ]
     },
     "execution_count": 49,
     "metadata": {},
     "output_type": "execute_result"
    }
   ],
   "source": [
    "#join on keys\n",
    "rdd1 = sc.parallelize([(\"a\", 1), (\"b\", 2)])\n",
    "rdd2 = sc.parallelize([(\"a\", 3), (\"b\", 4)])\n",
    "rdd1.join(rdd2).collect()"
   ]
  },
  {
   "cell_type": "markdown",
   "id": "daaf73f3",
   "metadata": {},
   "source": [
    "BroadCast Variables and accumulators"
   ]
  },
  {
   "cell_type": "code",
   "execution_count": 50,
   "id": "7c742375",
   "metadata": {},
   "outputs": [
    {
     "data": {
      "text/plain": [
       "[50, 40, 30, 20, 0]"
      ]
     },
     "execution_count": 50,
     "metadata": {},
     "output_type": "execute_result"
    }
   ],
   "source": [
    "grades={'a':50,'b':40,'c':30,'d':20}\n",
    "broad_grad=sc.broadcast(grades)\n",
    "d = sc.parallelize([\"a\", \"b\", \"c\", \"d\",\"e\"])\n",
    "d.map(lambda x:broad_grad.value.get(x,0)).collect()"
   ]
  },
  {
   "cell_type": "code",
   "execution_count": 51,
   "id": "699d01e1",
   "metadata": {},
   "outputs": [
    {
     "name": "stdout",
     "output_type": "stream",
     "text": [
      "164\n"
     ]
    }
   ],
   "source": [
    "#accumulators\n",
    "total=sc.accumulator(0)\n",
    "def rdd_sum(x):\n",
    "    global total\n",
    "    total+=x\n",
    "data.foreach(rdd_sum)\n",
    "print(total.value)"
   ]
  },
  {
   "cell_type": "code",
   "execution_count": null,
   "id": "d7586021",
   "metadata": {},
   "outputs": [],
   "source": []
  },
  {
   "cell_type": "code",
   "execution_count": 55,
   "id": "12348631",
   "metadata": {},
   "outputs": [
    {
     "data": {
      "text/plain": [
       "15"
      ]
     },
     "execution_count": 55,
     "metadata": {},
     "output_type": "execute_result"
    }
   ],
   "source": [
    "accum = sc.accumulator(0)\n",
    "data = sc.parallelize([1, 2, 3, 4, 5])\n",
    "\n",
    "def add_to_accum(x):\n",
    "    global accum\n",
    "    accum += x\n",
    "    \n",
    "data.foreach(add_to_accum)\n",
    "accum.value"
   ]
  },
  {
   "cell_type": "code",
   "execution_count": null,
   "id": "95679362",
   "metadata": {},
   "outputs": [],
   "source": []
  }
 ],
 "metadata": {
  "kernelspec": {
   "display_name": "Python 3 (ipykernel)",
   "language": "python",
   "name": "python3"
  },
  "language_info": {
   "codemirror_mode": {
    "name": "ipython",
    "version": 3
   },
   "file_extension": ".py",
   "mimetype": "text/x-python",
   "name": "python",
   "nbconvert_exporter": "python",
   "pygments_lexer": "ipython3",
   "version": "3.11.4"
  }
 },
 "nbformat": 4,
 "nbformat_minor": 5
}
