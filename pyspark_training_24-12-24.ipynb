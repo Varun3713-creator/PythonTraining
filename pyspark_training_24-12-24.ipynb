{
 "cells": [
  {
   "cell_type": "code",
   "execution_count": 1,
   "id": "83dea472",
   "metadata": {},
   "outputs": [],
   "source": [
    "from pyspark.sql import SparkSession"
   ]
  },
  {
   "cell_type": "code",
   "execution_count": 2,
   "id": "ebb97b88",
   "metadata": {},
   "outputs": [],
   "source": [
    "spark=SparkSession.builder.appName('Varun').getOrCreate()"
   ]
  },
  {
   "cell_type": "code",
   "execution_count": 3,
   "id": "cc17b257",
   "metadata": {},
   "outputs": [
    {
     "data": {
      "text/html": [
       "\n",
       "            <div>\n",
       "                <p><b>SparkSession - in-memory</b></p>\n",
       "                \n",
       "        <div>\n",
       "            <p><b>SparkContext</b></p>\n",
       "\n",
       "            <p><a href=\"http://A315-41:4040\">Spark UI</a></p>\n",
       "\n",
       "            <dl>\n",
       "              <dt>Version</dt>\n",
       "                <dd><code>v3.5.4</code></dd>\n",
       "              <dt>Master</dt>\n",
       "                <dd><code>local[*]</code></dd>\n",
       "              <dt>AppName</dt>\n",
       "                <dd><code>Varun</code></dd>\n",
       "            </dl>\n",
       "        </div>\n",
       "        \n",
       "            </div>\n",
       "        "
      ],
      "text/plain": [
       "<pyspark.sql.session.SparkSession at 0x1a9cdde7710>"
      ]
     },
     "execution_count": 3,
     "metadata": {},
     "output_type": "execute_result"
    }
   ],
   "source": [
    "spark"
   ]
  },
  {
   "cell_type": "markdown",
   "id": "7d4b5116",
   "metadata": {},
   "source": [
    "User Activity Log continue"
   ]
  },
  {
   "cell_type": "code",
   "execution_count": 4,
   "id": "cc6db759",
   "metadata": {},
   "outputs": [],
   "source": [
    "df2=spark.read.csv('user_activity_log.csv',header=True,inferSchema=True)"
   ]
  },
  {
   "cell_type": "code",
   "execution_count": 5,
   "id": "9aa9961d",
   "metadata": {},
   "outputs": [
    {
     "name": "stdout",
     "output_type": "stream",
     "text": [
      "+------+-----------+-------------------+\n",
      "|UserID|   Activity|          Timestamp|\n",
      "+------+-----------+-------------------+\n",
      "|   485|ViewProduct|2024-12-13 12:49:38|\n",
      "|   626|ViewProduct|2024-12-06 18:06:12|\n",
      "|   807|     Search|2024-12-20 15:30:21|\n",
      "|    50|     Search|2024-12-12 18:49:43|\n",
      "|   370|ViewProduct|2024-12-08 11:37:11|\n",
      "|   936|   Purchase|2024-11-25 10:16:43|\n",
      "|    18|ViewProduct|2024-11-24 21:37:40|\n",
      "|    17|ViewProduct|2024-12-02 16:17:16|\n",
      "|   388|  AddToCart|2024-11-28 03:40:03|\n",
      "|   179|     Logout|2024-12-03 09:08:41|\n",
      "|   328|      Login|2024-11-29 04:35:56|\n",
      "|   528|   Purchase|2024-12-19 00:12:44|\n",
      "|   276|      Login|2024-12-02 04:00:53|\n",
      "|   526|      Login|2024-11-24 04:28:10|\n",
      "|   375|     Logout|2024-11-24 18:25:11|\n",
      "|   213|   Purchase|2024-12-02 07:57:25|\n",
      "|   609|  AddToCart|2024-12-01 16:55:30|\n",
      "|   456|  AddToCart|2024-12-08 16:54:21|\n",
      "|   830|     Logout|2024-12-13 02:16:10|\n",
      "|   635|ViewProduct|2024-12-03 15:05:27|\n",
      "+------+-----------+-------------------+\n",
      "only showing top 20 rows\n",
      "\n"
     ]
    }
   ],
   "source": [
    "df2.show()"
   ]
  },
  {
   "cell_type": "code",
   "execution_count": null,
   "id": "7ac41546",
   "metadata": {},
   "outputs": [],
   "source": []
  },
  {
   "cell_type": "code",
   "execution_count": 6,
   "id": "50beb8bc",
   "metadata": {},
   "outputs": [
    {
     "name": "stdout",
     "output_type": "stream",
     "text": [
      "root\n",
      " |-- UserID: integer (nullable = true)\n",
      " |-- Activity: string (nullable = true)\n",
      " |-- Timestamp: timestamp (nullable = true)\n",
      "\n"
     ]
    }
   ],
   "source": [
    "df2.printSchema()"
   ]
  },
  {
   "cell_type": "code",
   "execution_count": 7,
   "id": "76ccd816",
   "metadata": {},
   "outputs": [],
   "source": [
    "import pyspark.sql.functions as F\n",
    "df2=df2.withColumn('DOW',F.dayofweek(df2.Timestamp))"
   ]
  },
  {
   "cell_type": "code",
   "execution_count": 8,
   "id": "ff273601",
   "metadata": {},
   "outputs": [
    {
     "name": "stdout",
     "output_type": "stream",
     "text": [
      "+------+-----------+-------------------+---+\n",
      "|UserID|   Activity|          Timestamp|DOW|\n",
      "+------+-----------+-------------------+---+\n",
      "|   485|ViewProduct|2024-12-13 12:49:38|  6|\n",
      "|   626|ViewProduct|2024-12-06 18:06:12|  6|\n",
      "|   807|     Search|2024-12-20 15:30:21|  6|\n",
      "|    50|     Search|2024-12-12 18:49:43|  5|\n",
      "|   370|ViewProduct|2024-12-08 11:37:11|  1|\n",
      "|   936|   Purchase|2024-11-25 10:16:43|  2|\n",
      "|    18|ViewProduct|2024-11-24 21:37:40|  1|\n",
      "|    17|ViewProduct|2024-12-02 16:17:16|  2|\n",
      "|   388|  AddToCart|2024-11-28 03:40:03|  5|\n",
      "|   179|     Logout|2024-12-03 09:08:41|  3|\n",
      "|   328|      Login|2024-11-29 04:35:56|  6|\n",
      "|   528|   Purchase|2024-12-19 00:12:44|  5|\n",
      "|   276|      Login|2024-12-02 04:00:53|  2|\n",
      "|   526|      Login|2024-11-24 04:28:10|  1|\n",
      "|   375|     Logout|2024-11-24 18:25:11|  1|\n",
      "|   213|   Purchase|2024-12-02 07:57:25|  2|\n",
      "|   609|  AddToCart|2024-12-01 16:55:30|  1|\n",
      "|   456|  AddToCart|2024-12-08 16:54:21|  1|\n",
      "|   830|     Logout|2024-12-13 02:16:10|  6|\n",
      "|   635|ViewProduct|2024-12-03 15:05:27|  3|\n",
      "+------+-----------+-------------------+---+\n",
      "only showing top 20 rows\n",
      "\n"
     ]
    }
   ],
   "source": [
    "df2.show()"
   ]
  },
  {
   "cell_type": "code",
   "execution_count": 9,
   "id": "9571da0a",
   "metadata": {},
   "outputs": [
    {
     "name": "stdout",
     "output_type": "stream",
     "text": [
      "+---+---------------+\n",
      "|DOW|count(Activity)|\n",
      "+---+---------------+\n",
      "|  1|           1641|\n",
      "|  2|           1454|\n",
      "|  3|           1285|\n",
      "|  4|           1366|\n",
      "|  5|           1368|\n",
      "|  6|           1364|\n",
      "|  7|           1522|\n",
      "+---+---------------+\n",
      "\n"
     ]
    }
   ],
   "source": [
    "#Analyze activity patterns by day of the week (count activities for each day).\n",
    "df2.groupBy('DOW').agg(F.count('Activity')).orderBy('DOW').show()"
   ]
  },
  {
   "cell_type": "code",
   "execution_count": 10,
   "id": "a70381ed",
   "metadata": {},
   "outputs": [],
   "source": [
    "df2=df2.withColumn('Date',F.to_date(df2.Timestamp))"
   ]
  },
  {
   "cell_type": "code",
   "execution_count": 11,
   "id": "a55f6679",
   "metadata": {},
   "outputs": [
    {
     "name": "stdout",
     "output_type": "stream",
     "text": [
      "+------+-----------+-------------------+---+----------+\n",
      "|UserID|   Activity|          Timestamp|DOW|      Date|\n",
      "+------+-----------+-------------------+---+----------+\n",
      "|   485|ViewProduct|2024-12-13 12:49:38|  6|2024-12-13|\n",
      "|   626|ViewProduct|2024-12-06 18:06:12|  6|2024-12-06|\n",
      "|   807|     Search|2024-12-20 15:30:21|  6|2024-12-20|\n",
      "|    50|     Search|2024-12-12 18:49:43|  5|2024-12-12|\n",
      "|   370|ViewProduct|2024-12-08 11:37:11|  1|2024-12-08|\n",
      "|   936|   Purchase|2024-11-25 10:16:43|  2|2024-11-25|\n",
      "|    18|ViewProduct|2024-11-24 21:37:40|  1|2024-11-24|\n",
      "|    17|ViewProduct|2024-12-02 16:17:16|  2|2024-12-02|\n",
      "|   388|  AddToCart|2024-11-28 03:40:03|  5|2024-11-28|\n",
      "|   179|     Logout|2024-12-03 09:08:41|  3|2024-12-03|\n",
      "|   328|      Login|2024-11-29 04:35:56|  6|2024-11-29|\n",
      "|   528|   Purchase|2024-12-19 00:12:44|  5|2024-12-19|\n",
      "|   276|      Login|2024-12-02 04:00:53|  2|2024-12-02|\n",
      "|   526|      Login|2024-11-24 04:28:10|  1|2024-11-24|\n",
      "|   375|     Logout|2024-11-24 18:25:11|  1|2024-11-24|\n",
      "|   213|   Purchase|2024-12-02 07:57:25|  2|2024-12-02|\n",
      "|   609|  AddToCart|2024-12-01 16:55:30|  1|2024-12-01|\n",
      "|   456|  AddToCart|2024-12-08 16:54:21|  1|2024-12-08|\n",
      "|   830|     Logout|2024-12-13 02:16:10|  6|2024-12-13|\n",
      "|   635|ViewProduct|2024-12-03 15:05:27|  3|2024-12-03|\n",
      "+------+-----------+-------------------+---+----------+\n",
      "only showing top 20 rows\n",
      "\n"
     ]
    }
   ],
   "source": [
    "df2.show()"
   ]
  },
  {
   "cell_type": "code",
   "execution_count": 12,
   "id": "ce13c9d6",
   "metadata": {},
   "outputs": [
    {
     "name": "stdout",
     "output_type": "stream",
     "text": [
      "+----------+---------------+\n",
      "|      Date|count(Activity)|\n",
      "+----------+---------------+\n",
      "|2024-11-25|            312|\n",
      "|2024-11-23|            178|\n",
      "|2024-11-29|            302|\n",
      "|2024-12-01|            323|\n",
      "|2024-12-12|            344|\n",
      "|2024-11-27|            350|\n",
      "|2024-12-02|            312|\n",
      "|2024-12-09|            369|\n",
      "|2024-12-03|            327|\n",
      "|2024-12-07|            342|\n",
      "|2024-11-30|            322|\n",
      "|2024-12-18|            351|\n",
      "|2024-12-16|            310|\n",
      "|2024-12-20|            364|\n",
      "|2024-11-26|            284|\n",
      "|2024-12-14|            336|\n",
      "|2024-11-24|            325|\n",
      "|2024-12-10|            337|\n",
      "|2024-12-21|            344|\n",
      "|2024-12-17|            337|\n",
      "+----------+---------------+\n",
      "only showing top 20 rows\n",
      "\n",
      "+----------+-----+\n",
      "|      Date|count|\n",
      "+----------+-----+\n",
      "|2024-11-25|  312|\n",
      "|2024-11-23|  178|\n",
      "|2024-11-29|  302|\n",
      "|2024-12-01|  323|\n",
      "|2024-12-12|  344|\n",
      "|2024-11-27|  350|\n",
      "|2024-12-02|  312|\n",
      "|2024-12-09|  369|\n",
      "|2024-12-03|  327|\n",
      "|2024-12-07|  342|\n",
      "|2024-11-30|  322|\n",
      "|2024-12-18|  351|\n",
      "|2024-12-16|  310|\n",
      "|2024-12-20|  364|\n",
      "|2024-11-26|  284|\n",
      "|2024-12-14|  336|\n",
      "|2024-11-24|  325|\n",
      "|2024-12-10|  337|\n",
      "|2024-12-21|  344|\n",
      "|2024-12-17|  337|\n",
      "+----------+-----+\n",
      "only showing top 20 rows\n",
      "\n"
     ]
    }
   ],
   "source": [
    "#Extract the date from the timestamp and group activities by date.\n",
    "df_for_avg=df2.groupBy('Date').agg(F.count('Activity'))\n",
    "df2.groupBy('Date').agg(F.count('Activity')).show()\n",
    "df2.groupBy('Date').count().show()"
   ]
  },
  {
   "cell_type": "code",
   "execution_count": 13,
   "id": "82f454f7",
   "metadata": {},
   "outputs": [
    {
     "name": "stdout",
     "output_type": "stream",
     "text": [
      "+-------+\n",
      "|average|\n",
      "+-------+\n",
      "| 322.58|\n",
      "+-------+\n",
      "\n"
     ]
    }
   ],
   "source": [
    "#average number of activities logged per day\n",
    "df_for_avg.agg(F.round(F.avg('count(Activity)'),2).alias('average')).show()"
   ]
  },
  {
   "cell_type": "code",
   "execution_count": 14,
   "id": "9781a3f2",
   "metadata": {},
   "outputs": [
    {
     "name": "stdout",
     "output_type": "stream",
     "text": [
      "+--------------------+\n",
      "|avg(count(Activity))|\n",
      "+--------------------+\n",
      "|   322.5806451612903|\n",
      "+--------------------+\n",
      "\n"
     ]
    }
   ],
   "source": [
    "df_for_avg.agg({'count(Activity)':'avg'}).show()"
   ]
  },
  {
   "cell_type": "code",
   "execution_count": 15,
   "id": "c54e5e82",
   "metadata": {},
   "outputs": [
    {
     "name": "stdout",
     "output_type": "stream",
     "text": [
      "+------+---------+-----+------+--------+------+-----------+\n",
      "|UserID|AddToCart|Login|Logout|Purchase|Search|ViewProduct|\n",
      "+------+---------+-----+------+--------+------+-----------+\n",
      "|   833|     NULL|    1|     2|    NULL|     2|          1|\n",
      "|   471|        1|    2|     2|       1|     6|          2|\n",
      "|   496|        1| NULL|     1|    NULL|     6|       NULL|\n",
      "|   148|        1|    2|  NULL|       5|     1|          2|\n",
      "|   463|        2| NULL|     4|       4|     2|          2|\n",
      "|   623|     NULL|    2|     2|       2|     1|          1|\n",
      "|   243|        3|    1|     1|       1|     3|          4|\n",
      "|   540|        2|    2|     4|       2|     2|       NULL|\n",
      "|   737|        4|    1|     3|    NULL|     2|          3|\n",
      "|   858|        3|    2|     1|       4|     2|          2|\n",
      "|   392|        1|    3|     4|    NULL|     1|          1|\n",
      "|   897|     NULL|    3|     2|       1|     4|          2|\n",
      "|   516|        1|    2|     2|       1|     3|          1|\n",
      "|    31|        3|    2|  NULL|       3|     1|          2|\n",
      "|   451|        1| NULL|  NULL|       2|     2|          1|\n",
      "|   808|        4|    1|     2|    NULL|     2|       NULL|\n",
      "|   580|        1|    1|     3|       2|  NULL|          3|\n",
      "|   251|        1|    1|     3|       1|     2|          4|\n",
      "|   137|     NULL|    1|     3|    NULL|     9|          3|\n",
      "|    85|        2| NULL|     2|       1|     2|          5|\n",
      "+------+---------+-----+------+--------+------+-----------+\n",
      "only showing top 20 rows\n",
      "\n"
     ]
    }
   ],
   "source": [
    "#pivot table showing the count of activities for each user\n",
    "df2.groupBy('UserID').pivot('Activity').count().show()"
   ]
  },
  {
   "cell_type": "code",
   "execution_count": 16,
   "id": "56d83d11",
   "metadata": {},
   "outputs": [
    {
     "name": "stdout",
     "output_type": "stream",
     "text": [
      "+---+---------+-----+------+--------+------+-----------+\n",
      "|DOW|AddToCart|Login|Logout|Purchase|Search|ViewProduct|\n",
      "+---+---------+-----+------+--------+------+-----------+\n",
      "|  1|      291|  262|   278|     266|   285|        259|\n",
      "|  6|      229|  213|   231|     221|   221|        249|\n",
      "|  3|      208|  188|   215|     235|   223|        216|\n",
      "|  5|      202|  232|   253|     203|   242|        236|\n",
      "|  4|      195|  239|   226|     211|   264|        231|\n",
      "|  7|      246|  259|   270|     223|   282|        242|\n",
      "|  2|      248|  253|   233|     252|   224|        244|\n",
      "+---+---------+-----+------+--------+------+-----------+\n",
      "\n"
     ]
    }
   ],
   "source": [
    "#pivot table showing activity counts grouped by activity type and dDW.    \n",
    "df2.groupBy('DOW').pivot('Activity').count().show()"
   ]
  },
  {
   "cell_type": "code",
   "execution_count": 17,
   "id": "919ae9f6",
   "metadata": {},
   "outputs": [
    {
     "name": "stdout",
     "output_type": "stream",
     "text": [
      "+-----------+-----+\n",
      "|   Activity|count|\n",
      "+-----------+-----+\n",
      "|   Purchase| 1611|\n",
      "|ViewProduct| 1677|\n",
      "|     Logout| 1706|\n",
      "|      Login| 1646|\n",
      "|  AddToCart| 1619|\n",
      "|     Search| 1741|\n",
      "+-----------+-----+\n",
      "\n"
     ]
    }
   ],
   "source": [
    "df2.groupby('Activity').count().show()"
   ]
  },
  {
   "cell_type": "code",
   "execution_count": 18,
   "id": "61ee69e3",
   "metadata": {},
   "outputs": [
    {
     "data": {
      "text/html": [
       "<div>\n",
       "<style scoped>\n",
       "    .dataframe tbody tr th:only-of-type {\n",
       "        vertical-align: middle;\n",
       "    }\n",
       "\n",
       "    .dataframe tbody tr th {\n",
       "        vertical-align: top;\n",
       "    }\n",
       "\n",
       "    .dataframe thead th {\n",
       "        text-align: right;\n",
       "    }\n",
       "</style>\n",
       "<table border=\"1\" class=\"dataframe\">\n",
       "  <thead>\n",
       "    <tr style=\"text-align: right;\">\n",
       "      <th></th>\n",
       "      <th>Activity</th>\n",
       "      <th>count</th>\n",
       "    </tr>\n",
       "  </thead>\n",
       "  <tbody>\n",
       "    <tr>\n",
       "      <th>0</th>\n",
       "      <td>Purchase</td>\n",
       "      <td>1611</td>\n",
       "    </tr>\n",
       "    <tr>\n",
       "      <th>1</th>\n",
       "      <td>ViewProduct</td>\n",
       "      <td>1677</td>\n",
       "    </tr>\n",
       "    <tr>\n",
       "      <th>2</th>\n",
       "      <td>Logout</td>\n",
       "      <td>1706</td>\n",
       "    </tr>\n",
       "    <tr>\n",
       "      <th>3</th>\n",
       "      <td>Login</td>\n",
       "      <td>1646</td>\n",
       "    </tr>\n",
       "    <tr>\n",
       "      <th>4</th>\n",
       "      <td>AddToCart</td>\n",
       "      <td>1619</td>\n",
       "    </tr>\n",
       "    <tr>\n",
       "      <th>5</th>\n",
       "      <td>Search</td>\n",
       "      <td>1741</td>\n",
       "    </tr>\n",
       "  </tbody>\n",
       "</table>\n",
       "</div>"
      ],
      "text/plain": [
       "      Activity  count\n",
       "0     Purchase   1611\n",
       "1  ViewProduct   1677\n",
       "2       Logout   1706\n",
       "3        Login   1646\n",
       "4    AddToCart   1619\n",
       "5       Search   1741"
      ]
     },
     "execution_count": 18,
     "metadata": {},
     "output_type": "execute_result"
    }
   ],
   "source": [
    "#Ploting a bar chart showing the number of activities per activity type.\n",
    "import matplotlib.pyplot as plt\n",
    "df3=df2.groupBy('Activity').count().toPandas()\n",
    "df3"
   ]
  },
  {
   "cell_type": "code",
   "execution_count": 19,
   "id": "de8e38f2",
   "metadata": {},
   "outputs": [
    {
     "data": {
      "image/png": "[encoded data removed]",
      "text/plain": [
       "<Figure size 640x480 with 1 Axes>"
      ]
     },
     "metadata": {},
     "output_type": "display_data"
    }
   ],
   "source": [
    "plt.bar(df3['Activity'],df3['count'])\n",
    "plt.xlabel('Activity Type')\n",
    "plt.ylabel('Count')\n",
    "plt.xticks(rotation=45)\n",
    "plt.show()"
   ]
  },
  {
   "cell_type": "code",
   "execution_count": 20,
   "id": "245bbfc0",
   "metadata": {},
   "outputs": [],
   "source": [
    "x=df2.groupBy('UserID').agg(F.count(df2.Activity))"
   ]
  },
  {
   "cell_type": "code",
   "execution_count": 21,
   "id": "c1c8cdd1",
   "metadata": {},
   "outputs": [
    {
     "data": {
      "text/plain": [
       "1000"
      ]
     },
     "execution_count": 21,
     "metadata": {},
     "output_type": "execute_result"
    }
   ],
   "source": [
    "x.count()"
   ]
  },
  {
   "cell_type": "code",
   "execution_count": 22,
   "id": "90711167",
   "metadata": {},
   "outputs": [],
   "source": [
    "data=x[x['count(Activity)']>15]\n",
    "data=data.toPandas()"
   ]
  },
  {
   "cell_type": "code",
   "execution_count": 23,
   "id": "11e038c0",
   "metadata": {},
   "outputs": [
    {
     "data": {
      "text/plain": [
       "UserID             45\n",
       "count(Activity)    45\n",
       "dtype: int64"
      ]
     },
     "execution_count": 23,
     "metadata": {},
     "output_type": "execute_result"
    }
   ],
   "source": [
    "data.count()"
   ]
  },
  {
   "cell_type": "code",
   "execution_count": 24,
   "id": "27999e73",
   "metadata": {},
   "outputs": [
    {
     "data": {
      "image/png": "[encoded data removed]",
      "text/plain": [
       "<Figure size 640x480 with 1 Axes>"
      ]
     },
     "metadata": {},
     "output_type": "display_data"
    }
   ],
   "source": [
    "data\n",
    "plt.bar(data['UserID'], data['count(Activity)'],width=6)\n",
    "plt.title('Users who have activity more than 15')\n",
    "plt.xlabel('UserID')\n",
    "plt.ylabel('Activity count')\n",
    "plt.tight_layout()\n",
    "\n",
    "plt.show()"
   ]
  },
  {
   "cell_type": "code",
   "execution_count": 25,
   "id": "da8bdd3c",
   "metadata": {},
   "outputs": [],
   "source": [
    "#Iris Dataset\n",
    "df_s=spark.read.csv('C:/Users/acer/Downloads/iris.csv',header=True,inferSchema=True)"
   ]
  },
  {
   "cell_type": "code",
   "execution_count": 26,
   "id": "c222d107",
   "metadata": {},
   "outputs": [
    {
     "name": "stdout",
     "output_type": "stream",
     "text": [
      "+---+-------------+------------+-------------+------------+-----------+\n",
      "| Id|SepalLengthCm|SepalWidthCm|PetalLengthCm|PetalWidthCm|    Species|\n",
      "+---+-------------+------------+-------------+------------+-----------+\n",
      "|  1|          5.1|         3.5|          1.4|         0.2|Iris-setosa|\n",
      "|  2|          4.9|         3.0|          1.4|         0.2|Iris-setosa|\n",
      "|  3|          4.7|         3.2|          1.3|         0.2|Iris-setosa|\n",
      "|  4|          4.6|         3.1|          1.5|         0.2|Iris-setosa|\n",
      "|  5|          5.0|         3.6|          1.4|         0.2|Iris-setosa|\n",
      "|  6|          5.4|         3.9|          1.7|         0.4|Iris-setosa|\n",
      "|  7|          4.6|         3.4|          1.4|         0.3|Iris-setosa|\n",
      "|  8|          5.0|         3.4|          1.5|         0.2|Iris-setosa|\n",
      "|  9|          4.4|         2.9|          1.4|         0.2|Iris-setosa|\n",
      "| 10|          4.9|         3.1|          1.5|         0.1|Iris-setosa|\n",
      "| 11|          5.4|         3.7|          1.5|         0.2|Iris-setosa|\n",
      "| 12|          4.8|         3.4|          1.6|         0.2|Iris-setosa|\n",
      "| 13|          4.8|         3.0|          1.4|         0.1|Iris-setosa|\n",
      "| 14|          4.3|         3.0|          1.1|         0.1|Iris-setosa|\n",
      "| 15|          5.8|         4.0|          1.2|         0.2|Iris-setosa|\n",
      "| 16|          5.7|         4.4|          1.5|         0.4|Iris-setosa|\n",
      "| 17|          5.4|         3.9|          1.3|         0.4|Iris-setosa|\n",
      "| 18|          5.1|         3.5|          1.4|         0.3|Iris-setosa|\n",
      "| 19|          5.7|         3.8|          1.7|         0.3|Iris-setosa|\n",
      "| 20|          5.1|         3.8|          1.5|         0.3|Iris-setosa|\n",
      "+---+-------------+------------+-------------+------------+-----------+\n",
      "only showing top 20 rows\n",
      "\n"
     ]
    }
   ],
   "source": [
    "df_s.show()"
   ]
  },
  {
   "cell_type": "code",
   "execution_count": 27,
   "id": "d1cfb3e0",
   "metadata": {},
   "outputs": [
    {
     "name": "stdout",
     "output_type": "stream",
     "text": [
      "+---+-------------+------------+-------------+------------+-------+\n",
      "| Id|SepalLengthCm|SepalWidthCm|PetalLengthCm|PetalWidthCm|Species|\n",
      "+---+-------------+------------+-------------+------------+-------+\n",
      "+---+-------------+------------+-------------+------------+-------+\n",
      "\n"
     ]
    }
   ],
   "source": [
    "df_s[df_s.PetalWidthCm.isNull()].show()"
   ]
  },
  {
   "cell_type": "code",
   "execution_count": 28,
   "id": "dcff8a3a",
   "metadata": {},
   "outputs": [
    {
     "data": {
      "text/plain": [
       "150"
      ]
     },
     "execution_count": 28,
     "metadata": {},
     "output_type": "execute_result"
    }
   ],
   "source": [
    "df_s.count()"
   ]
  },
  {
   "cell_type": "code",
   "execution_count": 29,
   "id": "1c0ed32a",
   "metadata": {},
   "outputs": [
    {
     "name": "stdout",
     "output_type": "stream",
     "text": [
      "+---------------+\n",
      "|        Species|\n",
      "+---------------+\n",
      "| Iris-virginica|\n",
      "|    Iris-setosa|\n",
      "|Iris-versicolor|\n",
      "+---------------+\n",
      "\n"
     ]
    }
   ],
   "source": [
    "df_s.select('Species').distinct().show()"
   ]
  },
  {
   "cell_type": "code",
   "execution_count": 30,
   "id": "81a6a428",
   "metadata": {},
   "outputs": [
    {
     "data": {
      "text/plain": [
       "150"
      ]
     },
     "execution_count": 30,
     "metadata": {},
     "output_type": "execute_result"
    }
   ],
   "source": [
    "df_s.select('Species').count()"
   ]
  },
  {
   "cell_type": "code",
   "execution_count": 37,
   "id": "52eacc92",
   "metadata": {},
   "outputs": [
    {
     "data": {
      "text/plain": [
       "['Id',\n",
       " 'SepalLengthCm',\n",
       " 'SepalWidthCm',\n",
       " 'PetalLengthCm',\n",
       " 'PetalWidthCm',\n",
       " 'Species']"
      ]
     },
     "execution_count": 37,
     "metadata": {},
     "output_type": "execute_result"
    }
   ],
   "source": [
    "df_s.columns"
   ]
  },
  {
   "cell_type": "code",
   "execution_count": 31,
   "id": "5504c6e9",
   "metadata": {},
   "outputs": [],
   "source": [
    "from pyspark.ml.feature import VectorAssembler\n",
    "features=VectorAssembler(inputCols=[\"SepalLengthCm\",\"SepalWidthCm\",\"PetalLengthCm\",\"PetalWidthCm\"],outputCol=\"Features\")"
   ]
  },
  {
   "cell_type": "code",
   "execution_count": 33,
   "id": "f12aa47a",
   "metadata": {},
   "outputs": [],
   "source": [
    "output=features.transform(df_s)"
   ]
  },
  {
   "cell_type": "code",
   "execution_count": 34,
   "id": "fbffd955",
   "metadata": {},
   "outputs": [
    {
     "name": "stdout",
     "output_type": "stream",
     "text": [
      "+---+-------------+------------+-------------+------------+-----------+-----------------+\n",
      "| Id|SepalLengthCm|SepalWidthCm|PetalLengthCm|PetalWidthCm|    Species|         Features|\n",
      "+---+-------------+------------+-------------+------------+-----------+-----------------+\n",
      "|  1|          5.1|         3.5|          1.4|         0.2|Iris-setosa|[5.1,3.5,1.4,0.2]|\n",
      "|  2|          4.9|         3.0|          1.4|         0.2|Iris-setosa|[4.9,3.0,1.4,0.2]|\n",
      "|  3|          4.7|         3.2|          1.3|         0.2|Iris-setosa|[4.7,3.2,1.3,0.2]|\n",
      "|  4|          4.6|         3.1|          1.5|         0.2|Iris-setosa|[4.6,3.1,1.5,0.2]|\n",
      "|  5|          5.0|         3.6|          1.4|         0.2|Iris-setosa|[5.0,3.6,1.4,0.2]|\n",
      "|  6|          5.4|         3.9|          1.7|         0.4|Iris-setosa|[5.4,3.9,1.7,0.4]|\n",
      "|  7|          4.6|         3.4|          1.4|         0.3|Iris-setosa|[4.6,3.4,1.4,0.3]|\n",
      "|  8|          5.0|         3.4|          1.5|         0.2|Iris-setosa|[5.0,3.4,1.5,0.2]|\n",
      "|  9|          4.4|         2.9|          1.4|         0.2|Iris-setosa|[4.4,2.9,1.4,0.2]|\n",
      "| 10|          4.9|         3.1|          1.5|         0.1|Iris-setosa|[4.9,3.1,1.5,0.1]|\n",
      "| 11|          5.4|         3.7|          1.5|         0.2|Iris-setosa|[5.4,3.7,1.5,0.2]|\n",
      "| 12|          4.8|         3.4|          1.6|         0.2|Iris-setosa|[4.8,3.4,1.6,0.2]|\n",
      "| 13|          4.8|         3.0|          1.4|         0.1|Iris-setosa|[4.8,3.0,1.4,0.1]|\n",
      "| 14|          4.3|         3.0|          1.1|         0.1|Iris-setosa|[4.3,3.0,1.1,0.1]|\n",
      "| 15|          5.8|         4.0|          1.2|         0.2|Iris-setosa|[5.8,4.0,1.2,0.2]|\n",
      "| 16|          5.7|         4.4|          1.5|         0.4|Iris-setosa|[5.7,4.4,1.5,0.4]|\n",
      "| 17|          5.4|         3.9|          1.3|         0.4|Iris-setosa|[5.4,3.9,1.3,0.4]|\n",
      "| 18|          5.1|         3.5|          1.4|         0.3|Iris-setosa|[5.1,3.5,1.4,0.3]|\n",
      "| 19|          5.7|         3.8|          1.7|         0.3|Iris-setosa|[5.7,3.8,1.7,0.3]|\n",
      "| 20|          5.1|         3.8|          1.5|         0.3|Iris-setosa|[5.1,3.8,1.5,0.3]|\n",
      "+---+-------------+------------+-------------+------------+-----------+-----------------+\n",
      "only showing top 20 rows\n",
      "\n"
     ]
    }
   ],
   "source": [
    "output.show()"
   ]
  },
  {
   "cell_type": "code",
   "execution_count": null,
   "id": "b7edf66c",
   "metadata": {},
   "outputs": [],
   "source": []
  }
 ],
 "metadata": {
  "kernelspec": {
   "display_name": "Python 3 (ipykernel)",
   "language": "python",
   "name": "python3"
  },
  "language_info": {
   "codemirror_mode": {
    "name": "ipython",
    "version": 3
   },
   "file_extension": ".py",
   "mimetype": "text/x-python",
   "name": "python",
   "nbconvert_exporter": "python",
   "pygments_lexer": "ipython3",
   "version": "3.11.4"
  }
 },
 "nbformat": 4,
 "nbformat_minor": 5
}
