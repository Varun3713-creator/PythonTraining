{
 "cells": [
  {
   "cell_type": "code",
   "execution_count": 1,
   "id": "5a5cd4cf",
   "metadata": {},
   "outputs": [],
   "source": [
    "from pyspark.sql import SparkSession"
   ]
  },
  {
   "cell_type": "code",
   "execution_count": 2,
   "id": "0830cd96",
   "metadata": {},
   "outputs": [],
   "source": [
    "import pyspark.sql.functions as F\n",
    "import pyspark.sql.types as T"
   ]
  },
  {
   "cell_type": "code",
   "execution_count": 3,
   "id": "6b7f4d8b",
   "metadata": {},
   "outputs": [],
   "source": [
    "from pyspark.sql import SparkSession\n",
    "from delta import configure_spark_with_delta_pip\n",
    "\n",
    "builder = SparkSession.builder \\\n",
    "    .appName(\"json-3\") \\\n",
    "    .config(\"spark.sql.extensions\", \"io.delta.sql.DeltaSparkSessionExtension\") \\\n",
    "    .config(\"spark.sql.catalog.spark_catalog\", \"org.apache.spark.sql.delta.catalog.DeltaCatalog\")\n",
    "\n",
    "spark = configure_spark_with_delta_pip(builder).getOrCreate()"
   ]
  },
  {
   "cell_type": "code",
   "execution_count": 4,
   "id": "31661a30",
   "metadata": {},
   "outputs": [
    {
     "name": "stdout",
     "output_type": "stream",
     "text": [
      "+--------------------+--------------------+--------------------+--------------------+\n",
      "|                Body|     EnqueuedTimeUtc|          Properties|    SystemProperties|\n",
      "+--------------------+--------------------+--------------------+--------------------+\n",
      "|{mn=TVgwMDAx:sn=M...|2024-08-20T09:56:...|{rp.mib/dev/96d1f...|{{\"scope\":\"device...|\n",
      "|{mn=TVgwMDAx:sn=M...|2024-08-20T09:56:...|{rp.mib/dev/96d1f...|{{\"scope\":\"device...|\n",
      "|{mn=TVgwMDAx:sn=M...|2024-08-20T09:56:...|{rp.mib/dev/96d1f...|{{\"scope\":\"device...|\n",
      "|{mn=TVgwMDAx:sn=M...|2024-08-20T09:56:...|{rp.mib/dev/96d1f...|{{\"scope\":\"device...|\n",
      "|{mn=TVgwMDAy:sn=M...|2024-08-20T09:56:...|{rp.mib/dev/96d1f...|{{\"scope\":\"device...|\n",
      "|{mn=TVgwMDAy:sn=M...|2024-08-20T09:56:...|{rp.mib/dev/96d1f...|{{\"scope\":\"device...|\n",
      "|{mn=TVgwMDAy:sn=M...|2024-08-20T09:56:...|{rp.mib/dev/96d1f...|{{\"scope\":\"device...|\n",
      "|{mn=TVgwMDAy:sn=M...|2024-08-20T09:56:...|{rp.mib/dev/96d1f...|{{\"scope\":\"device...|\n",
      "|{mn=TVgwMDAz:sn=M...|2024-08-20T09:56:...|{rp.mib/dev/96d1f...|{{\"scope\":\"device...|\n",
      "|{mn=TVgwMDAz:sn=M...|2024-08-20T09:56:...|{rp.mib/dev/96d1f...|{{\"scope\":\"device...|\n",
      "|{mn=TVgwMDAz:sn=M...|2024-08-20T09:56:...|{rp.mib/dev/96d1f...|{{\"scope\":\"device...|\n",
      "|{mn=TVgwMDAz:sn=M...|2024-08-20T09:56:...|{rp.mib/dev/96d1f...|{{\"scope\":\"device...|\n",
      "|{mn=TVgwMDA0:sn=M...|2024-08-20T09:56:...|{rp.mib/dev/96d1f...|{{\"scope\":\"device...|\n",
      "|{mn=TVgwMDA0:sn=M...|2024-08-20T09:56:...|{rp.mib/dev/96d1f...|{{\"scope\":\"device...|\n",
      "|{mn=TVgwMDA0:sn=M...|2024-08-20T09:56:...|{rp.mib/dev/96d1f...|{{\"scope\":\"device...|\n",
      "|{mn=TVgwMDA0:sn=M...|2024-08-20T09:56:...|{rp.mib/dev/96d1f...|{{\"scope\":\"device...|\n",
      "|{mn=TVgwMDA1:sn=M...|2024-08-20T09:56:...|{rp.mib/dev/96d1f...|{{\"scope\":\"device...|\n",
      "|{mn=TVgwMDA1:sn=M...|2024-08-20T09:56:...|{rp.mib/dev/96d1f...|{{\"scope\":\"device...|\n",
      "|{mn=TVgwMDA1:sn=M...|2024-08-20T09:56:...|{rp.mib/dev/96d1f...|{{\"scope\":\"device...|\n",
      "|{mn=TVgwMDA1:sn=M...|2024-08-20T09:56:...|{rp.mib/dev/96d1f...|{{\"scope\":\"device...|\n",
      "+--------------------+--------------------+--------------------+--------------------+\n",
      "only showing top 20 rows\n",
      "\n"
     ]
    }
   ],
   "source": [
    "path='C:/Users/acer/Downloads/2024-7-20-15-26-1.json'\n",
    "df=spark.read.format(\"json\").load(path)\n",
    "df.show()"
   ]
  },
  {
   "cell_type": "code",
   "execution_count": 5,
   "id": "5ca8c7da",
   "metadata": {},
   "outputs": [],
   "source": [
    "from pyspark.sql.types import *\n",
    "\n",
    "schema = StructType([\n",
    "    StructField(\"EnqueuedTimeUtc\", StringType(), True),\n",
    "    StructField(\"Properties\", StructType([\n",
    "        StructField(\"appTopic\", StringType(), True)\n",
    "    ]), True),\n",
    "    StructField(\"SystemProperties\", StructType([\n",
    "        StructField(\"connectionDeviceId\", StringType(), True),\n",
    "        StructField(\"connectionAuthMethod\", StringType(), True),\n",
    "        StructField(\"connectionDeviceGenerationId\", StringType(), True),\n",
    "        StructField(\"contentType\", StringType(), True),\n",
    "        StructField(\"contentEncoding\", StringType(), True),\n",
    "        StructField(\"enqueuedTime\", StringType(), True)\n",
    "    ]), True),\n",
    "    StructField(\"Body\", StructType([\n",
    "        StructField(\"type\", StringType(), True),\n",
    "        StructField(\"mnsn\", StringType(), True),\n",
    "        StructField(\"timestamp\", LongType(), True),\n",
    "        StructField(\"scheduleName\", StringType(), True),\n",
    "    ]), True)\n",
    "])"
   ]
  },
  {
   "cell_type": "code",
   "execution_count": 6,
   "id": "d1697299",
   "metadata": {},
   "outputs": [],
   "source": [
    "schema_df2 = spark.read.schema(schema).json(path)"
   ]
  },
  {
   "cell_type": "code",
   "execution_count": 7,
   "id": "87be6cd9",
   "metadata": {},
   "outputs": [
    {
     "name": "stdout",
     "output_type": "stream",
     "text": [
      "+--------------------+--------------------+--------------------+--------------------+\n",
      "|     EnqueuedTimeUtc|          Properties|    SystemProperties|                Body|\n",
      "+--------------------+--------------------+--------------------+--------------------+\n",
      "|2024-08-20T09:56:...|{rp.mib/dev/96d1f...|{96d1f469-e0b7-4e...|{smsProps, mn=TVg...|\n",
      "|2024-08-20T09:56:...|{rp.mib/dev/96d1f...|{a0ba43aa-f3c1-42...|{smsProps, mn=TVg...|\n",
      "|2024-08-20T09:56:...|{rp.mib/dev/96d1f...|{96d1f469-e0b7-4e...|{smsProps, mn=TVg...|\n",
      "|2024-08-20T09:56:...|{rp.mib/dev/96d1f...|{5b98aa47-2d23-4b...|{smsProps, mn=TVg...|\n",
      "|2024-08-20T09:56:...|{rp.mib/dev/96d1f...|{96d1f469-e0b7-4e...|{smsProps, mn=TVg...|\n",
      "|2024-08-20T09:56:...|{rp.mib/dev/96d1f...|{a0ba43aa-f3c1-42...|{smsProps, mn=TVg...|\n",
      "|2024-08-20T09:56:...|{rp.mib/dev/96d1f...|{96d1f469-e0b7-4e...|{smsProps, mn=TVg...|\n",
      "|2024-08-20T09:56:...|{rp.mib/dev/96d1f...|{5b98aa47-2d23-4b...|{smsProps, mn=TVg...|\n",
      "|2024-08-20T09:56:...|{rp.mib/dev/96d1f...|{96d1f469-e0b7-4e...|{smsProps, mn=TVg...|\n",
      "|2024-08-20T09:56:...|{rp.mib/dev/96d1f...|{a0ba43aa-f3c1-42...|{smsProps, mn=TVg...|\n",
      "|2024-08-20T09:56:...|{rp.mib/dev/96d1f...|{96d1f469-e0b7-4e...|{smsProps, mn=TVg...|\n",
      "|2024-08-20T09:56:...|{rp.mib/dev/96d1f...|{5b98aa47-2d23-4b...|{smsProps, mn=TVg...|\n",
      "|2024-08-20T09:56:...|{rp.mib/dev/96d1f...|{96d1f469-e0b7-4e...|{smsProps, mn=TVg...|\n",
      "|2024-08-20T09:56:...|{rp.mib/dev/96d1f...|{a0ba43aa-f3c1-42...|{smsProps, mn=TVg...|\n",
      "|2024-08-20T09:56:...|{rp.mib/dev/96d1f...|{96d1f469-e0b7-4e...|{smsProps, mn=TVg...|\n",
      "|2024-08-20T09:56:...|{rp.mib/dev/96d1f...|{5b98aa47-2d23-4b...|{smsProps, mn=TVg...|\n",
      "|2024-08-20T09:56:...|{rp.mib/dev/96d1f...|{96d1f469-e0b7-4e...|{smsProps, mn=TVg...|\n",
      "|2024-08-20T09:56:...|{rp.mib/dev/96d1f...|{a0ba43aa-f3c1-42...|{smsProps, mn=TVg...|\n",
      "|2024-08-20T09:56:...|{rp.mib/dev/96d1f...|{96d1f469-e0b7-4e...|{smsProps, mn=TVg...|\n",
      "|2024-08-20T09:56:...|{rp.mib/dev/96d1f...|{5b98aa47-2d23-4b...|{smsProps, mn=TVg...|\n",
      "+--------------------+--------------------+--------------------+--------------------+\n",
      "only showing top 20 rows\n",
      "\n"
     ]
    }
   ],
   "source": [
    "schema_df2.show()"
   ]
  },
  {
   "cell_type": "code",
   "execution_count": 8,
   "id": "405fccfc",
   "metadata": {},
   "outputs": [
    {
     "name": "stdout",
     "output_type": "stream",
     "text": [
      "root\n",
      " |-- EnqueuedTimeUtc: string (nullable = true)\n",
      " |-- Properties: struct (nullable = true)\n",
      " |    |-- appTopic: string (nullable = true)\n",
      " |-- SystemProperties: struct (nullable = true)\n",
      " |    |-- connectionDeviceId: string (nullable = true)\n",
      " |    |-- connectionAuthMethod: string (nullable = true)\n",
      " |    |-- connectionDeviceGenerationId: string (nullable = true)\n",
      " |    |-- contentType: string (nullable = true)\n",
      " |    |-- contentEncoding: string (nullable = true)\n",
      " |    |-- enqueuedTime: string (nullable = true)\n",
      " |-- Body: struct (nullable = true)\n",
      " |    |-- type: string (nullable = true)\n",
      " |    |-- mnsn: string (nullable = true)\n",
      " |    |-- timestamp: long (nullable = true)\n",
      " |    |-- scheduleName: string (nullable = true)\n",
      "\n"
     ]
    }
   ],
   "source": [
    "schema_df2.printSchema()"
   ]
  },
  {
   "cell_type": "code",
   "execution_count": 9,
   "id": "62d15295",
   "metadata": {},
   "outputs": [
    {
     "name": "stdout",
     "output_type": "stream",
     "text": [
      "+--------------+\n",
      "|  scheduleName|\n",
      "+--------------+\n",
      "|   basicUpdate|\n",
      "| counterUpdate|\n",
      "|  deviceStatus|\n",
      "|suppliesUpdate|\n",
      "|   basicUpdate|\n",
      "| counterUpdate|\n",
      "|  deviceStatus|\n",
      "|suppliesUpdate|\n",
      "|   basicUpdate|\n",
      "| counterUpdate|\n",
      "|  deviceStatus|\n",
      "|suppliesUpdate|\n",
      "|   basicUpdate|\n",
      "| counterUpdate|\n",
      "|  deviceStatus|\n",
      "|suppliesUpdate|\n",
      "|   basicUpdate|\n",
      "| counterUpdate|\n",
      "|  deviceStatus|\n",
      "|suppliesUpdate|\n",
      "+--------------+\n",
      "only showing top 20 rows\n",
      "\n"
     ]
    }
   ],
   "source": [
    "schema_df2.select(\"Body.scheduleName\").show()"
   ]
  },
  {
   "cell_type": "code",
   "execution_count": 10,
   "id": "6c5f2501",
   "metadata": {},
   "outputs": [
    {
     "data": {
      "text/plain": [
       "['deviceStatus', 'basicUpdate', 'counterUpdate', 'suppliesUpdate']"
      ]
     },
     "execution_count": 10,
     "metadata": {},
     "output_type": "execute_result"
    }
   ],
   "source": [
    "schedule_names = [row[\"scheduleName\"] for row in schema_df2.select(\"Body.scheduleName\").distinct().collect()]\n",
    "schedule_names"
   ]
  },
  {
   "cell_type": "code",
   "execution_count": 11,
   "id": "b01e032c",
   "metadata": {},
   "outputs": [],
   "source": [
    "from delta.tables import DeltaTable\n",
    "from pyspark.sql.functions import *"
   ]
  },
  {
   "cell_type": "code",
   "execution_count": 12,
   "id": "13b0aeb3",
   "metadata": {},
   "outputs": [
    {
     "name": "stdout",
     "output_type": "stream",
     "text": [
      "+--------------------+--------------------+--------------------+--------------------+\n",
      "|     EnqueuedTimeUtc|          Properties|    SystemProperties|                Body|\n",
      "+--------------------+--------------------+--------------------+--------------------+\n",
      "|2024-08-20T09:56:...|{rp.mib/dev/96d1f...|{96d1f469-e0b7-4e...|{smsProps, mn=TVg...|\n",
      "|2024-08-20T09:56:...|{rp.mib/dev/96d1f...|{96d1f469-e0b7-4e...|{smsProps, mn=TVg...|\n",
      "|2024-08-20T09:56:...|{rp.mib/dev/96d1f...|{96d1f469-e0b7-4e...|{smsProps, mn=TVg...|\n",
      "|2024-08-20T09:56:...|{rp.mib/dev/96d1f...|{96d1f469-e0b7-4e...|{smsProps, mn=TVg...|\n",
      "|2024-08-20T09:56:...|{rp.mib/dev/96d1f...|{96d1f469-e0b7-4e...|{smsProps, mn=TVg...|\n",
      "|2024-08-20T09:56:...|{rp.mib/dev/96d1f...|{96d1f469-e0b7-4e...|{smsProps, mn=TVg...|\n",
      "|2024-08-20T09:56:...|{rp.mib/dev/96d1f...|{96d1f469-e0b7-4e...|{smsProps, mn=TVg...|\n",
      "|2024-08-20T09:56:...|{rp.mib/dev/96d1f...|{96d1f469-e0b7-4e...|{smsProps, mn=TVg...|\n",
      "|2024-08-20T09:56:...|{rp.mib/dev/96d1f...|{96d1f469-e0b7-4e...|{smsProps, mn=TVg...|\n",
      "|2024-08-20T09:56:...|{rp.mib/dev/96d1f...|{96d1f469-e0b7-4e...|{smsProps, mn=TVg...|\n",
      "|2024-08-20T09:56:...|{rp.mib/dev/96d1f...|{96d1f469-e0b7-4e...|{smsProps, mn=TVg...|\n",
      "|2024-08-20T09:56:...|{rp.mib/dev/96d1f...|{96d1f469-e0b7-4e...|{smsProps, mn=TVg...|\n",
      "|2024-08-20T09:56:...|{rp.mib/dev/96d1f...|{96d1f469-e0b7-4e...|{smsProps, mn=TVg...|\n",
      "|2024-08-20T09:56:...|{rp.mib/dev/96d1f...|{96d1f469-e0b7-4e...|{smsProps, mn=TVg...|\n",
      "|2024-08-20T09:56:...|{rp.mib/dev/96d1f...|{96d1f469-e0b7-4e...|{smsProps, mn=TVg...|\n",
      "|2024-08-20T09:56:...|{rp.mib/dev/96d1f...|{96d1f469-e0b7-4e...|{smsProps, mn=TVg...|\n",
      "|2024-08-20T09:56:...|{rp.mib/dev/96d1f...|{96d1f469-e0b7-4e...|{smsProps, mn=TVg...|\n",
      "|2024-08-20T09:56:...|{rp.mib/dev/96d1f...|{96d1f469-e0b7-4e...|{smsProps, mn=TVg...|\n",
      "|2024-08-20T09:56:...|{rp.mib/dev/96d1f...|{96d1f469-e0b7-4e...|{smsProps, mn=TVg...|\n",
      "|2024-08-20T09:56:...|{rp.mib/dev/96d1f...|{96d1f469-e0b7-4e...|{smsProps, mn=TVg...|\n",
      "+--------------------+--------------------+--------------------+--------------------+\n",
      "only showing top 20 rows\n",
      "\n"
     ]
    }
   ],
   "source": [
    "schedule_df = schema_df2.filter(col(\"Body.scheduleName\") == 'basicUpdate')\n",
    "schedule_df.show()"
   ]
  },
  {
   "cell_type": "code",
   "execution_count": 13,
   "id": "649607c5",
   "metadata": {},
   "outputs": [
    {
     "name": "stdout",
     "output_type": "stream",
     "text": [
      "+--------------------+--------------------+--------------------+--------------------+\n",
      "|     EnqueuedTimeUtc|          Properties|    SystemProperties|                Body|\n",
      "+--------------------+--------------------+--------------------+--------------------+\n",
      "|2024-08-20T09:56:...|{rp.mib/dev/96d1f...|{96d1f469-e0b7-4e...|{smsProps, mn=TVg...|\n",
      "+--------------------+--------------------+--------------------+--------------------+\n",
      "\n"
     ]
    }
   ],
   "source": [
    "latest_data=schedule_df.sort(schedule_df.Body.timestamp.desc()).limit(1)\n",
    "latest_data.show()"
   ]
  },
  {
   "cell_type": "code",
   "execution_count": 14,
   "id": "c5013875",
   "metadata": {},
   "outputs": [
    {
     "name": "stdout",
     "output_type": "stream",
     "text": [
      "+--------------------+--------------------+--------------------+--------------------+\n",
      "|     EnqueuedTimeUtc|          Properties|    SystemProperties|                Body|\n",
      "+--------------------+--------------------+--------------------+--------------------+\n",
      "|2024-08-20T09:56:...|{rp.mib/dev/96d1f...|{96d1f469-e0b7-4e...|{smsProps, mn=TVg...|\n",
      "|2024-08-20T09:56:...|{rp.mib/dev/96d1f...|{96d1f469-e0b7-4e...|{smsProps, mn=TVg...|\n",
      "|2024-08-20T09:56:...|{rp.mib/dev/96d1f...|{96d1f469-e0b7-4e...|{smsProps, mn=TVg...|\n",
      "|2024-08-20T09:56:...|{rp.mib/dev/96d1f...|{96d1f469-e0b7-4e...|{smsProps, mn=TVg...|\n",
      "|2024-08-20T09:56:...|{rp.mib/dev/96d1f...|{96d1f469-e0b7-4e...|{smsProps, mn=TVg...|\n",
      "|2024-08-20T09:56:...|{rp.mib/dev/96d1f...|{96d1f469-e0b7-4e...|{smsProps, mn=TVg...|\n",
      "|2024-08-20T09:56:...|{rp.mib/dev/96d1f...|{96d1f469-e0b7-4e...|{smsProps, mn=TVg...|\n",
      "|2024-08-20T09:56:...|{rp.mib/dev/96d1f...|{96d1f469-e0b7-4e...|{smsProps, mn=TVg...|\n",
      "|2024-08-20T09:56:...|{rp.mib/dev/96d1f...|{96d1f469-e0b7-4e...|{smsProps, mn=TVg...|\n",
      "|2024-08-20T09:56:...|{rp.mib/dev/96d1f...|{96d1f469-e0b7-4e...|{smsProps, mn=TVg...|\n",
      "|2024-08-20T09:56:...|{rp.mib/dev/96d1f...|{96d1f469-e0b7-4e...|{smsProps, mn=TVg...|\n",
      "|2024-08-20T09:56:...|{rp.mib/dev/96d1f...|{96d1f469-e0b7-4e...|{smsProps, mn=TVg...|\n",
      "|2024-08-20T09:56:...|{rp.mib/dev/96d1f...|{96d1f469-e0b7-4e...|{smsProps, mn=TVg...|\n",
      "|2024-08-20T09:56:...|{rp.mib/dev/96d1f...|{96d1f469-e0b7-4e...|{smsProps, mn=TVg...|\n",
      "|2024-08-20T09:56:...|{rp.mib/dev/96d1f...|{96d1f469-e0b7-4e...|{smsProps, mn=TVg...|\n",
      "|2024-08-20T09:56:...|{rp.mib/dev/96d1f...|{96d1f469-e0b7-4e...|{smsProps, mn=TVg...|\n",
      "|2024-08-20T09:56:...|{rp.mib/dev/96d1f...|{96d1f469-e0b7-4e...|{smsProps, mn=TVg...|\n",
      "|2024-08-20T09:56:...|{rp.mib/dev/96d1f...|{96d1f469-e0b7-4e...|{smsProps, mn=TVg...|\n",
      "|2024-08-20T09:56:...|{rp.mib/dev/96d1f...|{96d1f469-e0b7-4e...|{smsProps, mn=TVg...|\n",
      "|2024-08-20T09:56:...|{rp.mib/dev/96d1f...|{96d1f469-e0b7-4e...|{smsProps, mn=TVg...|\n",
      "+--------------------+--------------------+--------------------+--------------------+\n",
      "only showing top 20 rows\n",
      "\n"
     ]
    },
    {
     "data": {
      "text/plain": [
       "499"
      ]
     },
     "execution_count": 14,
     "metadata": {},
     "output_type": "execute_result"
    }
   ],
   "source": [
    "remaining_data=schedule_df.filter(~(schedule_df['Body.timestamp']==1724147813655))\n",
    "remaining_data.show()\n",
    "remaining_data.count()"
   ]
  },
  {
   "cell_type": "code",
   "execution_count": 15,
   "id": "01a2d5f9",
   "metadata": {},
   "outputs": [],
   "source": [
    "table_path=f\"./message/basicUpdate4\""
   ]
  },
  {
   "cell_type": "code",
   "execution_count": 16,
   "id": "b505daac",
   "metadata": {},
   "outputs": [],
   "source": [
    "latest_data.write.format('delta').mode('overwrite').save(table_path)"
   ]
  },
  {
   "cell_type": "code",
   "execution_count": 17,
   "id": "24481ece",
   "metadata": {},
   "outputs": [],
   "source": [
    "from delta.tables import *"
   ]
  },
  {
   "cell_type": "code",
   "execution_count": 18,
   "id": "fc20e378",
   "metadata": {},
   "outputs": [
    {
     "name": "stdout",
     "output_type": "stream",
     "text": [
      "+--------------------+--------------------+--------------------+--------------------+\n",
      "|     EnqueuedTimeUtc|          Properties|    SystemProperties|                Body|\n",
      "+--------------------+--------------------+--------------------+--------------------+\n",
      "|2024-08-20T09:56:...|{rp.mib/dev/96d1f...|{96d1f469-e0b7-4e...|{smsProps, mn=TVg...|\n",
      "+--------------------+--------------------+--------------------+--------------------+\n",
      "\n"
     ]
    }
   ],
   "source": [
    "dt=DeltaTable.forPath(spark, table_path)\n",
    "check=dt.toDF()\n",
    "check.show()"
   ]
  },
  {
   "cell_type": "code",
   "execution_count": 20,
   "id": "b0b9db55",
   "metadata": {},
   "outputs": [],
   "source": [
    "cond = (F.col(\"t.Body.mnsn\") == F.col(\"s.Body.mnsn\"))\n",
    "dt.alias(\"t\").merge(remaining_data.alias(\"s\"),cond).whenMatchedUpdate(\n",
    "condition=F.col(\"s.Body.timestamp\") > F.col(\"t.Body.timestamp\"),\n",
    "set={\n",
    "    \"Body\":\"s.Body\",\n",
    "    \"EnqueuedTimeUtc\":\"s.EnqueuedTimeUtc\",\n",
    "    \"Properties\":\"s.Properties\",\n",
    "    \"SystemProperties\":\"s.SystemProperties\"  \n",
    "}).whenNotMatchedInsert(\n",
    "values={\n",
    "        \"EnqueuedTimeUtc\": \"s.EnqueuedTimeUtc\",\n",
    "        \"Properties\": \"s.Properties\",\n",
    "        \"SystemProperties\":\"s.SystemProperties\",\n",
    "        \"Body\":\"s.Body\"\n",
    "    }\n",
    ").execute()"
   ]
  },
  {
   "cell_type": "code",
   "execution_count": 21,
   "id": "4906a030",
   "metadata": {},
   "outputs": [
    {
     "name": "stdout",
     "output_type": "stream",
     "text": [
      "+--------------------+--------------------+--------------------+--------------------+\n",
      "|     EnqueuedTimeUtc|          Properties|    SystemProperties|                Body|\n",
      "+--------------------+--------------------+--------------------+--------------------+\n",
      "|2024-08-20T09:56:...|{rp.mib/dev/96d1f...|{96d1f469-e0b7-4e...|{smsProps, mn=TVg...|\n",
      "|2024-08-20T09:56:...|{rp.mib/dev/96d1f...|{96d1f469-e0b7-4e...|{smsProps, mn=TVg...|\n",
      "|2024-08-20T09:56:...|{rp.mib/dev/96d1f...|{96d1f469-e0b7-4e...|{smsProps, mn=TVg...|\n",
      "|2024-08-20T09:56:...|{rp.mib/dev/96d1f...|{96d1f469-e0b7-4e...|{smsProps, mn=TVg...|\n",
      "|2024-08-20T09:56:...|{rp.mib/dev/96d1f...|{96d1f469-e0b7-4e...|{smsProps, mn=TVg...|\n",
      "|2024-08-20T09:56:...|{rp.mib/dev/96d1f...|{96d1f469-e0b7-4e...|{smsProps, mn=TVg...|\n",
      "|2024-08-20T09:56:...|{rp.mib/dev/96d1f...|{96d1f469-e0b7-4e...|{smsProps, mn=TVg...|\n",
      "|2024-08-20T09:56:...|{rp.mib/dev/96d1f...|{96d1f469-e0b7-4e...|{smsProps, mn=TVg...|\n",
      "|2024-08-20T09:56:...|{rp.mib/dev/96d1f...|{96d1f469-e0b7-4e...|{smsProps, mn=TVg...|\n",
      "|2024-08-20T09:56:...|{rp.mib/dev/96d1f...|{96d1f469-e0b7-4e...|{smsProps, mn=TVg...|\n",
      "|2024-08-20T09:56:...|{rp.mib/dev/96d1f...|{96d1f469-e0b7-4e...|{smsProps, mn=TVg...|\n",
      "|2024-08-20T09:56:...|{rp.mib/dev/96d1f...|{96d1f469-e0b7-4e...|{smsProps, mn=TVg...|\n",
      "|2024-08-20T09:56:...|{rp.mib/dev/96d1f...|{96d1f469-e0b7-4e...|{smsProps, mn=TVg...|\n",
      "|2024-08-20T09:56:...|{rp.mib/dev/96d1f...|{96d1f469-e0b7-4e...|{smsProps, mn=TVg...|\n",
      "|2024-08-20T09:56:...|{rp.mib/dev/96d1f...|{96d1f469-e0b7-4e...|{smsProps, mn=TVg...|\n",
      "|2024-08-20T09:56:...|{rp.mib/dev/96d1f...|{96d1f469-e0b7-4e...|{smsProps, mn=TVg...|\n",
      "|2024-08-20T09:56:...|{rp.mib/dev/96d1f...|{96d1f469-e0b7-4e...|{smsProps, mn=TVg...|\n",
      "|2024-08-20T09:56:...|{rp.mib/dev/96d1f...|{96d1f469-e0b7-4e...|{smsProps, mn=TVg...|\n",
      "|2024-08-20T09:56:...|{rp.mib/dev/96d1f...|{96d1f469-e0b7-4e...|{smsProps, mn=TVg...|\n",
      "|2024-08-20T09:56:...|{rp.mib/dev/96d1f...|{96d1f469-e0b7-4e...|{smsProps, mn=TVg...|\n",
      "+--------------------+--------------------+--------------------+--------------------+\n",
      "only showing top 20 rows\n",
      "\n"
     ]
    }
   ],
   "source": [
    "df1=spark.read.format(\"delta\").load(\"./message/basicUpdate4\")\n",
    "df1.show()"
   ]
  },
  {
   "cell_type": "code",
   "execution_count": 23,
   "id": "ae2cd2ed",
   "metadata": {},
   "outputs": [
    {
     "data": {
      "text/plain": [
       "500"
      ]
     },
     "execution_count": 23,
     "metadata": {},
     "output_type": "execute_result"
    }
   ],
   "source": [
    "df1.select('Body.mnsn').distinct().count()"
   ]
  },
  {
   "cell_type": "code",
   "execution_count": 24,
   "id": "ec289100",
   "metadata": {},
   "outputs": [
    {
     "name": "stdout",
     "output_type": "stream",
     "text": [
      "+-----------------------------------------------------------------------+\n",
      "|Body                                                                   |\n",
      "+-----------------------------------------------------------------------+\n",
      "|{smsProps, mn=TVgwMDAx:sn=MDUxMTMxMzAwMDE=, 1724147812588, basicUpdate}|\n",
      "|{smsProps, mn=TVgwMDA0:sn=MDUxMTMxMzAwMDQ=, 1724147812612, basicUpdate}|\n",
      "+-----------------------------------------------------------------------+\n",
      "\n"
     ]
    }
   ],
   "source": [
    "df1.filter((df1['Body.mnsn']==\"mn=TVgwMDAx:sn=MDUxMTMxMzAwMDE=\") | (df1['Body.mnsn']==\"mn=TVgwMDA0:sn=MDUxMTMxMzAwMDQ=\")).select('Body').show(truncate=False)"
   ]
  },
  {
   "cell_type": "markdown",
   "id": "48e284d9",
   "metadata": {},
   "source": [
    "\n",
    "# New Data"
   ]
  },
  {
   "cell_type": "code",
   "execution_count": 31,
   "id": "dee51c43",
   "metadata": {},
   "outputs": [
    {
     "name": "stdout",
     "output_type": "stream",
     "text": [
      "+------------------------+--------------------------------------------------+--------------------------------------------------------------------------------------------------------------------------------------------------------------------+-----------------------------------------------------------------------+\n",
      "|EnqueuedTimeUtc         |Properties                                        |SystemProperties                                                                                                                                                    |Body                                                                   |\n",
      "+------------------------+--------------------------------------------------+--------------------------------------------------------------------------------------------------------------------------------------------------------------------+-----------------------------------------------------------------------+\n",
      "|2024-08-20T09:56:52.534Z|{rp.mib/dev/96d1f469-e0b7-4ee9-8791-41fb1a20-1-1} |{96d1f469-e0b7-4ee9-8791-41fb1a20d40f, {\"scope\":\"device\",\"type\":\"sas\",\"issuer\":\"iothub\"}, 638525549558955677, application/JSON, UTF-8, 2024-06-01T09:52:03.1780000Z}|{smsProps, mn=TVgwMDAx:sn=MDUxMTMxMzAwMDE=, 1732337812590, basicUpdate}|\n",
      "|2024-08-20T09:56:52.611Z|{rp.mib/dev/96d1f469-e0b7-4ee9-8791-41fb1a20-1-4} |{96d1f469-e0b7-4ee9-8791-41fb1a20d40f, {\"scope\":\"device\",\"type\":\"sas\",\"issuer\":\"iothub\"}, 638525549558955677, application/JSON, UTF-8, 2024-06-01T09:52:03.1780000Z}|{smsProps, mn=TVgwMDA0:sn=MDUxMTMxMzAwMDQ=, 1732337812592, basicUpdate}|\n",
      "|2024-09-20T09:56:52.655Z|{rp.mib/dev/96d1f469-e0b7-4ee9-8791-41fb1a20-1-20}|{96d1f469-e0b7-4ee9-8791-41fb1a20d40f, {\"scope\":\"device\",\"type\":\"sas\",\"issuer\":\"iothub\"}, 638525549558955677, application/JSON, UTF-8, 2024-06-01T09:52:03.1780000Z}|{smsProps, mn=TVgwKGIw:sn=MDUxMLKMzAwMjB=, 1724147812655, basicUpdate} |\n",
      "+------------------------+--------------------------------------------------+--------------------------------------------------------------------------------------------------------------------------------------------------------------------+-----------------------------------------------------------------------+\n",
      "\n"
     ]
    }
   ],
   "source": [
    "#ONE new value and 2 existing values with different timestamp \n",
    "path3='C:/Users/acer/projects/json-2.json'\n",
    "new_data=spark.read.schema(schema).json(path3)\n",
    "new_data.show(truncate=False)"
   ]
  },
  {
   "cell_type": "code",
   "execution_count": 32,
   "id": "371d9a6e",
   "metadata": {},
   "outputs": [],
   "source": [
    "cond = (F.col(\"t.Body.mnsn\") == F.col(\"s.Body.mnsn\"))\n",
    "dt.alias(\"t\").merge(new_data.alias(\"s\"),cond).whenMatchedUpdate(\n",
    "condition=F.col(\"s.Body.timestamp\") > F.col(\"t.Body.timestamp\"),\n",
    "set={\n",
    "    \"Body\":\"s.Body\",\n",
    "    \"EnqueuedTimeUtc\":\"s.EnqueuedTimeUtc\",\n",
    "    \"Properties\":\"s.Properties\",\n",
    "    \"SystemProperties\":\"s.SystemProperties\"  \n",
    "}).whenNotMatchedInsert(\n",
    "values={\n",
    "        \"EnqueuedTimeUtc\": \"s.EnqueuedTimeUtc\",\n",
    "        \"Properties\": \"s.Properties\",\n",
    "        \"SystemProperties\":\"s.SystemProperties\",\n",
    "        \"Body\":\"s.Body\"\n",
    "    }\n",
    ").execute()"
   ]
  },
  {
   "cell_type": "code",
   "execution_count": 33,
   "id": "3f2d3671",
   "metadata": {},
   "outputs": [
    {
     "name": "stdout",
     "output_type": "stream",
     "text": [
      "+-----------------------------------------------------------------------+\n",
      "|Body                                                                   |\n",
      "+-----------------------------------------------------------------------+\n",
      "|{smsProps, mn=TVgwMDA0:sn=MDUxMTMxMzAwMDQ=, 1732337812592, basicUpdate}|\n",
      "|{smsProps, mn=TVgwMDAx:sn=MDUxMTMxMzAwMDE=, 1732337812590, basicUpdate}|\n",
      "+-----------------------------------------------------------------------+\n",
      "\n"
     ]
    }
   ],
   "source": [
    "df1.filter((df1['Body.mnsn']==\"mn=TVgwMDAx:sn=MDUxMTMxMzAwMDE=\") | (df1['Body.mnsn']==\"mn=TVgwMDA0:sn=MDUxMTMxMzAwMDQ=\")).select('Body').show(truncate=False)"
   ]
  },
  {
   "cell_type": "code",
   "execution_count": 34,
   "id": "53d25406",
   "metadata": {},
   "outputs": [
    {
     "data": {
      "text/plain": [
       "501"
      ]
     },
     "execution_count": 34,
     "metadata": {},
     "output_type": "execute_result"
    }
   ],
   "source": [
    "#successfull insertion\n",
    "df1.select('Body.mnsn').distinct().count()"
   ]
  },
  {
   "cell_type": "code",
   "execution_count": null,
   "id": "abdddb32",
   "metadata": {},
   "outputs": [],
   "source": []
  }
 ],
 "metadata": {
  "kernelspec": {
   "display_name": "Python 3 (ipykernel)",
   "language": "python",
   "name": "python3"
  },
  "language_info": {
   "codemirror_mode": {
    "name": "ipython",
    "version": 3
   },
   "file_extension": ".py",
   "mimetype": "text/x-python",
   "name": "python",
   "nbconvert_exporter": "python",
   "pygments_lexer": "ipython3",
   "version": "3.11.4"
  }
 },
 "nbformat": 4,
 "nbformat_minor": 5
}
