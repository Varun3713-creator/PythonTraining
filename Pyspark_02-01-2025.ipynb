{
 "cells": [
  {
   "cell_type": "code",
   "execution_count": 1,
   "id": "0c350d0c",
   "metadata": {},
   "outputs": [],
   "source": [
    "from pyspark.sql import SparkSession"
   ]
  },
  {
   "cell_type": "code",
   "execution_count": 2,
   "id": "e7bbefd2",
   "metadata": {},
   "outputs": [],
   "source": [
    "spark=SparkSession.builder.appName('variables').getOrCreate()"
   ]
  },
  {
   "cell_type": "code",
   "execution_count": 3,
   "id": "96db01b1",
   "metadata": {},
   "outputs": [],
   "source": [
    "from pyspark.sql import Window\n",
    "import pyspark.sql.types as T\n",
    "import pyspark.sql.functions as F"
   ]
  },
  {
   "cell_type": "code",
   "execution_count": 63,
   "id": "c9d67be1",
   "metadata": {},
   "outputs": [],
   "source": [
    "df=spark.read.csv('C:/Users/acer/Downloads/test1.csv',header=True,inferSchema=True)"
   ]
  },
  {
   "cell_type": "code",
   "execution_count": 64,
   "id": "d8f1038f",
   "metadata": {},
   "outputs": [
    {
     "name": "stdout",
     "output_type": "stream",
     "text": [
      "+---------+---+----------+------+\n",
      "|     Name|age|Experience|Salary|\n",
      "+---------+---+----------+------+\n",
      "|    Krish| 31|        10| 30000|\n",
      "|Sudhanshu| 30|         8| 25000|\n",
      "|    Sunny| 29|         4| 20000|\n",
      "|     Paul| 24|         3| 20000|\n",
      "|   Harsha| 21|         1| 15000|\n",
      "|  Shubham| 23|         2| 18000|\n",
      "+---------+---+----------+------+\n",
      "\n"
     ]
    }
   ],
   "source": [
    "df.show()"
   ]
  },
  {
   "cell_type": "code",
   "execution_count": 22,
   "id": "eeaba46c",
   "metadata": {},
   "outputs": [],
   "source": [
    "#accumulators as sum and count\n",
    "agcnt=spark.sparkContext.accumulator(0)\n",
    "sum_val=spark.sparkContext.accumulator(0)"
   ]
  },
  {
   "cell_type": "code",
   "execution_count": 23,
   "id": "03cec101",
   "metadata": {},
   "outputs": [],
   "source": [
    "def num(x):\n",
    "    global agcnt\n",
    "    if x.age>25:\n",
    "        agcnt.add(1)\n",
    "def total(x):\n",
    "    global sum_val\n",
    "    sum_val+=x.Salary"
   ]
  },
  {
   "cell_type": "code",
   "execution_count": 24,
   "id": "ecff500c",
   "metadata": {},
   "outputs": [
    {
     "data": {
      "text/plain": [
       "3"
      ]
     },
     "execution_count": 24,
     "metadata": {},
     "output_type": "execute_result"
    }
   ],
   "source": [
    "df.foreach(num)\n",
    "agcnt.value"
   ]
  },
  {
   "cell_type": "code",
   "execution_count": 25,
   "id": "343a0646",
   "metadata": {},
   "outputs": [
    {
     "data": {
      "text/plain": [
       "128000"
      ]
     },
     "execution_count": 25,
     "metadata": {},
     "output_type": "execute_result"
    }
   ],
   "source": [
    "df.foreach(total)\n",
    "sum_val.value"
   ]
  },
  {
   "cell_type": "code",
   "execution_count": 26,
   "id": "7c602c00",
   "metadata": {},
   "outputs": [
    {
     "name": "stdout",
     "output_type": "stream",
     "text": [
      "[16, 26, 36]\n"
     ]
    }
   ],
   "source": [
    "#Broadcasting a list\n",
    "broad_list = spark.sparkContext.broadcast([1, 2, 3])\n",
    "\n",
    "rdd = spark.sparkContext.parallelize([10, 20, 30])\n",
    "res = rdd.map(lambda x: x + sum(broad_list.value)).collect()\n",
    "print(res) "
   ]
  },
  {
   "cell_type": "code",
   "execution_count": 30,
   "id": "d8e2ab3e",
   "metadata": {},
   "outputs": [
    {
     "name": "stdout",
     "output_type": "stream",
     "text": [
      "+---+-------+----+\n",
      "| id|  value|code|\n",
      "+---+-------+----+\n",
      "|  1|Value_1|   X|\n",
      "|  2|Value_2|   Y|\n",
      "+---+-------+----+\n",
      "\n"
     ]
    }
   ],
   "source": [
    "#broadcast join\n",
    "large_df = spark.createDataFrame([(i, f\"Value_{i}\") for i in range(100000)], [\"id\", \"value\"])\n",
    "\n",
    "small_df = spark.createDataFrame([(1, \"X\"), (2, \"Y\")], [\"id\", \"code\"])\n",
    "result = large_df.join(F.broadcast(small_df), \"id\")\n",
    "\n",
    "result.show()"
   ]
  },
  {
   "cell_type": "markdown",
   "id": "a24f415b",
   "metadata": {},
   "source": [
    "Partitioning and repartitioning"
   ]
  },
  {
   "cell_type": "code",
   "execution_count": 32,
   "id": "06c94047",
   "metadata": {},
   "outputs": [
    {
     "name": "stdout",
     "output_type": "stream",
     "text": [
      "3\n"
     ]
    },
    {
     "data": {
      "text/plain": [
       "[1, 2, 3, 4, 5]"
      ]
     },
     "execution_count": 32,
     "metadata": {},
     "output_type": "execute_result"
    }
   ],
   "source": [
    "#partioning while creating\n",
    "from pyspark import SparkContext\n",
    "sc=SparkContext.getOrCreate()\n",
    "rdd1 = sc.parallelize([1, 2, 3, 4, 5], numSlices=3)\n",
    "print(rdd1.getNumPartitions()) \n",
    "rdd1.collect()"
   ]
  },
  {
   "cell_type": "code",
   "execution_count": 33,
   "id": "411cde83",
   "metadata": {},
   "outputs": [
    {
     "data": {
      "text/plain": [
       "[[1], [2, 3], [4, 5]]"
      ]
     },
     "execution_count": 33,
     "metadata": {},
     "output_type": "execute_result"
    }
   ],
   "source": [
    "rdd1.glom().collect()"
   ]
  },
  {
   "cell_type": "code",
   "execution_count": 25,
   "id": "20ea21ce",
   "metadata": {},
   "outputs": [
    {
     "data": {
      "text/plain": [
       "[[('b', 2), ('b', 4)], [('a', 1), ('a', 3)]]"
      ]
     },
     "execution_count": 25,
     "metadata": {},
     "output_type": "execute_result"
    }
   ],
   "source": [
    "#partioning for key-value pairs\n",
    "rdd = sc.parallelize([(\"a\", 1), (\"b\", 2), (\"a\", 3), (\"b\", 4)])\n",
    "part_rdd = rdd.partitionBy(2)  # default HashPartitioner\n",
    "part_rdd.glom().collect()"
   ]
  },
  {
   "cell_type": "code",
   "execution_count": 26,
   "id": "c70d93d3",
   "metadata": {},
   "outputs": [
    {
     "data": {
      "text/plain": [
       "[[('b', 2), ('b', 4)], [('a', 1), ('a', 3), ('c', 6)], []]"
      ]
     },
     "execution_count": 26,
     "metadata": {},
     "output_type": "execute_result"
    }
   ],
   "source": [
    "#issue with HashPartitioner\n",
    "rdd = sc.parallelize([(\"a\", 1), (\"b\", 2), (\"a\", 3), (\"b\", 4),(\"c\",6)])\n",
    "part_rdd = rdd.partitionBy(3)\n",
    "part_rdd.glom().collect()"
   ]
  },
  {
   "cell_type": "code",
   "execution_count": 29,
   "id": "b0a02b2e",
   "metadata": {},
   "outputs": [
    {
     "data": {
      "text/plain": [
       "[[('c', 6)], [('a', 1), ('a', 3)], [('b', 2), ('b', 4)]]"
      ]
     },
     "execution_count": 29,
     "metadata": {},
     "output_type": "execute_result"
    }
   ],
   "source": [
    "# Custom partition\n",
    "custom_rdd = rdd.partitionBy(3, lambda key:ord(key[0])%3)\n",
    "custom_rdd.glom().collect()"
   ]
  },
  {
   "cell_type": "code",
   "execution_count": 34,
   "id": "3dbd5456",
   "metadata": {},
   "outputs": [
    {
     "data": {
      "text/plain": [
       "[[4, 5], [1, 2, 3]]"
      ]
     },
     "execution_count": 34,
     "metadata": {},
     "output_type": "execute_result"
    }
   ],
   "source": [
    "rdd2=rdd1.repartition(2)\n",
    "rdd2.glom().collect()"
   ]
  },
  {
   "cell_type": "code",
   "execution_count": 38,
   "id": "dfd832ef",
   "metadata": {},
   "outputs": [
    {
     "data": {
      "text/plain": [
       "[[1], [2, 3, 4, 5]]"
      ]
     },
     "execution_count": 38,
     "metadata": {},
     "output_type": "execute_result"
    }
   ],
   "source": [
    "rdd3=rdd1.coalesce(2, shuffle=False)\n",
    "rdd3.glom().collect()"
   ]
  },
  {
   "cell_type": "code",
   "execution_count": 40,
   "id": "3d483d1f",
   "metadata": {},
   "outputs": [
    {
     "data": {
      "text/plain": [
       "[('a', 1), ('b', 2), ('a', 3), ('b', 4), ('c', 6)]"
      ]
     },
     "execution_count": 40,
     "metadata": {},
     "output_type": "execute_result"
    }
   ],
   "source": [
    "#conversion of RDD & Dataframe\n",
    "rdd.collect()"
   ]
  },
  {
   "cell_type": "code",
   "execution_count": 41,
   "id": "8e7b4196",
   "metadata": {},
   "outputs": [
    {
     "name": "stdout",
     "output_type": "stream",
     "text": [
      "+---+-----+\n",
      "| id|value|\n",
      "+---+-----+\n",
      "|  a|    1|\n",
      "|  b|    2|\n",
      "|  a|    3|\n",
      "|  b|    4|\n",
      "|  c|    6|\n",
      "+---+-----+\n",
      "\n"
     ]
    }
   ],
   "source": [
    "df=rdd.toDF(schema=['id','value'])\n",
    "df.show()"
   ]
  },
  {
   "cell_type": "code",
   "execution_count": 53,
   "id": "d4956621",
   "metadata": {},
   "outputs": [
    {
     "data": {
      "text/plain": [
       "['a1', 'b2', 'a3', 'b4', 'c6']"
      ]
     },
     "execution_count": 53,
     "metadata": {},
     "output_type": "execute_result"
    }
   ],
   "source": [
    "df.rdd.map(lambda x:x[0]+''+str(x[1])).collect()"
   ]
  },
  {
   "cell_type": "code",
   "execution_count": 55,
   "id": "908a07b7",
   "metadata": {},
   "outputs": [
    {
     "name": "stdout",
     "output_type": "stream",
     "text": [
      "+---------+---------+\n",
      "|FirstName| LastName|\n",
      "+---------+---------+\n",
      "|    Rahul|   Sharma|\n",
      "|    Priya|    Patel|\n",
      "|     Amit|    Kumar|\n",
      "|   Anjali|    Desai|\n",
      "|   Vikram|    Singh|\n",
      "|    Sneha|      Rai|\n",
      "|     Ajay|    Verma|\n",
      "|    Deepa|Chaudhary|\n",
      "|   Manish|      Jha|\n",
      "|     Neha|    Gupta|\n",
      "+---------+---------+\n",
      "\n"
     ]
    }
   ],
   "source": [
    "#activity \n",
    "data = [(\"Rahul\", \"Sharma\"),(\"Priya\", \"Patel\"),(\"Amit\", \"Kumar\"),(\"Anjali\", \"Desai\"),(\"Vikram\", \"Singh\"),(\"Sneha\", \"Rai\"),(\"Ajay\", \"Verma\"),(\"Deepa\", \"Chaudhary\"),(\"Manish\", \"Jha\"),(\"Neha\", \"Gupta\")]\n",
    "\n",
    "colm = [\"FirstName\", \"LastName\"]\n",
    "df = spark.createDataFrame(data, schema=colm)\n",
    "df.show()"
   ]
  },
  {
   "cell_type": "code",
   "execution_count": 61,
   "id": "4142d394",
   "metadata": {},
   "outputs": [
    {
     "name": "stdout",
     "output_type": "stream",
     "text": [
      "+---------+---------+---------------+\n",
      "|FirstName| LastName|       FullName|\n",
      "+---------+---------+---------------+\n",
      "|    Rahul|   Sharma|   Rahul Sharma|\n",
      "|    Priya|    Patel|    Priya Patel|\n",
      "|     Amit|    Kumar|     Amit Kumar|\n",
      "|   Anjali|    Desai|   Anjali Desai|\n",
      "|   Vikram|    Singh|   Vikram Singh|\n",
      "|    Sneha|      Rai|      Sneha Rai|\n",
      "|     Ajay|    Verma|     Ajay Verma|\n",
      "|    Deepa|Chaudhary|Deepa Chaudhary|\n",
      "|   Manish|      Jha|     Manish Jha|\n",
      "|     Neha|    Gupta|     Neha Gupta|\n",
      "+---------+---------+---------------+\n",
      "\n"
     ]
    }
   ],
   "source": [
    "df2=df.rdd.map(lambda x:x+(x[0]+\" \"+x[1],))\n",
    "df2.toDF(schema=['FirstName','LastName','FullName']).show()"
   ]
  },
  {
   "cell_type": "markdown",
   "id": "0a49361c",
   "metadata": {},
   "source": [
    "Cache and persist"
   ]
  },
  {
   "cell_type": "code",
   "execution_count": 65,
   "id": "92d4f886",
   "metadata": {},
   "outputs": [
    {
     "name": "stdout",
     "output_type": "stream",
     "text": [
      "+---------+---+----------+------+\n",
      "|     Name|age|Experience|Salary|\n",
      "+---------+---+----------+------+\n",
      "|    Krish| 31|        10| 30000|\n",
      "|Sudhanshu| 30|         8| 25000|\n",
      "|    Sunny| 29|         4| 20000|\n",
      "|     Paul| 24|         3| 20000|\n",
      "|   Harsha| 21|         1| 15000|\n",
      "|  Shubham| 23|         2| 18000|\n",
      "+---------+---+----------+------+\n",
      "\n"
     ]
    }
   ],
   "source": [
    "df.show()"
   ]
  },
  {
   "cell_type": "code",
   "execution_count": 104,
   "id": "d97199ea",
   "metadata": {},
   "outputs": [
    {
     "name": "stdout",
     "output_type": "stream",
     "text": [
      "Time: 0.47 seconds\n"
     ]
    }
   ],
   "source": [
    "import time\n",
    "\n",
    "start_time = time.time()\n",
    "count=df.count()\n",
    "high=df.select(F.max(\"Salary\")).first()[0]\n",
    "low=df.select(F.min(\"Salary\")).first()[0]\n",
    "without_cache = time.time() - start_time\n",
    "print(f\"Time: {without_cache:.2f} seconds\")"
   ]
  },
  {
   "cell_type": "code",
   "execution_count": 105,
   "id": "e3867a72",
   "metadata": {},
   "outputs": [],
   "source": [
    "cdf_cached = df.cache()"
   ]
  },
  {
   "cell_type": "code",
   "execution_count": 106,
   "id": "7eec9f9e",
   "metadata": {},
   "outputs": [
    {
     "name": "stdout",
     "output_type": "stream",
     "text": [
      "Time: 0.45 seconds\n"
     ]
    }
   ],
   "source": [
    "start_time = time.time()\n",
    "count = df_cached.count()\n",
    "high = df_cached.select(F.max(\"Salary\")).first()[0]\n",
    "low = df_cached.select(F.min(\"Salary\")).first()[0]\n",
    "time_with_cache = time.time() - start_time\n",
    "print(f\"Time: {time_with_cache:.2f} seconds\")"
   ]
  },
  {
   "cell_type": "code",
   "execution_count": 108,
   "id": "5b9a009f",
   "metadata": {},
   "outputs": [
    {
     "name": "stdout",
     "output_type": "stream",
     "text": [
      "2nd Time: 0.40 seconds\n"
     ]
    }
   ],
   "source": [
    "start_time = time.time()\n",
    "count = df_cached.count()\n",
    "high = df_cached.select(F.max(\"Salary\")).first()[0]\n",
    "low = df_cached.select(F.min(\"Salary\")).first()[0]\n",
    "time_with_cache = time.time() - start_time\n",
    "print(f\"2nd Time: {time_with_cache:.2f} seconds\")"
   ]
  },
  {
   "cell_type": "code",
   "execution_count": 109,
   "id": "226cd2d5",
   "metadata": {},
   "outputs": [
    {
     "data": {
      "text/plain": [
       "DataFrame[Name: string, age: int, Experience: int, Salary: int]"
      ]
     },
     "execution_count": 109,
     "metadata": {},
     "output_type": "execute_result"
    }
   ],
   "source": [
    "df_cached.unpersist()"
   ]
  },
  {
   "cell_type": "code",
   "execution_count": 111,
   "id": "413ea173",
   "metadata": {},
   "outputs": [
    {
     "data": {
      "text/plain": [
       "DataFrame[Name: string, age: int, Experience: int, Salary: int]"
      ]
     },
     "execution_count": 111,
     "metadata": {},
     "output_type": "execute_result"
    }
   ],
   "source": [
    "from pyspark.storagelevel import StorageLevel\n",
    "df.persist(StorageLevel.MEMORY_AND_DISK)"
   ]
  },
  {
   "cell_type": "code",
   "execution_count": 112,
   "id": "f93f9151",
   "metadata": {},
   "outputs": [
    {
     "data": {
      "text/plain": [
       "DataFrame[Name: string, age: int, Experience: int, Salary: int]"
      ]
     },
     "execution_count": 112,
     "metadata": {},
     "output_type": "execute_result"
    }
   ],
   "source": [
    "df.unpersist()"
   ]
  },
  {
   "cell_type": "code",
   "execution_count": 114,
   "id": "94e0a3e0",
   "metadata": {},
   "outputs": [
    {
     "data": {
      "text/plain": [
       "DataFrame[Name: string, age: int, Experience: int, Salary: int]"
      ]
     },
     "execution_count": 114,
     "metadata": {},
     "output_type": "execute_result"
    }
   ],
   "source": [
    "from pyspark.storagelevel import StorageLevel\n",
    "df.persist(StorageLevel.MEMORY_ONLY)"
   ]
  },
  {
   "cell_type": "code",
   "execution_count": 115,
   "id": "2f8d850c",
   "metadata": {},
   "outputs": [
    {
     "data": {
      "text/plain": [
       "DataFrame[Name: string, age: int, Experience: int, Salary: int]"
      ]
     },
     "execution_count": 115,
     "metadata": {},
     "output_type": "execute_result"
    }
   ],
   "source": [
    "df.unpersist()"
   ]
  },
  {
   "cell_type": "code",
   "execution_count": 116,
   "id": "91e16370",
   "metadata": {},
   "outputs": [
    {
     "data": {
      "text/plain": [
       "DataFrame[Name: string, age: int, Experience: int, Salary: int]"
      ]
     },
     "execution_count": 116,
     "metadata": {},
     "output_type": "execute_result"
    }
   ],
   "source": [
    "from pyspark.storagelevel import StorageLevel\n",
    "df.persist(StorageLevel.DISK_ONLY)"
   ]
  },
  {
   "cell_type": "code",
   "execution_count": 117,
   "id": "562e51db",
   "metadata": {},
   "outputs": [
    {
     "data": {
      "text/plain": [
       "DataFrame[Name: string, age: int, Experience: int, Salary: int]"
      ]
     },
     "execution_count": 117,
     "metadata": {},
     "output_type": "execute_result"
    }
   ],
   "source": [
    "df.unpersist()"
   ]
  },
  {
   "cell_type": "code",
   "execution_count": null,
   "id": "0b7725d2",
   "metadata": {},
   "outputs": [],
   "source": []
  }
 ],
 "metadata": {
  "kernelspec": {
   "display_name": "Python 3 (ipykernel)",
   "language": "python",
   "name": "python3"
  },
  "language_info": {
   "codemirror_mode": {
    "name": "ipython",
    "version": 3
   },
   "file_extension": ".py",
   "mimetype": "text/x-python",
   "name": "python",
   "nbconvert_exporter": "python",
   "pygments_lexer": "ipython3",
   "version": "3.11.4"
  }
 },
 "nbformat": 4,
 "nbformat_minor": 5
}
