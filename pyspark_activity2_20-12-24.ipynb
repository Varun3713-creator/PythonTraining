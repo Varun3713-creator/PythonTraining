{
 "cells": [
  {
   "cell_type": "code",
   "execution_count": 1,
   "id": "b4a8a746",
   "metadata": {},
   "outputs": [],
   "source": [
    "import os\n",
    "import sys\n",
    "\n",
    "os.environ['PYSPARK_PYTHON'] = sys.executable\n",
    "os.environ['PYSPARK_DRIVER_PYTHON'] = sys.executable"
   ]
  },
  {
   "cell_type": "code",
   "execution_count": 2,
   "id": "63647d53",
   "metadata": {},
   "outputs": [],
   "source": [
    "from pyspark.sql import SparkSession"
   ]
  },
  {
   "cell_type": "code",
   "execution_count": 3,
   "id": "72cd2be8",
   "metadata": {},
   "outputs": [],
   "source": [
    "spark=SparkSession.builder.appName('Varun').getOrCreate()"
   ]
  },
  {
   "cell_type": "code",
   "execution_count": 5,
   "id": "65c196e3",
   "metadata": {},
   "outputs": [
    {
     "name": "stdout",
     "output_type": "stream",
     "text": [
      "+-----+---+\n",
      "| Name|Age|\n",
      "+-----+---+\n",
      "|Alice| 34|\n",
      "|  Bob| 45|\n",
      "|Alice| 32|\n",
      "+-----+---+\n",
      "\n"
     ]
    }
   ],
   "source": [
    "data = [(\"Alice\", 34), (\"Bob\", 45), (\"Cathy\", 29),('Alice',32)]\n",
    "columns = [\"Name\", \"Age\"]\n",
    "df = spark.createDataFrame(data, schema=columns)\n",
    "\n",
    "#temporary view\n",
    "df.createOrReplaceTempView(\"people\")\n",
    "\n",
    "# Querying the view using SQL\n",
    "result = spark.sql(\"SELECT * FROM people WHERE Age > 30\")\n",
    "result.show()\n"
   ]
  },
  {
   "cell_type": "markdown",
   "id": "90686ef8",
   "metadata": {},
   "source": [
    "Pyspark SQL on DataFrame"
   ]
  },
  {
   "cell_type": "code",
   "execution_count": 7,
   "id": "0c0bb1c6",
   "metadata": {},
   "outputs": [
    {
     "name": "stdout",
     "output_type": "stream",
     "text": [
      "+-----+\n",
      "| name|\n",
      "+-----+\n",
      "|Alice|\n",
      "|  Bob|\n",
      "|Cathy|\n",
      "+-----+\n",
      "\n"
     ]
    }
   ],
   "source": [
    "spark.sql('select distinct name from people').show()"
   ]
  },
  {
   "cell_type": "code",
   "execution_count": 8,
   "id": "b2f3a520",
   "metadata": {},
   "outputs": [
    {
     "name": "stdout",
     "output_type": "stream",
     "text": [
      "+--------------------+\n",
      "|count(DISTINCT name)|\n",
      "+--------------------+\n",
      "|                   3|\n",
      "+--------------------+\n",
      "\n"
     ]
    }
   ],
   "source": [
    "spark.sql('select count(distinct name) from people').show()"
   ]
  },
  {
   "cell_type": "code",
   "execution_count": 9,
   "id": "2413eaca",
   "metadata": {},
   "outputs": [
    {
     "name": "stdout",
     "output_type": "stream",
     "text": [
      "+--------+\n",
      "|avg(age)|\n",
      "+--------+\n",
      "|    35.0|\n",
      "+--------+\n",
      "\n"
     ]
    }
   ],
   "source": [
    "spark.sql('select avg(age) from people').show()"
   ]
  },
  {
   "cell_type": "code",
   "execution_count": 14,
   "id": "8f7884c0",
   "metadata": {},
   "outputs": [],
   "source": [
    "import pandas as pd\n",
    "data = {\n",
    "    'Order ID': [1001, 1002, 1003, 1004, 1005, 1006, 1007],\n",
    "    'Product': ['Laptop', 'Smartphone', 'Chair', 'Table', 'Blender', 'Refrigerator', 'Headphones'],\n",
    "    'Category': ['Electronics', 'Electronics', 'Furniture', 'Furniture', 'Appliances', 'Appliances', 'Electronics'],\n",
    "    'Price': [60000, 30000, 4500, 7000, 3500, 15000, 2000],\n",
    "    'Quantity': [2, 3, 4, 2, 5, 1, 10],\n",
    "    'Order Date': ['2023-01-15', '2023-02-20', '2023-01-10', '2023-03-18', '2023-02-25', '2023-01-12', '2023-03-05']\n",
    "}\n",
    "df = pd.DataFrame(data)\n",
    "edf = spark.createDataFrame(df)"
   ]
  },
  {
   "cell_type": "code",
   "execution_count": 10,
   "id": "ec06d6a7",
   "metadata": {},
   "outputs": [
    {
     "name": "stdout",
     "output_type": "stream",
     "text": [
      "+--------+------------+-----------+-----+--------+----------+\n",
      "|Order ID|     Product|   Category|Price|Quantity|Order Date|\n",
      "+--------+------------+-----------+-----+--------+----------+\n",
      "|    1001|      Laptop|Electronics|60000|       2|2023-01-15|\n",
      "|    1002|  Smartphone|Electronics|30000|       3|2023-02-20|\n",
      "|    1003|       Chair|  Furniture| 4500|       4|2023-01-10|\n",
      "|    1004|       Table|  Furniture| 7000|       2|2023-03-18|\n",
      "|    1005|     Blender| Appliances| 3500|       5|2023-02-25|\n",
      "|    1006|Refrigerator| Appliances|15000|       1|2023-01-12|\n",
      "|    1007|  Headphones|Electronics| 2000|      10|2023-03-05|\n",
      "+--------+------------+-----------+-----+--------+----------+\n",
      "\n"
     ]
    }
   ],
   "source": [
    "edf.show()"
   ]
  },
  {
   "cell_type": "code",
   "execution_count": 11,
   "id": "5c05fb06",
   "metadata": {},
   "outputs": [
    {
     "name": "stdout",
     "output_type": "stream",
     "text": [
      "root\n",
      " |-- Order ID: long (nullable = true)\n",
      " |-- Product: string (nullable = true)\n",
      " |-- Category: string (nullable = true)\n",
      " |-- Price: long (nullable = true)\n",
      " |-- Quantity: long (nullable = true)\n",
      " |-- Order Date: string (nullable = true)\n",
      "\n"
     ]
    }
   ],
   "source": [
    "edf.printSchema()"
   ]
  },
  {
   "cell_type": "code",
   "execution_count": 16,
   "id": "9ba52b09",
   "metadata": {},
   "outputs": [],
   "source": [
    "from pyspark.sql.functions import to_date\n",
    "edf=edf.withColumn(\"Order Date\", to_date(\"Order Date\", \"yyyy-MM-dd\"))"
   ]
  },
  {
   "cell_type": "code",
   "execution_count": 17,
   "id": "6bbb007d",
   "metadata": {},
   "outputs": [
    {
     "name": "stdout",
     "output_type": "stream",
     "text": [
      "+--------+------------+-----------+-----+--------+----------+\n",
      "|Order ID|     Product|   Category|Price|Quantity|Order Date|\n",
      "+--------+------------+-----------+-----+--------+----------+\n",
      "|    1001|      Laptop|Electronics|60000|       2|2023-01-15|\n",
      "|    1002|  Smartphone|Electronics|30000|       3|2023-02-20|\n",
      "|    1003|       Chair|  Furniture| 4500|       4|2023-01-10|\n",
      "|    1004|       Table|  Furniture| 7000|       2|2023-03-18|\n",
      "|    1005|     Blender| Appliances| 3500|       5|2023-02-25|\n",
      "|    1006|Refrigerator| Appliances|15000|       1|2023-01-12|\n",
      "|    1007|  Headphones|Electronics| 2000|      10|2023-03-05|\n",
      "+--------+------------+-----------+-----+--------+----------+\n",
      "\n"
     ]
    }
   ],
   "source": [
    "edf.show()"
   ]
  },
  {
   "cell_type": "code",
   "execution_count": 30,
   "id": "f6b5f9b7",
   "metadata": {},
   "outputs": [],
   "source": [
    "edf.createOrReplaceTempView(\"commercial\")"
   ]
  },
  {
   "cell_type": "code",
   "execution_count": 20,
   "id": "ef1910d5",
   "metadata": {},
   "outputs": [
    {
     "name": "stdout",
     "output_type": "stream",
     "text": [
      "+-----------+\n",
      "|   Category|\n",
      "+-----------+\n",
      "|Electronics|\n",
      "|  Furniture|\n",
      "| Appliances|\n",
      "+-----------+\n",
      "\n"
     ]
    }
   ],
   "source": [
    "#all categories\n",
    "spark.sql('select distinct Category from commercial').show()"
   ]
  },
  {
   "cell_type": "code",
   "execution_count": 22,
   "id": "62a9c4df",
   "metadata": {},
   "outputs": [
    {
     "name": "stdout",
     "output_type": "stream",
     "text": [
      "+-----------+-------------+\n",
      "|   Category|sum(Quantity)|\n",
      "+-----------+-------------+\n",
      "|Electronics|           15|\n",
      "|  Furniture|            6|\n",
      "| Appliances|            6|\n",
      "+-----------+-------------+\n",
      "\n"
     ]
    }
   ],
   "source": [
    "#the total number of items sold per category\n",
    "spark.sql('select Category,sum(Quantity) from commercial group by Category').show()"
   ]
  },
  {
   "cell_type": "code",
   "execution_count": 26,
   "id": "7f9add4e",
   "metadata": {},
   "outputs": [],
   "source": [
    "from pyspark.sql.functions import col\n",
    "edf=edf.withColumn('Total_sales',col('Price')*col('Quantity'))"
   ]
  },
  {
   "cell_type": "code",
   "execution_count": 31,
   "id": "850f79fd",
   "metadata": {},
   "outputs": [
    {
     "name": "stdout",
     "output_type": "stream",
     "text": [
      "+--------+------------+-----------+-----+--------+----------+-----------+\n",
      "|Order ID|     Product|   Category|Price|Quantity|Order Date|Total_sales|\n",
      "+--------+------------+-----------+-----+--------+----------+-----------+\n",
      "|    1001|      Laptop|Electronics|60000|       2|2023-01-15|     120000|\n",
      "|    1002|  Smartphone|Electronics|30000|       3|2023-02-20|      90000|\n",
      "|    1003|       Chair|  Furniture| 4500|       4|2023-01-10|      18000|\n",
      "|    1004|       Table|  Furniture| 7000|       2|2023-03-18|      14000|\n",
      "|    1005|     Blender| Appliances| 3500|       5|2023-02-25|      17500|\n",
      "|    1006|Refrigerator| Appliances|15000|       1|2023-01-12|      15000|\n",
      "|    1007|  Headphones|Electronics| 2000|      10|2023-03-05|      20000|\n",
      "+--------+------------+-----------+-----+--------+----------+-----------+\n",
      "\n"
     ]
    }
   ],
   "source": [
    "edf.show()"
   ]
  },
  {
   "cell_type": "code",
   "execution_count": 32,
   "id": "cf84d8da",
   "metadata": {},
   "outputs": [
    {
     "name": "stdout",
     "output_type": "stream",
     "text": [
      "+--------+------------+-----------+-----+--------+----------+-----------+\n",
      "|Order ID|     Product|   Category|Price|Quantity|Order Date|Total_sales|\n",
      "+--------+------------+-----------+-----+--------+----------+-----------+\n",
      "|    1001|      Laptop|Electronics|60000|       2|2023-01-15|     120000|\n",
      "|    1002|  Smartphone|Electronics|30000|       3|2023-02-20|      90000|\n",
      "|    1003|       Chair|  Furniture| 4500|       4|2023-01-10|      18000|\n",
      "|    1004|       Table|  Furniture| 7000|       2|2023-03-18|      14000|\n",
      "|    1005|     Blender| Appliances| 3500|       5|2023-02-25|      17500|\n",
      "|    1006|Refrigerator| Appliances|15000|       1|2023-01-12|      15000|\n",
      "|    1007|  Headphones|Electronics| 2000|      10|2023-03-05|      20000|\n",
      "+--------+------------+-----------+-----+--------+----------+-----------+\n",
      "\n"
     ]
    }
   ],
   "source": [
    "spark.sql('select * from commercial').show()"
   ]
  },
  {
   "cell_type": "code",
   "execution_count": 28,
   "id": "9dd89c42",
   "metadata": {},
   "outputs": [
    {
     "data": {
      "text/html": [
       "\n",
       "            <div>\n",
       "                <p><b>SparkSession - in-memory</b></p>\n",
       "                \n",
       "        <div>\n",
       "            <p><b>SparkContext</b></p>\n",
       "\n",
       "            <p><a href=\"http://A315-41:4040\">Spark UI</a></p>\n",
       "\n",
       "            <dl>\n",
       "              <dt>Version</dt>\n",
       "                <dd><code>v3.5.3</code></dd>\n",
       "              <dt>Master</dt>\n",
       "                <dd><code>local[*]</code></dd>\n",
       "              <dt>AppName</dt>\n",
       "                <dd><code>Varun</code></dd>\n",
       "            </dl>\n",
       "        </div>\n",
       "        \n",
       "            </div>\n",
       "        "
      ],
      "text/plain": [
       "<pyspark.sql.session.SparkSession at 0x20536ce7390>"
      ]
     },
     "execution_count": 28,
     "metadata": {},
     "output_type": "execute_result"
    }
   ],
   "source": [
    "spark"
   ]
  },
  {
   "cell_type": "code",
   "execution_count": 36,
   "id": "983a992b",
   "metadata": {},
   "outputs": [
    {
     "name": "stdout",
     "output_type": "stream",
     "text": [
      "+-----------+----------------+\n",
      "|   Category|max(Total_sales)|\n",
      "+-----------+----------------+\n",
      "|Electronics|          120000|\n",
      "+-----------+----------------+\n",
      "\n"
     ]
    }
   ],
   "source": [
    "#category with the highest total sales\n",
    "spark.sql('select Category,max(Total_sales) from commercial group by Category limit(1)').show()"
   ]
  },
  {
   "cell_type": "code",
   "execution_count": 4,
   "id": "c0d94888",
   "metadata": {},
   "outputs": [],
   "source": [
    "from pyspark.sql.functions import split, col"
   ]
  },
  {
   "cell_type": "code",
   "execution_count": 25,
   "id": "f4485572",
   "metadata": {},
   "outputs": [
    {
     "name": "stdout",
     "output_type": "stream",
     "text": [
      "Log file with varied timestamps generated: log.txt\n"
     ]
    }
   ],
   "source": [
    "import random\n",
    "from datetime import datetime, timedelta\n",
    "\n",
    "log_levels = [\"INFO\", \"ERROR\", \"WARNING\", \"DEBUG\"]\n",
    "messages = [\n",
    "    \"User logged in\",\n",
    "    \"Page not found\",\n",
    "    \"Data uploaded successfully\",\n",
    "    \"Connection timeout\",\n",
    "    \"Invalid user credentials\",\n",
    "    \"Server started\",\n",
    "    \"File not found\",\n",
    "    \"Operation completed\",\n",
    "    \"Disk space low\",\n",
    "    \"Cache cleared\"\n",
    "]\n",
    "\n",
    "start_time = datetime(2024, 12, 18, 0, 0, 0)\n",
    "\n",
    "\n",
    "with open(\"log.txt\", \"w\") as file:\n",
    "    for i in range(100): \n",
    "        random_offset = timedelta(\n",
    "            hours=random.randint(0, 23),\n",
    "            minutes=random.randint(0, 59),\n",
    "            seconds=random.randint(0, 59)\n",
    "        )\n",
    "        timestamp = start_time + random_offset\n",
    "        log_level = random.choice(log_levels)\n",
    "        message = random.choice(messages)\n",
    "        file.write(f\"{timestamp.strftime('%Y-%m-%d %H:%M:%S')} {log_level} {message}\\n\")\n",
    "\n",
    "print(\"Log file with varied timestamps generated: log.txt\")\n"
   ]
  },
  {
   "cell_type": "code",
   "execution_count": 26,
   "id": "58c3435d",
   "metadata": {},
   "outputs": [
    {
     "name": "stdout",
     "output_type": "stream",
     "text": [
      "+--------------------+\n",
      "|               value|\n",
      "+--------------------+\n",
      "|2024-12-18 02:59:...|\n",
      "|2024-12-18 13:27:...|\n",
      "|2024-12-18 15:25:...|\n",
      "|2024-12-18 22:26:...|\n",
      "|2024-12-18 18:43:...|\n",
      "|2024-12-18 12:48:...|\n",
      "|2024-12-18 22:36:...|\n",
      "|2024-12-18 17:19:...|\n",
      "|2024-12-18 12:19:...|\n",
      "|2024-12-18 11:11:...|\n",
      "|2024-12-18 14:21:...|\n",
      "|2024-12-18 08:56:...|\n",
      "|2024-12-18 02:59:...|\n",
      "|2024-12-18 23:53:...|\n",
      "|2024-12-18 21:20:...|\n",
      "|2024-12-18 12:55:...|\n",
      "|2024-12-18 06:50:...|\n",
      "|2024-12-18 14:18:...|\n",
      "|2024-12-18 03:33:...|\n",
      "|2024-12-18 15:03:...|\n",
      "+--------------------+\n",
      "only showing top 20 rows\n",
      "\n"
     ]
    }
   ],
   "source": [
    "log_df=spark.read.text(\"log.txt\")\n",
    "log_df.show()"
   ]
  },
  {
   "cell_type": "code",
   "execution_count": 27,
   "id": "6d627048",
   "metadata": {},
   "outputs": [
    {
     "name": "stdout",
     "output_type": "stream",
     "text": [
      "root\n",
      " |-- value: string (nullable = true)\n",
      "\n"
     ]
    }
   ],
   "source": [
    "log_df.printSchema()"
   ]
  },
  {
   "cell_type": "code",
   "execution_count": 28,
   "id": "6dca7dcd",
   "metadata": {},
   "outputs": [],
   "source": [
    "from pyspark.sql.functions import regexp_replace\n",
    "\n",
    "log_df = log_df.withColumn(\"value\", regexp_replace(col(\"value\"), r\"\\s+\", \" \"))"
   ]
  },
  {
   "cell_type": "code",
   "execution_count": 29,
   "id": "f9cf8ca7",
   "metadata": {},
   "outputs": [],
   "source": [
    "from pyspark.sql.functions import split, concat_ws\n",
    "\n",
    "log_df = log_df.withColumn(\"Timestamp\", concat_ws(\" \", split(col(\"value\"), \" \").getItem(0), split(col(\"value\"), \" \").getItem(1)))"
   ]
  },
  {
   "cell_type": "code",
   "execution_count": 30,
   "id": "10e7fae8",
   "metadata": {},
   "outputs": [
    {
     "name": "stdout",
     "output_type": "stream",
     "text": [
      "+--------------------+-------------------+\n",
      "|               value|          Timestamp|\n",
      "+--------------------+-------------------+\n",
      "|2024-12-18 02:59:...|2024-12-18 02:59:35|\n",
      "|2024-12-18 13:27:...|2024-12-18 13:27:24|\n",
      "|2024-12-18 15:25:...|2024-12-18 15:25:36|\n",
      "|2024-12-18 22:26:...|2024-12-18 22:26:49|\n",
      "|2024-12-18 18:43:...|2024-12-18 18:43:47|\n",
      "|2024-12-18 12:48:...|2024-12-18 12:48:48|\n",
      "|2024-12-18 22:36:...|2024-12-18 22:36:48|\n",
      "|2024-12-18 17:19:...|2024-12-18 17:19:37|\n",
      "|2024-12-18 12:19:...|2024-12-18 12:19:07|\n",
      "|2024-12-18 11:11:...|2024-12-18 11:11:59|\n",
      "|2024-12-18 14:21:...|2024-12-18 14:21:06|\n",
      "|2024-12-18 08:56:...|2024-12-18 08:56:26|\n",
      "|2024-12-18 02:59:...|2024-12-18 02:59:25|\n",
      "|2024-12-18 23:53:...|2024-12-18 23:53:59|\n",
      "|2024-12-18 21:20:...|2024-12-18 21:20:03|\n",
      "|2024-12-18 12:55:...|2024-12-18 12:55:44|\n",
      "|2024-12-18 06:50:...|2024-12-18 06:50:21|\n",
      "|2024-12-18 14:18:...|2024-12-18 14:18:44|\n",
      "|2024-12-18 03:33:...|2024-12-18 03:33:59|\n",
      "|2024-12-18 15:03:...|2024-12-18 15:03:00|\n",
      "+--------------------+-------------------+\n",
      "only showing top 20 rows\n",
      "\n"
     ]
    }
   ],
   "source": [
    "log_df.show()"
   ]
  },
  {
   "cell_type": "code",
   "execution_count": 31,
   "id": "724e479b",
   "metadata": {},
   "outputs": [],
   "source": [
    "log_df=log_df.withColumn(\"LogLevel\", split(col(\"value\"), \" \").getItem(2)) \n",
    "               "
   ]
  },
  {
   "cell_type": "code",
   "execution_count": 32,
   "id": "f702a81d",
   "metadata": {},
   "outputs": [],
   "source": [
    "log_df=log_df.withColumn(\"Message\", split(col(\"value\"), \" \", 4).getItem(3)) "
   ]
  },
  {
   "cell_type": "code",
   "execution_count": 33,
   "id": "9ac507d2",
   "metadata": {},
   "outputs": [
    {
     "name": "stdout",
     "output_type": "stream",
     "text": [
      "+--------------------+-------------------+--------+--------------------+\n",
      "|               value|          Timestamp|LogLevel|             Message|\n",
      "+--------------------+-------------------+--------+--------------------+\n",
      "|2024-12-18 02:59:...|2024-12-18 02:59:35|    INFO|  Connection timeout|\n",
      "|2024-12-18 13:27:...|2024-12-18 13:27:24| WARNING|  Connection timeout|\n",
      "|2024-12-18 15:25:...|2024-12-18 15:25:36| WARNING|      User logged in|\n",
      "|2024-12-18 22:26:...|2024-12-18 22:26:49|   DEBUG|       Cache cleared|\n",
      "|2024-12-18 18:43:...|2024-12-18 18:43:47|    INFO|  Connection timeout|\n",
      "|2024-12-18 12:48:...|2024-12-18 12:48:48| WARNING|       Cache cleared|\n",
      "|2024-12-18 22:36:...|2024-12-18 22:36:48|    INFO| Operation completed|\n",
      "|2024-12-18 17:19:...|2024-12-18 17:19:37|   DEBUG|  Connection timeout|\n",
      "|2024-12-18 12:19:...|2024-12-18 12:19:07|   DEBUG|      Page not found|\n",
      "|2024-12-18 11:11:...|2024-12-18 11:11:59|   ERROR|      Page not found|\n",
      "|2024-12-18 14:21:...|2024-12-18 14:21:06|   ERROR|      File not found|\n",
      "|2024-12-18 08:56:...|2024-12-18 08:56:26|   ERROR|  Connection timeout|\n",
      "|2024-12-18 02:59:...|2024-12-18 02:59:25|   ERROR|Data uploaded suc...|\n",
      "|2024-12-18 23:53:...|2024-12-18 23:53:59|   ERROR|      Disk space low|\n",
      "|2024-12-18 21:20:...|2024-12-18 21:20:03|   ERROR|      Page not found|\n",
      "|2024-12-18 12:55:...|2024-12-18 12:55:44|    INFO|      File not found|\n",
      "|2024-12-18 06:50:...|2024-12-18 06:50:21|   DEBUG|  Connection timeout|\n",
      "|2024-12-18 14:18:...|2024-12-18 14:18:44|   DEBUG|      Page not found|\n",
      "|2024-12-18 03:33:...|2024-12-18 03:33:59|    INFO|      Server started|\n",
      "|2024-12-18 15:03:...|2024-12-18 15:03:00| WARNING|      Disk space low|\n",
      "+--------------------+-------------------+--------+--------------------+\n",
      "only showing top 20 rows\n",
      "\n"
     ]
    }
   ],
   "source": [
    "log_df.show()"
   ]
  },
  {
   "cell_type": "code",
   "execution_count": 34,
   "id": "ff8533de",
   "metadata": {},
   "outputs": [
    {
     "name": "stdout",
     "output_type": "stream",
     "text": [
      "+----------------------------------------------------+-------------------+--------+--------------------------+\n",
      "|value                                               |Timestamp          |LogLevel|Message                   |\n",
      "+----------------------------------------------------+-------------------+--------+--------------------------+\n",
      "|2024-12-18 02:59:35 INFO Connection timeout         |2024-12-18 02:59:35|INFO    |Connection timeout        |\n",
      "|2024-12-18 13:27:24 WARNING Connection timeout      |2024-12-18 13:27:24|WARNING |Connection timeout        |\n",
      "|2024-12-18 15:25:36 WARNING User logged in          |2024-12-18 15:25:36|WARNING |User logged in            |\n",
      "|2024-12-18 22:26:49 DEBUG Cache cleared             |2024-12-18 22:26:49|DEBUG   |Cache cleared             |\n",
      "|2024-12-18 18:43:47 INFO Connection timeout         |2024-12-18 18:43:47|INFO    |Connection timeout        |\n",
      "|2024-12-18 12:48:48 WARNING Cache cleared           |2024-12-18 12:48:48|WARNING |Cache cleared             |\n",
      "|2024-12-18 22:36:48 INFO Operation completed        |2024-12-18 22:36:48|INFO    |Operation completed       |\n",
      "|2024-12-18 17:19:37 DEBUG Connection timeout        |2024-12-18 17:19:37|DEBUG   |Connection timeout        |\n",
      "|2024-12-18 12:19:07 DEBUG Page not found            |2024-12-18 12:19:07|DEBUG   |Page not found            |\n",
      "|2024-12-18 11:11:59 ERROR Page not found            |2024-12-18 11:11:59|ERROR   |Page not found            |\n",
      "|2024-12-18 14:21:06 ERROR File not found            |2024-12-18 14:21:06|ERROR   |File not found            |\n",
      "|2024-12-18 08:56:26 ERROR Connection timeout        |2024-12-18 08:56:26|ERROR   |Connection timeout        |\n",
      "|2024-12-18 02:59:25 ERROR Data uploaded successfully|2024-12-18 02:59:25|ERROR   |Data uploaded successfully|\n",
      "|2024-12-18 23:53:59 ERROR Disk space low            |2024-12-18 23:53:59|ERROR   |Disk space low            |\n",
      "|2024-12-18 21:20:03 ERROR Page not found            |2024-12-18 21:20:03|ERROR   |Page not found            |\n",
      "|2024-12-18 12:55:44 INFO File not found             |2024-12-18 12:55:44|INFO    |File not found            |\n",
      "|2024-12-18 06:50:21 DEBUG Connection timeout        |2024-12-18 06:50:21|DEBUG   |Connection timeout        |\n",
      "|2024-12-18 14:18:44 DEBUG Page not found            |2024-12-18 14:18:44|DEBUG   |Page not found            |\n",
      "|2024-12-18 03:33:59 INFO Server started             |2024-12-18 03:33:59|INFO    |Server started            |\n",
      "|2024-12-18 15:03:00 WARNING Disk space low          |2024-12-18 15:03:00|WARNING |Disk space low            |\n",
      "+----------------------------------------------------+-------------------+--------+--------------------------+\n",
      "only showing top 20 rows\n",
      "\n"
     ]
    }
   ],
   "source": [
    "log_df.show(truncate=False)"
   ]
  },
  {
   "cell_type": "code",
   "execution_count": 35,
   "id": "9d7f1ffd",
   "metadata": {},
   "outputs": [
    {
     "name": "stdout",
     "output_type": "stream",
     "text": [
      "root\n",
      " |-- value: string (nullable = true)\n",
      " |-- Timestamp: string (nullable = false)\n",
      " |-- LogLevel: string (nullable = true)\n",
      " |-- Message: string (nullable = true)\n",
      "\n"
     ]
    }
   ],
   "source": [
    "log_df.printSchema()"
   ]
  },
  {
   "cell_type": "code",
   "execution_count": 37,
   "id": "c7e7d706",
   "metadata": {},
   "outputs": [
    {
     "name": "stdout",
     "output_type": "stream",
     "text": [
      "+--------+-----+\n",
      "|LogLevel|count|\n",
      "+--------+-----+\n",
      "|    INFO|   25|\n",
      "|   ERROR|   30|\n",
      "| WARNING|   18|\n",
      "|   DEBUG|   27|\n",
      "+--------+-----+\n",
      "\n"
     ]
    }
   ],
   "source": [
    "log_df.groupBy(\"LogLevel\").count().show()"
   ]
  },
  {
   "cell_type": "code",
   "execution_count": 78,
   "id": "8dd2d997",
   "metadata": {},
   "outputs": [
    {
     "name": "stdout",
     "output_type": "stream",
     "text": [
      "+--------------------+-------------------+--------+--------------------+\n",
      "|               value|          Timestamp|LogLevel|             Message|\n",
      "+--------------------+-------------------+--------+--------------------+\n",
      "|2024-12-18 00:00:...|2024-12-18 00:00:28|   ERROR|  Connection timeout|\n",
      "|2024-12-18 00:00:...|2024-12-18 00:00:20|   ERROR| Operation completed|\n",
      "|2024-12-18 00:00:...|2024-12-18 00:00:22|   ERROR|       Cache cleared|\n",
      "|2024-12-18 00:01:...|2024-12-18 00:01:00|   ERROR|      User logged in|\n",
      "|2024-12-18 00:02:...|2024-12-18 00:02:40|   ERROR|      Disk space low|\n",
      "|2024-12-18 00:02:...|2024-12-18 00:02:50|   ERROR|Invalid user cred...|\n",
      "|2024-12-18 00:01:...|2024-12-18 00:01:14|   ERROR|      File not found|\n",
      "|2024-12-18 00:01:...|2024-12-18 00:01:20|   ERROR|      File not found|\n",
      "|2024-12-18 00:03:...|2024-12-18 00:03:25|   ERROR|      Server started|\n",
      "|2024-12-18 00:01:...|2024-12-18 00:01:24|   ERROR|      File not found|\n",
      "|2024-12-18 00:01:...|2024-12-18 00:01:26|   ERROR|      Server started|\n",
      "|2024-12-18 00:00:...|2024-12-18 00:00:46|   ERROR|      Disk space low|\n",
      "|2024-12-18 00:02:...|2024-12-18 00:02:24|   ERROR|      File not found|\n",
      "|2024-12-18 00:01:...|2024-12-18 00:01:38|   ERROR|      User logged in|\n",
      "|2024-12-18 00:03:...|2024-12-18 00:03:20|   ERROR|      Server started|\n",
      "|2024-12-18 00:02:...|2024-12-18 00:02:33|   ERROR|      Page not found|\n",
      "|2024-12-18 00:02:...|2024-12-18 00:02:36|   ERROR| Operation completed|\n",
      "|2024-12-18 00:04:...|2024-12-18 00:04:25|   ERROR|      Disk space low|\n",
      "|2024-12-18 00:02:...|2024-12-18 00:02:45|   ERROR|      Page not found|\n",
      "|2024-12-18 00:04:...|2024-12-18 00:04:20|   ERROR|      User logged in|\n",
      "+--------------------+-------------------+--------+--------------------+\n",
      "only showing top 20 rows\n",
      "\n"
     ]
    }
   ],
   "source": [
    "#Filter and display only the ERROR logs.\n",
    "log_df[log_df['LogLevel']=='ERROR'].show()"
   ]
  },
  {
   "cell_type": "code",
   "execution_count": 40,
   "id": "fc26788e",
   "metadata": {},
   "outputs": [],
   "source": [
    "#Group logs by hour and count the number of logs in each hour.\n",
    "from pyspark.sql.functions import hour,count\n",
    "hr=log_df.withColumn('Hour',hour('Timestamp'))\n",
    "hr=hr.groupby('Hour').count()"
   ]
  },
  {
   "cell_type": "code",
   "execution_count": 41,
   "id": "1d9ac3f5",
   "metadata": {},
   "outputs": [
    {
     "data": {
      "text/plain": [
       "DataFrame[summary: string, Hour: string, count: string]"
      ]
     },
     "execution_count": 41,
     "metadata": {},
     "output_type": "execute_result"
    }
   ],
   "source": [
    "hr.describe()"
   ]
  },
  {
   "cell_type": "code",
   "execution_count": 42,
   "id": "b0e1d6e9",
   "metadata": {},
   "outputs": [
    {
     "name": "stdout",
     "output_type": "stream",
     "text": [
      "+----+-----+\n",
      "|Hour|count|\n",
      "+----+-----+\n",
      "|  12|    6|\n",
      "|  22|    3|\n",
      "|   1|    3|\n",
      "|  13|    2|\n",
      "|   6|    5|\n",
      "|  16|    3|\n",
      "|   3|    3|\n",
      "|  20|    5|\n",
      "|   5|    4|\n",
      "|  19|    4|\n",
      "|  15|    5|\n",
      "|  17|    9|\n",
      "|   9|    2|\n",
      "|   4|    1|\n",
      "|   8|    5|\n",
      "|  23|    1|\n",
      "|   7|    4|\n",
      "|  10|    5|\n",
      "|  21|    5|\n",
      "|  11|    3|\n",
      "+----+-----+\n",
      "only showing top 20 rows\n",
      "\n"
     ]
    }
   ],
   "source": [
    "hr.show()"
   ]
  },
  {
   "cell_type": "code",
   "execution_count": 45,
   "id": "6e6ba218",
   "metadata": {},
   "outputs": [
    {
     "data": {
      "image/png": "[encoded data removed]",
      "text/plain": [
       "<Figure size 640x480 with 1 Axes>"
      ]
     },
     "metadata": {},
     "output_type": "display_data"
    }
   ],
   "source": [
    "#hour vs number of logs\n",
    "import  matplotlib.pyplot as plt\n",
    "hr = hr.toPandas()\n",
    "plt.bar(hr[\"Hour\"], hr[\"count\"], color='blue')\n",
    "plt.xlabel(\"Hour\")\n",
    "plt.ylabel(\"Number of Logs\")\n",
    "plt.title(\"Log Count by Hour\")\n",
    "plt.show()"
   ]
  },
  {
   "cell_type": "code",
   "execution_count": null,
   "id": "b5dc9e6b",
   "metadata": {},
   "outputs": [],
   "source": []
  }
 ],
 "metadata": {
  "kernelspec": {
   "display_name": "Python 3 (ipykernel)",
   "language": "python",
   "name": "python3"
  },
  "language_info": {
   "codemirror_mode": {
    "name": "ipython",
    "version": 3
   },
   "file_extension": ".py",
   "mimetype": "text/x-python",
   "name": "python",
   "nbconvert_exporter": "python",
   "pygments_lexer": "ipython3",
   "version": "3.11.4"
  }
 },
 "nbformat": 4,
 "nbformat_minor": 5
}
