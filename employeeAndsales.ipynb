{
 "cells": [
  {
   "cell_type": "code",
   "execution_count": 1,
   "id": "8b025a8c",
   "metadata": {},
   "outputs": [],
   "source": [
    "import pandas as pd\n",
    "from datetime import datetime"
   ]
  },
  {
   "cell_type": "code",
   "execution_count": 3,
   "id": "18b203aa",
   "metadata": {},
   "outputs": [],
   "source": [
    "df=pd.read_csv(\"C:/Users/acer/Desktop/employee.csv\")"
   ]
  },
  {
   "cell_type": "code",
   "execution_count": 4,
   "id": "663f58b9",
   "metadata": {},
   "outputs": [
    {
     "data": {
      "text/html": [
       "<div>\n",
       "<style scoped>\n",
       "    .dataframe tbody tr th:only-of-type {\n",
       "        vertical-align: middle;\n",
       "    }\n",
       "\n",
       "    .dataframe tbody tr th {\n",
       "        vertical-align: top;\n",
       "    }\n",
       "\n",
       "    .dataframe thead th {\n",
       "        text-align: right;\n",
       "    }\n",
       "</style>\n",
       "<table border=\"1\" class=\"dataframe\">\n",
       "  <thead>\n",
       "    <tr style=\"text-align: right;\">\n",
       "      <th></th>\n",
       "      <th>EmployeeID</th>\n",
       "      <th>Department</th>\n",
       "      <th>Salary</th>\n",
       "      <th>JoiningDate</th>\n",
       "    </tr>\n",
       "  </thead>\n",
       "  <tbody>\n",
       "    <tr>\n",
       "      <th>0</th>\n",
       "      <td>101</td>\n",
       "      <td>HR</td>\n",
       "      <td>50000</td>\n",
       "      <td>03-15-18</td>\n",
       "    </tr>\n",
       "    <tr>\n",
       "      <th>1</th>\n",
       "      <td>102</td>\n",
       "      <td>Finance</td>\n",
       "      <td>65000</td>\n",
       "      <td>07-20-19</td>\n",
       "    </tr>\n",
       "    <tr>\n",
       "      <th>2</th>\n",
       "      <td>103</td>\n",
       "      <td>Engineering</td>\n",
       "      <td>85000</td>\n",
       "      <td>01-10-16</td>\n",
       "    </tr>\n",
       "    <tr>\n",
       "      <th>3</th>\n",
       "      <td>104</td>\n",
       "      <td>HR</td>\n",
       "      <td>55000</td>\n",
       "      <td>11-05-20</td>\n",
       "    </tr>\n",
       "    <tr>\n",
       "      <th>4</th>\n",
       "      <td>105</td>\n",
       "      <td>Finance</td>\n",
       "      <td>70000</td>\n",
       "      <td>08-25-17</td>\n",
       "    </tr>\n",
       "  </tbody>\n",
       "</table>\n",
       "</div>"
      ],
      "text/plain": [
       "   EmployeeID   Department  Salary JoiningDate\n",
       "0         101           HR   50000    03-15-18\n",
       "1         102      Finance   65000    07-20-19\n",
       "2         103  Engineering   85000    01-10-16\n",
       "3         104           HR   55000    11-05-20\n",
       "4         105      Finance   70000    08-25-17"
      ]
     },
     "execution_count": 4,
     "metadata": {},
     "output_type": "execute_result"
    }
   ],
   "source": [
    "df"
   ]
  },
  {
   "cell_type": "code",
   "execution_count": 5,
   "id": "4fcc1eca",
   "metadata": {},
   "outputs": [],
   "source": [
    "df['JoiningDate'] = pd.to_datetime(df['JoiningDate'])"
   ]
  },
  {
   "cell_type": "code",
   "execution_count": 6,
   "id": "43b87ef8",
   "metadata": {},
   "outputs": [],
   "source": [
    "S=df['Salary'].max()"
   ]
  },
  {
   "cell_type": "code",
   "execution_count": 7,
   "id": "448e298d",
   "metadata": {},
   "outputs": [
    {
     "data": {
      "text/plain": [
       "2    Engineering\n",
       "Name: Department, dtype: object"
      ]
     },
     "execution_count": 7,
     "metadata": {},
     "output_type": "execute_result"
    }
   ],
   "source": [
    "df.loc[df[df['Salary'] == S].index,'Department']"
   ]
  },
  {
   "cell_type": "code",
   "execution_count": 8,
   "id": "c203af15",
   "metadata": {},
   "outputs": [
    {
     "data": {
      "text/plain": [
       "Department\n",
       "Engineering    85000.0\n",
       "Finance        67500.0\n",
       "HR             52500.0\n",
       "Name: Salary, dtype: float64"
      ]
     },
     "execution_count": 8,
     "metadata": {},
     "output_type": "execute_result"
    }
   ],
   "source": [
    "df.groupby(\"Department\")[\"Salary\"].mean()"
   ]
  },
  {
   "cell_type": "code",
   "execution_count": 9,
   "id": "d4463835",
   "metadata": {},
   "outputs": [
    {
     "name": "stdout",
     "output_type": "stream",
     "text": [
      "Average Salary by Department:\n",
      "Department\n",
      "Engineering    85000.0\n",
      "Finance        67500.0\n",
      "HR             52500.0\n",
      "Name: Salary, dtype: float64\n"
     ]
    }
   ],
   "source": [
    "average_salary = df.groupby(\"Department\")[\"Salary\"].mean()\n",
    "print(\"Average Salary by Department:\")\n",
    "print(average_salary)\n",
    "\n"
   ]
  },
  {
   "cell_type": "code",
   "execution_count": 10,
   "id": "db5899bf",
   "metadata": {},
   "outputs": [
    {
     "name": "stdout",
     "output_type": "stream",
     "text": [
      "\n",
      "Department with the highest average salary: 2    Engineering\n",
      "Name: Department, dtype: object\n"
     ]
    }
   ],
   "source": [
    "#department with the highest average salary\n",
    "highest_avg_dept = df.loc[[df['Salary'].idxmax()],'Department']\n",
    "print(f\"\\nDepartment with the highest average salary: {highest_avg_dept}\")"
   ]
  },
  {
   "cell_type": "code",
   "execution_count": 11,
   "id": "e46cb9f8",
   "metadata": {},
   "outputs": [
    {
     "name": "stdout",
     "output_type": "stream",
     "text": [
      "\n",
      "Department with the highest average salary: Engineering\n"
     ]
    }
   ],
   "source": [
    "highest_avg_dept = average_salary.idxmax()\n",
    "print(f\"\\nDepartment with the highest average salary: {highest_avg_dept}\")"
   ]
  },
  {
   "cell_type": "code",
   "execution_count": 12,
   "id": "d5665cf8",
   "metadata": {},
   "outputs": [],
   "source": [
    "current=datetime.now()"
   ]
  },
  {
   "cell_type": "code",
   "execution_count": 17,
   "id": "f2f6b2db",
   "metadata": {},
   "outputs": [],
   "source": [
    "df['Experience']=df['JoiningDate'].apply(lambda x: current.year - x.year - ((current.month, current.day) < (x.month, x.day)))"
   ]
  },
  {
   "cell_type": "code",
   "execution_count": 14,
   "id": "4ab5a493",
   "metadata": {},
   "outputs": [],
   "source": []
  },
  {
   "cell_type": "code",
   "execution_count": 18,
   "id": "001a7a0f",
   "metadata": {},
   "outputs": [
    {
     "data": {
      "text/html": [
       "<div>\n",
       "<style scoped>\n",
       "    .dataframe tbody tr th:only-of-type {\n",
       "        vertical-align: middle;\n",
       "    }\n",
       "\n",
       "    .dataframe tbody tr th {\n",
       "        vertical-align: top;\n",
       "    }\n",
       "\n",
       "    .dataframe thead th {\n",
       "        text-align: right;\n",
       "    }\n",
       "</style>\n",
       "<table border=\"1\" class=\"dataframe\">\n",
       "  <thead>\n",
       "    <tr style=\"text-align: right;\">\n",
       "      <th></th>\n",
       "      <th>EmployeeID</th>\n",
       "      <th>Department</th>\n",
       "      <th>Salary</th>\n",
       "      <th>JoiningDate</th>\n",
       "      <th>Experience</th>\n",
       "    </tr>\n",
       "  </thead>\n",
       "  <tbody>\n",
       "    <tr>\n",
       "      <th>0</th>\n",
       "      <td>101</td>\n",
       "      <td>HR</td>\n",
       "      <td>50000</td>\n",
       "      <td>2018-03-15</td>\n",
       "      <td>6</td>\n",
       "    </tr>\n",
       "    <tr>\n",
       "      <th>1</th>\n",
       "      <td>102</td>\n",
       "      <td>Finance</td>\n",
       "      <td>65000</td>\n",
       "      <td>2019-07-20</td>\n",
       "      <td>5</td>\n",
       "    </tr>\n",
       "    <tr>\n",
       "      <th>2</th>\n",
       "      <td>103</td>\n",
       "      <td>Engineering</td>\n",
       "      <td>85000</td>\n",
       "      <td>2016-01-10</td>\n",
       "      <td>8</td>\n",
       "    </tr>\n",
       "    <tr>\n",
       "      <th>3</th>\n",
       "      <td>104</td>\n",
       "      <td>HR</td>\n",
       "      <td>55000</td>\n",
       "      <td>2020-11-05</td>\n",
       "      <td>4</td>\n",
       "    </tr>\n",
       "    <tr>\n",
       "      <th>4</th>\n",
       "      <td>105</td>\n",
       "      <td>Finance</td>\n",
       "      <td>70000</td>\n",
       "      <td>2017-08-25</td>\n",
       "      <td>7</td>\n",
       "    </tr>\n",
       "  </tbody>\n",
       "</table>\n",
       "</div>"
      ],
      "text/plain": [
       "   EmployeeID   Department  Salary JoiningDate  Experience\n",
       "0         101           HR   50000  2018-03-15           6\n",
       "1         102      Finance   65000  2019-07-20           5\n",
       "2         103  Engineering   85000  2016-01-10           8\n",
       "3         104           HR   55000  2020-11-05           4\n",
       "4         105      Finance   70000  2017-08-25           7"
      ]
     },
     "execution_count": 18,
     "metadata": {},
     "output_type": "execute_result"
    }
   ],
   "source": [
    "df"
   ]
  },
  {
   "cell_type": "code",
   "execution_count": 20,
   "id": "2f4d0b0a",
   "metadata": {},
   "outputs": [
    {
     "data": {
      "text/html": [
       "<div>\n",
       "<style scoped>\n",
       "    .dataframe tbody tr th:only-of-type {\n",
       "        vertical-align: middle;\n",
       "    }\n",
       "\n",
       "    .dataframe tbody tr th {\n",
       "        vertical-align: top;\n",
       "    }\n",
       "\n",
       "    .dataframe thead th {\n",
       "        text-align: right;\n",
       "    }\n",
       "</style>\n",
       "<table border=\"1\" class=\"dataframe\">\n",
       "  <thead>\n",
       "    <tr style=\"text-align: right;\">\n",
       "      <th></th>\n",
       "      <th>EmployeeID</th>\n",
       "      <th>Department</th>\n",
       "      <th>Salary</th>\n",
       "      <th>JoiningDate</th>\n",
       "      <th>Experience</th>\n",
       "    </tr>\n",
       "  </thead>\n",
       "  <tbody>\n",
       "    <tr>\n",
       "      <th>0</th>\n",
       "      <td>101</td>\n",
       "      <td>HR</td>\n",
       "      <td>50000</td>\n",
       "      <td>2018-03-15</td>\n",
       "      <td>6</td>\n",
       "    </tr>\n",
       "    <tr>\n",
       "      <th>2</th>\n",
       "      <td>103</td>\n",
       "      <td>Engineering</td>\n",
       "      <td>85000</td>\n",
       "      <td>2016-01-10</td>\n",
       "      <td>8</td>\n",
       "    </tr>\n",
       "    <tr>\n",
       "      <th>4</th>\n",
       "      <td>105</td>\n",
       "      <td>Finance</td>\n",
       "      <td>70000</td>\n",
       "      <td>2017-08-25</td>\n",
       "      <td>7</td>\n",
       "    </tr>\n",
       "  </tbody>\n",
       "</table>\n",
       "</div>"
      ],
      "text/plain": [
       "   EmployeeID   Department  Salary JoiningDate  Experience\n",
       "0         101           HR   50000  2018-03-15           6\n",
       "2         103  Engineering   85000  2016-01-10           8\n",
       "4         105      Finance   70000  2017-08-25           7"
      ]
     },
     "execution_count": 20,
     "metadata": {},
     "output_type": "execute_result"
    }
   ],
   "source": [
    "df[df['Experience']>5]"
   ]
  },
  {
   "cell_type": "markdown",
   "id": "a809d2d5",
   "metadata": {},
   "source": [
    "# Sales Data"
   ]
  },
  {
   "cell_type": "code",
   "execution_count": 21,
   "id": "f868ffd4",
   "metadata": {},
   "outputs": [],
   "source": [
    "df=pd.read_csv(\"C:/Users/acer/Desktop/salesdata.csv\")"
   ]
  },
  {
   "cell_type": "code",
   "execution_count": 22,
   "id": "7e7e22aa",
   "metadata": {},
   "outputs": [
    {
     "data": {
      "text/html": [
       "<div>\n",
       "<style scoped>\n",
       "    .dataframe tbody tr th:only-of-type {\n",
       "        vertical-align: middle;\n",
       "    }\n",
       "\n",
       "    .dataframe tbody tr th {\n",
       "        vertical-align: top;\n",
       "    }\n",
       "\n",
       "    .dataframe thead th {\n",
       "        text-align: right;\n",
       "    }\n",
       "</style>\n",
       "<table border=\"1\" class=\"dataframe\">\n",
       "  <thead>\n",
       "    <tr style=\"text-align: right;\">\n",
       "      <th></th>\n",
       "      <th>TransactionID</th>\n",
       "      <th>Product</th>\n",
       "      <th>Category</th>\n",
       "      <th>Price</th>\n",
       "      <th>Date</th>\n",
       "    </tr>\n",
       "  </thead>\n",
       "  <tbody>\n",
       "    <tr>\n",
       "      <th>0</th>\n",
       "      <td>1</td>\n",
       "      <td>Shoes</td>\n",
       "      <td>Clothing</td>\n",
       "      <td>100</td>\n",
       "      <td>15-01-2024</td>\n",
       "    </tr>\n",
       "    <tr>\n",
       "      <th>1</th>\n",
       "      <td>2</td>\n",
       "      <td>T-Shirts</td>\n",
       "      <td>Clothing</td>\n",
       "      <td>50</td>\n",
       "      <td>10-02-2024</td>\n",
       "    </tr>\n",
       "    <tr>\n",
       "      <th>2</th>\n",
       "      <td>3</td>\n",
       "      <td>Bags</td>\n",
       "      <td>Accessories</td>\n",
       "      <td>200</td>\n",
       "      <td>05-03-2024</td>\n",
       "    </tr>\n",
       "    <tr>\n",
       "      <th>3</th>\n",
       "      <td>4</td>\n",
       "      <td>Shoes</td>\n",
       "      <td>Clothing</td>\n",
       "      <td>150</td>\n",
       "      <td>20-01-2024</td>\n",
       "    </tr>\n",
       "    <tr>\n",
       "      <th>4</th>\n",
       "      <td>5</td>\n",
       "      <td>T-Shirts</td>\n",
       "      <td>Clothing</td>\n",
       "      <td>70</td>\n",
       "      <td>15-02-2024</td>\n",
       "    </tr>\n",
       "    <tr>\n",
       "      <th>5</th>\n",
       "      <td>6</td>\n",
       "      <td>Bags</td>\n",
       "      <td>Accessories</td>\n",
       "      <td>250</td>\n",
       "      <td>12-03-2024</td>\n",
       "    </tr>\n",
       "    <tr>\n",
       "      <th>6</th>\n",
       "      <td>7</td>\n",
       "      <td>Shoes</td>\n",
       "      <td>Clothing</td>\n",
       "      <td>120</td>\n",
       "      <td>25-01-2024</td>\n",
       "    </tr>\n",
       "  </tbody>\n",
       "</table>\n",
       "</div>"
      ],
      "text/plain": [
       "   TransactionID   Product     Category  Price        Date\n",
       "0              1     Shoes     Clothing    100  15-01-2024\n",
       "1              2  T-Shirts     Clothing     50  10-02-2024\n",
       "2              3      Bags  Accessories    200  05-03-2024\n",
       "3              4     Shoes     Clothing    150  20-01-2024\n",
       "4              5  T-Shirts     Clothing     70  15-02-2024\n",
       "5              6      Bags  Accessories    250  12-03-2024\n",
       "6              7     Shoes     Clothing    120  25-01-2024"
      ]
     },
     "execution_count": 22,
     "metadata": {},
     "output_type": "execute_result"
    }
   ],
   "source": [
    "df"
   ]
  },
  {
   "cell_type": "code",
   "execution_count": 23,
   "id": "261a1312",
   "metadata": {},
   "outputs": [],
   "source": [
    "X=df.groupby('Product')['Price'].sum()"
   ]
  },
  {
   "cell_type": "code",
   "execution_count": 24,
   "id": "62a7d509",
   "metadata": {},
   "outputs": [
    {
     "data": {
      "text/plain": [
       "Series([], Name: Price, dtype: int64)"
      ]
     },
     "execution_count": 24,
     "metadata": {},
     "output_type": "execute_result"
    }
   ],
   "source": [
    "X[X>5000]"
   ]
  },
  {
   "cell_type": "code",
   "execution_count": 25,
   "id": "cd431fe1",
   "metadata": {},
   "outputs": [
    {
     "data": {
      "text/plain": [
       "Category\n",
       "Accessories    225.0\n",
       "Clothing        98.0\n",
       "Name: Price, dtype: float64"
      ]
     },
     "execution_count": 25,
     "metadata": {},
     "output_type": "execute_result"
    }
   ],
   "source": [
    "df.groupby('Category')['Price'].mean()"
   ]
  },
  {
   "cell_type": "code",
   "execution_count": 26,
   "id": "23b2fd54",
   "metadata": {},
   "outputs": [
    {
     "name": "stderr",
     "output_type": "stream",
     "text": [
      "C:\\Users\\acer\\AppData\\Local\\Temp\\ipykernel_15328\\3023999556.py:1: UserWarning: Parsing dates in DD/MM/YYYY format when dayfirst=False (the default) was specified. This may lead to inconsistently parsed dates! Specify a format to ensure consistent parsing.\n",
      "  df['Date']=pd.to_datetime(df['Date'])\n"
     ]
    }
   ],
   "source": [
    "df['Date']=pd.to_datetime(df['Date'])"
   ]
  },
  {
   "cell_type": "code",
   "execution_count": 27,
   "id": "23707068",
   "metadata": {},
   "outputs": [
    {
     "data": {
      "text/html": [
       "<div>\n",
       "<style scoped>\n",
       "    .dataframe tbody tr th:only-of-type {\n",
       "        vertical-align: middle;\n",
       "    }\n",
       "\n",
       "    .dataframe tbody tr th {\n",
       "        vertical-align: top;\n",
       "    }\n",
       "\n",
       "    .dataframe thead th {\n",
       "        text-align: right;\n",
       "    }\n",
       "</style>\n",
       "<table border=\"1\" class=\"dataframe\">\n",
       "  <thead>\n",
       "    <tr style=\"text-align: right;\">\n",
       "      <th></th>\n",
       "      <th>TransactionID</th>\n",
       "      <th>Product</th>\n",
       "      <th>Category</th>\n",
       "      <th>Price</th>\n",
       "      <th>Date</th>\n",
       "    </tr>\n",
       "  </thead>\n",
       "  <tbody>\n",
       "    <tr>\n",
       "      <th>0</th>\n",
       "      <td>1</td>\n",
       "      <td>Shoes</td>\n",
       "      <td>Clothing</td>\n",
       "      <td>100</td>\n",
       "      <td>2024-01-15</td>\n",
       "    </tr>\n",
       "    <tr>\n",
       "      <th>1</th>\n",
       "      <td>2</td>\n",
       "      <td>T-Shirts</td>\n",
       "      <td>Clothing</td>\n",
       "      <td>50</td>\n",
       "      <td>2024-10-02</td>\n",
       "    </tr>\n",
       "    <tr>\n",
       "      <th>2</th>\n",
       "      <td>3</td>\n",
       "      <td>Bags</td>\n",
       "      <td>Accessories</td>\n",
       "      <td>200</td>\n",
       "      <td>2024-05-03</td>\n",
       "    </tr>\n",
       "    <tr>\n",
       "      <th>3</th>\n",
       "      <td>4</td>\n",
       "      <td>Shoes</td>\n",
       "      <td>Clothing</td>\n",
       "      <td>150</td>\n",
       "      <td>2024-01-20</td>\n",
       "    </tr>\n",
       "    <tr>\n",
       "      <th>4</th>\n",
       "      <td>5</td>\n",
       "      <td>T-Shirts</td>\n",
       "      <td>Clothing</td>\n",
       "      <td>70</td>\n",
       "      <td>2024-02-15</td>\n",
       "    </tr>\n",
       "    <tr>\n",
       "      <th>5</th>\n",
       "      <td>6</td>\n",
       "      <td>Bags</td>\n",
       "      <td>Accessories</td>\n",
       "      <td>250</td>\n",
       "      <td>2024-12-03</td>\n",
       "    </tr>\n",
       "    <tr>\n",
       "      <th>6</th>\n",
       "      <td>7</td>\n",
       "      <td>Shoes</td>\n",
       "      <td>Clothing</td>\n",
       "      <td>120</td>\n",
       "      <td>2024-01-25</td>\n",
       "    </tr>\n",
       "  </tbody>\n",
       "</table>\n",
       "</div>"
      ],
      "text/plain": [
       "   TransactionID   Product     Category  Price       Date\n",
       "0              1     Shoes     Clothing    100 2024-01-15\n",
       "1              2  T-Shirts     Clothing     50 2024-10-02\n",
       "2              3      Bags  Accessories    200 2024-05-03\n",
       "3              4     Shoes     Clothing    150 2024-01-20\n",
       "4              5  T-Shirts     Clothing     70 2024-02-15\n",
       "5              6      Bags  Accessories    250 2024-12-03\n",
       "6              7     Shoes     Clothing    120 2024-01-25"
      ]
     },
     "execution_count": 27,
     "metadata": {},
     "output_type": "execute_result"
    }
   ],
   "source": [
    "df"
   ]
  },
  {
   "cell_type": "code",
   "execution_count": 28,
   "id": "0e403d48",
   "metadata": {},
   "outputs": [],
   "source": [
    "df['Month']=df['Date'].dt.month"
   ]
  },
  {
   "cell_type": "code",
   "execution_count": 29,
   "id": "080c106a",
   "metadata": {},
   "outputs": [
    {
     "data": {
      "text/html": [
       "<div>\n",
       "<style scoped>\n",
       "    .dataframe tbody tr th:only-of-type {\n",
       "        vertical-align: middle;\n",
       "    }\n",
       "\n",
       "    .dataframe tbody tr th {\n",
       "        vertical-align: top;\n",
       "    }\n",
       "\n",
       "    .dataframe thead th {\n",
       "        text-align: right;\n",
       "    }\n",
       "</style>\n",
       "<table border=\"1\" class=\"dataframe\">\n",
       "  <thead>\n",
       "    <tr style=\"text-align: right;\">\n",
       "      <th></th>\n",
       "      <th>TransactionID</th>\n",
       "      <th>Product</th>\n",
       "      <th>Category</th>\n",
       "      <th>Price</th>\n",
       "      <th>Date</th>\n",
       "      <th>Month</th>\n",
       "    </tr>\n",
       "  </thead>\n",
       "  <tbody>\n",
       "    <tr>\n",
       "      <th>0</th>\n",
       "      <td>1</td>\n",
       "      <td>Shoes</td>\n",
       "      <td>Clothing</td>\n",
       "      <td>100</td>\n",
       "      <td>2024-01-15</td>\n",
       "      <td>1</td>\n",
       "    </tr>\n",
       "    <tr>\n",
       "      <th>1</th>\n",
       "      <td>2</td>\n",
       "      <td>T-Shirts</td>\n",
       "      <td>Clothing</td>\n",
       "      <td>50</td>\n",
       "      <td>2024-10-02</td>\n",
       "      <td>10</td>\n",
       "    </tr>\n",
       "    <tr>\n",
       "      <th>2</th>\n",
       "      <td>3</td>\n",
       "      <td>Bags</td>\n",
       "      <td>Accessories</td>\n",
       "      <td>200</td>\n",
       "      <td>2024-05-03</td>\n",
       "      <td>5</td>\n",
       "    </tr>\n",
       "    <tr>\n",
       "      <th>3</th>\n",
       "      <td>4</td>\n",
       "      <td>Shoes</td>\n",
       "      <td>Clothing</td>\n",
       "      <td>150</td>\n",
       "      <td>2024-01-20</td>\n",
       "      <td>1</td>\n",
       "    </tr>\n",
       "    <tr>\n",
       "      <th>4</th>\n",
       "      <td>5</td>\n",
       "      <td>T-Shirts</td>\n",
       "      <td>Clothing</td>\n",
       "      <td>70</td>\n",
       "      <td>2024-02-15</td>\n",
       "      <td>2</td>\n",
       "    </tr>\n",
       "    <tr>\n",
       "      <th>5</th>\n",
       "      <td>6</td>\n",
       "      <td>Bags</td>\n",
       "      <td>Accessories</td>\n",
       "      <td>250</td>\n",
       "      <td>2024-12-03</td>\n",
       "      <td>12</td>\n",
       "    </tr>\n",
       "    <tr>\n",
       "      <th>6</th>\n",
       "      <td>7</td>\n",
       "      <td>Shoes</td>\n",
       "      <td>Clothing</td>\n",
       "      <td>120</td>\n",
       "      <td>2024-01-25</td>\n",
       "      <td>1</td>\n",
       "    </tr>\n",
       "  </tbody>\n",
       "</table>\n",
       "</div>"
      ],
      "text/plain": [
       "   TransactionID   Product     Category  Price       Date  Month\n",
       "0              1     Shoes     Clothing    100 2024-01-15      1\n",
       "1              2  T-Shirts     Clothing     50 2024-10-02     10\n",
       "2              3      Bags  Accessories    200 2024-05-03      5\n",
       "3              4     Shoes     Clothing    150 2024-01-20      1\n",
       "4              5  T-Shirts     Clothing     70 2024-02-15      2\n",
       "5              6      Bags  Accessories    250 2024-12-03     12\n",
       "6              7     Shoes     Clothing    120 2024-01-25      1"
      ]
     },
     "execution_count": 29,
     "metadata": {},
     "output_type": "execute_result"
    }
   ],
   "source": [
    "df"
   ]
  },
  {
   "cell_type": "code",
   "execution_count": 30,
   "id": "694b21b0",
   "metadata": {},
   "outputs": [
    {
     "data": {
      "text/plain": [
       "Month\n",
       "1     370\n",
       "2      70\n",
       "5     200\n",
       "10     50\n",
       "12    250\n",
       "Name: Price, dtype: int64"
      ]
     },
     "execution_count": 30,
     "metadata": {},
     "output_type": "execute_result"
    }
   ],
   "source": [
    "df.groupby('Month')['Price'].sum()"
   ]
  },
  {
   "cell_type": "code",
   "execution_count": 36,
   "id": "5ce50a71",
   "metadata": {},
   "outputs": [
    {
     "data": {
      "text/html": [
       "<div>\n",
       "<style scoped>\n",
       "    .dataframe tbody tr th:only-of-type {\n",
       "        vertical-align: middle;\n",
       "    }\n",
       "\n",
       "    .dataframe tbody tr th {\n",
       "        vertical-align: top;\n",
       "    }\n",
       "\n",
       "    .dataframe thead th {\n",
       "        text-align: right;\n",
       "    }\n",
       "</style>\n",
       "<table border=\"1\" class=\"dataframe\">\n",
       "  <thead>\n",
       "    <tr style=\"text-align: right;\">\n",
       "      <th>Category</th>\n",
       "      <th>Accessories</th>\n",
       "      <th>Clothing</th>\n",
       "    </tr>\n",
       "    <tr>\n",
       "      <th>Month</th>\n",
       "      <th></th>\n",
       "      <th></th>\n",
       "    </tr>\n",
       "  </thead>\n",
       "  <tbody>\n",
       "    <tr>\n",
       "      <th>1</th>\n",
       "      <td>NaN</td>\n",
       "      <td>370.0</td>\n",
       "    </tr>\n",
       "    <tr>\n",
       "      <th>2</th>\n",
       "      <td>NaN</td>\n",
       "      <td>70.0</td>\n",
       "    </tr>\n",
       "    <tr>\n",
       "      <th>5</th>\n",
       "      <td>200.0</td>\n",
       "      <td>NaN</td>\n",
       "    </tr>\n",
       "    <tr>\n",
       "      <th>10</th>\n",
       "      <td>NaN</td>\n",
       "      <td>50.0</td>\n",
       "    </tr>\n",
       "    <tr>\n",
       "      <th>12</th>\n",
       "      <td>250.0</td>\n",
       "      <td>NaN</td>\n",
       "    </tr>\n",
       "  </tbody>\n",
       "</table>\n",
       "</div>"
      ],
      "text/plain": [
       "Category  Accessories  Clothing\n",
       "Month                          \n",
       "1                 NaN     370.0\n",
       "2                 NaN      70.0\n",
       "5               200.0       NaN\n",
       "10                NaN      50.0\n",
       "12              250.0       NaN"
      ]
     },
     "execution_count": 36,
     "metadata": {},
     "output_type": "execute_result"
    }
   ],
   "source": [
    "#Icategory which has the highest total sales for each month\n",
    "sales_by_category_month=df.groupby([\"Month\", \"Category\"])['Price'].sum().unstack()\n",
    "sales_by_category_month"
   ]
  },
  {
   "cell_type": "code",
   "execution_count": 32,
   "id": "dfdfbfc9",
   "metadata": {},
   "outputs": [
    {
     "data": {
      "text/plain": [
       "Month\n",
       "1        Clothing\n",
       "2        Clothing\n",
       "5     Accessories\n",
       "10       Clothing\n",
       "12    Accessories\n",
       "dtype: object"
      ]
     },
     "execution_count": 32,
     "metadata": {},
     "output_type": "execute_result"
    }
   ],
   "source": [
    "sales_by_category_month.idxmax(axis=1)"
   ]
  },
  {
   "cell_type": "code",
   "execution_count": 33,
   "id": "28ecea92",
   "metadata": {},
   "outputs": [],
   "source": [
    "df['Year']=df['Date'].dt.year"
   ]
  },
  {
   "cell_type": "code",
   "execution_count": 34,
   "id": "2c039527",
   "metadata": {},
   "outputs": [
    {
     "data": {
      "text/html": [
       "<div>\n",
       "<style scoped>\n",
       "    .dataframe tbody tr th:only-of-type {\n",
       "        vertical-align: middle;\n",
       "    }\n",
       "\n",
       "    .dataframe tbody tr th {\n",
       "        vertical-align: top;\n",
       "    }\n",
       "\n",
       "    .dataframe thead th {\n",
       "        text-align: right;\n",
       "    }\n",
       "</style>\n",
       "<table border=\"1\" class=\"dataframe\">\n",
       "  <thead>\n",
       "    <tr style=\"text-align: right;\">\n",
       "      <th></th>\n",
       "      <th>TransactionID</th>\n",
       "      <th>Product</th>\n",
       "      <th>Category</th>\n",
       "      <th>Price</th>\n",
       "      <th>Date</th>\n",
       "      <th>Month</th>\n",
       "      <th>Year</th>\n",
       "    </tr>\n",
       "  </thead>\n",
       "  <tbody>\n",
       "    <tr>\n",
       "      <th>0</th>\n",
       "      <td>1</td>\n",
       "      <td>Shoes</td>\n",
       "      <td>Clothing</td>\n",
       "      <td>100</td>\n",
       "      <td>2024-01-15</td>\n",
       "      <td>1</td>\n",
       "      <td>2024</td>\n",
       "    </tr>\n",
       "    <tr>\n",
       "      <th>1</th>\n",
       "      <td>2</td>\n",
       "      <td>T-Shirts</td>\n",
       "      <td>Clothing</td>\n",
       "      <td>50</td>\n",
       "      <td>2024-10-02</td>\n",
       "      <td>10</td>\n",
       "      <td>2024</td>\n",
       "    </tr>\n",
       "    <tr>\n",
       "      <th>2</th>\n",
       "      <td>3</td>\n",
       "      <td>Bags</td>\n",
       "      <td>Accessories</td>\n",
       "      <td>200</td>\n",
       "      <td>2024-05-03</td>\n",
       "      <td>5</td>\n",
       "      <td>2024</td>\n",
       "    </tr>\n",
       "    <tr>\n",
       "      <th>3</th>\n",
       "      <td>4</td>\n",
       "      <td>Shoes</td>\n",
       "      <td>Clothing</td>\n",
       "      <td>150</td>\n",
       "      <td>2024-01-20</td>\n",
       "      <td>1</td>\n",
       "      <td>2024</td>\n",
       "    </tr>\n",
       "    <tr>\n",
       "      <th>4</th>\n",
       "      <td>5</td>\n",
       "      <td>T-Shirts</td>\n",
       "      <td>Clothing</td>\n",
       "      <td>70</td>\n",
       "      <td>2024-02-15</td>\n",
       "      <td>2</td>\n",
       "      <td>2024</td>\n",
       "    </tr>\n",
       "    <tr>\n",
       "      <th>5</th>\n",
       "      <td>6</td>\n",
       "      <td>Bags</td>\n",
       "      <td>Accessories</td>\n",
       "      <td>250</td>\n",
       "      <td>2024-12-03</td>\n",
       "      <td>12</td>\n",
       "      <td>2024</td>\n",
       "    </tr>\n",
       "    <tr>\n",
       "      <th>6</th>\n",
       "      <td>7</td>\n",
       "      <td>Shoes</td>\n",
       "      <td>Clothing</td>\n",
       "      <td>120</td>\n",
       "      <td>2024-01-25</td>\n",
       "      <td>1</td>\n",
       "      <td>2024</td>\n",
       "    </tr>\n",
       "  </tbody>\n",
       "</table>\n",
       "</div>"
      ],
      "text/plain": [
       "   TransactionID   Product     Category  Price       Date  Month  Year\n",
       "0              1     Shoes     Clothing    100 2024-01-15      1  2024\n",
       "1              2  T-Shirts     Clothing     50 2024-10-02     10  2024\n",
       "2              3      Bags  Accessories    200 2024-05-03      5  2024\n",
       "3              4     Shoes     Clothing    150 2024-01-20      1  2024\n",
       "4              5  T-Shirts     Clothing     70 2024-02-15      2  2024\n",
       "5              6      Bags  Accessories    250 2024-12-03     12  2024\n",
       "6              7     Shoes     Clothing    120 2024-01-25      1  2024"
      ]
     },
     "execution_count": 34,
     "metadata": {},
     "output_type": "execute_result"
    }
   ],
   "source": [
    "df"
   ]
  },
  {
   "cell_type": "code",
   "execution_count": null,
   "id": "ca6e16b0",
   "metadata": {},
   "outputs": [],
   "source": []
  }
 ],
 "metadata": {
  "kernelspec": {
   "display_name": "Python 3 (ipykernel)",
   "language": "python",
   "name": "python3"
  },
  "language_info": {
   "codemirror_mode": {
    "name": "ipython",
    "version": 3
   },
   "file_extension": ".py",
   "mimetype": "text/x-python",
   "name": "python",
   "nbconvert_exporter": "python",
   "pygments_lexer": "ipython3",
   "version": "3.11.4"
  }
 },
 "nbformat": 4,
 "nbformat_minor": 5
}
