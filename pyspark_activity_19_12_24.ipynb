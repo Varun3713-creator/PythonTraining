{
 "cells": [
  {
   "cell_type": "code",
   "execution_count": 1,
   "id": "b755a630",
   "metadata": {},
   "outputs": [],
   "source": [
    "import os\n",
    "import sys\n",
    "\n",
    "os.environ['PYSPARK_PYTHON'] = sys.executable\n",
    "os.environ['PYSPARK_DRIVER_PYTHON'] = sys.executable"
   ]
  },
  {
   "cell_type": "code",
   "execution_count": 2,
   "id": "f609b0dd",
   "metadata": {},
   "outputs": [],
   "source": [
    "from pyspark.sql import SparkSession\n",
    "if 'spark' in locals():\n",
    "    spark.stop()"
   ]
  },
  {
   "cell_type": "code",
   "execution_count": 3,
   "id": "4773e697",
   "metadata": {},
   "outputs": [],
   "source": [
    "spark=SparkSession.builder.appName('Varun').getOrCreate()"
   ]
  },
  {
   "cell_type": "code",
   "execution_count": 4,
   "id": "bff6e6a3",
   "metadata": {},
   "outputs": [],
   "source": [
    "dat=[1,2,3,4,5]"
   ]
  },
  {
   "cell_type": "code",
   "execution_count": 16,
   "id": "15057f11",
   "metadata": {},
   "outputs": [
    {
     "data": {
      "text/html": [
       "\n",
       "            <div>\n",
       "                <p><b>SparkSession - in-memory</b></p>\n",
       "                \n",
       "        <div>\n",
       "            <p><b>SparkContext</b></p>\n",
       "\n",
       "            <p><a href=\"http://A315-41:4040\">Spark UI</a></p>\n",
       "\n",
       "            <dl>\n",
       "              <dt>Version</dt>\n",
       "                <dd><code>v3.5.3</code></dd>\n",
       "              <dt>Master</dt>\n",
       "                <dd><code>local[*]</code></dd>\n",
       "              <dt>AppName</dt>\n",
       "                <dd><code>Pyspark_1</code></dd>\n",
       "            </dl>\n",
       "        </div>\n",
       "        \n",
       "            </div>\n",
       "        "
      ],
      "text/plain": [
       "<pyspark.sql.session.SparkSession at 0x28837f6b090>"
      ]
     },
     "execution_count": 16,
     "metadata": {},
     "output_type": "execute_result"
    }
   ],
   "source": [
    "spark"
   ]
  },
  {
   "cell_type": "code",
   "execution_count": 17,
   "id": "ba427ae1",
   "metadata": {},
   "outputs": [],
   "source": [
    "#rdd creation\n",
    "rdd=spark.sparkContext.parallelize(dat)"
   ]
  },
  {
   "cell_type": "code",
   "execution_count": 6,
   "id": "f11e90f4",
   "metadata": {},
   "outputs": [],
   "source": [
    "fd=rdd.filter(lambda x:x%2==0)"
   ]
  },
  {
   "cell_type": "code",
   "execution_count": 7,
   "id": "c2e373e6",
   "metadata": {
    "scrolled": false
   },
   "outputs": [
    {
     "data": {
      "text/plain": [
       "[1, 2, 3, 4, 5]"
      ]
     },
     "execution_count": 7,
     "metadata": {},
     "output_type": "execute_result"
    }
   ],
   "source": [
    "rdd.collect()"
   ]
  },
  {
   "cell_type": "code",
   "execution_count": 4,
   "id": "348037a9",
   "metadata": {},
   "outputs": [
    {
     "name": "stdout",
     "output_type": "stream",
     "text": [
      "+---+-----+---+\n",
      "| ID| Name|Age|\n",
      "+---+-----+---+\n",
      "|  1|Alice| 25|\n",
      "|  2|  Bob| 30|\n",
      "|  3|Cathy| 28|\n",
      "+---+-----+---+\n",
      "\n"
     ]
    }
   ],
   "source": [
    "#dataframe creation\n",
    "data = [\n",
    "    (1, \"Alice\", 25),\n",
    "    (2, \"Bob\", 30),\n",
    "    (3, \"Cathy\", 28)\n",
    "]\n",
    "\n",
    "columns = [\"ID\", \"Name\", \"Age\"]\n",
    "\n",
    "df = spark.createDataFrame(data, schema=columns)\n",
    "\n",
    "df.show()\n"
   ]
  },
  {
   "cell_type": "code",
   "execution_count": null,
   "id": "495d9482",
   "metadata": {},
   "outputs": [],
   "source": [
    "spark.stop()"
   ]
  },
  {
   "cell_type": "code",
   "execution_count": 17,
   "id": "e252c278",
   "metadata": {},
   "outputs": [],
   "source": [
    "df_2=spark.read.csv(\"C:/Users/acer/Downloads/data.tsv\",sep='\\t', header=True, inferSchema=True)"
   ]
  },
  {
   "cell_type": "code",
   "execution_count": 18,
   "id": "54853ddd",
   "metadata": {},
   "outputs": [
    {
     "name": "stdout",
     "output_type": "stream",
     "text": [
      "+--------+----------+-----+------+---------+-----+\n",
      "|deviceid|customerid|price|alerts| location|state|\n",
      "+--------+----------+-----+------+---------+-----+\n",
      "|       1|        11|  100|    14|Bengaluru|   KA|\n",
      "|       2|        22|  200|    25|   Mysuru|   KA|\n",
      "|       3|        33|  300|     6|       AP| NULL|\n",
      "|       4|        44|  ten|     7|  Chennai|   TN|\n",
      "|       5|      NULL|  250|     8| Hubballi|   KA|\n",
      "|       6|        66|  600|     9|    Bidar|   KA|\n",
      "|       7|        77| NULL|     7|  Belgavi|   KA|\n",
      "+--------+----------+-----+------+---------+-----+\n",
      "\n"
     ]
    }
   ],
   "source": [
    "df_2.show()"
   ]
  },
  {
   "cell_type": "code",
   "execution_count": 19,
   "id": "c45658f4",
   "metadata": {},
   "outputs": [
    {
     "name": "stdout",
     "output_type": "stream",
     "text": [
      "root\n",
      " |-- deviceid: integer (nullable = true)\n",
      " |-- customerid: integer (nullable = true)\n",
      " |-- price: string (nullable = true)\n",
      " |-- alerts: integer (nullable = true)\n",
      " |-- location: string (nullable = true)\n",
      " |-- state: string (nullable = true)\n",
      "\n"
     ]
    }
   ],
   "source": [
    "df_2.printSchema()"
   ]
  },
  {
   "cell_type": "code",
   "execution_count": 20,
   "id": "21ff971a",
   "metadata": {},
   "outputs": [],
   "source": [
    "#renaming columns\n",
    "df_2 = df_2.withColumnRenamed('deviceid', 'Device Id').withColumnRenamed('customerid', 'Customer Id').withColumnRenamed('price', 'Price').withColumnRenamed('alerts', 'Alerts').withColumnRenamed('location', 'Location').withColumnRenamed('state', 'State')"
   ]
  },
  {
   "cell_type": "code",
   "execution_count": 21,
   "id": "7dcd5d57",
   "metadata": {},
   "outputs": [
    {
     "name": "stdout",
     "output_type": "stream",
     "text": [
      "+---------+-----------+-----+------+---------+-----+\n",
      "|Device Id|Customer Id|Price|Alerts| Location|State|\n",
      "+---------+-----------+-----+------+---------+-----+\n",
      "|        1|         11|  100|    14|Bengaluru|   KA|\n",
      "|        2|         22|  200|    25|   Mysuru|   KA|\n",
      "|        3|         33|  300|     6|       AP| NULL|\n",
      "|        4|         44|  ten|     7|  Chennai|   TN|\n",
      "|        5|       NULL|  250|     8| Hubballi|   KA|\n",
      "|        6|         66|  600|     9|    Bidar|   KA|\n",
      "|        7|         77| NULL|     7|  Belgavi|   KA|\n",
      "+---------+-----------+-----+------+---------+-----+\n",
      "\n"
     ]
    }
   ],
   "source": [
    "df_2.show()"
   ]
  },
  {
   "cell_type": "code",
   "execution_count": 22,
   "id": "32c595f5",
   "metadata": {},
   "outputs": [
    {
     "data": {
      "text/plain": [
       "Row(Device Id=0, Customer Id=1, Price=1, Alerts=0, Location=0, State=1)"
      ]
     },
     "execution_count": 22,
     "metadata": {},
     "output_type": "execute_result"
    }
   ],
   "source": [
    "#printing a message if the dataset contain nan\n",
    "from pyspark.sql.functions import col, sum\n",
    "\n",
    "null_counts = df_2.select([sum(col(c).isNull().cast(\"int\")).alias(c) for c in df_2.columns]).collect()[0]\n",
    "null_counts"
   ]
  },
  {
   "cell_type": "code",
   "execution_count": 23,
   "id": "d1c7e981",
   "metadata": {},
   "outputs": [
    {
     "name": "stdout",
     "output_type": "stream",
     "text": [
      "The dataset contains NULL values\n"
     ]
    }
   ],
   "source": [
    "if any(null_counts):\n",
    "    print(\"The Dataset contains NULL values\")\n",
    "else:\n",
    "    print(\"The Dataset does not contain NULL values\")"
   ]
  },
  {
   "cell_type": "code",
   "execution_count": 24,
   "id": "3e79402b",
   "metadata": {},
   "outputs": [
    {
     "name": "stdout",
     "output_type": "stream",
     "text": [
      "+---------+-----------+-----+------+--------+-----+\n",
      "|Device Id|Customer Id|Price|Alerts|Location|State|\n",
      "+---------+-----------+-----+------+--------+-----+\n",
      "|        0|          1|    1|     0|       0|    1|\n",
      "+---------+-----------+-----+------+--------+-----+\n",
      "\n"
     ]
    }
   ],
   "source": [
    "#column with number of nan\n",
    "df_2.select([sum(col(c).isNull().cast(\"int\")).alias(c) for c in df_2.columns]).show()"
   ]
  },
  {
   "cell_type": "code",
   "execution_count": 26,
   "id": "49e7f761",
   "metadata": {},
   "outputs": [
    {
     "name": "stdout",
     "output_type": "stream",
     "text": [
      "+---------+-----------+-----+------+---------+-----+\n",
      "|Device Id|Customer Id|Price|Alerts| Location|State|\n",
      "+---------+-----------+-----+------+---------+-----+\n",
      "|        1|         11|  100|    14|Bengaluru|   KA|\n",
      "|        2|         22|     |    25|   Mysuru|   KA|\n",
      "|        3|         33|  300|     6|       AP| NULL|\n",
      "|        4|         44|     |     7|  Chennai|   TN|\n",
      "|        5|       NULL|  250|     8| Hubballi|   KA|\n",
      "|        6|         66|  600|     9|    Bidar|   KA|\n",
      "|        7|         77| NULL|     7|  Belgavi|   KA|\n",
      "+---------+-----------+-----+------+---------+-----+\n",
      "\n"
     ]
    }
   ],
   "source": [
    "df_2=df_2.replace({'ten':'','200':''})\n",
    "df_2.show()"
   ]
  },
  {
   "cell_type": "code",
   "execution_count": 27,
   "id": "808a6ac8",
   "metadata": {},
   "outputs": [],
   "source": [
    "df_2= df_2.withColumn(\"Price\", col(\"Price\").cast(\"float\"))"
   ]
  },
  {
   "cell_type": "code",
   "execution_count": 32,
   "id": "7621e7ba",
   "metadata": {},
   "outputs": [],
   "source": [
    "#filling missing value by mean price\n",
    "price_mean = df_2.select(mean(\"Price\")).collect()[0][0]"
   ]
  },
  {
   "cell_type": "code",
   "execution_count": 34,
   "id": "ae4ff3c4",
   "metadata": {},
   "outputs": [
    {
     "data": {
      "text/plain": [
       "312.5"
      ]
     },
     "execution_count": 34,
     "metadata": {},
     "output_type": "execute_result"
    }
   ],
   "source": [
    "price_mean"
   ]
  },
  {
   "cell_type": "code",
   "execution_count": 38,
   "id": "44960225",
   "metadata": {},
   "outputs": [],
   "source": [
    "df_2 = df_2.fillna({\"Price\": price_mean})\n",
    "df_2 = df_2.withColumn(\"Price\", col(\"Price\").cast(\"int\"))"
   ]
  },
  {
   "cell_type": "code",
   "execution_count": 39,
   "id": "eb0297ff",
   "metadata": {},
   "outputs": [
    {
     "name": "stdout",
     "output_type": "stream",
     "text": [
      "+---------+-----------+-----+------+---------+-----+\n",
      "|Device Id|Customer Id|Price|Alerts| Location|State|\n",
      "+---------+-----------+-----+------+---------+-----+\n",
      "|        1|         11|  100|    14|Bengaluru|   KA|\n",
      "|        2|         22|  312|    25|   Mysuru|   KA|\n",
      "|        3|         33|  300|     6|       AP| NULL|\n",
      "|        4|         44|  312|     7|  Chennai|   TN|\n",
      "|        5|       NULL|  250|     8| Hubballi|   KA|\n",
      "|        6|         66|  600|     9|    Bidar|   KA|\n",
      "|        7|         77|  312|     7|  Belgavi|   KA|\n",
      "+---------+-----------+-----+------+---------+-----+\n",
      "\n"
     ]
    }
   ],
   "source": [
    "df_2.show()"
   ]
  },
  {
   "cell_type": "code",
   "execution_count": 43,
   "id": "f131ed74",
   "metadata": {},
   "outputs": [],
   "source": [
    "#drop row with nan in the subset\n",
    "df_2=df_2.na.drop(how='any',subset=['Device Id','Customer Id'])"
   ]
  },
  {
   "cell_type": "code",
   "execution_count": 44,
   "id": "fda1a05a",
   "metadata": {},
   "outputs": [
    {
     "name": "stdout",
     "output_type": "stream",
     "text": [
      "+---------+-----------+-----+------+---------+-----+\n",
      "|Device Id|Customer Id|Price|Alerts| Location|State|\n",
      "+---------+-----------+-----+------+---------+-----+\n",
      "|        1|         11|  100|    14|Bengaluru|   KA|\n",
      "|        2|         22|  312|    25|   Mysuru|   KA|\n",
      "|        3|         33|  300|     6|       AP| NULL|\n",
      "|        4|         44|  312|     7|  Chennai|   TN|\n",
      "|        6|         66|  600|     9|    Bidar|   KA|\n",
      "|        7|         77|  312|     7|  Belgavi|   KA|\n",
      "+---------+-----------+-----+------+---------+-----+\n",
      "\n"
     ]
    }
   ],
   "source": [
    "df_2.show()"
   ]
  },
  {
   "cell_type": "code",
   "execution_count": 46,
   "id": "28da4074",
   "metadata": {},
   "outputs": [
    {
     "name": "stdout",
     "output_type": "stream",
     "text": [
      "+----------+\n",
      "|sum(Price)|\n",
      "+----------+\n",
      "|      1936|\n",
      "+----------+\n",
      "\n"
     ]
    }
   ],
   "source": [
    "#total price of all  device\n",
    "df_2.select(sum('Price')).show()"
   ]
  },
  {
   "cell_type": "code",
   "execution_count": 49,
   "id": "a59897ae",
   "metadata": {},
   "outputs": [
    {
     "name": "stdout",
     "output_type": "stream",
     "text": [
      "+---------+-----------+-----+------+---------+-----+\n",
      "|Device Id|Customer Id|Price|Alerts| Location|State|\n",
      "+---------+-----------+-----+------+---------+-----+\n",
      "|        1|         11|  100|    14|Bengaluru|   KA|\n",
      "|        2|         22|  312|    25|   Mysuru|   KA|\n",
      "|        4|         44|  312|     7|  Chennai|   TN|\n",
      "|        6|         66|  600|     9|    Bidar|   KA|\n",
      "|        7|         77|  312|     7|  Belgavi|   KA|\n",
      "+---------+-----------+-----+------+---------+-----+\n",
      "\n"
     ]
    }
   ],
   "source": [
    "#displayig dataset ignore nan rows\n",
    "df_2[df_2['State'].isNotNull()].show()"
   ]
  },
  {
   "cell_type": "code",
   "execution_count": 51,
   "id": "79f401e5",
   "metadata": {},
   "outputs": [
    {
     "name": "stdout",
     "output_type": "stream",
     "text": [
      "+-----+-----------+\n",
      "|State|sum(Alerts)|\n",
      "+-----+-----------+\n",
      "| NULL|          6|\n",
      "|   TN|          7|\n",
      "|   KA|         55|\n",
      "+-----+-----------+\n",
      "\n"
     ]
    }
   ],
   "source": [
    "#total number of alerts per state \n",
    "df_2.groupby('State').agg(sum('Alerts')).show()"
   ]
  },
  {
   "cell_type": "code",
   "execution_count": 52,
   "id": "736491db",
   "metadata": {},
   "outputs": [],
   "source": [
    "x=df_2.select(mean('Alerts')).collect()[0][0]"
   ]
  },
  {
   "cell_type": "code",
   "execution_count": 55,
   "id": "4b657ce1",
   "metadata": {
    "scrolled": true
   },
   "outputs": [
    {
     "name": "stdout",
     "output_type": "stream",
     "text": [
      "+---------+-----------+-----+------+---------+-----+\n",
      "|Device Id|Customer Id|Price|Alerts| Location|State|\n",
      "+---------+-----------+-----+------+---------+-----+\n",
      "|        1|         11|  100|    14|Bengaluru|   KA|\n",
      "|        2|         22|  312|    25|   Mysuru|   KA|\n",
      "+---------+-----------+-----+------+---------+-----+\n",
      "\n"
     ]
    }
   ],
   "source": [
    "#printing alerts greather than their mean\n",
    "x\n",
    "df_2[df_2['Alerts']>x].show()"
   ]
  },
  {
   "cell_type": "markdown",
   "id": "28b2296a",
   "metadata": {},
   "source": [
    "#Assessment-1 MOvies Dataset"
   ]
  },
  {
   "cell_type": "code",
   "execution_count": 4,
   "id": "188b9725",
   "metadata": {},
   "outputs": [
    {
     "name": "stdout",
     "output_type": "stream",
     "text": [
      "+-------+------+------+--------------------+\n",
      "|MovieID|UserID|Rating|           Timestamp|\n",
      "+-------+------+------+--------------------+\n",
      "|     47|    41|   5.9|2024-12-10 16:36:...|\n",
      "|     32|    64|   2.1|2024-11-27 16:36:...|\n",
      "|      3|    77|   1.1|2024-12-18 16:36:...|\n",
      "|     47|    44|   2.4|2024-12-09 16:36:...|\n",
      "|     16|    45|   1.4|2024-12-01 16:36:...|\n",
      "+-------+------+------+--------------------+\n",
      "only showing top 5 rows\n",
      "\n"
     ]
    }
   ],
   "source": [
    "from pyspark.sql.functions import current_timestamp\n",
    "import random\n",
    "import datetime\n",
    "\n",
    "data = []\n",
    "num_records = 100 \n",
    "\n",
    "for _ in range(num_records):\n",
    "    movie_id = random.randint(1, 50)  \n",
    "    user_id = random.randint(1, 100)  \n",
    "    rating = round(random.uniform(1, 6), 1) \n",
    "    timestamp = datetime.datetime.now() - datetime.timedelta(days=random.randint(0, 30))  \n",
    "    \n",
    "    data.append((movie_id, user_id, rating, timestamp))\n",
    "\n",
    "\n",
    "columns = ['MovieID', 'UserID', 'Rating', 'Timestamp']\n",
    "df = spark.createDataFrame(data, columns)\n",
    "\n",
    "df.show(5)"
   ]
  },
  {
   "cell_type": "code",
   "execution_count": 5,
   "id": "60bec4d7",
   "metadata": {},
   "outputs": [
    {
     "name": "stdout",
     "output_type": "stream",
     "text": [
      "root\n",
      " |-- MovieID: long (nullable = true)\n",
      " |-- UserID: long (nullable = true)\n",
      " |-- Rating: double (nullable = true)\n",
      " |-- Timestamp: timestamp (nullable = true)\n",
      "\n"
     ]
    }
   ],
   "source": [
    "df.printSchema()"
   ]
  },
  {
   "cell_type": "code",
   "execution_count": 6,
   "id": "69ccbe2f",
   "metadata": {},
   "outputs": [],
   "source": [
    "#converting date to dd-mm-yyyy format\n",
    "from pyspark.sql.functions import *\n",
    "df2 = df.withColumn(\"New_Timestamp\", date_format(\"Timestamp\", \"dd-MM-yyyy HH:mm:ss\"))"
   ]
  },
  {
   "cell_type": "code",
   "execution_count": 7,
   "id": "445eff1d",
   "metadata": {},
   "outputs": [
    {
     "name": "stdout",
     "output_type": "stream",
     "text": [
      "+-------+------+------+--------------------+-------------------+\n",
      "|MovieID|UserID|Rating|           Timestamp|      New_Timestamp|\n",
      "+-------+------+------+--------------------+-------------------+\n",
      "|     47|    41|   5.9|2024-12-10 16:36:...|10-12-2024 16:36:18|\n",
      "|     32|    64|   2.1|2024-11-27 16:36:...|27-11-2024 16:36:18|\n",
      "|      3|    77|   1.1|2024-12-18 16:36:...|18-12-2024 16:36:18|\n",
      "|     47|    44|   2.4|2024-12-09 16:36:...|09-12-2024 16:36:18|\n",
      "|     16|    45|   1.4|2024-12-01 16:36:...|01-12-2024 16:36:18|\n",
      "|     14|    54|   3.1|2024-11-22 16:36:...|22-11-2024 16:36:18|\n",
      "|      7|    68|   1.5|2024-12-12 16:36:...|12-12-2024 16:36:18|\n",
      "|     24|    41|   2.6|2024-12-05 16:36:...|05-12-2024 16:36:18|\n",
      "|     21|    59|   4.5|2024-12-02 16:36:...|02-12-2024 16:36:18|\n",
      "|     17|    34|   1.4|2024-12-11 16:36:...|11-12-2024 16:36:18|\n",
      "|     30|    34|   5.0|2024-11-30 16:36:...|30-11-2024 16:36:18|\n",
      "|     27|    56|   1.1|2024-11-27 16:36:...|27-11-2024 16:36:18|\n",
      "|     13|    58|   5.1|2024-11-24 16:36:...|24-11-2024 16:36:18|\n",
      "|     41|     6|   2.6|2024-12-19 16:36:...|19-12-2024 16:36:18|\n",
      "|     38|    64|   4.1|2024-11-20 16:36:...|20-11-2024 16:36:18|\n",
      "|     25|    35|   2.5|2024-12-14 16:36:...|14-12-2024 16:36:18|\n",
      "|     47|    57|   2.1|2024-11-28 16:36:...|28-11-2024 16:36:18|\n",
      "|     21|    50|   5.4|2024-12-01 16:36:...|01-12-2024 16:36:18|\n",
      "|     20|    88|   2.3|2024-12-08 16:36:...|08-12-2024 16:36:18|\n",
      "|     18|    24|   3.7|2024-11-26 16:36:...|26-11-2024 16:36:18|\n",
      "+-------+------+------+--------------------+-------------------+\n",
      "only showing top 20 rows\n",
      "\n"
     ]
    }
   ],
   "source": [
    "df2.show()"
   ]
  },
  {
   "cell_type": "code",
   "execution_count": 8,
   "id": "4bb09c82",
   "metadata": {},
   "outputs": [
    {
     "name": "stdout",
     "output_type": "stream",
     "text": [
      "+-------+------------------+\n",
      "|MovieID|       avg(Rating)|\n",
      "+-------+------------------+\n",
      "|     22|              4.25|\n",
      "|      7|               3.6|\n",
      "|     32|3.8499999999999996|\n",
      "|     25|3.7000000000000006|\n",
      "|     27|             3.625|\n",
      "|     17|               3.4|\n",
      "|     41|3.1333333333333333|\n",
      "|      1|2.9000000000000004|\n",
      "|      3|               2.5|\n",
      "|     13|              4.15|\n",
      "|     18|              4.16|\n",
      "|     14|               3.8|\n",
      "|     21|             3.025|\n",
      "|     38| 4.466666666666666|\n",
      "|     30|               3.6|\n",
      "|     20|               2.3|\n",
      "|     16|3.5999999999999996|\n",
      "|     47|               3.0|\n",
      "|     24|3.6500000000000004|\n",
      "|     29| 4.966666666666667|\n",
      "+-------+------------------+\n",
      "only showing top 20 rows\n",
      "\n"
     ]
    }
   ],
   "source": [
    "#avg rating per movie \n",
    "df2.groupby('MovieID').agg(avg('Rating')).show()"
   ]
  },
  {
   "cell_type": "code",
   "execution_count": 10,
   "id": "24f7b403",
   "metadata": {},
   "outputs": [
    {
     "name": "stdout",
     "output_type": "stream",
     "text": [
      "+------+-----------+\n",
      "|UserID|RatingCount|\n",
      "+------+-----------+\n",
      "|    34|          4|\n",
      "|    68|          4|\n",
      "|    11|          4|\n",
      "+------+-----------+\n",
      "\n"
     ]
    }
   ],
   "source": [
    "#user who rated more than 2 movies\n",
    "rating_count = df2.groupBy('UserID').agg(count('MovieID').alias('RatingCount'))\n",
    "\n",
    "users_2ratings = rating_count.filter(rating_count['RatingCount'] > 3)\n",
    "\n",
    "users_2ratings.show()"
   ]
  },
  {
   "cell_type": "code",
   "execution_count": 12,
   "id": "9f1c3937",
   "metadata": {
    "scrolled": true
   },
   "outputs": [
    {
     "name": "stdout",
     "output_type": "stream",
     "text": [
      "+-------+------+------+--------------------+-------------------+\n",
      "|MovieID|UserID|Rating|           Timestamp|      New_Timestamp|\n",
      "+-------+------+------+--------------------+-------------------+\n",
      "|     37|    97|   1.2|2024-11-24 12:31:...|24-11-2024 12:31:41|\n",
      "|     29|    72|   3.2|2024-12-06 12:31:...|06-12-2024 12:31:41|\n",
      "|      7|    48|   1.1|2024-12-12 12:31:...|12-12-2024 12:31:41|\n",
      "|     23|    21|   3.7|2024-12-01 12:31:...|01-12-2024 12:31:41|\n",
      "|      9|    35|   3.0|2024-12-05 12:31:...|05-12-2024 12:31:41|\n",
      "|     50|    22|   3.0|2024-12-02 12:31:...|02-12-2024 12:31:41|\n",
      "|     45|    28|   1.5|2024-12-16 12:31:...|16-12-2024 12:31:41|\n",
      "|     50|    98|   4.5|2024-11-23 12:31:...|23-11-2024 12:31:41|\n",
      "|     50|    64|   1.7|2024-11-19 12:31:...|19-11-2024 12:31:41|\n",
      "|     32|    56|   4.3|2024-12-06 12:31:...|06-12-2024 12:31:41|\n",
      "|     19|    84|   1.5|2024-12-14 12:31:...|14-12-2024 12:31:41|\n",
      "|     27|    79|   2.9|2024-12-11 12:31:...|11-12-2024 12:31:41|\n",
      "|      7|    89|   2.5|2024-11-29 12:31:...|29-11-2024 12:31:41|\n",
      "|     11|    26|   3.7|2024-12-18 12:31:...|18-12-2024 12:31:41|\n",
      "|     23|    62|   1.1|2024-11-23 12:31:...|23-11-2024 12:31:41|\n",
      "|     18|    38|   4.2|2024-11-28 12:31:...|28-11-2024 12:31:41|\n",
      "|     11|    32|   4.6|2024-12-14 12:31:...|14-12-2024 12:31:41|\n",
      "|     36|    56|   4.2|2024-11-26 12:31:...|26-11-2024 12:31:41|\n",
      "|     29|    33|   3.0|2024-11-27 12:31:...|27-11-2024 12:31:41|\n",
      "|     46|    10|   4.8|2024-11-25 12:31:...|25-11-2024 12:31:41|\n",
      "+-------+------+------+--------------------+-------------------+\n",
      "only showing top 20 rows\n",
      "\n"
     ]
    }
   ],
   "source": [
    "df2.show()"
   ]
  },
  {
   "cell_type": "code",
   "execution_count": 11,
   "id": "11c7d314",
   "metadata": {},
   "outputs": [
    {
     "name": "stdout",
     "output_type": "stream",
     "text": [
      "+-------+-----------------+\n",
      "|MovieID|    AverageRating|\n",
      "+-------+-----------------+\n",
      "|      4|              5.4|\n",
      "|     12|              5.3|\n",
      "|     29|4.966666666666667|\n",
      "|     42|4.949999999999999|\n",
      "|     44|              4.8|\n",
      "+-------+-----------------+\n",
      "\n"
     ]
    }
   ],
   "source": [
    "#top 5 moies with with highest rating\n",
    "avg_ratings = df2.groupBy('MovieID').agg(avg('Rating').alias('AverageRating'))\n",
    "\n",
    "avg_ratings.orderBy('AverageRating', ascending=False).limit(5).show()"
   ]
  },
  {
   "cell_type": "code",
   "execution_count": 12,
   "id": "7d97388c",
   "metadata": {},
   "outputs": [
    {
     "data": {
      "image/png": "[encoded data removed]",
      "text/plain": [
       "<Figure size 1000x600 with 1 Axes>"
      ]
     },
     "metadata": {},
     "output_type": "display_data"
    }
   ],
   "source": [
    "#ploting the number of movies rated by each user\n",
    "import matplotlib.pyplot as plt\n",
    "import pandas as pd\n",
    "from pyspark.sql.functions import count\n",
    "\n",
    "\n",
    "rating_count = df2.groupBy('UserID').agg(count('MovieID').alias('RatingCount'))\n",
    "\n",
    "df3 = rating_count.toPandas()\n",
    "\n",
    "plt.figure(figsize=(10,6))\n",
    "plt.bar(df3['UserID'], df3['RatingCount'], color='skyblue')\n",
    "plt.xlabel('UserID')\n",
    "plt.ylabel('Number of Movies Rated')\n",
    "plt.title('Number of Movies Rated by Each User')\n",
    "plt.xticks(rotation=90)\n",
    "plt.tight_layout()\n",
    "plt.show()"
   ]
  },
  {
   "cell_type": "code",
   "execution_count": 4,
   "id": "dd94f3b1",
   "metadata": {},
   "outputs": [],
   "source": [
    "#Analysing trip data\n",
    "from pyspark.sql import SparkSession\n",
    "import random\n",
    "import datetime\n",
    "\n",
    "data = []\n",
    "\n",
    "for _ in range(100):\n",
    "    trip_id = random.randint(1, 50)\n",
    "    start_time = datetime.datetime.now() - datetime.timedelta(hours=random.randint(1, 24))\n",
    "    end_time = start_time + datetime.timedelta(minutes=random.randint(5, 120))\n",
    "    distance = round(random.uniform(1, 5), 2) \n",
    "    fare = round(distance * random.uniform(5, 15), 2)\n",
    "    \n",
    "    data.append((trip_id, start_time, end_time, distance, fare))"
   ]
  },
  {
   "cell_type": "code",
   "execution_count": 5,
   "id": "8a04c5a9",
   "metadata": {},
   "outputs": [
    {
     "name": "stdout",
     "output_type": "stream",
     "text": [
      "+------+--------------------+--------------------+--------+-----+\n",
      "|TripID|           StartTime|             EndTime|Distance| Fare|\n",
      "+------+--------------------+--------------------+--------+-----+\n",
      "|    31|2024-12-20 13:40:...|2024-12-20 15:08:...|    3.77|33.47|\n",
      "|    39|2024-12-20 05:40:...|2024-12-20 05:45:...|    4.83|65.88|\n",
      "|    43|2024-12-19 16:40:...|2024-12-19 17:18:...|    3.26|41.62|\n",
      "|    31|2024-12-20 05:40:...|2024-12-20 07:36:...|    3.42|49.43|\n",
      "|    24|2024-12-19 20:40:...|2024-12-19 20:48:...|    2.43|16.86|\n",
      "+------+--------------------+--------------------+--------+-----+\n",
      "only showing top 5 rows\n",
      "\n"
     ]
    }
   ],
   "source": [
    "#Load the dataset into a PySpark DataFrame.\n",
    "columns = ['TripID', 'StartTime', 'EndTime', 'Distance', 'Fare']\n",
    "df_trip = spark.createDataFrame(data, schema=columns)\n",
    "df_trip.show(5)"
   ]
  },
  {
   "cell_type": "code",
   "execution_count": 6,
   "id": "8d47a846",
   "metadata": {},
   "outputs": [],
   "source": [
    "#trip duration for each trip.\n",
    "from pyspark.sql.functions import unix_timestamp,col\n",
    "#df_trip=df_trip.withColumn('Duration',df_trip['EndTime']-df_trip['StartTime'])\n",
    "df_trip = df_trip.withColumn(\"Duration\", (unix_timestamp(col(\"EndTime\")) - unix_timestamp(col(\"StartTime\")))/60)"
   ]
  },
  {
   "cell_type": "code",
   "execution_count": 7,
   "id": "aa554a55",
   "metadata": {},
   "outputs": [
    {
     "name": "stdout",
     "output_type": "stream",
     "text": [
      "+------+--------------------+--------------------+--------+-----+--------+\n",
      "|TripID|           StartTime|             EndTime|Distance| Fare|Duration|\n",
      "+------+--------------------+--------------------+--------+-----+--------+\n",
      "|    31|2024-12-20 13:40:...|2024-12-20 15:08:...|    3.77|33.47|    88.0|\n",
      "|    39|2024-12-20 05:40:...|2024-12-20 05:45:...|    4.83|65.88|     5.0|\n",
      "|    43|2024-12-19 16:40:...|2024-12-19 17:18:...|    3.26|41.62|    38.0|\n",
      "|    31|2024-12-20 05:40:...|2024-12-20 07:36:...|    3.42|49.43|   116.0|\n",
      "|    24|2024-12-19 20:40:...|2024-12-19 20:48:...|    2.43|16.86|     8.0|\n",
      "|    33|2024-12-20 14:40:...|2024-12-20 16:24:...|    3.86|32.85|   104.0|\n",
      "|     7|2024-12-20 08:40:...|2024-12-20 10:05:...|    3.49|41.63|    85.0|\n",
      "|    14|2024-12-20 03:40:...|2024-12-20 04:07:...|    3.41|29.01|    27.0|\n",
      "|    37|2024-12-19 21:40:...|2024-12-19 22:26:...|    1.34|17.39|    46.0|\n",
      "|    12|2024-12-20 08:40:...|2024-12-20 10:08:...|    3.52|49.26|    88.0|\n",
      "|    34|2024-12-20 09:40:...|2024-12-20 10:58:...|    1.64| 16.4|    78.0|\n",
      "|    43|2024-12-20 04:40:...|2024-12-20 06:04:...|    1.82|26.23|    84.0|\n",
      "|    46|2024-12-20 08:40:...|2024-12-20 09:35:...|    1.09| 5.55|    55.0|\n",
      "|    14|2024-12-19 23:40:...|2024-12-20 01:17:...|    3.83|22.66|    97.0|\n",
      "|    44|2024-12-19 22:40:...|2024-12-19 23:02:...|    2.85|26.75|    22.0|\n",
      "|    41|2024-12-19 18:40:...|2024-12-19 18:46:...|     1.4| 7.41|     6.0|\n",
      "|    41|2024-12-20 05:40:...|2024-12-20 07:23:...|    3.79|20.36|   103.0|\n",
      "|    33|2024-12-19 21:40:...|2024-12-19 22:24:...|    3.43|50.41|    44.0|\n",
      "|    47|2024-12-20 13:40:...|2024-12-20 15:04:...|    4.97|56.26|    84.0|\n",
      "|    14|2024-12-20 04:40:...|2024-12-20 05:20:...|    4.53|26.83|    40.0|\n",
      "+------+--------------------+--------------------+--------+-----+--------+\n",
      "only showing top 20 rows\n",
      "\n"
     ]
    }
   ],
   "source": [
    "df_trip.show()"
   ]
  },
  {
   "cell_type": "code",
   "execution_count": 8,
   "id": "ca0ac155",
   "metadata": {},
   "outputs": [
    {
     "data": {
      "text/plain": [
       "10.323833829277808"
      ]
     },
     "execution_count": 8,
     "metadata": {},
     "output_type": "execute_result"
    }
   ],
   "source": [
    "#the average fare per mile.\n",
    "df_trip.withColumn(\"FarePerMile\", col(\"Fare\") / col(\"Distance\")).agg({'FarePerMile':'avg'}).collect()[0][0]"
   ]
  },
  {
   "cell_type": "code",
   "execution_count": 10,
   "id": "d0037756",
   "metadata": {},
   "outputs": [
    {
     "name": "stdout",
     "output_type": "stream",
     "text": [
      "Average fare per mile: 10.323833829277808\n"
     ]
    }
   ],
   "source": [
    "df_trip = df_trip.withColumn(\"FarePerMile\", col(\"Fare\") / col(\"Distance\"))\n",
    "\n",
    "average_fare_per_mile = df_trip.agg({\"FarePerMile\": \"avg\"}).collect()[0][0]\n",
    "\n",
    "print(f\"Average fare per mile: {average_fare_per_mile}\")"
   ]
  },
  {
   "cell_type": "code",
   "execution_count": 11,
   "id": "3adf8aae",
   "metadata": {},
   "outputs": [
    {
     "name": "stdout",
     "output_type": "stream",
     "text": [
      "+------+--------------------+--------------------+--------+-----+--------+------------------+\n",
      "|TripID|           StartTime|             EndTime|Distance| Fare|Duration|       FarePerMile|\n",
      "+------+--------------------+--------------------+--------+-----+--------+------------------+\n",
      "|    43|2024-12-20 04:40:...|2024-12-20 06:40:...|    1.12|13.26|   120.0|11.839285714285714|\n",
      "|    15|2024-12-19 16:40:...|2024-12-19 18:39:...|    1.47| 19.1|   119.0|12.993197278911566|\n",
      "|    23|2024-12-19 22:40:...|2024-12-20 00:39:...|     3.7|38.04|   119.0| 10.28108108108108|\n",
      "+------+--------------------+--------------------+--------+-----+--------+------------------+\n",
      "\n"
     ]
    }
   ],
   "source": [
    "#the top 3 longest trips (based on distance)\n",
    "df_trip.orderBy('Duration', ascending=False).limit(3).show()"
   ]
  },
  {
   "cell_type": "code",
   "execution_count": 12,
   "id": "ac9f68ed",
   "metadata": {},
   "outputs": [
    {
     "name": "stdout",
     "output_type": "stream",
     "text": [
      "+----+----------+\n",
      "|Hour|TotalTrips|\n",
      "+----+----------+\n",
      "|   0|         4|\n",
      "|   1|         2|\n",
      "|   2|         3|\n",
      "|   3|         4|\n",
      "|   4|         4|\n",
      "|   5|        10|\n",
      "|   6|         4|\n",
      "|   7|         4|\n",
      "|   8|         6|\n",
      "|   9|         3|\n",
      "|  11|         1|\n",
      "|  12|         4|\n",
      "|  13|         3|\n",
      "|  14|         4|\n",
      "|  15|         3|\n",
      "|  16|         6|\n",
      "|  17|         5|\n",
      "|  18|         4|\n",
      "|  19|         2|\n",
      "|  20|         9|\n",
      "+----+----------+\n",
      "only showing top 20 rows\n",
      "\n"
     ]
    }
   ],
   "source": [
    "#Grouping trips by hours and total number of trips per hour.\n",
    "from pyspark.sql.functions import hour,count\n",
    "\n",
    "hr=df_trip.withColumn('Hour',hour(\"StartTime\"))\n",
    "hr_trip = hr.groupBy(\"Hour\").agg(count(\"*\").alias(\"TotalTrips\"))\n",
    "\n",
    "hr_trip.orderBy(\"Hour\").show()"
   ]
  },
  {
   "cell_type": "code",
   "execution_count": 14,
   "id": "3ce4db2f",
   "metadata": {},
   "outputs": [
    {
     "data": {
      "image/png": "[encoded data removed]",
      "text/plain": [
       "<Figure size 640x480 with 1 Axes>"
      ]
     },
     "metadata": {},
     "output_type": "display_data"
    }
   ],
   "source": [
    "import  matplotlib.pyplot as plt\n",
    "hr = hr_trip.toPandas()\n",
    "plt.bar(hr[\"Hour\"], hr[\"TotalTrips\"], color='blue')\n",
    "plt.xlabel(\"Hour\")\n",
    "plt.ylabel(\"number of trips\")\n",
    "plt.title(\"number of trips by Hour\")\n",
    "plt.show()"
   ]
  },
  {
   "cell_type": "code",
   "execution_count": null,
   "id": "a275ef9a",
   "metadata": {},
   "outputs": [],
   "source": []
  }
 ],
 "metadata": {
  "kernelspec": {
   "display_name": "Python 3 (ipykernel)",
   "language": "python",
   "name": "python3"
  },
  "language_info": {
   "codemirror_mode": {
    "name": "ipython",
    "version": 3
   },
   "file_extension": ".py",
   "mimetype": "text/x-python",
   "name": "python",
   "nbconvert_exporter": "python",
   "pygments_lexer": "ipython3",
   "version": "3.11.4"
  }
 },
 "nbformat": 4,
 "nbformat_minor": 5
}
