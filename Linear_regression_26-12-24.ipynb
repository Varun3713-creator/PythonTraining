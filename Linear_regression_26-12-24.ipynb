{
 "cells": [
  {
   "cell_type": "code",
   "execution_count": 1,
   "id": "c079b0c9",
   "metadata": {},
   "outputs": [],
   "source": [
    "from pyspark.sql import SparkSession"
   ]
  },
  {
   "cell_type": "code",
   "execution_count": 2,
   "id": "edbd893d",
   "metadata": {},
   "outputs": [],
   "source": [
    "spark=SparkSession.builder.appName('Varun').getOrCreate()"
   ]
  },
  {
   "cell_type": "code",
   "execution_count": 3,
   "id": "259b3a6a",
   "metadata": {},
   "outputs": [],
   "source": [
    "df3=spark.read.csv('C:/Users/acer/Downloads/test1.csv',header=True,inferSchema=True)"
   ]
  },
  {
   "cell_type": "code",
   "execution_count": 4,
   "id": "ad4956ee",
   "metadata": {},
   "outputs": [
    {
     "name": "stdout",
     "output_type": "stream",
     "text": [
      "root\n",
      " |-- Name: string (nullable = true)\n",
      " |-- age: integer (nullable = true)\n",
      " |-- Experience: integer (nullable = true)\n",
      " |-- Salary: integer (nullable = true)\n",
      "\n"
     ]
    }
   ],
   "source": [
    "df3.printSchema()"
   ]
  },
  {
   "cell_type": "code",
   "execution_count": 5,
   "id": "573c176c",
   "metadata": {},
   "outputs": [
    {
     "name": "stdout",
     "output_type": "stream",
     "text": [
      "+---------+---+----------+------+\n",
      "|     Name|age|Experience|Salary|\n",
      "+---------+---+----------+------+\n",
      "|    Krish| 31|        10| 30000|\n",
      "|Sudhanshu| 30|         8| 25000|\n",
      "|    Sunny| 29|         4| 20000|\n",
      "|     Paul| 24|         3| 20000|\n",
      "+---------+---+----------+------+\n",
      "\n"
     ]
    }
   ],
   "source": [
    "df3.limit(4).show() "
   ]
  },
  {
   "cell_type": "code",
   "execution_count": 6,
   "id": "6599a941",
   "metadata": {},
   "outputs": [],
   "source": [
    "#retrieving independent features\n",
    "from pyspark.ml.feature import VectorAssembler\n",
    "featureassembler=VectorAssembler(inputCols=[\"age\",\"Experience\"],outputCol=\"Independent Features\")"
   ]
  },
  {
   "cell_type": "code",
   "execution_count": 7,
   "id": "5a04672b",
   "metadata": {},
   "outputs": [],
   "source": [
    "output=featureassembler.transform(df3)"
   ]
  },
  {
   "cell_type": "code",
   "execution_count": 8,
   "id": "e79db1f2",
   "metadata": {},
   "outputs": [
    {
     "name": "stdout",
     "output_type": "stream",
     "text": [
      "+---------+---+----------+------+--------------------+\n",
      "|     Name|age|Experience|Salary|Independent Features|\n",
      "+---------+---+----------+------+--------------------+\n",
      "|    Krish| 31|        10| 30000|         [31.0,10.0]|\n",
      "|Sudhanshu| 30|         8| 25000|          [30.0,8.0]|\n",
      "|    Sunny| 29|         4| 20000|          [29.0,4.0]|\n",
      "|     Paul| 24|         3| 20000|          [24.0,3.0]|\n",
      "|   Harsha| 21|         1| 15000|          [21.0,1.0]|\n",
      "|  Shubham| 23|         2| 18000|          [23.0,2.0]|\n",
      "+---------+---+----------+------+--------------------+\n",
      "\n"
     ]
    }
   ],
   "source": [
    "output.show()"
   ]
  },
  {
   "cell_type": "code",
   "execution_count": 9,
   "id": "9c06ce5f",
   "metadata": {},
   "outputs": [
    {
     "data": {
      "text/plain": [
       "['Name', 'age', 'Experience', 'Salary', 'Independent Features']"
      ]
     },
     "execution_count": 9,
     "metadata": {},
     "output_type": "execute_result"
    }
   ],
   "source": [
    "output.columns"
   ]
  },
  {
   "cell_type": "code",
   "execution_count": 10,
   "id": "ab1fc2ff",
   "metadata": {},
   "outputs": [],
   "source": [
    "#final data for prediction\n",
    "final_data=output.select(\"Independent Features\",\"Salary\")"
   ]
  },
  {
   "cell_type": "code",
   "execution_count": 11,
   "id": "5315f2ec",
   "metadata": {},
   "outputs": [
    {
     "name": "stdout",
     "output_type": "stream",
     "text": [
      "+--------------------+------+\n",
      "|Independent Features|Salary|\n",
      "+--------------------+------+\n",
      "|         [31.0,10.0]| 30000|\n",
      "|          [30.0,8.0]| 25000|\n",
      "|          [29.0,4.0]| 20000|\n",
      "|          [24.0,3.0]| 20000|\n",
      "|          [21.0,1.0]| 15000|\n",
      "|          [23.0,2.0]| 18000|\n",
      "+--------------------+------+\n",
      "\n"
     ]
    }
   ],
   "source": [
    "final_data.show()"
   ]
  },
  {
   "cell_type": "code",
   "execution_count": 12,
   "id": "b2b94467",
   "metadata": {},
   "outputs": [],
   "source": [
    "from pyspark.ml.regression import LinearRegression\n",
    "#splitting\n",
    "train_data,test_data=final_data.randomSplit([0.75,0.25])\n",
    "regressor=LinearRegression(featuresCol='Independent Features', labelCol='Salary')\n",
    "regressor=regressor.fit(train_data)"
   ]
  },
  {
   "cell_type": "code",
   "execution_count": 13,
   "id": "ef6ccd84",
   "metadata": {},
   "outputs": [
    {
     "data": {
      "text/plain": [
       "DenseVector([-263.7076, 1767.624])"
      ]
     },
     "execution_count": 13,
     "metadata": {},
     "output_type": "execute_result"
    }
   ],
   "source": [
    "regressor.coefficients  "
   ]
  },
  {
   "cell_type": "code",
   "execution_count": 14,
   "id": "6d3acfff",
   "metadata": {},
   "outputs": [],
   "source": [
    "res=regressor.evaluate(train_data)"
   ]
  },
  {
   "cell_type": "code",
   "execution_count": 15,
   "id": "cbf69f74",
   "metadata": {},
   "outputs": [
    {
     "data": {
      "text/plain": [
       "0.9676033106753748"
      ]
     },
     "execution_count": 15,
     "metadata": {},
     "output_type": "execute_result"
    }
   ],
   "source": [
    "res.r2"
   ]
  },
  {
   "cell_type": "code",
   "execution_count": 16,
   "id": "d1bedf2e",
   "metadata": {},
   "outputs": [
    {
     "data": {
      "text/plain": [
       "19919.060052212404"
      ]
     },
     "execution_count": 16,
     "metadata": {},
     "output_type": "execute_result"
    }
   ],
   "source": [
    "#Intercepts\n",
    "regressor.intercept"
   ]
  },
  {
   "cell_type": "code",
   "execution_count": 17,
   "id": "b85d3d7a",
   "metadata": {},
   "outputs": [
    {
     "name": "stdout",
     "output_type": "stream",
     "text": [
      "+--------------------+------+\n",
      "|Independent Features|Salary|\n",
      "+--------------------+------+\n",
      "|          [29.0,4.0]| 20000|\n",
      "+--------------------+------+\n",
      "\n"
     ]
    }
   ],
   "source": [
    "test_data.show()"
   ]
  },
  {
   "cell_type": "code",
   "execution_count": 18,
   "id": "9aa6a340",
   "metadata": {},
   "outputs": [],
   "source": [
    "pred_results=regressor.evaluate(test_data)"
   ]
  },
  {
   "cell_type": "code",
   "execution_count": 19,
   "id": "d88c65bb",
   "metadata": {},
   "outputs": [
    {
     "name": "stdout",
     "output_type": "stream",
     "text": [
      "+--------------------+------+-----------------+\n",
      "|Independent Features|Salary|       prediction|\n",
      "+--------------------+------+-----------------+\n",
      "|          [29.0,4.0]| 20000|19342.03655352618|\n",
      "+--------------------+------+-----------------+\n",
      "\n"
     ]
    }
   ],
   "source": [
    "pred_results.predictions.show()"
   ]
  },
  {
   "cell_type": "code",
   "execution_count": 20,
   "id": "c0b0e63e",
   "metadata": {},
   "outputs": [
    {
     "data": {
      "text/plain": [
       "(657.9634464738192, 432915.89689570636)"
      ]
     },
     "execution_count": 20,
     "metadata": {},
     "output_type": "execute_result"
    }
   ],
   "source": [
    "pred_results.meanAbsoluteError,pred_results.meanSquaredError"
   ]
  },
  {
   "cell_type": "code",
   "execution_count": 21,
   "id": "e2677957",
   "metadata": {},
   "outputs": [],
   "source": [
    "#without labels\n",
    "x=test_data.select('Independent Features')"
   ]
  },
  {
   "cell_type": "code",
   "execution_count": 22,
   "id": "ee71196f",
   "metadata": {},
   "outputs": [
    {
     "name": "stdout",
     "output_type": "stream",
     "text": [
      "+--------------------+\n",
      "|Independent Features|\n",
      "+--------------------+\n",
      "|          [29.0,4.0]|\n",
      "+--------------------+\n",
      "\n"
     ]
    }
   ],
   "source": [
    "x.show()"
   ]
  },
  {
   "cell_type": "code",
   "execution_count": 23,
   "id": "76b24e55",
   "metadata": {},
   "outputs": [
    {
     "name": "stdout",
     "output_type": "stream",
     "text": [
      "+--------------------+-----------------+\n",
      "|Independent Features|       prediction|\n",
      "+--------------------+-----------------+\n",
      "|          [29.0,4.0]|19342.03655352618|\n",
      "+--------------------+-----------------+\n",
      "\n"
     ]
    }
   ],
   "source": [
    "pred2=regressor.transform(x)\n",
    "pred2.show()"
   ]
  },
  {
   "cell_type": "markdown",
   "id": "c38454a8",
   "metadata": {},
   "source": [
    "Manual calcution"
   ]
  },
  {
   "cell_type": "code",
   "execution_count": 35,
   "id": "70bec1f4",
   "metadata": {},
   "outputs": [
    {
     "name": "stdout",
     "output_type": "stream",
     "text": [
      "[23998.33055092  -383.97328881  1711.18530885]\n"
     ]
    }
   ],
   "source": [
    "import numpy as np\n",
    "\n",
    "X = np.array([[1, 31, 10],[1, 30, 8],[1, 29, 4], [1, 24, 3]])\n",
    "y = np.array([30000, 25000, 20000, 20000])\n",
    "#normal equation\n",
    "theta = np.linalg.inv(X.T.dot(X)).dot(X.T).dot(y)\n",
    "print(theta)\n",
    "b, w1, w2 = theta"
   ]
  },
  {
   "cell_type": "code",
   "execution_count": 36,
   "id": "68651633",
   "metadata": {},
   "outputs": [],
   "source": [
    "X_train = np.array([[1,31.0, 10.0],[1,30.0, 8.0],[1,29.0, 4.0],[1,24.0, 3.0],[1,21.0, 1.0],[1,23.0, 2.0]])\n",
    "y_train = np.array([30000, 25000, 20000, 20000, 15000, 18000])"
   ]
  },
  {
   "cell_type": "code",
   "execution_count": 37,
   "id": "80de328f",
   "metadata": {},
   "outputs": [],
   "source": [
    "#theta calculation\n",
    "theta = np.linalg.inv(X_train.T.dot(X_train)).dot(X_train.T).dot(y_train)"
   ]
  },
  {
   "cell_type": "code",
   "execution_count": 41,
   "id": "13a354a0",
   "metadata": {},
   "outputs": [
    {
     "name": "stdout",
     "output_type": "stream",
     "text": [
      "intercept- 16904.79523976019 \n",
      "coeffients for age: -115.85579278960506  & Experience:  1602.730136506825\n"
     ]
    }
   ],
   "source": [
    "b, w1, w2 = theta\n",
    "print('intercept-',b,'\\ncoeffients for age:',w1,' & Experience: ',w2)"
   ]
  },
  {
   "cell_type": "code",
   "execution_count": 42,
   "id": "f72098b5",
   "metadata": {},
   "outputs": [
    {
     "data": {
      "text/plain": [
       "19955.897794888944"
      ]
     },
     "execution_count": 42,
     "metadata": {},
     "output_type": "execute_result"
    }
   ],
   "source": [
    "#prediction on test data\n",
    "X_test = np.array([29.0, 4.0])\n",
    "salary = b + w1 * X_test[0] + w2 * X_test[1]\n",
    "salary"
   ]
  },
  {
   "cell_type": "code",
   "execution_count": 43,
   "id": "d7f2e3ed",
   "metadata": {},
   "outputs": [
    {
     "data": {
      "text/plain": [
       "19342.035652212402"
      ]
     },
     "execution_count": 43,
     "metadata": {},
     "output_type": "execute_result"
    }
   ],
   "source": [
    "#vales from the model \n",
    "b=19919.060052212404\n",
    "w1,w2=-263.7076,1767.624\n",
    "X_test = np.array([29.0, 4.0])\n",
    "salary = b + w1 * X_test[0] + w2 * X_test[1]\n",
    "salary"
   ]
  },
  {
   "cell_type": "code",
   "execution_count": null,
   "id": "e2dbb743",
   "metadata": {},
   "outputs": [],
   "source": []
  }
 ],
 "metadata": {
  "kernelspec": {
   "display_name": "Python 3 (ipykernel)",
   "language": "python",
   "name": "python3"
  },
  "language_info": {
   "codemirror_mode": {
    "name": "ipython",
    "version": 3
   },
   "file_extension": ".py",
   "mimetype": "text/x-python",
   "name": "python",
   "nbconvert_exporter": "python",
   "pygments_lexer": "ipython3",
   "version": "3.11.4"
  }
 },
 "nbformat": 4,
 "nbformat_minor": 5
}
